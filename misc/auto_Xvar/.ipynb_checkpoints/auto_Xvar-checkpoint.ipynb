{
 "cells": [
  {
   "cell_type": "code",
   "execution_count": 1,
   "id": "ab0d7718-34e8-424d-b644-3225b126bfbb",
   "metadata": {},
   "outputs": [],
   "source": [
    "import pandas as pd\n",
    "import numpy as np\n",
    "from scalecast.Forecaster import Forecaster\n",
    "from scalecast.util import metrics\n",
    "import matplotlib.pyplot as plt\n",
    "import seaborn as sns\n",
    "from tqdm.notebook import tqdm"
   ]
  },
  {
   "cell_type": "code",
   "execution_count": 2,
   "id": "4ede3d44-41b1-4cef-8296-50d9deb274de",
   "metadata": {},
   "outputs": [],
   "source": [
    "models = (\n",
    "    'mlr',\n",
    "    'elasticnet',\n",
    "    'gbt',\n",
    "    'knn',\n",
    "    'svr',\n",
    "    'mlp',\n",
    ")\n",
    "\n",
    "Hourly = pd.read_csv(\n",
    "    'Hourly-train.csv',\n",
    "    index_col=0,\n",
    ").sample(50)\n",
    "\n",
    "Hourly_test = pd.read_csv(\n",
    "    'Hourly-test.csv',\n",
    "    index_col=0,\n",
    ")\n",
    "Hourly_test = Hourly_test.loc[Hourly.index]\n",
    "\n",
    "info = pd.read_csv(\n",
    "    'M4-info.csv',\n",
    "    index_col=0,\n",
    "    parse_dates=['StartingDate'],\n",
    "    dayfirst=True,\n",
    ")\n",
    "\n",
    "results = pd.DataFrame(\n",
    "    index = models,\n",
    "    columns = models,\n",
    ").fillna(0)"
   ]
  },
  {
   "cell_type": "code",
   "execution_count": 3,
   "id": "481c241f-5c37-44ab-8748-55160ba7a928",
   "metadata": {},
   "outputs": [
    {
     "data": {
      "application/vnd.jupyter.widget-view+json": {
       "model_id": "900d8d2e207b47a2989b67bc6d181ae3",
       "version_major": 2,
       "version_minor": 0
      },
      "text/plain": [
       "  0%|          | 0/50 [00:00<?, ?it/s]"
      ]
     },
     "metadata": {},
     "output_type": "display_data"
    }
   ],
   "source": [
    "for i in tqdm(Hourly.index):\n",
    "    y = Hourly.loc[i].dropna()\n",
    "    sd = info.loc[i,'StartingDate']\n",
    "    fcst_horizon = info.loc[i,'Horizon']\n",
    "    cd = pd.date_range(\n",
    "        start = sd,\n",
    "        freq = 'H',\n",
    "        periods = len(y),\n",
    "    )\n",
    "    f = Forecaster(\n",
    "        y = y,\n",
    "        current_dates = cd,\n",
    "        future_dates = fcst_horizon,\n",
    "    )\n",
    "    f.set_test_length(fcst_horizon)\n",
    "    f.integrate(critical_pval=.99,max_integration=1)\n",
    "    for xvm in models:\n",
    "        for fcstm in models:\n",
    "            f2 = f.deepcopy()\n",
    "            f2.auto_Xvar_select(\n",
    "                estimator = xvm,\n",
    "                monitor='LevelTestSetMAE',\n",
    "                max_ar = 48,\n",
    "                exclude_seasonalities = ['quarter','month','week','day'],\n",
    "            )\n",
    "            f2.set_estimator(fcstm)\n",
    "            f2.proba_forecast(dynamic_testing=False) if fcstm in (\n",
    "                'mlp','gbt','xgboost','lightgbm','rf'\n",
    "            ) else f2.manual_forecast(dynamic_testing=False)\n",
    "            point_fcst = f2.export('lvl_fcsts')[fcstm]\n",
    "            results.loc[xvm,fcstm] += metrics.smape(\n",
    "                Hourly_test.loc[i].dropna().to_list(),\n",
    "                point_fcst.to_list(),\n",
    "            )"
   ]
  },
  {
   "cell_type": "code",
   "execution_count": 4,
   "id": "e090b109-bd5b-4ee0-b9b5-58cc8018cf39",
   "metadata": {},
   "outputs": [
    {
     "data": {
      "text/html": [
       "<div>\n",
       "<style scoped>\n",
       "    .dataframe tbody tr th:only-of-type {\n",
       "        vertical-align: middle;\n",
       "    }\n",
       "\n",
       "    .dataframe tbody tr th {\n",
       "        vertical-align: top;\n",
       "    }\n",
       "\n",
       "    .dataframe thead th {\n",
       "        text-align: right;\n",
       "    }\n",
       "</style>\n",
       "<table border=\"1\" class=\"dataframe\">\n",
       "  <thead>\n",
       "    <tr style=\"text-align: right;\">\n",
       "      <th></th>\n",
       "      <th>mlr</th>\n",
       "      <th>elasticnet</th>\n",
       "      <th>gbt</th>\n",
       "      <th>knn</th>\n",
       "      <th>svr</th>\n",
       "      <th>mlp</th>\n",
       "    </tr>\n",
       "  </thead>\n",
       "  <tbody>\n",
       "    <tr>\n",
       "      <th>mlr</th>\n",
       "      <td>0.111073</td>\n",
       "      <td>0.226051</td>\n",
       "      <td>0.094856</td>\n",
       "      <td>0.080180</td>\n",
       "      <td>0.151116</td>\n",
       "      <td>0.683574</td>\n",
       "    </tr>\n",
       "    <tr>\n",
       "      <th>elasticnet</th>\n",
       "      <td>0.108093</td>\n",
       "      <td>0.202424</td>\n",
       "      <td>0.087273</td>\n",
       "      <td>0.077058</td>\n",
       "      <td>0.149023</td>\n",
       "      <td>0.579447</td>\n",
       "    </tr>\n",
       "    <tr>\n",
       "      <th>gbt</th>\n",
       "      <td>0.122764</td>\n",
       "      <td>0.234555</td>\n",
       "      <td>0.091155</td>\n",
       "      <td>0.087964</td>\n",
       "      <td>0.151497</td>\n",
       "      <td>0.754234</td>\n",
       "    </tr>\n",
       "    <tr>\n",
       "      <th>knn</th>\n",
       "      <td>0.117055</td>\n",
       "      <td>0.236518</td>\n",
       "      <td>0.093299</td>\n",
       "      <td>0.087740</td>\n",
       "      <td>0.156540</td>\n",
       "      <td>0.759222</td>\n",
       "    </tr>\n",
       "    <tr>\n",
       "      <th>svr</th>\n",
       "      <td>0.115661</td>\n",
       "      <td>0.238800</td>\n",
       "      <td>0.087620</td>\n",
       "      <td>0.107821</td>\n",
       "      <td>0.140633</td>\n",
       "      <td>0.786281</td>\n",
       "    </tr>\n",
       "    <tr>\n",
       "      <th>mlp</th>\n",
       "      <td>0.116515</td>\n",
       "      <td>0.215392</td>\n",
       "      <td>0.080034</td>\n",
       "      <td>0.075500</td>\n",
       "      <td>0.145879</td>\n",
       "      <td>0.601938</td>\n",
       "    </tr>\n",
       "  </tbody>\n",
       "</table>\n",
       "</div>"
      ],
      "text/plain": [
       "                 mlr  elasticnet       gbt       knn       svr       mlp\n",
       "mlr         0.111073    0.226051  0.094856  0.080180  0.151116  0.683574\n",
       "elasticnet  0.108093    0.202424  0.087273  0.077058  0.149023  0.579447\n",
       "gbt         0.122764    0.234555  0.091155  0.087964  0.151497  0.754234\n",
       "knn         0.117055    0.236518  0.093299  0.087740  0.156540  0.759222\n",
       "svr         0.115661    0.238800  0.087620  0.107821  0.140633  0.786281\n",
       "mlp         0.116515    0.215392  0.080034  0.075500  0.145879  0.601938"
      ]
     },
     "execution_count": 4,
     "metadata": {},
     "output_type": "execute_result"
    }
   ],
   "source": [
    "results = results / 50\n",
    "results"
   ]
  },
  {
   "cell_type": "code",
   "execution_count": 22,
   "id": "45fe1b79-88c7-4e81-8f56-6b9e9144104a",
   "metadata": {},
   "outputs": [
    {
     "data": {
      "text/plain": [
       "Text(87.0, 0.5, 'Fcst Estimators')"
      ]
     },
     "execution_count": 22,
     "metadata": {},
     "output_type": "execute_result"
    },
    {
     "data": {
      "image/png": "[encoded data removed]",
      "text/plain": [
       "<Figure size 864x432 with 2 Axes>"
      ]
     },
     "metadata": {
      "needs_background": "light"
     },
     "output_type": "display_data"
    }
   ],
   "source": [
    "fig, ax = plt.subplots(figsize=(12,6))\n",
    "sns.heatmap(results,cmap='nipy_spectral',ax=ax,annot=True)\n",
    "plt.xlabel('Xvar Estimators')\n",
    "plt.ylabel('Fcst Estimators')"
   ]
  },
  {
   "cell_type": "code",
   "execution_count": 6,
   "id": "8ecc21d9-14f6-4472-ac56-f081e2497380",
   "metadata": {},
   "outputs": [
    {
     "data": {
      "text/plain": [
       "knn           0.086044\n",
       "gbt           0.089039\n",
       "mlr           0.115193\n",
       "svr           0.149115\n",
       "elasticnet    0.225623\n",
       "mlp           0.694116\n",
       "dtype: float64"
      ]
     },
     "execution_count": 6,
     "metadata": {},
     "output_type": "execute_result"
    }
   ],
   "source": [
    "# Xvar estimators\n",
    "results.mean().sort_values()"
   ]
  },
  {
   "cell_type": "code",
   "execution_count": 7,
   "id": "56811f39-bcfc-4c8a-b0c2-4b77c43c5a15",
   "metadata": {},
   "outputs": [
    {
     "data": {
      "text/plain": [
       "elasticnet    0.200553\n",
       "mlp           0.205876\n",
       "mlr           0.224475\n",
       "gbt           0.240362\n",
       "knn           0.241729\n",
       "svr           0.246136\n",
       "dtype: float64"
      ]
     },
     "execution_count": 7,
     "metadata": {},
     "output_type": "execute_result"
    }
   ],
   "source": [
    "# forecast estimators\n",
    "results.mean(axis=1).sort_values()"
   ]
  },
  {
   "cell_type": "code",
   "execution_count": null,
   "id": "b26a77b6-1636-4688-8124-82ec8e3e3451",
   "metadata": {},
   "outputs": [],
   "source": []
  }
 ],
 "metadata": {
  "kernelspec": {
   "display_name": "Python 3",
   "language": "python",
   "name": "python3"
  },
  "language_info": {
   "codemirror_mode": {
    "name": "ipython",
    "version": 3
   },
   "file_extension": ".py",
   "mimetype": "text/x-python",
   "name": "python",
   "nbconvert_exporter": "python",
   "pygments_lexer": "ipython3",
   "version": "3.8.8"
  },
  "widgets": {
   "application/vnd.jupyter.widget-state+json": {
    "state": {
     "0880d06982624fc785e18de539a562c9": {
      "model_module": "@jupyter-widgets/controls",
      "model_module_version": "1.5.0",
      "model_name": "ProgressStyleModel",
      "state": {
       "description_width": ""
      }
     },
     "26a977a7d80f481aa4034bd0bcf240ad": {
      "model_module": "@jupyter-widgets/base",
      "model_module_version": "1.2.0",
      "model_name": "LayoutModel",
      "state": {}
     },
     "4208a137cedb4b74931d168db398e2d2": {
      "model_module": "@jupyter-widgets/base",
      "model_module_version": "1.2.0",
      "model_name": "LayoutModel",
      "state": {}
     },
     "58ab77186c5945b6a9eae87609d4efd0": {
      "model_module": "@jupyter-widgets/controls",
      "model_module_version": "1.5.0",
      "model_name": "DescriptionStyleModel",
      "state": {
       "description_width": ""
      }
     },
     "900d8d2e207b47a2989b67bc6d181ae3": {
      "model_module": "@jupyter-widgets/controls",
      "model_module_version": "1.5.0",
      "model_name": "HBoxModel",
      "state": {
       "children": [
        "IPY_MODEL_9fd3153b93104f8db039f18d4e7517af",
        "IPY_MODEL_e9104a8c5a594fa99c234a8c8fb679bf",
        "IPY_MODEL_9d67f29fa044447893cc995a63a4f3a1"
       ],
       "layout": "IPY_MODEL_d1ce48e927de45efa6ec7ae3a48fa8c6"
      }
     },
     "90614fdfdf354a619cf3e144fa492a7a": {
      "model_module": "@jupyter-widgets/controls",
      "model_module_version": "1.5.0",
      "model_name": "DescriptionStyleModel",
      "state": {
       "description_width": ""
      }
     },
     "9d67f29fa044447893cc995a63a4f3a1": {
      "model_module": "@jupyter-widgets/controls",
      "model_module_version": "1.5.0",
      "model_name": "HTMLModel",
      "state": {
       "layout": "IPY_MODEL_fc8b853799c2407bb081bbec0856d9ea",
       "style": "IPY_MODEL_58ab77186c5945b6a9eae87609d4efd0",
       "value": " 50/50 [17:55:49&lt;00:00, 1481.74s/it]"
      }
     },
     "9fd3153b93104f8db039f18d4e7517af": {
      "model_module": "@jupyter-widgets/controls",
      "model_module_version": "1.5.0",
      "model_name": "HTMLModel",
      "state": {
       "layout": "IPY_MODEL_26a977a7d80f481aa4034bd0bcf240ad",
       "style": "IPY_MODEL_90614fdfdf354a619cf3e144fa492a7a",
       "value": "100%"
      }
     },
     "d1ce48e927de45efa6ec7ae3a48fa8c6": {
      "model_module": "@jupyter-widgets/base",
      "model_module_version": "1.2.0",
      "model_name": "LayoutModel",
      "state": {}
     },
     "e9104a8c5a594fa99c234a8c8fb679bf": {
      "model_module": "@jupyter-widgets/controls",
      "model_module_version": "1.5.0",
      "model_name": "FloatProgressModel",
      "state": {
       "bar_style": "success",
       "layout": "IPY_MODEL_4208a137cedb4b74931d168db398e2d2",
       "max": 50,
       "style": "IPY_MODEL_0880d06982624fc785e18de539a562c9",
       "value": 50
      }
     },
     "fc8b853799c2407bb081bbec0856d9ea": {
      "model_module": "@jupyter-widgets/base",
      "model_module_version": "1.2.0",
      "model_name": "LayoutModel",
      "state": {}
     }
    },
    "version_major": 2,
    "version_minor": 0
   }
  }
 },
 "nbformat": 4,
 "nbformat_minor": 5
}
