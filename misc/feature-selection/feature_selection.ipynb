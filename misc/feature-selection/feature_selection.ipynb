{
 "cells": [
  {
   "cell_type": "markdown",
   "id": "b036c95c-d086-4e51-90c3-bc24a256de9e",
   "metadata": {},
   "source": [
    "# Feature Reduction\n",
    "\n",
    "This notebook demonstrates how to use various feature selection methods using scalecast. The idea behind this example is to reduce the variables stored in the `Forecaster` object to an optimal subset after adding many potentially helpful features to the object.  \n",
    "\n",
    "- Link to [data](https://www.kaggle.com/robervalt/sunspots)    \n",
    "- See the [blog post](https://medium.com/towards-data-science/variable-reduction-techniques-for-time-series-646743f726d4)  \n",
    "- [Function documentation link](https://scalecast.readthedocs.io/en/latest/Forecaster/Forecaster.html#src.scalecast.Forecaster.Forecaster.reduce_Xvars)  \n",
    "\n",
    "![](mermaid-diagram-2023-02-05-132837.png)"
   ]
  },
  {
   "cell_type": "code",
   "execution_count": 1,
   "id": "c6d85dc9-8631-41a3-9e6a-466b1b60752b",
   "metadata": {},
   "outputs": [],
   "source": [
    "import pandas as pd\n",
    "import numpy as np\n",
    "import matplotlib.pyplot as plt\n",
    "import seaborn as sns\n",
    "from scalecast.Forecaster import Forecaster\n",
    "from scalecast.util import plot_reduction_errors"
   ]
  },
  {
   "cell_type": "code",
   "execution_count": 2,
   "id": "b05f1eaf-fa70-4eab-8a65-5fbe93d4065c",
   "metadata": {},
   "outputs": [],
   "source": [
    "sns.set(rc={\"figure.figsize\": (12, 8)})"
   ]
  },
  {
   "cell_type": "code",
   "execution_count": 3,
   "id": "be48f350-4d2e-499b-9a4d-f4d24b674a0d",
   "metadata": {},
   "outputs": [],
   "source": [
    "def prepare_fcst(f, test_length=120, fcst_length=120, validation_length=120):\n",
    "    \"\"\" adds all variables and sets the test length/forecast length in the object\n",
    "    \n",
    "    Args:\n",
    "        f (Forecaster): the Forecaster object.\n",
    "        test_length (int or float): the test length as a size or proportion.\n",
    "        fcst_length (int): the forecast horizon.\n",
    "        \n",
    "    Returns:\n",
    "        (Forecaster) the processed object.\n",
    "    \"\"\"\n",
    "    f.generate_future_dates(fcst_length)\n",
    "    f.set_test_length(test_length)\n",
    "    f.set_validation_length(validation_length)\n",
    "    f.add_seasonal_regressors(\"month\", \"quarter\", raw=False, sincos=True)\n",
    "    f.set_validation_metric(\"mae\")\n",
    "    for i in np.arange(12, 289, 12):  # 12-month cycles from 12 to 288 months\n",
    "        f.add_cycle(i)\n",
    "    f.add_ar_terms(120)  # AR 1-120\n",
    "    f.add_AR_terms((20, 12))  # seasonal AR up to 20 years, spaced one year apart\n",
    "    f.add_time_trend()\n",
    "    f.add_seasonal_regressors(\"year\")\n",
    "    return f\n",
    "\n",
    "\n",
    "def export_results(f):\n",
    "    \"\"\" returns a dataframe with all model results given a Forecaster object.\n",
    "    \n",
    "    Args:\n",
    "        f (Forecaster): the Forecaster object.\n",
    "        \n",
    "    Returns:\n",
    "        (DataFrame) the dataframe with the pertinent results.\n",
    "    \"\"\"\n",
    "    results = f.export(\"model_summaries\", determine_best_by=\"TestSetMAE\")\n",
    "    results[\"N_Xvars\"] = results[\"Xvars\"].apply(lambda x: len(x))\n",
    "    return results[\n",
    "        [\n",
    "            \"ModelNickname\",\n",
    "            \"TestSetMAE\",\n",
    "            \"InSampleMAE\",\n",
    "            \"TestSetR2\",\n",
    "            \"InSampleR2\",\n",
    "            \"DynamicallyTested\",\n",
    "            \"N_Xvars\",\n",
    "        ]\n",
    "    ]"
   ]
  },
  {
   "cell_type": "markdown",
   "id": "c690e6b3-4674-40fe-b070-cbfea6581331",
   "metadata": {},
   "source": [
    "## Load Forecaster Object\n",
    "- we choose 120 periods (10 years) for all validation and forecasting\n",
    "- 10 years of observervations to tune model hyperparameters, 10 years to test, and a forecast horizon of 10 years"
   ]
  },
  {
   "cell_type": "code",
   "execution_count": 4,
   "id": "cc3f237f-ea02-4aef-b237-3a103b799e31",
   "metadata": {},
   "outputs": [
    {
     "data": {
      "text/plain": [
       "Forecaster(\n",
       "    DateStartActuals=1749-01-31T00:00:00.000000000\n",
       "    DateEndActuals=2021-01-31T00:00:00.000000000\n",
       "    Freq=M\n",
       "    N_actuals=3265\n",
       "    ForecastLength=120\n",
       "    Xvars=['monthsin', 'monthcos', 'quartersin', 'quartercos', 'cycle12sin', 'cycle12cos', 'cycle24sin', 'cycle24cos', 'cycle36sin', 'cycle36cos', 'cycle48sin', 'cycle48cos', 'cycle60sin', 'cycle60cos', 'cycle72sin', 'cycle72cos', 'cycle84sin', 'cycle84cos', 'cycle96sin', 'cycle96cos', 'cycle108sin', 'cycle108cos', 'cycle120sin', 'cycle120cos', 'cycle132sin', 'cycle132cos', 'cycle144sin', 'cycle144cos', 'cycle156sin', 'cycle156cos', 'cycle168sin', 'cycle168cos', 'cycle180sin', 'cycle180cos', 'cycle192sin', 'cycle192cos', 'cycle204sin', 'cycle204cos', 'cycle216sin', 'cycle216cos', 'cycle228sin', 'cycle228cos', 'cycle240sin', 'cycle240cos', 'cycle252sin', 'cycle252cos', 'cycle264sin', 'cycle264cos', 'cycle276sin', 'cycle276cos', 'cycle288sin', 'cycle288cos', 'AR1', 'AR2', 'AR3', 'AR4', 'AR5', 'AR6', 'AR7', 'AR8', 'AR9', 'AR10', 'AR11', 'AR12', 'AR13', 'AR14', 'AR15', 'AR16', 'AR17', 'AR18', 'AR19', 'AR20', 'AR21', 'AR22', 'AR23', 'AR24', 'AR25', 'AR26', 'AR27', 'AR28', 'AR29', 'AR30', 'AR31', 'AR32', 'AR33', 'AR34', 'AR35', 'AR36', 'AR37', 'AR38', 'AR39', 'AR40', 'AR41', 'AR42', 'AR43', 'AR44', 'AR45', 'AR46', 'AR47', 'AR48', 'AR49', 'AR50', 'AR51', 'AR52', 'AR53', 'AR54', 'AR55', 'AR56', 'AR57', 'AR58', 'AR59', 'AR60', 'AR61', 'AR62', 'AR63', 'AR64', 'AR65', 'AR66', 'AR67', 'AR68', 'AR69', 'AR70', 'AR71', 'AR72', 'AR73', 'AR74', 'AR75', 'AR76', 'AR77', 'AR78', 'AR79', 'AR80', 'AR81', 'AR82', 'AR83', 'AR84', 'AR85', 'AR86', 'AR87', 'AR88', 'AR89', 'AR90', 'AR91', 'AR92', 'AR93', 'AR94', 'AR95', 'AR96', 'AR97', 'AR98', 'AR99', 'AR100', 'AR101', 'AR102', 'AR103', 'AR104', 'AR105', 'AR106', 'AR107', 'AR108', 'AR109', 'AR110', 'AR111', 'AR112', 'AR113', 'AR114', 'AR115', 'AR116', 'AR117', 'AR118', 'AR119', 'AR120', 'AR132', 'AR144', 'AR156', 'AR168', 'AR180', 'AR192', 'AR204', 'AR216', 'AR228', 'AR240', 't', 'year']\n",
       "    TestLength=120\n",
       "    ValidationMetric=mae\n",
       "    ForecastsEvaluated=[]\n",
       "    CILevel=None\n",
       "    CurrentEstimator=mlr\n",
       "    GridsFile=Grids\n",
       ")"
      ]
     },
     "execution_count": 4,
     "metadata": {},
     "output_type": "execute_result"
    }
   ],
   "source": [
    "df = pd.read_csv(\"Sunspots.csv\", index_col=0, names=[\"Date\", \"Target\"], header=0)\n",
    "f = Forecaster(y=df[\"Target\"], current_dates=df[\"Date\"])\n",
    "prepare_fcst(f)"
   ]
  },
  {
   "cell_type": "code",
   "execution_count": 5,
   "id": "c48e5286-604d-4f18-ab9e-b3b9f039d4a3",
   "metadata": {},
   "outputs": [
    {
     "name": "stdout",
     "output_type": "stream",
     "text": [
      "starting out with 184 variables\n"
     ]
    }
   ],
   "source": [
    "print(\"starting out with {} variables\".format(len(f.get_regressor_names())))"
   ]
  },
  {
   "cell_type": "markdown",
   "id": "cac05d69-82a1-4f90-8bae-c45294f6d9cc",
   "metadata": {},
   "source": [
    "## Reducing with L1 Regularization\n",
    "- L1 regularization reduces out least important variables using a lasso model\n",
    "- Not computationally expensive\n",
    "- `overwrite=False` is used to not replace variables currently in the `Forecaster` object"
   ]
  },
  {
   "cell_type": "code",
   "execution_count": 6,
   "id": "e71da70f-0d1b-4e89-8515-2e771a221c0e",
   "metadata": {},
   "outputs": [],
   "source": [
    "f.reduce_Xvars(overwrite=False, dynamic_testing=False)"
   ]
  },
  {
   "cell_type": "code",
   "execution_count": 7,
   "id": "767a8f81-6f3e-4e15-ab83-d7bbf301efb1",
   "metadata": {},
   "outputs": [
    {
     "name": "stdout",
     "output_type": "stream",
     "text": [
      "lasso reduced to 59 variables\n"
     ]
    }
   ],
   "source": [
    "lasso_reduced_vars = f.reduced_Xvars[:]\n",
    "print(f\"lasso reduced to {len(lasso_reduced_vars)} variables\")"
   ]
  },
  {
   "cell_type": "code",
   "execution_count": 8,
   "id": "2ff5d0c6-63ce-408b-bf6b-1b2963d47d46",
   "metadata": {},
   "outputs": [
    {
     "name": "stdout",
     "output_type": "stream",
     "text": [
      "monthcos\n",
      "quartersin\n",
      "cycle12cos\n",
      "cycle24sin\n",
      "cycle24cos\n",
      "cycle36cos\n",
      "cycle48cos\n",
      "cycle60sin\n",
      "cycle60cos\n",
      "cycle72sin\n",
      "cycle84sin\n",
      "cycle84cos\n",
      "cycle96sin\n",
      "cycle96cos\n",
      "cycle108sin\n",
      "cycle108cos\n",
      "cycle120sin\n",
      "cycle120cos\n",
      "cycle132sin\n",
      "cycle132cos\n",
      "cycle144sin\n",
      "cycle156sin\n",
      "cycle168cos\n",
      "cycle180sin\n",
      "cycle192cos\n",
      "cycle204sin\n",
      "cycle216sin\n",
      "cycle216cos\n",
      "cycle228sin\n",
      "cycle252sin\n",
      "cycle252cos\n",
      "cycle264cos\n",
      "cycle288sin\n",
      "cycle288cos\n",
      "AR1\n",
      "AR2\n",
      "AR3\n",
      "AR4\n",
      "AR5\n",
      "AR6\n",
      "AR8\n",
      "AR9\n",
      "AR10\n",
      "AR11\n",
      "AR18\n",
      "AR21\n",
      "AR27\n",
      "AR28\n",
      "AR29\n",
      "AR34\n",
      "AR35\n",
      "AR92\n",
      "AR102\n",
      "AR108\n",
      "AR111\n",
      "AR113\n",
      "AR116\n",
      "AR117\n",
      "AR216\n"
     ]
    }
   ],
   "source": [
    "print(*lasso_reduced_vars, sep=\"\\n\")"
   ]
  },
  {
   "cell_type": "markdown",
   "id": "c8f0933f-9412-40d6-a94d-1bd122807efb",
   "metadata": {},
   "source": [
    "## Reducing with Permutation Feature Importance\n",
    "- uses the [ELI5 package](https://github.com/eli5-org/eli5) to score feature importances\n",
    "- eliminates the least-scoring variable (with some scalecast adjustment to account for collinearity), re-trains the model, and evaluates the new error\n",
    "- by default, the Xvars that return the best error score (according to any metric you want to monitor) is chosen as the optimal set of variables\n",
    "- to save computation resources, not every variable combination is tried (unlike other reduction techniques)\n",
    "- to save computation resources, we can set `dynamic_testing = False` and we can set a mininum number of variables to use (the square root of the total number of observations is chosen in this example)\n",
    "- we can use any sklearn model to reduce variables using this method and we select MLR, KNN, GBT, and SVR in this example"
   ]
  },
  {
   "cell_type": "code",
   "execution_count": 9,
   "id": "1fe85242-0a2b-4e42-bd09-22d0102c4eb4",
   "metadata": {},
   "outputs": [
    {
     "name": "stderr",
     "output_type": "stream",
     "text": [
      "2023-04-11 12:03:53.245099: I tensorflow/core/platform/cpu_feature_guard.cc:193] This TensorFlow binary is optimized with oneAPI Deep Neural Network Library (oneDNN) to use the following CPU instructions in performance-critical operations:  SSE4.1 SSE4.2\n",
      "To enable them in other operations, rebuild TensorFlow with the appropriate compiler flags.\n"
     ]
    }
   ],
   "source": [
    "f.reduce_Xvars(\n",
    "    method=\"pfi\",\n",
    "    estimator=\"mlr\",\n",
    "    keep_at_least=\"sqrt\",\n",
    "    grid_search=False,\n",
    "    normalizer=\"minmax\",\n",
    "    overwrite=False,\n",
    ")"
   ]
  },
  {
   "cell_type": "code",
   "execution_count": 10,
   "id": "4a32e2e2-ec75-45c9-b03f-2c6e2e90a1e0",
   "metadata": {},
   "outputs": [
    {
     "name": "stdout",
     "output_type": "stream",
     "text": [
      "mlr with pfi reduced to 166 variables\n"
     ]
    }
   ],
   "source": [
    "mlr_reduced_vars = f.reduced_Xvars[:]\n",
    "print(f\"mlr with pfi reduced to {len(mlr_reduced_vars)} variables\")"
   ]
  },
  {
   "cell_type": "code",
   "execution_count": 11,
   "id": "7a20d27a-51ec-4941-9920-f811c373e6fb",
   "metadata": {},
   "outputs": [
    {
     "data": {
      "image/png": "[encoded data removed]",
      "text/plain": [
       "<Figure size 1200x600 with 1 Axes>"
      ]
     },
     "metadata": {},
     "output_type": "display_data"
    }
   ],
   "source": [
    "plot_reduction_errors(f)\n",
    "plt.show()"
   ]
  },
  {
   "cell_type": "markdown",
   "id": "97d571e6-5d97-4290-8138-34573f379497",
   "metadata": {},
   "source": [
    "The above graph shows that the MLR performs best when about 50 variables are reduced, according to the MAE on the validation set. The order the variables were dropped was based on permutation feature importance. Clearly, too many variables had been added initially and reducing them out made a significant positive difference to the model's performance. Note, the error metric monitored is not from the test set, but from a different out-of-sample slice of data. Later models use the test set to validate the decisions that were made while monitoring this validation metric."
   ]
  },
  {
   "cell_type": "code",
   "execution_count": 12,
   "id": "e86e4737-c0d4-4523-8097-d562622da2a3",
   "metadata": {},
   "outputs": [],
   "source": [
    "def reduce_and_save_results(f, model, results):\n",
    "    f.reduce_Xvars(\n",
    "        method=\"pfi\",\n",
    "        estimator=model,\n",
    "        keep_at_least=\"sqrt\",\n",
    "        grid_search=True,\n",
    "        dynamic_testing=False,\n",
    "        overwrite=False,\n",
    "    )\n",
    "    results[model] = [\n",
    "        f.reduced_Xvars,\n",
    "        f.pfi_dropped_vars,\n",
    "        f.pfi_error_values,\n",
    "        f.reduction_hyperparams,\n",
    "    ]"
   ]
  },
  {
   "cell_type": "code",
   "execution_count": null,
   "id": "a6c8d9a5-bd3c-4475-88f4-00e36ebbf9e7",
   "metadata": {},
   "outputs": [
    {
     "name": "stdout",
     "output_type": "stream",
     "text": [
      "reducing with knn\n"
     ]
    }
   ],
   "source": [
    "results = {\n",
    "    \"mlr\": [\n",
    "        f.reduced_Xvars,\n",
    "        f.pfi_dropped_vars,\n",
    "        f.pfi_error_values,\n",
    "        f.reduction_hyperparams,\n",
    "    ]\n",
    "}\n",
    "\n",
    "for model in (\"knn\", \"gbt\", \"svr\"):\n",
    "    print(f\"reducing with {model}\")\n",
    "    reduce_and_save_results(f, model, results)"
   ]
  },
  {
   "cell_type": "code",
   "execution_count": null,
   "id": "c93d9450-2ab6-4f7d-8f34-17549eb26d62",
   "metadata": {},
   "outputs": [],
   "source": [
    "for k, v in results.items():\n",
    "    print(f\"the {k} model chose {len(v[0])} variables\")\n",
    "    sns.lineplot(x=np.arange(0, len(v[1]) + 1, 1), y=v[2], label=k)\n",
    "plt.xlabel(\"dropped Xvars\")\n",
    "plt.ylabel(\"error\")\n",
    "plt.show()"
   ]
  },
  {
   "cell_type": "markdown",
   "id": "cf971c3b-daa8-4b10-9451-06d836de76b9",
   "metadata": {},
   "source": [
    "Out of the four models we tried using pfi, the gbt model scored the best on the validation set with 136 variables. We will re-train that model with each of the reduced set of variables and see which reduction performs best on the test set. We will use the best-performing model class from the four we tried: gbt. There is no perfect way to choose a set of variables and it is clear that the gbt model performs only marginally different depending on how many variables are dropped, probably because of how the underlying decision tree model can give lower weight to less-important features natively."
   ]
  },
  {
   "cell_type": "code",
   "execution_count": null,
   "id": "8f87f52c-0df3-4da9-9380-8dca96910059",
   "metadata": {},
   "outputs": [],
   "source": [
    "knn_reduced_vars = results[\"knn\"][0]\n",
    "gbt_reduced_vars = results[\"gbt\"][0]\n",
    "svr_reduced_vars = results[\"svr\"][0]"
   ]
  },
  {
   "cell_type": "markdown",
   "id": "e97da2df-b2a3-4559-a98a-5f96be971b63",
   "metadata": {},
   "source": [
    "## Training a Model Class with All Reduced Variable Sets"
   ]
  },
  {
   "cell_type": "code",
   "execution_count": null,
   "id": "01ef31c0-4033-4a1f-b27f-b9fddffc0c44",
   "metadata": {},
   "outputs": [],
   "source": [
    "selected_model = \"gbt\"\n",
    "hp = results[selected_model][3]\n",
    "f.set_estimator(selected_model)\n",
    "f.manual_forecast(**hp, Xvars=\"all\", call_me=selected_model + \"_all_vars\")\n",
    "f.manual_forecast(\n",
    "    **hp, Xvars=lasso_reduced_vars, call_me=selected_model + \"_l1_reduced_vars\"\n",
    ")\n",
    "f.manual_forecast(\n",
    "    **hp, Xvars=mlr_reduced_vars, call_me=selected_model + \"pfi-mlr_reduced_vars\"\n",
    ")\n",
    "f.manual_forecast(\n",
    "    **hp, Xvars=knn_reduced_vars, call_me=selected_model + \"pfi-knn_reduced_vars\"\n",
    ")\n",
    "f.manual_forecast(\n",
    "    **hp, Xvars=gbt_reduced_vars, call_me=selected_model + \"pfi-gbt_reduced_vars\"\n",
    ")\n",
    "f.manual_forecast(\n",
    "    **hp, Xvars=svr_reduced_vars, call_me=selected_model + \"pfi-svr_reduced_vars\"\n",
    ")"
   ]
  },
  {
   "cell_type": "code",
   "execution_count": null,
   "id": "7fe0eb3a-ce56-41ba-b26e-d0424bf114d0",
   "metadata": {},
   "outputs": [],
   "source": [
    "export_results(f)"
   ]
  },
  {
   "cell_type": "markdown",
   "id": "ee0ad7d2-a5b7-4662-86a9-545830956725",
   "metadata": {},
   "source": [
    "Although the gbt model with 136 variables performed best out of all tried models on the validation set, on the test set, the 98 variables selected by KNN led to the best performance, followed by using all variables and then the 36 selected from the L1 reduction. This illustrates that even if a reduction decision is made with one estimator class, it can still be useful for another model class."
   ]
  },
  {
   "cell_type": "code",
   "execution_count": null,
   "id": "0a909fa1-daa9-449f-a0a4-df1df7eeefc8",
   "metadata": {},
   "outputs": [],
   "source": [
    "f.plot_test_set(ci=True, order_by=\"TestSetMAE\", include_train=240)\n",
    "plt.show()"
   ]
  },
  {
   "cell_type": "markdown",
   "id": "60646747-d4a4-45d9-a853-e25708e7fd6f",
   "metadata": {},
   "source": [
    "## Backtest Best Model\n",
    "\n",
    "Backtesting shows the average performance of a given model across the last 10 (by default) forecast horizons, using only data before each 120-period forecast to train the model. It's a good way to see if your model generalizes well or just got lucky on the particular test set you fed to it."
   ]
  },
  {
   "cell_type": "code",
   "execution_count": null,
   "id": "bd11acfd-b145-409c-a8fa-86ee56b0db1c",
   "metadata": {},
   "outputs": [],
   "source": [
    "f.backtest(\"gbtpfi-knn_reduced_vars\")\n",
    "f.export_backtest_metrics(\"gbtpfi-knn_reduced_vars\")"
   ]
  },
  {
   "cell_type": "code",
   "execution_count": null,
   "id": "1f2e4368-4907-42d4-8667-a657ea44d5e1",
   "metadata": {},
   "outputs": [],
   "source": [
    "f.plot(models=\"gbtpfi-knn_reduced_vars\", ci=True)\n",
    "plt.show()"
   ]
  },
  {
   "cell_type": "markdown",
   "id": "90e881c4-b6f4-452e-90c5-616d9b40943b",
   "metadata": {},
   "source": [
    "## Export Reduced Dataset"
   ]
  },
  {
   "cell_type": "code",
   "execution_count": null,
   "id": "699bdaf6-e697-41c2-80b9-f984c203d532",
   "metadata": {},
   "outputs": [],
   "source": [
    "reduced_dataset = f.export_Xvars_df()[['DATE'] + knn_reduced_vars]\n",
    "reduced_dataset.head(25)"
   ]
  },
  {
   "cell_type": "markdown",
   "id": "b57824f5-2f0e-46ef-98b8-cef92ad823a7",
   "metadata": {},
   "source": [
    "## See how often each var was dropped"
   ]
  },
  {
   "cell_type": "code",
   "execution_count": null,
   "id": "28913029-9e27-4267-b899-bb9fecbe9ed4",
   "metadata": {},
   "outputs": [],
   "source": [
    "pd.options.display.max_rows = None\n",
    "all_xvars = f.get_regressor_names()\n",
    "final_dropped = pd.DataFrame({\"Var\": all_xvars})\n",
    "for i, v in f.export(\"model_summaries\").iterrows():\n",
    "    model = v[\"ModelNickname\"]\n",
    "    Xvars = v[\"Xvars\"]\n",
    "    dropped_vars = [x for x in f.get_regressor_names() if x not in Xvars]\n",
    "    if not dropped_vars:\n",
    "        continue\n",
    "    tmp_dropped = pd.DataFrame(\n",
    "        {\"Var\": dropped_vars, f\"dropped in {model}\": [1] * len(dropped_vars)}\n",
    "    )\n",
    "    final_dropped = final_dropped.merge(tmp_dropped, on=\"Var\", how=\"left\").fillna(0)\n",
    "final_dropped[\"total times dropped\"] = final_dropped.iloc[:, 1:].sum(axis=1)\n",
    "final_dropped = final_dropped.loc[final_dropped[\"total times dropped\"] > 0]\n",
    "final_dropped = final_dropped.sort_values(\"total times dropped\", ascending=False)\n",
    "final_dropped = final_dropped.reset_index(drop=True)\n",
    "final_dropped.iloc[:, 1:] = final_dropped.iloc[:, 1:].astype(int)\n",
    "final_dropped"
   ]
  },
  {
   "cell_type": "code",
   "execution_count": null,
   "id": "84af132c-faf9-4299-bc9b-f973358fe658",
   "metadata": {},
   "outputs": [],
   "source": []
  }
 ],
 "metadata": {
  "kernelspec": {
   "display_name": "Python 3 (ipykernel)",
   "language": "python",
   "name": "python3"
  },
  "language_info": {
   "codemirror_mode": {
    "name": "ipython",
    "version": 3
   },
   "file_extension": ".py",
   "mimetype": "text/x-python",
   "name": "python",
   "nbconvert_exporter": "python",
   "pygments_lexer": "ipython3",
   "version": "3.8.13"
  },
  "widgets": {
   "application/vnd.jupyter.widget-state+json": {
    "state": {},
    "version_major": 2,
    "version_minor": 0
   }
  }
 },
 "nbformat": 4,
 "nbformat_minor": 5
}
