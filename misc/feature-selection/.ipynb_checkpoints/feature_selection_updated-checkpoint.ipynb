{
 "cells": [
  {
   "cell_type": "code",
   "execution_count": null,
   "id": "81d16636-953f-4119-bc4c-ea220f50fd7b",
   "metadata": {},
   "outputs": [],
   "source": [
    "import pandas as pd\n",
    "import numpy as np\n",
    "import matplotlib.pyplot as plt\n",
    "import seaborn as sns\n",
    "from scalecast.Forecaster import Forecaster\n",
    "from scalecast.MVForecaster import MVForecaster\n",
    "from scalecast import GridGenerator\n",
    "from scalecast.util import plot_reduction_errors\n",
    "from statsmodels.tsa.stattools import adfuller"
   ]
  },
  {
   "cell_type": "code",
   "execution_count": null,
   "id": "54760762-3293-43f8-be8d-6bf82c125ebd",
   "metadata": {},
   "outputs": [],
   "source": [
    "sns.set(rc={\"figure.figsize\": (12, 8)})\n",
    "\n",
    "GridGenerator.get_example_grids()\n",
    "GridGenerator.get_mv_grids()"
   ]
  },
  {
   "cell_type": "code",
   "execution_count": null,
   "id": "1f15b9ca-8240-471d-a0da-f701824bc8f4",
   "metadata": {},
   "outputs": [],
   "source": [
    "df = pd.read_csv(\"IAH-Dom-Multivariate.csv\", parse_dates=[\"Date\"])\n",
    "f = Forecaster(\n",
    "    y=df[\"PASSENGERS\"],\n",
    "    current_dates=df[\"Date\"],\n",
    "    require_future_dates = False,\n",
    ")\n",
    "f.set_test_length(24)\n",
    "\n",
    "f.add_seasonal_regressors(\n",
    "    'month',\n",
    "    raw=False,\n",
    "    sincos=True\n",
    ")\n",
    "f.integrate(train_only=True)\n",
    "f.add_time_trend()\n",
    "f.add_poly_terms('t',pwr=3)\n",
    "\n",
    "f"
   ]
  },
  {
   "cell_type": "code",
   "execution_count": null,
   "id": "66bb7fa3-a4cd-4df6-af77-bacda9df6bf0",
   "metadata": {},
   "outputs": [],
   "source": [
    "df_stationary = df.drop('PASSENGERS',axis=1).set_index('Date')\n",
    "exclude = (\n",
    "    'Recession',\n",
    "    'post_covid',\n",
    "    'post_vaccine',\n",
    "    'post_delta',\n",
    ")\n",
    "diffs = {\n",
    "    c:0 for c in df_stationary if c not in exclude\n",
    "}\n",
    "for c in diffs:\n",
    "    series = df_stationary[c]\n",
    "    while adfuller(series)[1] >= 0.05:\n",
    "        df_stationary[c] = df_stationary[c].diff()\n",
    "        series = df_stationary[c].dropna()\n",
    "        diffs[c] += 1\n",
    "\n",
    "for k, v in diffs.items():\n",
    "    print(f'column: {k} differenced: {v} time(s)')\n",
    "    \n",
    "df_stationary = df_stationary.dropna()"
   ]
  },
  {
   "cell_type": "code",
   "execution_count": null,
   "id": "5ae2abbc-f84d-4adc-b06e-6deff17f21f0",
   "metadata": {},
   "outputs": [],
   "source": [
    "f.keep_smaller_history(df_stationary.reset_index()['Date'].min())\n",
    "f.ingest_Xvars_df(df_stationary.reset_index(),date_col='Date')"
   ]
  },
  {
   "cell_type": "code",
   "execution_count": null,
   "id": "f9c04a49-e3fb-4a59-9366-64397242e5e0",
   "metadata": {},
   "outputs": [],
   "source": [
    "f"
   ]
  },
  {
   "cell_type": "code",
   "execution_count": null,
   "id": "70bba5b7-b4e4-48fd-b1f5-308b1ad0371f",
   "metadata": {},
   "outputs": [],
   "source": [
    "f.plot()\n",
    "plt.show()"
   ]
  },
  {
   "cell_type": "code",
   "execution_count": null,
   "id": "74584795-7012-4bcd-a236-b45238c41541",
   "metadata": {},
   "outputs": [],
   "source": [
    "f.reduce_Xvars(\n",
    "    estimator='gbt',\n",
    "    method='shap',\n",
    "    cross_validate=True,\n",
    "    cvkwargs = {'k':3},\n",
    "    dynamic_tuning = 6,\n",
    "    overwrite = True,\n",
    "    grid_search=False,\n",
    ")\n",
    "\n",
    "plot_reduction_errors(f)\n",
    "plt.show()"
   ]
  },
  {
   "cell_type": "code",
   "execution_count": null,
   "id": "4bb394e1-9670-40df-8851-d24f1c6296ec",
   "metadata": {},
   "outputs": [],
   "source": [
    "selected_vars = f.reduced_Xvars\n",
    "selected_vars"
   ]
  },
  {
   "cell_type": "code",
   "execution_count": null,
   "id": "3823df5e-4482-4d06-8f5b-e1e501aa9987",
   "metadata": {},
   "outputs": [],
   "source": [
    "df_selected = df.set_index('Date')[[c for c in selected_vars if c in df]]\n",
    "df_selected.head()"
   ]
  },
  {
   "cell_type": "code",
   "execution_count": null,
   "id": "c4c71b60-ac18-4269-9006-849908af6ae0",
   "metadata": {},
   "outputs": [],
   "source": [
    "forecasters = {}\n",
    "f = Forecaster(\n",
    "    y=df['PASSENGERS'],\n",
    "    current_dates=df['Date'],\n",
    ")\n",
    "f.generate_future_dates(24)\n",
    "f.add_seasonal_regressors(\n",
    "    'month',\n",
    "    sincos=True,\n",
    "    raw=False\n",
    ")\n",
    "\n",
    "f.diff()\n",
    "\n",
    "forecasters['PASSENGERS'] = f\n",
    "\n",
    "for c in df_selected:\n",
    "    f = Forecaster(\n",
    "        y=df_selected[c],\n",
    "        current_dates=df_selected.index,\n",
    "    )\n",
    "    f.integrate()\n",
    "    forecasters[c] = f\n",
    "    \n",
    "mvf = MVForecaster(\n",
    "    *forecasters.values(),\n",
    "    names=forecasters.keys(),\n",
    ")\n",
    "mvf.set_optimize_on('PASSENGERS')\n",
    "mvf.set_test_length(24)\n",
    "mvf"
   ]
  },
  {
   "cell_type": "code",
   "execution_count": null,
   "id": "1b87c64b-ddf1-472b-9bf8-b071e02046e1",
   "metadata": {},
   "outputs": [],
   "source": [
    "models = (\n",
    "    'xgboost',\n",
    "    'mlr',\n",
    "    'lightgbm',\n",
    "    'sgd',\n",
    "    'elasticnet',\n",
    "    'svr',\n",
    "    'mlp',\n",
    ")\n",
    "\n",
    "mvf.tune_test_forecast(\n",
    "    models,\n",
    "    cross_validate=True,\n",
    "    k=3,\n",
    "    dynamic_tuning=6,\n",
    "    probabilistic=True,\n",
    "    limit_grid_size=.25,\n",
    ")"
   ]
  },
  {
   "cell_type": "code",
   "execution_count": null,
   "id": "d3249e74-d16d-40f0-b97f-d8775c807cb0",
   "metadata": {},
   "outputs": [],
   "source": [
    "mvf.set_best_model(determine_best_by='LevelTestSetRMSE')\n",
    "mvf.plot_test_set(\n",
    "    put_best_on_top=True,\n",
    "    series='PASSENGERS',\n",
    "    level=True,\n",
    "    #models=mvf.best_model,\n",
    "    ci=True,\n",
    ")\n",
    "plt.show()"
   ]
  },
  {
   "cell_type": "code",
   "execution_count": null,
   "id": "746dc62b-a329-4965-a076-2032a498224d",
   "metadata": {},
   "outputs": [],
   "source": [
    "mvf.plot(\n",
    "    put_best_on_top=True,\n",
    "    series='PASSENGERS',\n",
    "    #models=mvf.best_model,\n",
    "    level=True,\n",
    "    ci=True,\n",
    ")\n",
    "plt.show()"
   ]
  },
  {
   "cell_type": "code",
   "execution_count": null,
   "id": "f0ca4ff1-8dba-4eb6-857f-561efcff1810",
   "metadata": {},
   "outputs": [],
   "source": [
    "results = mvf.export('model_summaries')\n",
    "results[\n",
    "    [\n",
    "        'ModelNickname',\n",
    "        'Series',\n",
    "        'HyperParams',\n",
    "        'Lags',\n",
    "        'ValidationMetricValue',\n",
    "        'LevelTestSetRMSE'\n",
    "    ]\n",
    "]"
   ]
  },
  {
   "cell_type": "code",
   "execution_count": null,
   "id": "15460899-5888-4368-9294-6d11859d8474",
   "metadata": {},
   "outputs": [],
   "source": [
    "mvf.export_validation_grid('xgboost').head()"
   ]
  },
  {
   "cell_type": "code",
   "execution_count": null,
   "id": "2842b544-1c18-472d-81ad-972604d32d43",
   "metadata": {},
   "outputs": [],
   "source": []
  }
 ],
 "metadata": {
  "kernelspec": {
   "display_name": "Python 3",
   "language": "python",
   "name": "python3"
  },
  "language_info": {
   "codemirror_mode": {
    "name": "ipython",
    "version": 3
   },
   "file_extension": ".py",
   "mimetype": "text/x-python",
   "name": "python",
   "nbconvert_exporter": "python",
   "pygments_lexer": "ipython3",
   "version": "3.8.8"
  },
  "widgets": {
   "application/vnd.jupyter.widget-state+json": {
    "state": {},
    "version_major": 2,
    "version_minor": 0
   }
  }
 },
 "nbformat": 4,
 "nbformat_minor": 5
}
