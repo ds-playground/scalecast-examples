{
 "cells": [
  {
   "cell_type": "markdown",
   "id": "0cc8c078-4b32-4f1b-a31c-0b2f958790fb",
   "metadata": {},
   "source": [
    "# Confidence Intervals\n",
    "\n",
    "This notebook overviews scalecast intervals, which are scored with [Mean Scaled Interval Score (MSIS)](https://scalecast.readthedocs.io/en/latest/Forecaster/Util.html#src.scalecast.util.metrics.msis). Lower scores are better. This notebook requires `scalecast>=0.17.0`.  \n",
    "\n",
    "Scalecast uses a naive conformal interval, created based on holding out a test-set of data and setting interval ranges from the percentiles of the test-set residuals. This simple approach allows every estimator type to get the same kind of interval, but it is not as scientific as evaluated all models with a true conformal approach, where residuals are tested for autocorrelation. That is coming in a future update. As we will see by scoring the intervals and comparing them to ARIMA intervals from statsmodels, the current approach works well enough.  \n",
    "\n",
    "To evaluate the intervals, we leave out a section of each series to score out-of-sample. This is usually not necessary for scalecast, as all models are tested automatically, but the confidence intervals can overfit on any test set stored in the `Forecaster` object due to leakage that occurs when constructing these intervals. Scalecast intervals are compared to ARIMA intervals on the same series in the last section of this notebook and the scalecast intervals are on the whole perform better. The series used in this example are ordered from easiest-to-hardest to forecast.  \n",
    "\n",
    "**Sections:**  \n",
    "[Daily Website Visitors](#Daily-Website-Visitors)  \n",
    "[Housing Starts](#Housing-Starts)  \n",
    "[Avocado Sales](#Avocado-Sales)  \n",
    "[All Aggregated Results](#All-Aggregated-Results)  \n",
    "[Benchmark Against StatsModels ARIMA](#Benchmark-Against-StatsModels-ARIMA)  "
   ]
  },
  {
   "cell_type": "code",
   "execution_count": 1,
   "id": "b45d6796-408e-4827-965a-82b2a6942f69",
   "metadata": {},
   "outputs": [],
   "source": [
    "import pandas as pd\n",
    "import numpy as np\n",
    "from scalecast.Forecaster import Forecaster\n",
    "from scalecast import GridGenerator\n",
    "from scalecast.util import metrics, find_optimal_transformation\n",
    "from scalecast.notebook import tune_test_forecast\n",
    "from scalecast.SeriesTransformer import SeriesTransformer\n",
    "import matplotlib.pyplot as plt\n",
    "import seaborn as sns\n",
    "import time\n",
    "from tqdm.notebook import tqdm"
   ]
  },
  {
   "cell_type": "code",
   "execution_count": 2,
   "id": "3b367206-9360-480b-83a7-aa293fa15b00",
   "metadata": {},
   "outputs": [],
   "source": [
    "import warnings\n",
    "warnings.simplefilter(action='ignore', category=DeprecationWarning)"
   ]
  },
  {
   "cell_type": "code",
   "execution_count": 3,
   "id": "b8087aae-89ad-4d84-b884-ee6374b032c7",
   "metadata": {},
   "outputs": [],
   "source": [
    "models = (\n",
    "    'mlr',\n",
    "    'elasticnet',\n",
    "    'ridge',\n",
    "    'knn',\n",
    "    'xgboost',\n",
    "    'lightgbm',\n",
    "    'gbt',\n",
    ") # these are all scikit-learn models or APIs\n",
    "# this will be used later to fill in results\n",
    "results_template = pd.DataFrame(index=models)"
   ]
  },
  {
   "cell_type": "code",
   "execution_count": 4,
   "id": "7981c223-eaff-4227-b3db-d79d3cf1ef3b",
   "metadata": {},
   "outputs": [],
   "source": [
    "def score_cis(results, fcsts, ci_name, actuals, obs, val_len, models=models, m_=1):\n",
    "    for m in models:\n",
    "        results.loc[m,ci_name] = metrics.msis(\n",
    "            a = actuals,\n",
    "            uf = fcsts[m+'_upperci'],\n",
    "            lf = fcsts[m+'_lowerci'],\n",
    "            obs = obs,\n",
    "            m = m_,\n",
    "        )\n",
    "    return results"
   ]
  },
  {
   "cell_type": "code",
   "execution_count": 5,
   "id": "08b3de0c-bc95-474d-a861-67149e0f7524",
   "metadata": {},
   "outputs": [],
   "source": [
    "GridGenerator.get_example_grids()"
   ]
  },
  {
   "cell_type": "markdown",
   "id": "9b1181fa-3ebf-4e3a-a41b-7146671516ca",
   "metadata": {},
   "source": [
    "## Daily Website Visitors\n",
    "\n",
    "- Link to data: https://www.kaggle.com/datasets/bobnau/daily-website-visitors  \n",
    "- We will use a length of 180 observations (about half a year) both to tune and test the models  \n",
    "- We want to optimize the forecasts and confidence intervals for a 60-day forecast horizon  "
   ]
  },
  {
   "cell_type": "code",
   "execution_count": 6,
   "id": "eedcaa5d-2e5e-44a0-8fb8-553a51238856",
   "metadata": {},
   "outputs": [],
   "source": [
    "val_len = 180\n",
    "fcst_len = 60"
   ]
  },
  {
   "cell_type": "code",
   "execution_count": 7,
   "id": "92ad639f-7eec-4570-a2f1-28a923c9dd6e",
   "metadata": {},
   "outputs": [
    {
     "data": {
      "text/html": [
       "<div>\n",
       "<style scoped>\n",
       "    .dataframe tbody tr th:only-of-type {\n",
       "        vertical-align: middle;\n",
       "    }\n",
       "\n",
       "    .dataframe tbody tr th {\n",
       "        vertical-align: top;\n",
       "    }\n",
       "\n",
       "    .dataframe thead th {\n",
       "        text-align: right;\n",
       "    }\n",
       "</style>\n",
       "<table border=\"1\" class=\"dataframe\">\n",
       "  <thead>\n",
       "    <tr style=\"text-align: right;\">\n",
       "      <th></th>\n",
       "      <th>Row</th>\n",
       "      <th>Day</th>\n",
       "      <th>Day.Of.Week</th>\n",
       "      <th>Page.Loads</th>\n",
       "      <th>Unique.Visits</th>\n",
       "      <th>First.Time.Visits</th>\n",
       "      <th>Returning.Visits</th>\n",
       "    </tr>\n",
       "    <tr>\n",
       "      <th>Date</th>\n",
       "      <th></th>\n",
       "      <th></th>\n",
       "      <th></th>\n",
       "      <th></th>\n",
       "      <th></th>\n",
       "      <th></th>\n",
       "      <th></th>\n",
       "    </tr>\n",
       "  </thead>\n",
       "  <tbody>\n",
       "    <tr>\n",
       "      <th>2014-09-14</th>\n",
       "      <td>1</td>\n",
       "      <td>Sunday</td>\n",
       "      <td>1</td>\n",
       "      <td>2,146</td>\n",
       "      <td>1,582</td>\n",
       "      <td>1430</td>\n",
       "      <td>152</td>\n",
       "    </tr>\n",
       "    <tr>\n",
       "      <th>2014-09-15</th>\n",
       "      <td>2</td>\n",
       "      <td>Monday</td>\n",
       "      <td>2</td>\n",
       "      <td>3,621</td>\n",
       "      <td>2,528</td>\n",
       "      <td>2297</td>\n",
       "      <td>231</td>\n",
       "    </tr>\n",
       "    <tr>\n",
       "      <th>2014-09-16</th>\n",
       "      <td>3</td>\n",
       "      <td>Tuesday</td>\n",
       "      <td>3</td>\n",
       "      <td>3,698</td>\n",
       "      <td>2,630</td>\n",
       "      <td>2352</td>\n",
       "      <td>278</td>\n",
       "    </tr>\n",
       "    <tr>\n",
       "      <th>2014-09-17</th>\n",
       "      <td>4</td>\n",
       "      <td>Wednesday</td>\n",
       "      <td>4</td>\n",
       "      <td>3,667</td>\n",
       "      <td>2,614</td>\n",
       "      <td>2327</td>\n",
       "      <td>287</td>\n",
       "    </tr>\n",
       "    <tr>\n",
       "      <th>2014-09-18</th>\n",
       "      <td>5</td>\n",
       "      <td>Thursday</td>\n",
       "      <td>5</td>\n",
       "      <td>3,316</td>\n",
       "      <td>2,366</td>\n",
       "      <td>2130</td>\n",
       "      <td>236</td>\n",
       "    </tr>\n",
       "  </tbody>\n",
       "</table>\n",
       "</div>"
      ],
      "text/plain": [
       "            Row        Day  Day.Of.Week Page.Loads Unique.Visits  \\\n",
       "Date                                                               \n",
       "2014-09-14    1     Sunday            1      2,146         1,582   \n",
       "2014-09-15    2     Monday            2      3,621         2,528   \n",
       "2014-09-16    3    Tuesday            3      3,698         2,630   \n",
       "2014-09-17    4  Wednesday            4      3,667         2,614   \n",
       "2014-09-18    5   Thursday            5      3,316         2,366   \n",
       "\n",
       "            First.Time.Visits Returning.Visits  \n",
       "Date                                            \n",
       "2014-09-14               1430              152  \n",
       "2014-09-15               2297              231  \n",
       "2014-09-16               2352              278  \n",
       "2014-09-17               2327              287  \n",
       "2014-09-18               2130              236  "
      ]
     },
     "execution_count": 7,
     "metadata": {},
     "output_type": "execute_result"
    }
   ],
   "source": [
    "data = pd.read_csv('daily-website-visitors.csv',parse_dates=['Date']).set_index('Date')\n",
    "data.head()"
   ]
  },
  {
   "cell_type": "code",
   "execution_count": 8,
   "id": "dcbbe890-0cd5-45fb-a40f-f82bb7981904",
   "metadata": {},
   "outputs": [],
   "source": [
    "visits_sep = data['First.Time.Visits'].iloc[-fcst_len:]\n",
    "visits = data['First.Time.Visits'].iloc[:-fcst_len]"
   ]
  },
  {
   "cell_type": "code",
   "execution_count": 9,
   "id": "87393326-475a-4309-85cd-6612748cbaf8",
   "metadata": {},
   "outputs": [
    {
     "data": {
      "text/plain": [
       "Forecaster(\n",
       "    DateStartActuals=2014-09-14T00:00:00.000000000\n",
       "    DateEndActuals=2020-06-20T00:00:00.000000000\n",
       "    Freq=D\n",
       "    N_actuals=2107\n",
       "    ForecastLength=60\n",
       "    Xvars=['t', 'AR1', 'AR2', 'AR3', 'AR4', 'AR5', 'AR6', 'AR7', 'AR8', 'AR9', 'AR10', 'AR11', 'AR12', 'AR13', 'AR14', 'AR15', 'AR16', 'AR17', 'AR18', 'AR19', 'AR20', 'AR21', 'AR22', 'AR23', 'AR24', 'AR25', 'AR26', 'AR27', 'AR28', 'AR29', 'AR30', 'AR31', 'AR32', 'AR33', 'AR34', 'AR35', 'AR36', 'AR37', 'AR38', 'AR39', 'AR40', 'AR41', 'AR42', 'AR43', 'AR44', 'AR45', 'AR46', 'AR47', 'AR48', 'AR49', 'AR50', 'AR51', 'AR52', 'AR53', 'AR54', 'AR55', 'AR56', 'AR57', 'AR58', 'AR59', 'AR60', 'AR61', 'AR62', 'AR63', 'AR64', 'AR65', 'AR66', 'AR67', 'AR68', 'AR69', 'AR70', 'AR71', 'AR72', 'AR73', 'AR74', 'AR75', 'AR76', 'AR77', 'AR78', 'AR79', 'AR80', 'AR81', 'AR82', 'AR83', 'AR84', 'AR85', 'AR86', 'AR87', 'AR88', 'AR89', 'AR90', 'AR91', 'AR92', 'AR93', 'AR94', 'AR95', 'AR96', 'AR97', 'AR98', 'AR99', 'AR100']\n",
       "    Differenced=0\n",
       "    TestLength=180\n",
       "    ValidationLength=180\n",
       "    ValidationMetric=rmse\n",
       "    ForecastsEvaluated=[]\n",
       "    CILevel=0.95\n",
       "    BootstrapSamples=100\n",
       "    CurrentEstimator=None\n",
       "    GridsFile=Grids\n",
       ")"
      ]
     },
     "execution_count": 9,
     "metadata": {},
     "output_type": "execute_result"
    }
   ],
   "source": [
    "f=Forecaster(\n",
    "    y=visits,\n",
    "    current_dates=visits.index,\n",
    "    future_dates=fcst_len,\n",
    "    test_length = val_len,\n",
    "    validation_length = val_len, # for hyperparameter tuning\n",
    "    cis = True, # set to True at initialization to always evaluate cis\n",
    ")\n",
    "f.auto_Xvar_select(\n",
    "    estimator='elasticnet',\n",
    "    alpha=.2,\n",
    "    max_ar=100,\n",
    "    monitor='ValidationMetricValue', # not test set\n",
    ")\n",
    "f"
   ]
  },
  {
   "cell_type": "code",
   "execution_count": 10,
   "id": "6dac1977-ec3d-48ff-8c18-a017584b7545",
   "metadata": {},
   "outputs": [
    {
     "data": {
      "application/vnd.jupyter.widget-view+json": {
       "model_id": "9efc3ccb974e4191b24ac250830a0c65",
       "version_major": 2,
       "version_minor": 0
      },
      "text/plain": [
       "  0%|          | 0/7 [00:00<?, ?it/s]"
      ]
     },
     "metadata": {},
     "output_type": "display_data"
    }
   ],
   "source": [
    "tune_test_forecast(\n",
    "    f,\n",
    "    models,\n",
    ")"
   ]
  },
  {
   "cell_type": "code",
   "execution_count": 11,
   "id": "3a826538-8df3-4165-a367-7c272fd94de3",
   "metadata": {},
   "outputs": [
    {
     "data": {
      "text/html": [
       "<div>\n",
       "<style scoped>\n",
       "    .dataframe tbody tr th:only-of-type {\n",
       "        vertical-align: middle;\n",
       "    }\n",
       "\n",
       "    .dataframe tbody tr th {\n",
       "        vertical-align: top;\n",
       "    }\n",
       "\n",
       "    .dataframe thead th {\n",
       "        text-align: right;\n",
       "    }\n",
       "</style>\n",
       "<table border=\"1\" class=\"dataframe\">\n",
       "  <thead>\n",
       "    <tr style=\"text-align: right;\">\n",
       "      <th></th>\n",
       "      <th>ModelNickname</th>\n",
       "      <th>ValidationMetric</th>\n",
       "      <th>ValidationMetricValue</th>\n",
       "      <th>InSampleRMSE</th>\n",
       "    </tr>\n",
       "  </thead>\n",
       "  <tbody>\n",
       "    <tr>\n",
       "      <th>0</th>\n",
       "      <td>xgboost</td>\n",
       "      <td>rmse</td>\n",
       "      <td>184.672366</td>\n",
       "      <td>15.360314</td>\n",
       "    </tr>\n",
       "    <tr>\n",
       "      <th>1</th>\n",
       "      <td>lightgbm</td>\n",
       "      <td>rmse</td>\n",
       "      <td>188.499848</td>\n",
       "      <td>112.543232</td>\n",
       "    </tr>\n",
       "    <tr>\n",
       "      <th>2</th>\n",
       "      <td>gbt</td>\n",
       "      <td>rmse</td>\n",
       "      <td>206.214331</td>\n",
       "      <td>147.478748</td>\n",
       "    </tr>\n",
       "    <tr>\n",
       "      <th>3</th>\n",
       "      <td>ridge</td>\n",
       "      <td>rmse</td>\n",
       "      <td>207.294684</td>\n",
       "      <td>186.169323</td>\n",
       "    </tr>\n",
       "    <tr>\n",
       "      <th>4</th>\n",
       "      <td>elasticnet</td>\n",
       "      <td>rmse</td>\n",
       "      <td>207.327377</td>\n",
       "      <td>185.961252</td>\n",
       "    </tr>\n",
       "    <tr>\n",
       "      <th>5</th>\n",
       "      <td>mlr</td>\n",
       "      <td>rmse</td>\n",
       "      <td>208.459997</td>\n",
       "      <td>185.620629</td>\n",
       "    </tr>\n",
       "    <tr>\n",
       "      <th>6</th>\n",
       "      <td>knn</td>\n",
       "      <td>rmse</td>\n",
       "      <td>274.137352</td>\n",
       "      <td>313.511695</td>\n",
       "    </tr>\n",
       "  </tbody>\n",
       "</table>\n",
       "</div>"
      ],
      "text/plain": [
       "  ModelNickname ValidationMetric  ValidationMetricValue  InSampleRMSE\n",
       "0       xgboost             rmse             184.672366     15.360314\n",
       "1      lightgbm             rmse             188.499848    112.543232\n",
       "2           gbt             rmse             206.214331    147.478748\n",
       "3         ridge             rmse             207.294684    186.169323\n",
       "4    elasticnet             rmse             207.327377    185.961252\n",
       "5           mlr             rmse             208.459997    185.620629\n",
       "6           knn             rmse             274.137352    313.511695"
      ]
     },
     "execution_count": 11,
     "metadata": {},
     "output_type": "execute_result"
    }
   ],
   "source": [
    "ms = f.export('model_summaries',determine_best_by='ValidationMetricValue')\n",
    "best_model = ms['ModelNickname'].values[0]\n",
    "ms[['ModelNickname','ValidationMetric','ValidationMetricValue','InSampleRMSE']]"
   ]
  },
  {
   "cell_type": "markdown",
   "id": "602d53ea-4c1c-40c0-8dc7-07bdbbf57c05",
   "metadata": {},
   "source": [
    "We will demonstrate how the confidence intervals change as they are re-evaluated using the best model according to the test MAE: xgboost."
   ]
  },
  {
   "cell_type": "markdown",
   "id": "a02abc6e-2eaf-44b5-9ee2-60a3a72a1ec3",
   "metadata": {},
   "source": [
    "### Evaluate Interval"
   ]
  },
  {
   "cell_type": "code",
   "execution_count": 12,
   "id": "139ea71b-3778-4881-a722-b5aeeaf45340",
   "metadata": {},
   "outputs": [
    {
     "data": {
      "image/png": "[encoded data removed]",
      "text/plain": [
       "<Figure size 1200x600 with 1 Axes>"
      ]
     },
     "metadata": {},
     "output_type": "display_data"
    }
   ],
   "source": [
    "fig, ax = plt.subplots(figsize=(12,6))\n",
    "f.plot(ci=True,models=best_model,ax=ax)\n",
    "sns.lineplot(\n",
    "    y = 'First.Time.Visits',\n",
    "    x = 'Date',\n",
    "    data = visits_sep.reset_index(),\n",
    "    ax = ax,\n",
    "    label = 'held-out actuals',\n",
    "    color = 'green',\n",
    "    alpha = 0.7,\n",
    ")\n",
    "plt.show()"
   ]
  },
  {
   "cell_type": "markdown",
   "id": "678da31b-5c3c-47b1-af2d-5d7a87550aea",
   "metadata": {},
   "source": [
    "XGBoost overfit on this dataset, so its default confidence interval is barely noticeable. That is one of the downsides of the bootstrapped method from in-sample residuals."
   ]
  },
  {
   "cell_type": "code",
   "execution_count": 13,
   "id": "a2921e46-f19f-4101-8006-76d23ddc4760",
   "metadata": {},
   "outputs": [
    {
     "data": {
      "text/html": [
       "<div>\n",
       "<style scoped>\n",
       "    .dataframe tbody tr th:only-of-type {\n",
       "        vertical-align: middle;\n",
       "    }\n",
       "\n",
       "    .dataframe tbody tr th {\n",
       "        vertical-align: top;\n",
       "    }\n",
       "\n",
       "    .dataframe thead th {\n",
       "        text-align: right;\n",
       "    }\n",
       "</style>\n",
       "<table border=\"1\" class=\"dataframe\">\n",
       "  <thead>\n",
       "    <tr style=\"text-align: right;\">\n",
       "      <th></th>\n",
       "      <th>DATE</th>\n",
       "      <th>xgboost</th>\n",
       "      <th>xgboost_upperci</th>\n",
       "      <th>xgboost_lowerci</th>\n",
       "      <th>lightgbm</th>\n",
       "      <th>lightgbm_upperci</th>\n",
       "      <th>lightgbm_lowerci</th>\n",
       "      <th>elasticnet</th>\n",
       "      <th>elasticnet_upperci</th>\n",
       "      <th>elasticnet_lowerci</th>\n",
       "      <th>...</th>\n",
       "      <th>knn_lowerci</th>\n",
       "      <th>ridge</th>\n",
       "      <th>ridge_upperci</th>\n",
       "      <th>ridge_lowerci</th>\n",
       "      <th>mlr</th>\n",
       "      <th>mlr_upperci</th>\n",
       "      <th>mlr_lowerci</th>\n",
       "      <th>gbt</th>\n",
       "      <th>gbt_upperci</th>\n",
       "      <th>gbt_lowerci</th>\n",
       "    </tr>\n",
       "  </thead>\n",
       "  <tbody>\n",
       "    <tr>\n",
       "      <th>0</th>\n",
       "      <td>2020-06-21</td>\n",
       "      <td>2028.825562</td>\n",
       "      <td>3087.674011</td>\n",
       "      <td>969.977112</td>\n",
       "      <td>2198.858468</td>\n",
       "      <td>3232.664729</td>\n",
       "      <td>1165.052207</td>\n",
       "      <td>2199.951838</td>\n",
       "      <td>3467.503088</td>\n",
       "      <td>932.400587</td>\n",
       "      <td>...</td>\n",
       "      <td>798.566667</td>\n",
       "      <td>2191.032219</td>\n",
       "      <td>3458.193296</td>\n",
       "      <td>923.871142</td>\n",
       "      <td>2190.555279</td>\n",
       "      <td>3464.907755</td>\n",
       "      <td>916.202804</td>\n",
       "      <td>2125.968510</td>\n",
       "      <td>4003.099079</td>\n",
       "      <td>248.837942</td>\n",
       "    </tr>\n",
       "    <tr>\n",
       "      <th>1</th>\n",
       "      <td>2020-06-22</td>\n",
       "      <td>2720.898438</td>\n",
       "      <td>3779.746887</td>\n",
       "      <td>1662.049988</td>\n",
       "      <td>2820.575637</td>\n",
       "      <td>3854.381898</td>\n",
       "      <td>1786.769376</td>\n",
       "      <td>2837.629387</td>\n",
       "      <td>4105.180638</td>\n",
       "      <td>1570.078137</td>\n",
       "      <td>...</td>\n",
       "      <td>1680.233333</td>\n",
       "      <td>2833.176793</td>\n",
       "      <td>4100.337870</td>\n",
       "      <td>1566.015716</td>\n",
       "      <td>2835.674158</td>\n",
       "      <td>4110.026633</td>\n",
       "      <td>1561.321683</td>\n",
       "      <td>2729.050006</td>\n",
       "      <td>4606.180575</td>\n",
       "      <td>851.919438</td>\n",
       "    </tr>\n",
       "    <tr>\n",
       "      <th>2</th>\n",
       "      <td>2020-06-23</td>\n",
       "      <td>2845.472412</td>\n",
       "      <td>3904.320862</td>\n",
       "      <td>1786.623962</td>\n",
       "      <td>2819.654176</td>\n",
       "      <td>3853.460437</td>\n",
       "      <td>1785.847915</td>\n",
       "      <td>2963.220499</td>\n",
       "      <td>4230.771750</td>\n",
       "      <td>1695.669249</td>\n",
       "      <td>...</td>\n",
       "      <td>1756.185714</td>\n",
       "      <td>2973.276499</td>\n",
       "      <td>4240.437576</td>\n",
       "      <td>1706.115422</td>\n",
       "      <td>2975.510723</td>\n",
       "      <td>4249.863198</td>\n",
       "      <td>1701.158248</td>\n",
       "      <td>2900.134825</td>\n",
       "      <td>4777.265394</td>\n",
       "      <td>1023.004256</td>\n",
       "    </tr>\n",
       "    <tr>\n",
       "      <th>3</th>\n",
       "      <td>2020-06-24</td>\n",
       "      <td>2904.729492</td>\n",
       "      <td>3963.577942</td>\n",
       "      <td>1845.881042</td>\n",
       "      <td>2824.992206</td>\n",
       "      <td>3858.798467</td>\n",
       "      <td>1791.185945</td>\n",
       "      <td>3026.889266</td>\n",
       "      <td>4294.440516</td>\n",
       "      <td>1759.338015</td>\n",
       "      <td>...</td>\n",
       "      <td>1846.185714</td>\n",
       "      <td>3036.083100</td>\n",
       "      <td>4303.244177</td>\n",
       "      <td>1768.922023</td>\n",
       "      <td>3038.258157</td>\n",
       "      <td>4312.610632</td>\n",
       "      <td>1763.905681</td>\n",
       "      <td>2930.293895</td>\n",
       "      <td>4807.424464</td>\n",
       "      <td>1053.163327</td>\n",
       "    </tr>\n",
       "    <tr>\n",
       "      <th>4</th>\n",
       "      <td>2020-06-25</td>\n",
       "      <td>2986.020996</td>\n",
       "      <td>4044.869446</td>\n",
       "      <td>1927.172546</td>\n",
       "      <td>2961.588543</td>\n",
       "      <td>3995.394805</td>\n",
       "      <td>1927.782282</td>\n",
       "      <td>3024.266925</td>\n",
       "      <td>4291.818176</td>\n",
       "      <td>1756.715675</td>\n",
       "      <td>...</td>\n",
       "      <td>1514.947619</td>\n",
       "      <td>3025.321967</td>\n",
       "      <td>4292.483044</td>\n",
       "      <td>1758.160890</td>\n",
       "      <td>3032.580568</td>\n",
       "      <td>4306.933043</td>\n",
       "      <td>1758.228093</td>\n",
       "      <td>3029.007375</td>\n",
       "      <td>4906.137944</td>\n",
       "      <td>1151.876806</td>\n",
       "    </tr>\n",
       "  </tbody>\n",
       "</table>\n",
       "<p>5 rows × 22 columns</p>\n",
       "</div>"
      ],
      "text/plain": [
       "        DATE      xgboost  xgboost_upperci  xgboost_lowerci     lightgbm  \\\n",
       "0 2020-06-21  2028.825562      3087.674011       969.977112  2198.858468   \n",
       "1 2020-06-22  2720.898438      3779.746887      1662.049988  2820.575637   \n",
       "2 2020-06-23  2845.472412      3904.320862      1786.623962  2819.654176   \n",
       "3 2020-06-24  2904.729492      3963.577942      1845.881042  2824.992206   \n",
       "4 2020-06-25  2986.020996      4044.869446      1927.172546  2961.588543   \n",
       "\n",
       "   lightgbm_upperci  lightgbm_lowerci   elasticnet  elasticnet_upperci  \\\n",
       "0       3232.664729       1165.052207  2199.951838         3467.503088   \n",
       "1       3854.381898       1786.769376  2837.629387         4105.180638   \n",
       "2       3853.460437       1785.847915  2963.220499         4230.771750   \n",
       "3       3858.798467       1791.185945  3026.889266         4294.440516   \n",
       "4       3995.394805       1927.782282  3024.266925         4291.818176   \n",
       "\n",
       "   elasticnet_lowerci  ...  knn_lowerci        ridge  ridge_upperci  \\\n",
       "0          932.400587  ...   798.566667  2191.032219    3458.193296   \n",
       "1         1570.078137  ...  1680.233333  2833.176793    4100.337870   \n",
       "2         1695.669249  ...  1756.185714  2973.276499    4240.437576   \n",
       "3         1759.338015  ...  1846.185714  3036.083100    4303.244177   \n",
       "4         1756.715675  ...  1514.947619  3025.321967    4292.483044   \n",
       "\n",
       "   ridge_lowerci          mlr  mlr_upperci  mlr_lowerci          gbt  \\\n",
       "0     923.871142  2190.555279  3464.907755   916.202804  2125.968510   \n",
       "1    1566.015716  2835.674158  4110.026633  1561.321683  2729.050006   \n",
       "2    1706.115422  2975.510723  4249.863198  1701.158248  2900.134825   \n",
       "3    1768.922023  3038.258157  4312.610632  1763.905681  2930.293895   \n",
       "4    1758.160890  3032.580568  4306.933043  1758.228093  3029.007375   \n",
       "\n",
       "   gbt_upperci  gbt_lowerci  \n",
       "0  4003.099079   248.837942  \n",
       "1  4606.180575   851.919438  \n",
       "2  4777.265394  1023.004256  \n",
       "3  4807.424464  1053.163327  \n",
       "4  4906.137944  1151.876806  \n",
       "\n",
       "[5 rows x 22 columns]"
      ]
     },
     "execution_count": 13,
     "metadata": {},
     "output_type": "execute_result"
    }
   ],
   "source": [
    "# export test-set preds and confidence intervals\n",
    "fcsts1 = f.export(\"lvl_fcsts\",cis=True)\n",
    "fcsts1.head()"
   ]
  },
  {
   "cell_type": "markdown",
   "id": "cbc4ece6-2a9b-4c13-9481-bd8bbd13666e",
   "metadata": {},
   "source": [
    "The values in the below table are [mean scaled interval scores](https://scalecast.readthedocs.io/en/latest/Forecaster/Util.html#src.scalecast.util.metrics.msis) for confidence intervals. Lower scores are better."
   ]
  },
  {
   "cell_type": "code",
   "execution_count": 14,
   "id": "49fea8e2-f2c3-494e-a3a6-3e2abbf5dbfc",
   "metadata": {},
   "outputs": [
    {
     "data": {
      "text/html": [
       "<div>\n",
       "<style scoped>\n",
       "    .dataframe tbody tr th:only-of-type {\n",
       "        vertical-align: middle;\n",
       "    }\n",
       "\n",
       "    .dataframe tbody tr th {\n",
       "        vertical-align: top;\n",
       "    }\n",
       "\n",
       "    .dataframe thead th {\n",
       "        text-align: right;\n",
       "    }\n",
       "</style>\n",
       "<table border=\"1\" class=\"dataframe\">\n",
       "  <thead>\n",
       "    <tr style=\"text-align: right;\">\n",
       "      <th></th>\n",
       "      <th>Daily Visitors</th>\n",
       "    </tr>\n",
       "  </thead>\n",
       "  <tbody>\n",
       "    <tr>\n",
       "      <th>mlr</th>\n",
       "      <td>5.632456</td>\n",
       "    </tr>\n",
       "    <tr>\n",
       "      <th>elasticnet</th>\n",
       "      <td>5.594578</td>\n",
       "    </tr>\n",
       "    <tr>\n",
       "      <th>ridge</th>\n",
       "      <td>5.609157</td>\n",
       "    </tr>\n",
       "    <tr>\n",
       "      <th>knn</th>\n",
       "      <td>5.626693</td>\n",
       "    </tr>\n",
       "    <tr>\n",
       "      <th>xgboost</th>\n",
       "      <td>5.520301</td>\n",
       "    </tr>\n",
       "    <tr>\n",
       "      <th>lightgbm</th>\n",
       "      <td>5.196714</td>\n",
       "    </tr>\n",
       "    <tr>\n",
       "      <th>gbt</th>\n",
       "      <td>8.239300</td>\n",
       "    </tr>\n",
       "  </tbody>\n",
       "</table>\n",
       "</div>"
      ],
      "text/plain": [
       "            Daily Visitors\n",
       "mlr               5.632456\n",
       "elasticnet        5.594578\n",
       "ridge             5.609157\n",
       "knn               5.626693\n",
       "xgboost           5.520301\n",
       "lightgbm          5.196714\n",
       "gbt               8.239300"
      ]
     },
     "execution_count": 14,
     "metadata": {},
     "output_type": "execute_result"
    }
   ],
   "source": [
    "results = score_cis(\n",
    "    results_template.copy(),\n",
    "    fcsts1,\n",
    "    'Daily Visitors',\n",
    "    visits_sep,\n",
    "    visits,\n",
    "    val_len = val_len,\n",
    ")\n",
    "results"
   ]
  },
  {
   "cell_type": "markdown",
   "id": "e9649b1d-6706-428f-8168-61694fe38dc3",
   "metadata": {},
   "source": [
    "## Housing Starts  \n",
    "\n",
    "- Link to data: https://fred.stlouisfed.org/series/HOUSTNSA  \n",
    "- We will use a length of 96 observations (8 years) both to tune and test the models  \n",
    "- We want to optimize the forecasts and confidence intervals for a 24-month forecast horizon  "
   ]
  },
  {
   "cell_type": "code",
   "execution_count": 15,
   "id": "4c875f85-e1d0-46e0-956d-c485b04e49de",
   "metadata": {},
   "outputs": [],
   "source": [
    "import pandas_datareader as pdr"
   ]
  },
  {
   "cell_type": "code",
   "execution_count": 16,
   "id": "d24066d8-4a4a-437f-99bc-bd34ac6a5ce3",
   "metadata": {},
   "outputs": [],
   "source": [
    "val_len = 96\n",
    "fcst_len = 24"
   ]
  },
  {
   "cell_type": "code",
   "execution_count": 17,
   "id": "b2511667-832e-456b-be72-b91b8fb1b943",
   "metadata": {},
   "outputs": [
    {
     "data": {
      "text/html": [
       "<div>\n",
       "<style scoped>\n",
       "    .dataframe tbody tr th:only-of-type {\n",
       "        vertical-align: middle;\n",
       "    }\n",
       "\n",
       "    .dataframe tbody tr th {\n",
       "        vertical-align: top;\n",
       "    }\n",
       "\n",
       "    .dataframe thead th {\n",
       "        text-align: right;\n",
       "    }\n",
       "</style>\n",
       "<table border=\"1\" class=\"dataframe\">\n",
       "  <thead>\n",
       "    <tr style=\"text-align: right;\">\n",
       "      <th></th>\n",
       "      <th>HOUSTNSA</th>\n",
       "    </tr>\n",
       "    <tr>\n",
       "      <th>DATE</th>\n",
       "      <th></th>\n",
       "    </tr>\n",
       "  </thead>\n",
       "  <tbody>\n",
       "    <tr>\n",
       "      <th>1959-01-01</th>\n",
       "      <td>96.2</td>\n",
       "    </tr>\n",
       "    <tr>\n",
       "      <th>1959-02-01</th>\n",
       "      <td>99.0</td>\n",
       "    </tr>\n",
       "    <tr>\n",
       "      <th>1959-03-01</th>\n",
       "      <td>127.7</td>\n",
       "    </tr>\n",
       "    <tr>\n",
       "      <th>1959-04-01</th>\n",
       "      <td>150.8</td>\n",
       "    </tr>\n",
       "    <tr>\n",
       "      <th>1959-05-01</th>\n",
       "      <td>152.5</td>\n",
       "    </tr>\n",
       "  </tbody>\n",
       "</table>\n",
       "</div>"
      ],
      "text/plain": [
       "            HOUSTNSA\n",
       "DATE                \n",
       "1959-01-01      96.2\n",
       "1959-02-01      99.0\n",
       "1959-03-01     127.7\n",
       "1959-04-01     150.8\n",
       "1959-05-01     152.5"
      ]
     },
     "execution_count": 17,
     "metadata": {},
     "output_type": "execute_result"
    }
   ],
   "source": [
    "housing = pdr.get_data_fred('HOUSTNSA',start='1900-01-01',end='2021-06-01')\n",
    "housing.head()"
   ]
  },
  {
   "cell_type": "code",
   "execution_count": 18,
   "id": "648bb5c6-ae0a-4f43-820a-2e4f66f17a8d",
   "metadata": {},
   "outputs": [],
   "source": [
    "starts_sep = housing.iloc[-fcst_len:,0]\n",
    "starts = housing.iloc[:-fcst_len,0]"
   ]
  },
  {
   "cell_type": "code",
   "execution_count": 19,
   "id": "de69ba6d-dca0-4a3b-81c7-ebc346c3cae5",
   "metadata": {},
   "outputs": [
    {
     "data": {
      "text/plain": [
       "Forecaster(\n",
       "    DateStartActuals=1959-02-01T00:00:00.000000000\n",
       "    DateEndActuals=2019-06-01T00:00:00.000000000\n",
       "    Freq=MS\n",
       "    N_actuals=725\n",
       "    ForecastLength=24\n",
       "    Xvars=['monthsin', 'monthcos', 'quartersin', 'quartercos', 'AR1', 'AR2', 'AR3', 'AR4', 'AR5', 'AR6', 'AR7', 'AR8', 'AR9', 'AR10', 'AR11', 'AR12', 'AR13', 'AR14', 'AR15', 'AR16', 'AR17', 'AR18', 'AR19', 'AR20', 'AR21', 'AR22', 'AR23', 'AR24', 'AR25', 'AR26', 'AR27', 'AR28', 'AR29', 'AR30', 'AR31', 'AR32', 'AR33', 'AR34', 'AR35', 'AR36', 'AR37', 'AR38', 'AR39', 'AR40', 'AR41', 'AR42', 'AR43', 'AR44', 'AR45', 'AR46', 'AR47', 'AR48', 'AR49', 'AR50', 'AR51', 'AR52', 'AR53', 'AR54', 'AR55', 'AR56', 'AR57', 'AR58', 'AR59', 'AR60', 'AR61', 'AR62', 'AR63', 'AR64', 'AR65', 'AR66', 'AR67', 'AR68', 'AR69', 'AR70', 'AR71', 'AR72', 'AR73', 'AR74', 'AR75', 'AR76', 'AR77', 'AR78', 'AR79', 'AR80', 'AR81', 'AR82', 'AR83', 'AR84', 'AR85', 'AR86', 'AR87', 'AR88', 'AR89', 'AR90', 'AR91', 'AR92', 'AR93', 'AR94', 'AR95', 'AR96', 'AR97', 'AR98', 'AR99', 'AR100']\n",
       "    Differenced=0\n",
       "    TestLength=96\n",
       "    ValidationLength=96\n",
       "    ValidationMetric=rmse\n",
       "    ForecastsEvaluated=[]\n",
       "    CILevel=0.95\n",
       "    BootstrapSamples=100\n",
       "    CurrentEstimator=None\n",
       "    GridsFile=Grids\n",
       ")"
      ]
     },
     "execution_count": 19,
     "metadata": {},
     "output_type": "execute_result"
    }
   ],
   "source": [
    "f = Forecaster(\n",
    "    y=starts,\n",
    "    current_dates=starts.index,\n",
    "    future_dates=fcst_len,\n",
    "    test_length=val_len,\n",
    "    validation_length=val_len,\n",
    "    cis=True,\n",
    ")\n",
    "# difference the data for stationary modeling\n",
    "transformer = SeriesTransformer(f)\n",
    "f = transformer.DiffTransform(1)\n",
    "# find best xvars to forecast with\n",
    "f.auto_Xvar_select(\n",
    "    estimator='elasticnet',\n",
    "    alpha=.2,\n",
    "    max_ar=100,\n",
    "    monitor='ValidationMetricValue', # not test set\n",
    ")\n",
    "f"
   ]
  },
  {
   "cell_type": "code",
   "execution_count": 20,
   "id": "c2e3cf8d-8d07-4a12-ad2d-1709bf63b677",
   "metadata": {},
   "outputs": [
    {
     "data": {
      "application/vnd.jupyter.widget-view+json": {
       "model_id": "3fd9778a37c04b5b869509060d5054d2",
       "version_major": 2,
       "version_minor": 0
      },
      "text/plain": [
       "  0%|          | 0/7 [00:00<?, ?it/s]"
      ]
     },
     "metadata": {},
     "output_type": "display_data"
    }
   ],
   "source": [
    "tune_test_forecast(\n",
    "    f,\n",
    "    models,\n",
    "    dynamic_testing = fcst_len,\n",
    ")"
   ]
  },
  {
   "cell_type": "code",
   "execution_count": 21,
   "id": "b0005df5-caf5-4676-933c-336033ca8ffe",
   "metadata": {},
   "outputs": [],
   "source": [
    "# rever the difftransform\n",
    "f = transformer.DiffRevert(1)"
   ]
  },
  {
   "cell_type": "code",
   "execution_count": 22,
   "id": "20bc0061-36e1-480c-ab1e-a8fa73161526",
   "metadata": {},
   "outputs": [
    {
     "data": {
      "text/html": [
       "<div>\n",
       "<style scoped>\n",
       "    .dataframe tbody tr th:only-of-type {\n",
       "        vertical-align: middle;\n",
       "    }\n",
       "\n",
       "    .dataframe tbody tr th {\n",
       "        vertical-align: top;\n",
       "    }\n",
       "\n",
       "    .dataframe thead th {\n",
       "        text-align: right;\n",
       "    }\n",
       "</style>\n",
       "<table border=\"1\" class=\"dataframe\">\n",
       "  <thead>\n",
       "    <tr style=\"text-align: right;\">\n",
       "      <th></th>\n",
       "      <th>ModelNickname</th>\n",
       "      <th>ValidationMetric</th>\n",
       "      <th>ValidationMetricValue</th>\n",
       "      <th>InSampleRMSE</th>\n",
       "    </tr>\n",
       "  </thead>\n",
       "  <tbody>\n",
       "    <tr>\n",
       "      <th>0</th>\n",
       "      <td>elasticnet</td>\n",
       "      <td>rmse</td>\n",
       "      <td>10.266025</td>\n",
       "      <td>38.237499</td>\n",
       "    </tr>\n",
       "    <tr>\n",
       "      <th>1</th>\n",
       "      <td>knn</td>\n",
       "      <td>rmse</td>\n",
       "      <td>10.519641</td>\n",
       "      <td>146.502991</td>\n",
       "    </tr>\n",
       "    <tr>\n",
       "      <th>2</th>\n",
       "      <td>lightgbm</td>\n",
       "      <td>rmse</td>\n",
       "      <td>10.601204</td>\n",
       "      <td>27.660879</td>\n",
       "    </tr>\n",
       "    <tr>\n",
       "      <th>3</th>\n",
       "      <td>gbt</td>\n",
       "      <td>rmse</td>\n",
       "      <td>10.793168</td>\n",
       "      <td>28.847093</td>\n",
       "    </tr>\n",
       "    <tr>\n",
       "      <th>4</th>\n",
       "      <td>ridge</td>\n",
       "      <td>rmse</td>\n",
       "      <td>10.896426</td>\n",
       "      <td>55.969584</td>\n",
       "    </tr>\n",
       "    <tr>\n",
       "      <th>5</th>\n",
       "      <td>xgboost</td>\n",
       "      <td>rmse</td>\n",
       "      <td>11.424628</td>\n",
       "      <td>3.112793</td>\n",
       "    </tr>\n",
       "    <tr>\n",
       "      <th>6</th>\n",
       "      <td>mlr</td>\n",
       "      <td>rmse</td>\n",
       "      <td>11.607769</td>\n",
       "      <td>71.624715</td>\n",
       "    </tr>\n",
       "  </tbody>\n",
       "</table>\n",
       "</div>"
      ],
      "text/plain": [
       "  ModelNickname ValidationMetric  ValidationMetricValue  InSampleRMSE\n",
       "0    elasticnet             rmse              10.266025     38.237499\n",
       "1           knn             rmse              10.519641    146.502991\n",
       "2      lightgbm             rmse              10.601204     27.660879\n",
       "3           gbt             rmse              10.793168     28.847093\n",
       "4         ridge             rmse              10.896426     55.969584\n",
       "5       xgboost             rmse              11.424628      3.112793\n",
       "6           mlr             rmse              11.607769     71.624715"
      ]
     },
     "execution_count": 22,
     "metadata": {},
     "output_type": "execute_result"
    }
   ],
   "source": [
    "ms = f.export('model_summaries',determine_best_by='ValidationMetricValue')\n",
    "best_model = ms['ModelNickname'].values[0]\n",
    "ms[['ModelNickname','ValidationMetric','ValidationMetricValue','InSampleRMSE']]"
   ]
  },
  {
   "cell_type": "markdown",
   "id": "d7aa7c09-a5bc-4ce8-a3fa-69eb7d3f68f8",
   "metadata": {},
   "source": [
    "### Evaluate Interval"
   ]
  },
  {
   "cell_type": "code",
   "execution_count": 23,
   "id": "abb2dcbd-c117-4d26-b19d-d00006a599de",
   "metadata": {},
   "outputs": [
    {
     "data": {
      "image/png": "[encoded data removed]",
      "text/plain": [
       "<Figure size 1200x600 with 1 Axes>"
      ]
     },
     "metadata": {},
     "output_type": "display_data"
    }
   ],
   "source": [
    "fig, ax = plt.subplots(figsize=(12,6))\n",
    "f.plot(ci=True,models=best_model,ax=ax,level=True)\n",
    "sns.lineplot(\n",
    "    y = 'HOUSTNSA',\n",
    "    x = 'DATE',\n",
    "    data = starts_sep.reset_index(),\n",
    "    ax = ax,\n",
    "    label = 'held-out actuals',\n",
    "    color = 'green',\n",
    "    alpha = 0.7,\n",
    ")\n",
    "plt.show()"
   ]
  },
  {
   "cell_type": "code",
   "execution_count": 24,
   "id": "f5547709-df90-4d7c-af03-aff4240a45e4",
   "metadata": {},
   "outputs": [
    {
     "data": {
      "text/html": [
       "<div>\n",
       "<style scoped>\n",
       "    .dataframe tbody tr th:only-of-type {\n",
       "        vertical-align: middle;\n",
       "    }\n",
       "\n",
       "    .dataframe tbody tr th {\n",
       "        vertical-align: top;\n",
       "    }\n",
       "\n",
       "    .dataframe thead th {\n",
       "        text-align: right;\n",
       "    }\n",
       "</style>\n",
       "<table border=\"1\" class=\"dataframe\">\n",
       "  <thead>\n",
       "    <tr style=\"text-align: right;\">\n",
       "      <th></th>\n",
       "      <th>Housing Starts</th>\n",
       "    </tr>\n",
       "  </thead>\n",
       "  <tbody>\n",
       "    <tr>\n",
       "      <th>mlr</th>\n",
       "      <td>5.657050</td>\n",
       "    </tr>\n",
       "    <tr>\n",
       "      <th>elasticnet</th>\n",
       "      <td>8.238805</td>\n",
       "    </tr>\n",
       "    <tr>\n",
       "      <th>ridge</th>\n",
       "      <td>7.299241</td>\n",
       "    </tr>\n",
       "    <tr>\n",
       "      <th>knn</th>\n",
       "      <td>6.788912</td>\n",
       "    </tr>\n",
       "    <tr>\n",
       "      <th>xgboost</th>\n",
       "      <td>3.924839</td>\n",
       "    </tr>\n",
       "    <tr>\n",
       "      <th>lightgbm</th>\n",
       "      <td>4.289493</td>\n",
       "    </tr>\n",
       "    <tr>\n",
       "      <th>gbt</th>\n",
       "      <td>9.388856</td>\n",
       "    </tr>\n",
       "  </tbody>\n",
       "</table>\n",
       "</div>"
      ],
      "text/plain": [
       "            Housing Starts\n",
       "mlr               5.657050\n",
       "elasticnet        8.238805\n",
       "ridge             7.299241\n",
       "knn               6.788912\n",
       "xgboost           3.924839\n",
       "lightgbm          4.289493\n",
       "gbt               9.388856"
      ]
     },
     "execution_count": 24,
     "metadata": {},
     "output_type": "execute_result"
    }
   ],
   "source": [
    "housing_fcsts1 = f.export(\"lvl_fcsts\",cis=True)\n",
    "housing_results = score_cis(\n",
    "    results_template.copy(),\n",
    "    housing_fcsts1,\n",
    "    'Housing Starts',\n",
    "    starts_sep,\n",
    "    starts,\n",
    "    val_len = val_len,\n",
    "    m_ = 12, # monthly seasonality\n",
    ")\n",
    "housing_results"
   ]
  },
  {
   "cell_type": "code",
   "execution_count": 25,
   "id": "0ed70de6-8acb-424c-b6a9-f57d79452a14",
   "metadata": {},
   "outputs": [
    {
     "data": {
      "text/html": [
       "<div>\n",
       "<style scoped>\n",
       "    .dataframe tbody tr th:only-of-type {\n",
       "        vertical-align: middle;\n",
       "    }\n",
       "\n",
       "    .dataframe tbody tr th {\n",
       "        vertical-align: top;\n",
       "    }\n",
       "\n",
       "    .dataframe thead th {\n",
       "        text-align: right;\n",
       "    }\n",
       "</style>\n",
       "<table border=\"1\" class=\"dataframe\">\n",
       "  <thead>\n",
       "    <tr style=\"text-align: right;\">\n",
       "      <th></th>\n",
       "      <th>Daily Visitors</th>\n",
       "      <th>Housing Starts</th>\n",
       "    </tr>\n",
       "  </thead>\n",
       "  <tbody>\n",
       "    <tr>\n",
       "      <th>mlr</th>\n",
       "      <td>5.632456</td>\n",
       "      <td>5.657050</td>\n",
       "    </tr>\n",
       "    <tr>\n",
       "      <th>elasticnet</th>\n",
       "      <td>5.594578</td>\n",
       "      <td>8.238805</td>\n",
       "    </tr>\n",
       "    <tr>\n",
       "      <th>ridge</th>\n",
       "      <td>5.609157</td>\n",
       "      <td>7.299241</td>\n",
       "    </tr>\n",
       "    <tr>\n",
       "      <th>knn</th>\n",
       "      <td>5.626693</td>\n",
       "      <td>6.788912</td>\n",
       "    </tr>\n",
       "    <tr>\n",
       "      <th>xgboost</th>\n",
       "      <td>5.520301</td>\n",
       "      <td>3.924839</td>\n",
       "    </tr>\n",
       "    <tr>\n",
       "      <th>lightgbm</th>\n",
       "      <td>5.196714</td>\n",
       "      <td>4.289493</td>\n",
       "    </tr>\n",
       "    <tr>\n",
       "      <th>gbt</th>\n",
       "      <td>8.239300</td>\n",
       "      <td>9.388856</td>\n",
       "    </tr>\n",
       "  </tbody>\n",
       "</table>\n",
       "</div>"
      ],
      "text/plain": [
       "            Daily Visitors  Housing Starts\n",
       "mlr               5.632456        5.657050\n",
       "elasticnet        5.594578        8.238805\n",
       "ridge             5.609157        7.299241\n",
       "knn               5.626693        6.788912\n",
       "xgboost           5.520301        3.924839\n",
       "lightgbm          5.196714        4.289493\n",
       "gbt               8.239300        9.388856"
      ]
     },
     "execution_count": 25,
     "metadata": {},
     "output_type": "execute_result"
    }
   ],
   "source": [
    "results['Housing Starts'] = housing_results['Housing Starts']\n",
    "results"
   ]
  },
  {
   "cell_type": "markdown",
   "id": "a8229afa-1e36-42ee-bea5-e577a96d925d",
   "metadata": {},
   "source": [
    "## Avocado Sales  \n",
    "\n",
    "- Link to data: https://www.kaggle.com/datasets/neuromusic/avocado-prices  \n",
    "- We will use a length of 20 observations both to tune and test the models (95% CIs require at least 20 observations in the test set)  \n",
    "- We want to optimize the forecasts and confidence intervals for a 20-week forecast horizon  "
   ]
  },
  {
   "cell_type": "code",
   "execution_count": 26,
   "id": "f12e2b90-41fc-48df-8e49-364f003bfa32",
   "metadata": {},
   "outputs": [],
   "source": [
    "# change display settings\n",
    "pd.options.display.float_format = '{:,.2f}'.format"
   ]
  },
  {
   "cell_type": "code",
   "execution_count": 27,
   "id": "7b4468f5-f426-49cb-86bc-6980cedfd819",
   "metadata": {},
   "outputs": [],
   "source": [
    "val_len = 20\n",
    "fcst_len = 20"
   ]
  },
  {
   "cell_type": "code",
   "execution_count": 28,
   "id": "6db70ab6-d88f-4548-8b18-13e024e55968",
   "metadata": {},
   "outputs": [],
   "source": [
    "avocados = pd.read_csv('avocado.csv',parse_dates = ['Date'])\n",
    "volume = avocados.groupby('Date')['Total Volume'].sum()"
   ]
  },
  {
   "cell_type": "code",
   "execution_count": 29,
   "id": "fa29f426-b73d-4ccf-bc9e-b6b122423732",
   "metadata": {},
   "outputs": [
    {
     "data": {
      "text/html": [
       "<div>\n",
       "<style scoped>\n",
       "    .dataframe tbody tr th:only-of-type {\n",
       "        vertical-align: middle;\n",
       "    }\n",
       "\n",
       "    .dataframe tbody tr th {\n",
       "        vertical-align: top;\n",
       "    }\n",
       "\n",
       "    .dataframe thead th {\n",
       "        text-align: right;\n",
       "    }\n",
       "</style>\n",
       "<table border=\"1\" class=\"dataframe\">\n",
       "  <thead>\n",
       "    <tr style=\"text-align: right;\">\n",
       "      <th></th>\n",
       "      <th>Date</th>\n",
       "      <th>Total Volume</th>\n",
       "    </tr>\n",
       "  </thead>\n",
       "  <tbody>\n",
       "    <tr>\n",
       "      <th>0</th>\n",
       "      <td>2015-01-04</td>\n",
       "      <td>84,674,337.20</td>\n",
       "    </tr>\n",
       "    <tr>\n",
       "      <th>1</th>\n",
       "      <td>2015-01-11</td>\n",
       "      <td>78,555,807.24</td>\n",
       "    </tr>\n",
       "    <tr>\n",
       "      <th>2</th>\n",
       "      <td>2015-01-18</td>\n",
       "      <td>78,388,784.08</td>\n",
       "    </tr>\n",
       "    <tr>\n",
       "      <th>3</th>\n",
       "      <td>2015-01-25</td>\n",
       "      <td>76,466,281.07</td>\n",
       "    </tr>\n",
       "    <tr>\n",
       "      <th>4</th>\n",
       "      <td>2015-02-01</td>\n",
       "      <td>119,453,235.25</td>\n",
       "    </tr>\n",
       "  </tbody>\n",
       "</table>\n",
       "</div>"
      ],
      "text/plain": [
       "        Date   Total Volume\n",
       "0 2015-01-04  84,674,337.20\n",
       "1 2015-01-11  78,555,807.24\n",
       "2 2015-01-18  78,388,784.08\n",
       "3 2015-01-25  76,466,281.07\n",
       "4 2015-02-01 119,453,235.25"
      ]
     },
     "execution_count": 29,
     "metadata": {},
     "output_type": "execute_result"
    }
   ],
   "source": [
    "volume.reset_index().head()"
   ]
  },
  {
   "cell_type": "code",
   "execution_count": 30,
   "id": "e5a82b42-9976-42c2-8267-132d64606047",
   "metadata": {},
   "outputs": [],
   "source": [
    "volume_sep = volume.iloc[-fcst_len:]\n",
    "volume = volume.iloc[:-fcst_len]"
   ]
  },
  {
   "cell_type": "code",
   "execution_count": 31,
   "id": "53ffabff-c451-401e-a3d7-0c8255a60607",
   "metadata": {},
   "outputs": [
    {
     "data": {
      "text/plain": [
       "Forecaster(\n",
       "    DateStartActuals=2016-01-10T00:00:00.000000000\n",
       "    DateEndActuals=2017-11-05T00:00:00.000000000\n",
       "    Freq=W-SUN\n",
       "    N_actuals=96\n",
       "    ForecastLength=20\n",
       "    Xvars=['AR1', 'AR2', 'AR3', 'AR4', 'AR5', 'AR6', 'AR7', 'AR8', 'AR9']\n",
       "    Differenced=0\n",
       "    TestLength=20\n",
       "    ValidationLength=20\n",
       "    ValidationMetric=rmse\n",
       "    ForecastsEvaluated=[]\n",
       "    CILevel=0.95\n",
       "    BootstrapSamples=100\n",
       "    CurrentEstimator=None\n",
       "    GridsFile=Grids\n",
       ")"
      ]
     },
     "execution_count": 31,
     "metadata": {},
     "output_type": "execute_result"
    }
   ],
   "source": [
    "f = Forecaster(\n",
    "    y = volume,\n",
    "    current_dates = volume.index,\n",
    "    future_dates = fcst_len,\n",
    "    test_length = val_len,\n",
    "    validation_length = val_len,\n",
    "    cis = True,\n",
    ")\n",
    "\n",
    "# difference the data for stationary modeling\n",
    "transformer = SeriesTransformer(f)\n",
    "f = transformer.DiffTransform(1)\n",
    "f = transformer.DiffTransform(52) # seasonal differencing\n",
    "# find best xvars\n",
    "f.auto_Xvar_select(\n",
    "    estimator='elasticnet',\n",
    "    alpha=.2,\n",
    "    max_ar=26,\n",
    "    monitor='ValidationMetricValue', # not test set\n",
    "    decomp_trend=False,\n",
    ")\n",
    "f"
   ]
  },
  {
   "cell_type": "code",
   "execution_count": 32,
   "id": "603f8d7e-464b-4422-aa49-3db2807c5da0",
   "metadata": {},
   "outputs": [
    {
     "data": {
      "application/vnd.jupyter.widget-view+json": {
       "model_id": "f167e5dee1f3457ba925ac36d4f74681",
       "version_major": 2,
       "version_minor": 0
      },
      "text/plain": [
       "  0%|          | 0/7 [00:00<?, ?it/s]"
      ]
     },
     "metadata": {},
     "output_type": "display_data"
    }
   ],
   "source": [
    "tune_test_forecast(\n",
    "    f,\n",
    "    models,\n",
    "    dynamic_testing = fcst_len,\n",
    ")"
   ]
  },
  {
   "cell_type": "code",
   "execution_count": 33,
   "id": "47a2cda6-dab7-49b8-9f5f-fc8a4e253893",
   "metadata": {},
   "outputs": [],
   "source": [
    "# revert differencing\n",
    "f = transformer.DiffRevert(52)\n",
    "f = transformer.DiffRevert(1)"
   ]
  },
  {
   "cell_type": "code",
   "execution_count": 34,
   "id": "420fcf79-f041-494d-b41a-abb192b6931c",
   "metadata": {},
   "outputs": [
    {
     "data": {
      "text/html": [
       "<div>\n",
       "<style scoped>\n",
       "    .dataframe tbody tr th:only-of-type {\n",
       "        vertical-align: middle;\n",
       "    }\n",
       "\n",
       "    .dataframe tbody tr th {\n",
       "        vertical-align: top;\n",
       "    }\n",
       "\n",
       "    .dataframe thead th {\n",
       "        text-align: right;\n",
       "    }\n",
       "</style>\n",
       "<table border=\"1\" class=\"dataframe\">\n",
       "  <thead>\n",
       "    <tr style=\"text-align: right;\">\n",
       "      <th></th>\n",
       "      <th>ModelNickname</th>\n",
       "      <th>ValidationMetric</th>\n",
       "      <th>ValidationMetricValue</th>\n",
       "      <th>InSampleRMSE</th>\n",
       "    </tr>\n",
       "  </thead>\n",
       "  <tbody>\n",
       "    <tr>\n",
       "      <th>0</th>\n",
       "      <td>knn</td>\n",
       "      <td>rmse</td>\n",
       "      <td>7,188,967.96</td>\n",
       "      <td>10,600,062.66</td>\n",
       "    </tr>\n",
       "    <tr>\n",
       "      <th>1</th>\n",
       "      <td>elasticnet</td>\n",
       "      <td>rmse</td>\n",
       "      <td>7,296,370.41</td>\n",
       "      <td>31,156,869.09</td>\n",
       "    </tr>\n",
       "    <tr>\n",
       "      <th>2</th>\n",
       "      <td>ridge</td>\n",
       "      <td>rmse</td>\n",
       "      <td>7,297,555.81</td>\n",
       "      <td>32,071,673.18</td>\n",
       "    </tr>\n",
       "    <tr>\n",
       "      <th>3</th>\n",
       "      <td>mlr</td>\n",
       "      <td>rmse</td>\n",
       "      <td>7,359,422.23</td>\n",
       "      <td>30,951,562.93</td>\n",
       "    </tr>\n",
       "    <tr>\n",
       "      <th>4</th>\n",
       "      <td>lightgbm</td>\n",
       "      <td>rmse</td>\n",
       "      <td>7,529,392.63</td>\n",
       "      <td>21,365,608.04</td>\n",
       "    </tr>\n",
       "    <tr>\n",
       "      <th>5</th>\n",
       "      <td>gbt</td>\n",
       "      <td>rmse</td>\n",
       "      <td>8,105,582.87</td>\n",
       "      <td>16,850,932.26</td>\n",
       "    </tr>\n",
       "    <tr>\n",
       "      <th>6</th>\n",
       "      <td>xgboost</td>\n",
       "      <td>rmse</td>\n",
       "      <td>8,287,774.04</td>\n",
       "      <td>15.24</td>\n",
       "    </tr>\n",
       "  </tbody>\n",
       "</table>\n",
       "</div>"
      ],
      "text/plain": [
       "  ModelNickname ValidationMetric  ValidationMetricValue  InSampleRMSE\n",
       "0           knn             rmse           7,188,967.96 10,600,062.66\n",
       "1    elasticnet             rmse           7,296,370.41 31,156,869.09\n",
       "2         ridge             rmse           7,297,555.81 32,071,673.18\n",
       "3           mlr             rmse           7,359,422.23 30,951,562.93\n",
       "4      lightgbm             rmse           7,529,392.63 21,365,608.04\n",
       "5           gbt             rmse           8,105,582.87 16,850,932.26\n",
       "6       xgboost             rmse           8,287,774.04         15.24"
      ]
     },
     "execution_count": 34,
     "metadata": {},
     "output_type": "execute_result"
    }
   ],
   "source": [
    "ms = f.export('model_summaries',determine_best_by='ValidationMetricValue')\n",
    "best_model = ms['ModelNickname'].values[0]\n",
    "ms[['ModelNickname','ValidationMetric','ValidationMetricValue','InSampleRMSE']]"
   ]
  },
  {
   "cell_type": "markdown",
   "id": "42372335-3ddc-433c-af08-ccb583494834",
   "metadata": {},
   "source": [
    "### Evaluate Interval"
   ]
  },
  {
   "cell_type": "code",
   "execution_count": 35,
   "id": "4f144e8a-4d08-45c5-add9-4e9279cc5837",
   "metadata": {},
   "outputs": [
    {
     "data": {
      "image/png": "[encoded data removed]",
      "text/plain": [
       "<Figure size 1200x600 with 1 Axes>"
      ]
     },
     "metadata": {},
     "output_type": "display_data"
    }
   ],
   "source": [
    "fig, ax = plt.subplots(figsize=(12,6))\n",
    "f.plot(ci=True,models=best_model,ax=ax,level=True)\n",
    "sns.lineplot(\n",
    "    y = 'Total Volume',\n",
    "    x = 'Date',\n",
    "    data = volume_sep.reset_index(),\n",
    "    ax = ax,\n",
    "    label = 'held-out actuals',\n",
    "    color = 'green',\n",
    "    alpha = 0.7,\n",
    ")\n",
    "plt.show()"
   ]
  },
  {
   "cell_type": "code",
   "execution_count": 36,
   "id": "5ea861c6-86c7-47ca-a8ec-3bd912faba10",
   "metadata": {},
   "outputs": [
    {
     "data": {
      "text/html": [
       "<div>\n",
       "<style scoped>\n",
       "    .dataframe tbody tr th:only-of-type {\n",
       "        vertical-align: middle;\n",
       "    }\n",
       "\n",
       "    .dataframe tbody tr th {\n",
       "        vertical-align: top;\n",
       "    }\n",
       "\n",
       "    .dataframe thead th {\n",
       "        text-align: right;\n",
       "    }\n",
       "</style>\n",
       "<table border=\"1\" class=\"dataframe\">\n",
       "  <thead>\n",
       "    <tr style=\"text-align: right;\">\n",
       "      <th></th>\n",
       "      <th>Avocados</th>\n",
       "    </tr>\n",
       "  </thead>\n",
       "  <tbody>\n",
       "    <tr>\n",
       "      <th>mlr</th>\n",
       "      <td>8.36</td>\n",
       "    </tr>\n",
       "    <tr>\n",
       "      <th>elasticnet</th>\n",
       "      <td>7.59</td>\n",
       "    </tr>\n",
       "    <tr>\n",
       "      <th>ridge</th>\n",
       "      <td>7.63</td>\n",
       "    </tr>\n",
       "    <tr>\n",
       "      <th>knn</th>\n",
       "      <td>8.21</td>\n",
       "    </tr>\n",
       "    <tr>\n",
       "      <th>xgboost</th>\n",
       "      <td>13.07</td>\n",
       "    </tr>\n",
       "    <tr>\n",
       "      <th>lightgbm</th>\n",
       "      <td>19.81</td>\n",
       "    </tr>\n",
       "    <tr>\n",
       "      <th>gbt</th>\n",
       "      <td>12.88</td>\n",
       "    </tr>\n",
       "  </tbody>\n",
       "</table>\n",
       "</div>"
      ],
      "text/plain": [
       "            Avocados\n",
       "mlr             8.36\n",
       "elasticnet      7.59\n",
       "ridge           7.63\n",
       "knn             8.21\n",
       "xgboost        13.07\n",
       "lightgbm       19.81\n",
       "gbt            12.88"
      ]
     },
     "execution_count": 36,
     "metadata": {},
     "output_type": "execute_result"
    }
   ],
   "source": [
    "avc_fcsts1 = f.export(\"lvl_fcsts\",cis=True)\n",
    "avc_results = score_cis(\n",
    "    results_template.copy(),\n",
    "    avc_fcsts1,\n",
    "    'Avocados',\n",
    "    volume_sep,\n",
    "    volume,\n",
    "    val_len = val_len,\n",
    "    models = models,\n",
    ")\n",
    "avc_results"
   ]
  },
  {
   "cell_type": "code",
   "execution_count": 37,
   "id": "1b6a8d3c-88d8-4e49-9650-b26c1d8b2607",
   "metadata": {},
   "outputs": [
    {
     "data": {
      "text/html": [
       "<div>\n",
       "<style scoped>\n",
       "    .dataframe tbody tr th:only-of-type {\n",
       "        vertical-align: middle;\n",
       "    }\n",
       "\n",
       "    .dataframe tbody tr th {\n",
       "        vertical-align: top;\n",
       "    }\n",
       "\n",
       "    .dataframe thead th {\n",
       "        text-align: right;\n",
       "    }\n",
       "</style>\n",
       "<table border=\"1\" class=\"dataframe\">\n",
       "  <thead>\n",
       "    <tr style=\"text-align: right;\">\n",
       "      <th></th>\n",
       "      <th>Daily Visitors</th>\n",
       "      <th>Housing Starts</th>\n",
       "      <th>Avocados</th>\n",
       "    </tr>\n",
       "  </thead>\n",
       "  <tbody>\n",
       "    <tr>\n",
       "      <th>mlr</th>\n",
       "      <td>5.63</td>\n",
       "      <td>5.66</td>\n",
       "      <td>8.36</td>\n",
       "    </tr>\n",
       "    <tr>\n",
       "      <th>elasticnet</th>\n",
       "      <td>5.59</td>\n",
       "      <td>8.24</td>\n",
       "      <td>7.59</td>\n",
       "    </tr>\n",
       "    <tr>\n",
       "      <th>ridge</th>\n",
       "      <td>5.61</td>\n",
       "      <td>7.30</td>\n",
       "      <td>7.63</td>\n",
       "    </tr>\n",
       "    <tr>\n",
       "      <th>knn</th>\n",
       "      <td>5.63</td>\n",
       "      <td>6.79</td>\n",
       "      <td>8.21</td>\n",
       "    </tr>\n",
       "    <tr>\n",
       "      <th>xgboost</th>\n",
       "      <td>5.52</td>\n",
       "      <td>3.92</td>\n",
       "      <td>13.07</td>\n",
       "    </tr>\n",
       "    <tr>\n",
       "      <th>lightgbm</th>\n",
       "      <td>5.20</td>\n",
       "      <td>4.29</td>\n",
       "      <td>19.81</td>\n",
       "    </tr>\n",
       "    <tr>\n",
       "      <th>gbt</th>\n",
       "      <td>8.24</td>\n",
       "      <td>9.39</td>\n",
       "      <td>12.88</td>\n",
       "    </tr>\n",
       "  </tbody>\n",
       "</table>\n",
       "</div>"
      ],
      "text/plain": [
       "            Daily Visitors  Housing Starts  Avocados\n",
       "mlr                   5.63            5.66      8.36\n",
       "elasticnet            5.59            8.24      7.59\n",
       "ridge                 5.61            7.30      7.63\n",
       "knn                   5.63            6.79      8.21\n",
       "xgboost               5.52            3.92     13.07\n",
       "lightgbm              5.20            4.29     19.81\n",
       "gbt                   8.24            9.39     12.88"
      ]
     },
     "execution_count": 37,
     "metadata": {},
     "output_type": "execute_result"
    }
   ],
   "source": [
    "results['Avocados'] = avc_results['Avocados']\n",
    "results"
   ]
  },
  {
   "cell_type": "markdown",
   "id": "0ef44435-ea97-48f9-81a1-9b3a7627b62e",
   "metadata": {},
   "source": [
    "## All Aggregated Results"
   ]
  },
  {
   "cell_type": "code",
   "execution_count": 38,
   "id": "31551db0-9bc4-4e4f-97c3-f584acfd6178",
   "metadata": {},
   "outputs": [
    {
     "data": {
      "image/png": "[encoded data removed]",
      "text/plain": [
       "<Figure size 1200x600 with 2 Axes>"
      ]
     },
     "metadata": {},
     "output_type": "display_data"
    }
   ],
   "source": [
    "_, ax = plt.subplots(figsize=(12,6))\n",
    "sns.heatmap(\n",
    "    results,\n",
    "    annot=True,\n",
    "    fmt='.2f',\n",
    "    cmap=\"Spectral_r\",\n",
    "    ax=ax\n",
    ")\n",
    "plt.show()"
   ]
  },
  {
   "cell_type": "markdown",
   "id": "34461e58-a6ae-4ea2-b84d-154eec17a161",
   "metadata": {},
   "source": [
    "For the most part, the linear models set the best intervals and the boosted tree models were very good or very bad, with GBT more towards the bad side."
   ]
  },
  {
   "cell_type": "markdown",
   "id": "1c8a0349-97cb-4d6d-a828-4510e4fccdfc",
   "metadata": {},
   "source": [
    "## Benchmark Against StatsModels ARIMA\n",
    "- Confidence intervals come from StatsModels but the auto-ARIMA process is from [PMDARIMA](https://alkaline-ml.com/pmdarima/modules/generated/pmdarima.arima.auto_arima.html#pmdarima.arima.auto_arima)."
   ]
  },
  {
   "cell_type": "code",
   "execution_count": 39,
   "id": "9cd06262-4ce5-4273-8201-86c2a53e35a3",
   "metadata": {},
   "outputs": [],
   "source": [
    "from scalecast.auxmodels import auto_arima"
   ]
  },
  {
   "cell_type": "code",
   "execution_count": 40,
   "id": "c0b112ac-4d54-4850-85da-5580624da400",
   "metadata": {},
   "outputs": [],
   "source": [
    "all_series = {\n",
    "    # series,out-of-sample series,seasonal step\n",
    "    'visitors':[visits,visits_sep,1],\n",
    "    'housing starts':[starts,starts_sep,12],\n",
    "    'avocados':[volume,volume_sep,1]\n",
    "}\n",
    "arima_conformal_results = pd.DataFrame()\n",
    "arima_sm_results = pd.DataFrame()"
   ]
  },
  {
   "cell_type": "code",
   "execution_count": 41,
   "id": "440aca08-918a-43a5-b6ca-8a84ec6e94eb",
   "metadata": {},
   "outputs": [
    {
     "name": "stdout",
     "output_type": "stream",
     "text": [
      "visitors\n",
      "housing starts\n",
      "avocados\n"
     ]
    }
   ],
   "source": [
    "for k, v in all_series.items():\n",
    "    print(k)\n",
    "    f = Forecaster(\n",
    "        y=v[0],\n",
    "        current_dates=v[0].index,\n",
    "        future_dates=len(v[1]),\n",
    "        test_length = len(v[1]),\n",
    "        cis=True,\n",
    "    )\n",
    "    auto_arima(f,m=v[2])\n",
    "    arima_results = f.export(\"lvl_fcsts\",cis=True)\n",
    "    # scalecast intervals\n",
    "    arima_conformal_results.loc[k,'MSIS'] = metrics.msis(\n",
    "        a = v[1].values,\n",
    "        uf = arima_results['auto_arima_upperci'].values,\n",
    "        lf = arima_results['auto_arima_lowerci'].values,\n",
    "        obs = v[0].values,\n",
    "        m = v[2],\n",
    "    )\n",
    "    # statsmodels intervals\n",
    "    cis = f.regr.get_forecast(len(v[1])).conf_int()\n",
    "    arima_sm_results.loc[k,'MSIS'] = metrics.msis(\n",
    "        a = v[1].values,\n",
    "        uf = cis.T[1],\n",
    "        lf = cis.T[0],\n",
    "        obs = v[0].values,\n",
    "        m = v[2],\n",
    "    )"
   ]
  },
  {
   "cell_type": "markdown",
   "id": "d2d0b403-1740-4a21-b3d6-3f0e084d4b7f",
   "metadata": {},
   "source": [
    "### MSIS Results - ARIMA Scalecast"
   ]
  },
  {
   "cell_type": "code",
   "execution_count": 42,
   "id": "75388b0f-fa49-44e3-bb90-1703a81f49c3",
   "metadata": {},
   "outputs": [
    {
     "data": {
      "text/html": [
       "<div>\n",
       "<style scoped>\n",
       "    .dataframe tbody tr th:only-of-type {\n",
       "        vertical-align: middle;\n",
       "    }\n",
       "\n",
       "    .dataframe tbody tr th {\n",
       "        vertical-align: top;\n",
       "    }\n",
       "\n",
       "    .dataframe thead th {\n",
       "        text-align: right;\n",
       "    }\n",
       "</style>\n",
       "<table border=\"1\" class=\"dataframe\">\n",
       "  <thead>\n",
       "    <tr style=\"text-align: right;\">\n",
       "      <th></th>\n",
       "      <th>MSIS</th>\n",
       "    </tr>\n",
       "  </thead>\n",
       "  <tbody>\n",
       "    <tr>\n",
       "      <th>visitors</th>\n",
       "      <td>4.96</td>\n",
       "    </tr>\n",
       "    <tr>\n",
       "      <th>housing starts</th>\n",
       "      <td>24.90</td>\n",
       "    </tr>\n",
       "    <tr>\n",
       "      <th>avocados</th>\n",
       "      <td>23.15</td>\n",
       "    </tr>\n",
       "  </tbody>\n",
       "</table>\n",
       "</div>"
      ],
      "text/plain": [
       "                MSIS\n",
       "visitors        4.96\n",
       "housing starts 24.90\n",
       "avocados       23.15"
      ]
     },
     "execution_count": 42,
     "metadata": {},
     "output_type": "execute_result"
    }
   ],
   "source": [
    "# results from the scalecast intervals\n",
    "arima_conformal_results"
   ]
  },
  {
   "cell_type": "code",
   "execution_count": 43,
   "id": "7efb28b2-e173-4430-8df5-de7b36748961",
   "metadata": {},
   "outputs": [
    {
     "data": {
      "text/plain": [
       "MSIS   17.67\n",
       "dtype: float64"
      ]
     },
     "execution_count": 43,
     "metadata": {},
     "output_type": "execute_result"
    }
   ],
   "source": [
    "arima_conformal_results.mean()"
   ]
  },
  {
   "cell_type": "markdown",
   "id": "8e98fcd8-35c0-4849-8463-76c81f3fea93",
   "metadata": {},
   "source": [
    "### MSIS Results - ARIMA StatsModels"
   ]
  },
  {
   "cell_type": "code",
   "execution_count": 44,
   "id": "1c4553ce-e8d4-4034-97b7-61f98505b315",
   "metadata": {},
   "outputs": [
    {
     "data": {
      "text/html": [
       "<div>\n",
       "<style scoped>\n",
       "    .dataframe tbody tr th:only-of-type {\n",
       "        vertical-align: middle;\n",
       "    }\n",
       "\n",
       "    .dataframe tbody tr th {\n",
       "        vertical-align: top;\n",
       "    }\n",
       "\n",
       "    .dataframe thead th {\n",
       "        text-align: right;\n",
       "    }\n",
       "</style>\n",
       "<table border=\"1\" class=\"dataframe\">\n",
       "  <thead>\n",
       "    <tr style=\"text-align: right;\">\n",
       "      <th></th>\n",
       "      <th>MSIS</th>\n",
       "    </tr>\n",
       "  </thead>\n",
       "  <tbody>\n",
       "    <tr>\n",
       "      <th>visitors</th>\n",
       "      <td>5.88</td>\n",
       "    </tr>\n",
       "    <tr>\n",
       "      <th>housing starts</th>\n",
       "      <td>5.62</td>\n",
       "    </tr>\n",
       "    <tr>\n",
       "      <th>avocados</th>\n",
       "      <td>19.94</td>\n",
       "    </tr>\n",
       "  </tbody>\n",
       "</table>\n",
       "</div>"
      ],
      "text/plain": [
       "                MSIS\n",
       "visitors        5.88\n",
       "housing starts  5.62\n",
       "avocados       19.94"
      ]
     },
     "execution_count": 44,
     "metadata": {},
     "output_type": "execute_result"
    }
   ],
   "source": [
    "# results from the statsmodels intervals\n",
    "arima_sm_results"
   ]
  },
  {
   "cell_type": "code",
   "execution_count": 45,
   "id": "2c1e5e51-b66a-43dc-882a-eac9532b5f0b",
   "metadata": {},
   "outputs": [
    {
     "data": {
      "text/plain": [
       "MSIS   10.48\n",
       "dtype: float64"
      ]
     },
     "execution_count": 45,
     "metadata": {},
     "output_type": "execute_result"
    }
   ],
   "source": [
    "arima_sm_results.mean()"
   ]
  },
  {
   "cell_type": "code",
   "execution_count": 46,
   "id": "4bb41771-2e7b-41cc-94ee-e774e907735c",
   "metadata": {},
   "outputs": [
    {
     "data": {
      "text/html": [
       "<div>\n",
       "<style scoped>\n",
       "    .dataframe tbody tr th:only-of-type {\n",
       "        vertical-align: middle;\n",
       "    }\n",
       "\n",
       "    .dataframe tbody tr th {\n",
       "        vertical-align: top;\n",
       "    }\n",
       "\n",
       "    .dataframe thead th {\n",
       "        text-align: right;\n",
       "    }\n",
       "</style>\n",
       "<table border=\"1\" class=\"dataframe\">\n",
       "  <thead>\n",
       "    <tr style=\"text-align: right;\">\n",
       "      <th></th>\n",
       "      <th>mlr</th>\n",
       "      <th>elasticnet</th>\n",
       "      <th>ridge</th>\n",
       "      <th>knn</th>\n",
       "      <th>xgboost</th>\n",
       "      <th>lightgbm</th>\n",
       "      <th>gbt</th>\n",
       "      <th>arima (conformal)</th>\n",
       "      <th>arima (statsmodels) - benchmark</th>\n",
       "    </tr>\n",
       "  </thead>\n",
       "  <tbody>\n",
       "    <tr>\n",
       "      <th>Daily Visitors</th>\n",
       "      <td>5.63</td>\n",
       "      <td>5.59</td>\n",
       "      <td>5.61</td>\n",
       "      <td>5.63</td>\n",
       "      <td>5.52</td>\n",
       "      <td>5.20</td>\n",
       "      <td>8.24</td>\n",
       "      <td>4.96</td>\n",
       "      <td>5.88</td>\n",
       "    </tr>\n",
       "    <tr>\n",
       "      <th>Housing Starts</th>\n",
       "      <td>5.66</td>\n",
       "      <td>8.24</td>\n",
       "      <td>7.30</td>\n",
       "      <td>6.79</td>\n",
       "      <td>3.92</td>\n",
       "      <td>4.29</td>\n",
       "      <td>9.39</td>\n",
       "      <td>24.90</td>\n",
       "      <td>5.62</td>\n",
       "    </tr>\n",
       "    <tr>\n",
       "      <th>Avocados</th>\n",
       "      <td>8.36</td>\n",
       "      <td>7.59</td>\n",
       "      <td>7.63</td>\n",
       "      <td>8.21</td>\n",
       "      <td>13.07</td>\n",
       "      <td>19.81</td>\n",
       "      <td>12.88</td>\n",
       "      <td>23.15</td>\n",
       "      <td>19.94</td>\n",
       "    </tr>\n",
       "  </tbody>\n",
       "</table>\n",
       "</div>"
      ],
      "text/plain": [
       "                mlr  elasticnet  ridge  knn  xgboost  lightgbm   gbt  \\\n",
       "Daily Visitors 5.63        5.59   5.61 5.63     5.52      5.20  8.24   \n",
       "Housing Starts 5.66        8.24   7.30 6.79     3.92      4.29  9.39   \n",
       "Avocados       8.36        7.59   7.63 8.21    13.07     19.81 12.88   \n",
       "\n",
       "                arima (conformal)  arima (statsmodels) - benchmark  \n",
       "Daily Visitors               4.96                             5.88  \n",
       "Housing Starts              24.90                             5.62  \n",
       "Avocados                    23.15                            19.94  "
      ]
     },
     "execution_count": 46,
     "metadata": {},
     "output_type": "execute_result"
    }
   ],
   "source": [
    "all_results = results.copy()\n",
    "all_results.loc['arima (conformal)'] =  arima_conformal_results.T.values[0]\n",
    "all_results.loc['arima (statsmodels) - benchmark'] = arima_sm_results.T.values[0]\n",
    "all_results = all_results.T\n",
    "all_results"
   ]
  },
  {
   "cell_type": "code",
   "execution_count": 47,
   "id": "080afb02-867a-4911-b31c-53738876aea7",
   "metadata": {},
   "outputs": [
    {
     "data": {
      "text/html": [
       "<style type=\"text/css\">\n",
       "#T_1feb3_row0_col0, #T_1feb3_row0_col1, #T_1feb3_row0_col2, #T_1feb3_row0_col3, #T_1feb3_row0_col4, #T_1feb3_row0_col5, #T_1feb3_row0_col7, #T_1feb3_row1_col4, #T_1feb3_row1_col5, #T_1feb3_row2_col0, #T_1feb3_row2_col1, #T_1feb3_row2_col2, #T_1feb3_row2_col3, #T_1feb3_row2_col4, #T_1feb3_row2_col5, #T_1feb3_row2_col6 {\n",
       "  background-color: lightgreen;\n",
       "}\n",
       "#T_1feb3_row0_col6, #T_1feb3_row1_col0, #T_1feb3_row1_col1, #T_1feb3_row1_col2, #T_1feb3_row1_col3, #T_1feb3_row1_col6, #T_1feb3_row1_col7, #T_1feb3_row2_col7 {\n",
       "  background-color: lightcoral;\n",
       "}\n",
       "</style>\n",
       "<table id=\"T_1feb3\">\n",
       "  <thead>\n",
       "    <tr>\n",
       "      <th class=\"blank level0\" >&nbsp;</th>\n",
       "      <th id=\"T_1feb3_level0_col0\" class=\"col_heading level0 col0\" >mlr</th>\n",
       "      <th id=\"T_1feb3_level0_col1\" class=\"col_heading level0 col1\" >elasticnet</th>\n",
       "      <th id=\"T_1feb3_level0_col2\" class=\"col_heading level0 col2\" >ridge</th>\n",
       "      <th id=\"T_1feb3_level0_col3\" class=\"col_heading level0 col3\" >knn</th>\n",
       "      <th id=\"T_1feb3_level0_col4\" class=\"col_heading level0 col4\" >xgboost</th>\n",
       "      <th id=\"T_1feb3_level0_col5\" class=\"col_heading level0 col5\" >lightgbm</th>\n",
       "      <th id=\"T_1feb3_level0_col6\" class=\"col_heading level0 col6\" >gbt</th>\n",
       "      <th id=\"T_1feb3_level0_col7\" class=\"col_heading level0 col7\" >arima (conformal)</th>\n",
       "      <th id=\"T_1feb3_level0_col8\" class=\"col_heading level0 col8\" >arima (statsmodels) - benchmark</th>\n",
       "    </tr>\n",
       "  </thead>\n",
       "  <tbody>\n",
       "    <tr>\n",
       "      <th id=\"T_1feb3_level0_row0\" class=\"row_heading level0 row0\" >Daily Visitors</th>\n",
       "      <td id=\"T_1feb3_row0_col0\" class=\"data row0 col0\" >5.632456</td>\n",
       "      <td id=\"T_1feb3_row0_col1\" class=\"data row0 col1\" >5.594578</td>\n",
       "      <td id=\"T_1feb3_row0_col2\" class=\"data row0 col2\" >5.609157</td>\n",
       "      <td id=\"T_1feb3_row0_col3\" class=\"data row0 col3\" >5.626693</td>\n",
       "      <td id=\"T_1feb3_row0_col4\" class=\"data row0 col4\" >5.520301</td>\n",
       "      <td id=\"T_1feb3_row0_col5\" class=\"data row0 col5\" >5.196714</td>\n",
       "      <td id=\"T_1feb3_row0_col6\" class=\"data row0 col6\" >8.239300</td>\n",
       "      <td id=\"T_1feb3_row0_col7\" class=\"data row0 col7\" >4.958470</td>\n",
       "      <td id=\"T_1feb3_row0_col8\" class=\"data row0 col8\" >5.884242</td>\n",
       "    </tr>\n",
       "    <tr>\n",
       "      <th id=\"T_1feb3_level0_row1\" class=\"row_heading level0 row1\" >Housing Starts</th>\n",
       "      <td id=\"T_1feb3_row1_col0\" class=\"data row1 col0\" >5.657050</td>\n",
       "      <td id=\"T_1feb3_row1_col1\" class=\"data row1 col1\" >8.238805</td>\n",
       "      <td id=\"T_1feb3_row1_col2\" class=\"data row1 col2\" >7.299241</td>\n",
       "      <td id=\"T_1feb3_row1_col3\" class=\"data row1 col3\" >6.788912</td>\n",
       "      <td id=\"T_1feb3_row1_col4\" class=\"data row1 col4\" >3.924839</td>\n",
       "      <td id=\"T_1feb3_row1_col5\" class=\"data row1 col5\" >4.289493</td>\n",
       "      <td id=\"T_1feb3_row1_col6\" class=\"data row1 col6\" >9.388856</td>\n",
       "      <td id=\"T_1feb3_row1_col7\" class=\"data row1 col7\" >24.901115</td>\n",
       "      <td id=\"T_1feb3_row1_col8\" class=\"data row1 col8\" >5.624812</td>\n",
       "    </tr>\n",
       "    <tr>\n",
       "      <th id=\"T_1feb3_level0_row2\" class=\"row_heading level0 row2\" >Avocados</th>\n",
       "      <td id=\"T_1feb3_row2_col0\" class=\"data row2 col0\" >8.358805</td>\n",
       "      <td id=\"T_1feb3_row2_col1\" class=\"data row2 col1\" >7.589377</td>\n",
       "      <td id=\"T_1feb3_row2_col2\" class=\"data row2 col2\" >7.632794</td>\n",
       "      <td id=\"T_1feb3_row2_col3\" class=\"data row2 col3\" >8.206887</td>\n",
       "      <td id=\"T_1feb3_row2_col4\" class=\"data row2 col4\" >13.069660</td>\n",
       "      <td id=\"T_1feb3_row2_col5\" class=\"data row2 col5\" >19.810258</td>\n",
       "      <td id=\"T_1feb3_row2_col6\" class=\"data row2 col6\" >12.884238</td>\n",
       "      <td id=\"T_1feb3_row2_col7\" class=\"data row2 col7\" >23.151315</td>\n",
       "      <td id=\"T_1feb3_row2_col8\" class=\"data row2 col8\" >19.944485</td>\n",
       "    </tr>\n",
       "  </tbody>\n",
       "</table>\n"
      ],
      "text/plain": [
       "<pandas.io.formats.style.Styler at 0x1942dbb11f0>"
      ]
     },
     "execution_count": 47,
     "metadata": {},
     "output_type": "execute_result"
    }
   ],
   "source": [
    "def highlight_rows(row):\n",
    "    ret_row = ['']*all_results.shape[1]\n",
    "    for i, c in enumerate(all_results.iloc[:,:-1]):\n",
    "        if row[c] < row['arima (statsmodels) - benchmark']:\n",
    "            ret_row[i] = 'background-color: lightgreen;'\n",
    "        else:\n",
    "            ret_row[i] = 'background-color: lightcoral;'\n",
    "    return ret_row\n",
    "\n",
    "all_results.style.apply(\n",
    "    highlight_rows,\n",
    "    axis=1,\n",
    ")"
   ]
  },
  {
   "cell_type": "markdown",
   "id": "97c71890-a291-44f0-bd10-435301c900a4",
   "metadata": {},
   "source": [
    "The above table shows which scalecast intervals performed better or worse than the ARIMA interval. Green scores are better, red are worse. The scalecast conformal intervals were on the whole better, but not always. When comparing ARIMA to ARIMA, the confidence intervals from statsmodels performed slightly worse on one series, slightly better on another, and significantly better on the remaining one. The rest of the models run through scalecast usually beat the ARIMA intervals on all datasets, except housing starts. XGBoost and Lightgbm were the only models to always beat the intervals from StatsModels. On the whole, the scalecast interval has a nice showing against the more traditional interval from ARIMA in the StatsModels package."
   ]
  },
  {
   "cell_type": "code",
   "execution_count": null,
   "id": "2c68f1bb-93ee-4018-b074-503a992a332b",
   "metadata": {},
   "outputs": [],
   "source": []
  }
 ],
 "metadata": {
  "kernelspec": {
   "display_name": "Python 3 (ipykernel)",
   "language": "python",
   "name": "python3"
  },
  "language_info": {
   "codemirror_mode": {
    "name": "ipython",
    "version": 3
   },
   "file_extension": ".py",
   "mimetype": "text/x-python",
   "name": "python",
   "nbconvert_exporter": "python",
   "pygments_lexer": "ipython3",
   "version": "3.8.8"
  },
  "widgets": {
   "application/vnd.jupyter.widget-state+json": {
    "state": {
     "02d2949b785c4b0a9055f327f2d8d7b6": {
      "model_module": "@jupyter-widgets/base",
      "model_module_version": "1.2.0",
      "model_name": "LayoutModel",
      "state": {}
     },
     "08b3e80111af44928041b4002d436f5d": {
      "model_module": "@jupyter-widgets/controls",
      "model_module_version": "1.5.0",
      "model_name": "ProgressStyleModel",
      "state": {
       "description_width": ""
      }
     },
     "0e27fac7c0fc48559047f55e4eb6b432": {
      "model_module": "@jupyter-widgets/controls",
      "model_module_version": "1.5.0",
      "model_name": "HTMLModel",
      "state": {
       "layout": "IPY_MODEL_83541e91fe344b02b9111bc114244d9c",
       "style": "IPY_MODEL_1e37e6d43d494bfbae2419d69188e5b0",
       "value": " 7/7 [00:14&lt;00:00,  2.40s/it]"
      }
     },
     "10bc4e4a6ac740f7b098c6ed87595aea": {
      "model_module": "@jupyter-widgets/controls",
      "model_module_version": "1.5.0",
      "model_name": "ProgressStyleModel",
      "state": {
       "description_width": ""
      }
     },
     "15fd2d11571e4641bc34e8142ae79c97": {
      "model_module": "@jupyter-widgets/controls",
      "model_module_version": "1.5.0",
      "model_name": "DescriptionStyleModel",
      "state": {
       "description_width": ""
      }
     },
     "1e37e6d43d494bfbae2419d69188e5b0": {
      "model_module": "@jupyter-widgets/controls",
      "model_module_version": "1.5.0",
      "model_name": "DescriptionStyleModel",
      "state": {
       "description_width": ""
      }
     },
     "234d15f94cb243bd91ec0ccaf941c736": {
      "model_module": "@jupyter-widgets/controls",
      "model_module_version": "1.5.0",
      "model_name": "HTMLModel",
      "state": {
       "layout": "IPY_MODEL_02d2949b785c4b0a9055f327f2d8d7b6",
       "style": "IPY_MODEL_f1d625bfd0be4a7ea2d55d4053719a79",
       "value": "100%"
      }
     },
     "24ea9edd61304be9be75786eb15f1400": {
      "model_module": "@jupyter-widgets/controls",
      "model_module_version": "1.5.0",
      "model_name": "ProgressStyleModel",
      "state": {
       "description_width": ""
      }
     },
     "37ba24dda12749aa836c37a5e415776c": {
      "model_module": "@jupyter-widgets/controls",
      "model_module_version": "1.5.0",
      "model_name": "FloatProgressModel",
      "state": {
       "bar_style": "success",
       "layout": "IPY_MODEL_4298c5473c1946b198d05b12d7026597",
       "max": 7,
       "style": "IPY_MODEL_08b3e80111af44928041b4002d436f5d",
       "value": 7
      }
     },
     "3fd9778a37c04b5b869509060d5054d2": {
      "model_module": "@jupyter-widgets/controls",
      "model_module_version": "1.5.0",
      "model_name": "HBoxModel",
      "state": {
       "children": [
        "IPY_MODEL_234d15f94cb243bd91ec0ccaf941c736",
        "IPY_MODEL_b0a285744c4d461189b7e622f29ccab6",
        "IPY_MODEL_44aeb04d4e1945eebf6c409f785e53c1"
       ],
       "layout": "IPY_MODEL_bc2840db640f4fd0a54eb944637659bf"
      }
     },
     "4298c5473c1946b198d05b12d7026597": {
      "model_module": "@jupyter-widgets/base",
      "model_module_version": "1.2.0",
      "model_name": "LayoutModel",
      "state": {}
     },
     "44aeb04d4e1945eebf6c409f785e53c1": {
      "model_module": "@jupyter-widgets/controls",
      "model_module_version": "1.5.0",
      "model_name": "HTMLModel",
      "state": {
       "layout": "IPY_MODEL_a68605cf55c04cba97b0d3db6e004770",
       "style": "IPY_MODEL_a3c9a1945cef4c948331905f3dcc6f4e",
       "value": " 7/7 [01:46&lt;00:00, 17.25s/it]"
      }
     },
     "45736f5b80594d3782b4e83ad2ab6ad4": {
      "model_module": "@jupyter-widgets/controls",
      "model_module_version": "1.5.0",
      "model_name": "DescriptionStyleModel",
      "state": {
       "description_width": ""
      }
     },
     "56a71ec174f84b5191ac922422e0e964": {
      "model_module": "@jupyter-widgets/controls",
      "model_module_version": "1.5.0",
      "model_name": "HTMLModel",
      "state": {
       "layout": "IPY_MODEL_8dadb91d263f41ed8a77a2dddd3b1c70",
       "style": "IPY_MODEL_45736f5b80594d3782b4e83ad2ab6ad4",
       "value": "100%"
      }
     },
     "58d4fbfd333442c79d2b693f18fcea3a": {
      "model_module": "@jupyter-widgets/base",
      "model_module_version": "1.2.0",
      "model_name": "LayoutModel",
      "state": {}
     },
     "655c9ab86d2b493488c2777bbcbdbf0a": {
      "model_module": "@jupyter-widgets/controls",
      "model_module_version": "1.5.0",
      "model_name": "DescriptionStyleModel",
      "state": {
       "description_width": ""
      }
     },
     "83541e91fe344b02b9111bc114244d9c": {
      "model_module": "@jupyter-widgets/base",
      "model_module_version": "1.2.0",
      "model_name": "LayoutModel",
      "state": {}
     },
     "86b5e0e8bf4147a38cb934b2ec4c3fc1": {
      "model_module": "@jupyter-widgets/base",
      "model_module_version": "1.2.0",
      "model_name": "LayoutModel",
      "state": {}
     },
     "8dadb91d263f41ed8a77a2dddd3b1c70": {
      "model_module": "@jupyter-widgets/base",
      "model_module_version": "1.2.0",
      "model_name": "LayoutModel",
      "state": {}
     },
     "9efc3ccb974e4191b24ac250830a0c65": {
      "model_module": "@jupyter-widgets/controls",
      "model_module_version": "1.5.0",
      "model_name": "HBoxModel",
      "state": {
       "children": [
        "IPY_MODEL_a64ea236f359499c9581969b433bd690",
        "IPY_MODEL_37ba24dda12749aa836c37a5e415776c",
        "IPY_MODEL_e1c374c485db4e88b4c7ec77d905b296"
       ],
       "layout": "IPY_MODEL_d1449eccbb324fe691b1a654b3a5651a"
      }
     },
     "a3c9a1945cef4c948331905f3dcc6f4e": {
      "model_module": "@jupyter-widgets/controls",
      "model_module_version": "1.5.0",
      "model_name": "DescriptionStyleModel",
      "state": {
       "description_width": ""
      }
     },
     "a64ea236f359499c9581969b433bd690": {
      "model_module": "@jupyter-widgets/controls",
      "model_module_version": "1.5.0",
      "model_name": "HTMLModel",
      "state": {
       "layout": "IPY_MODEL_db8e1ff9d78b438fa794040e31b0127d",
       "style": "IPY_MODEL_15fd2d11571e4641bc34e8142ae79c97",
       "value": "100%"
      }
     },
     "a68605cf55c04cba97b0d3db6e004770": {
      "model_module": "@jupyter-widgets/base",
      "model_module_version": "1.2.0",
      "model_name": "LayoutModel",
      "state": {}
     },
     "b0a285744c4d461189b7e622f29ccab6": {
      "model_module": "@jupyter-widgets/controls",
      "model_module_version": "1.5.0",
      "model_name": "FloatProgressModel",
      "state": {
       "bar_style": "success",
       "layout": "IPY_MODEL_bdaf8dd50b184044b06d8e01e4bf3a6b",
       "max": 7,
       "style": "IPY_MODEL_10bc4e4a6ac740f7b098c6ed87595aea",
       "value": 7
      }
     },
     "bc2840db640f4fd0a54eb944637659bf": {
      "model_module": "@jupyter-widgets/base",
      "model_module_version": "1.2.0",
      "model_name": "LayoutModel",
      "state": {}
     },
     "bdaf8dd50b184044b06d8e01e4bf3a6b": {
      "model_module": "@jupyter-widgets/base",
      "model_module_version": "1.2.0",
      "model_name": "LayoutModel",
      "state": {}
     },
     "d1449eccbb324fe691b1a654b3a5651a": {
      "model_module": "@jupyter-widgets/base",
      "model_module_version": "1.2.0",
      "model_name": "LayoutModel",
      "state": {}
     },
     "d6931ab95263426b8b1f98d74451164f": {
      "model_module": "@jupyter-widgets/controls",
      "model_module_version": "1.5.0",
      "model_name": "FloatProgressModel",
      "state": {
       "bar_style": "success",
       "layout": "IPY_MODEL_86b5e0e8bf4147a38cb934b2ec4c3fc1",
       "max": 7,
       "style": "IPY_MODEL_24ea9edd61304be9be75786eb15f1400",
       "value": 7
      }
     },
     "db8e1ff9d78b438fa794040e31b0127d": {
      "model_module": "@jupyter-widgets/base",
      "model_module_version": "1.2.0",
      "model_name": "LayoutModel",
      "state": {}
     },
     "e1c374c485db4e88b4c7ec77d905b296": {
      "model_module": "@jupyter-widgets/controls",
      "model_module_version": "1.5.0",
      "model_name": "HTMLModel",
      "state": {
       "layout": "IPY_MODEL_58d4fbfd333442c79d2b693f18fcea3a",
       "style": "IPY_MODEL_655c9ab86d2b493488c2777bbcbdbf0a",
       "value": " 7/7 [05:59&lt;00:00, 59.87s/it]"
      }
     },
     "f167e5dee1f3457ba925ac36d4f74681": {
      "model_module": "@jupyter-widgets/controls",
      "model_module_version": "1.5.0",
      "model_name": "HBoxModel",
      "state": {
       "children": [
        "IPY_MODEL_56a71ec174f84b5191ac922422e0e964",
        "IPY_MODEL_d6931ab95263426b8b1f98d74451164f",
        "IPY_MODEL_0e27fac7c0fc48559047f55e4eb6b432"
       ],
       "layout": "IPY_MODEL_f63a77521b2843b09d1acf0deb24f807"
      }
     },
     "f1d625bfd0be4a7ea2d55d4053719a79": {
      "model_module": "@jupyter-widgets/controls",
      "model_module_version": "1.5.0",
      "model_name": "DescriptionStyleModel",
      "state": {
       "description_width": ""
      }
     },
     "f63a77521b2843b09d1acf0deb24f807": {
      "model_module": "@jupyter-widgets/base",
      "model_module_version": "1.2.0",
      "model_name": "LayoutModel",
      "state": {}
     }
    },
    "version_major": 2,
    "version_minor": 0
   }
  }
 },
 "nbformat": 4,
 "nbformat_minor": 5
}
