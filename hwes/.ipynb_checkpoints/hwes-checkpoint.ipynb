{
 "cells": [
  {
   "cell_type": "markdown",
   "id": "dcfe82b2",
   "metadata": {},
   "source": [
    "# Holt-Winters Exponential Smoothing\n",
    "\n",
    "This notebook demonstrates running an HWES model in scalecast.\n",
    "\n",
    "- See the [documentation](https://scalecast.readthedocs.io/en/latest/Forecaster/_forecast.html#module-src.scalecast.Forecaster.Forecaster._forecast_hwes)."
   ]
  },
  {
   "cell_type": "code",
   "execution_count": null,
   "id": "be530e5c",
   "metadata": {},
   "outputs": [],
   "source": [
    "import pandas as pd\n",
    "import numpy as np\n",
    "import pandas_datareader as pdr\n",
    "import seaborn as sns\n",
    "import matplotlib\n",
    "import matplotlib.ticker as ticker\n",
    "import matplotlib.pyplot as plt\n",
    "from scalecast.Forecaster import Forecaster"
   ]
  },
  {
   "cell_type": "markdown",
   "id": "4be78417",
   "metadata": {},
   "source": [
    "Download data from FRED (https://fred.stlouisfed.org/series/HOUSTNSA). This data is interesting due to its strong seasonality and irregular cycles. It measures monthly housing starts in the USA since 1959. Since exponential smoothing generally doesn't need as much data to work effectively, we start the series in 2010, where it has a clear trend and seasonality."
   ]
  },
  {
   "cell_type": "code",
   "execution_count": null,
   "id": "e6951611",
   "metadata": {},
   "outputs": [],
   "source": [
    "df = pdr.get_data_fred('HOUSTNSA',start='1959-01-01',end='2022-12-31')\n",
    "f = Forecaster(\n",
    "    y=df['HOUSTNSA'],\n",
    "    current_dates=df.index,\n",
    "    future_dates = 24,\n",
    "    test_length = 24,\n",
    "    cis = True,\n",
    ")\n",
    "f"
   ]
  },
  {
   "cell_type": "code",
   "execution_count": null,
   "id": "483ef2f2",
   "metadata": {},
   "outputs": [],
   "source": [
    "f.plot()\n",
    "plt.title('Housing Starts - Original',size=20)\n",
    "plt.show()"
   ]
  },
  {
   "cell_type": "markdown",
   "id": "92f384ae",
   "metadata": {},
   "source": [
    "## Forecast"
   ]
  },
  {
   "cell_type": "code",
   "execution_count": null,
   "id": "04005dbb-fdd2-48e0-9c05-7249d5e0098a",
   "metadata": {},
   "outputs": [],
   "source": [
    "hwes_grid = {\n",
    "    'trend':['add','mul',None],\n",
    "    'seasonal':['add','mul',None],\n",
    "    'use_boxcox':[True,False],\n",
    "}"
   ]
  },
  {
   "cell_type": "code",
   "execution_count": null,
   "id": "1ad3e16d-e356-4d39-9d6d-4232a7854680",
   "metadata": {},
   "outputs": [],
   "source": [
    "f.set_estimator('hwes')\n",
    "f.ingest_grid(hwes_grid)\n",
    "f.cross_validate(k=10) # 10-fold cv to find optimal hyperparams\n",
    "f.auto_forecast()\n",
    "f.best_params"
   ]
  },
  {
   "cell_type": "code",
   "execution_count": null,
   "id": "e466ef4d-0b95-41d1-944a-dc5de1f88e1f",
   "metadata": {},
   "outputs": [],
   "source": [
    "f.plot_test_set(ci=True,include_train=False);"
   ]
  },
  {
   "cell_type": "markdown",
   "id": "2c5e804b-74cb-4ea7-b8d6-413652837941",
   "metadata": {},
   "source": [
    "## Model Summary"
   ]
  },
  {
   "cell_type": "code",
   "execution_count": null,
   "id": "76becc72",
   "metadata": {},
   "outputs": [],
   "source": [
    "f.regr.summary()"
   ]
  },
  {
   "cell_type": "markdown",
   "id": "f5c5ac40-2ea8-4dc7-9d8c-62526d871aa2",
   "metadata": {},
   "source": [
    "## Save Summary Stats"
   ]
  },
  {
   "cell_type": "code",
   "execution_count": null,
   "id": "53670098-b2fa-4905-bed7-d028c9255b1f",
   "metadata": {},
   "outputs": [],
   "source": [
    "f.save_summary_stats()\n",
    "f.export_summary_stats('hwes')"
   ]
  },
  {
   "cell_type": "code",
   "execution_count": null,
   "id": "84e65e70-6445-4438-9c68-63720db406b9",
   "metadata": {},
   "outputs": [],
   "source": []
  }
 ],
 "metadata": {
  "kernelspec": {
   "display_name": "Python 3 (ipykernel)",
   "language": "python",
   "name": "python3"
  },
  "language_info": {
   "codemirror_mode": {
    "name": "ipython",
    "version": 3
   },
   "file_extension": ".py",
   "mimetype": "text/x-python",
   "name": "python",
   "nbconvert_exporter": "python",
   "pygments_lexer": "ipython3",
   "version": "3.8.8"
  },
  "widgets": {
   "application/vnd.jupyter.widget-state+json": {
    "state": {},
    "version_major": 2,
    "version_minor": 0
   }
  }
 },
 "nbformat": 4,
 "nbformat_minor": 5
}
