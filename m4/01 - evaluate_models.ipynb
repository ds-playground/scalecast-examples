{
 "cells": [
  {
   "cell_type": "markdown",
   "id": "c3539af2-f232-476a-b944-3f3352750bc9",
   "metadata": {},
   "source": [
    "# 01 - M4 Example"
   ]
  },
  {
   "cell_type": "code",
   "execution_count": 1,
   "id": "2410860d-eeda-44c4-8880-e2c18b391c17",
   "metadata": {},
   "outputs": [],
   "source": [
    "import pandas as pd\n",
    "import numpy as np\n",
    "from scalecast import GridGenerator\n",
    "from scalecast.Forecaster import Forecaster\n",
    "from scalecast.Pipeline import Transformer, Reverter, Pipeline\n",
    "from scalecast.util import find_optimal_transformation\n",
    "from tqdm.notebook import tqdm\n",
    "from fix_date import fix_date"
   ]
  },
  {
   "cell_type": "code",
   "execution_count": 2,
   "id": "c8ffbf97-41a9-4537-96d7-3e9e374ee5ba",
   "metadata": {},
   "outputs": [],
   "source": [
    "# select which models will be evaluated\n",
    "GridGenerator.get_example_grids()\n",
    "\n",
    "models = (\n",
    "    'lasso',\n",
    "    'ridge',\n",
    "    'elasticnet',\n",
    "    'lightgbm',\n",
    "    'xgboost',\n",
    ")"
   ]
  },
  {
   "cell_type": "code",
   "execution_count": 3,
   "id": "d743028c-8507-4302-ac0f-ad4bf641af22",
   "metadata": {},
   "outputs": [],
   "source": [
    "def set_validation_params(f,fcst_horizon):\n",
    "    f.set_test_length(fcst_horizon if len(f.y) > 100 else 1)\n",
    "    f.set_validation_length(fcst_horizon if len(f.y) > 100 else 1)\n",
    "    f.set_validation_metric('rmse')\n",
    "    \n",
    "def forecaster(f,models):\n",
    "    f.auto_Xvar_select(\n",
    "        monitor='LevelTestSetRMSE',\n",
    "        max_ar = 100,\n",
    "        try_trend = False,\n",
    "        try_seasonalities = True,\n",
    "        estimator='svr',\n",
    "        \n",
    "    )\n",
    "    f.tune_test_forecast(\n",
    "        models,\n",
    "        limit_grid_size = .2,\n",
    "    )\n",
    "    \n",
    "    f.set_estimator('combo')\n",
    "    f.manual_forecast(call_me='avg_top2',models='top_2',determine_best_by='LevelTestSetRMSE')\n",
    "    f.manual_forecast(call_me='avg_top4',models='top_4',determine_best_by='LevelTestSetRMSE')\n",
    "    f.manual_forecast(call_me='avg_all')"
   ]
  },
  {
   "cell_type": "code",
   "execution_count": 4,
   "id": "5c2417fb-b2f3-4f49-9f89-33452d39dc03",
   "metadata": {},
   "outputs": [],
   "source": [
    "info = pd.read_csv(\n",
    "    'm4/M4-info.csv',\n",
    "    index_col=0,\n",
    "    parse_dates=['StartingDate'],\n",
    "    dayfirst=True,\n",
    ")\n",
    "info['StartingDate'] = info['StartingDate'].apply(fix_date)"
   ]
  },
  {
   "cell_type": "markdown",
   "id": "79bcfd28-65fb-4410-b0da-663d48bd1f34",
   "metadata": {},
   "source": [
    "[Hourly](#Hourly)  \n",
    "[Daily](#Daily)  \n",
    "[Weekly](#Weekly)  \n",
    "[Monthly](#Monthly)  \n",
    "[Quarterly](#Quarterly)  \n",
    "[Yearly](#Yearly)  "
   ]
  },
  {
   "cell_type": "markdown",
   "id": "10a9a378-7e91-4f3d-ab39-74b8bb8ba587",
   "metadata": {},
   "source": [
    "## Hourly"
   ]
  },
  {
   "cell_type": "code",
   "execution_count": 5,
   "id": "5cf0a64b-ca34-4215-a021-f6b7c1e9c24f",
   "metadata": {},
   "outputs": [],
   "source": [
    "Hourly = pd.read_csv(\n",
    "    f'm4/train/Hourly-train.csv',\n",
    "    index_col=0,\n",
    ")"
   ]
  },
  {
   "cell_type": "code",
   "execution_count": 6,
   "id": "48ff670c-b885-4762-8905-4c68a7b07640",
   "metadata": {},
   "outputs": [],
   "source": [
    "Hourly_test = pd.read_csv(\n",
    "    f'm4/test/Hourly-test.csv',\n",
    "    index_col=0,\n",
    ")\n",
    "\n",
    "Hourly_results_template = pd.DataFrame(\n",
    "    columns=Hourly_test.columns,\n",
    "    index=Hourly_test.index,\n",
    ")\n",
    "\n",
    "Hourly_results = {}"
   ]
  },
  {
   "cell_type": "code",
   "execution_count": 7,
   "id": "9586cff8-15ee-4276-a63c-7e823e70d986",
   "metadata": {},
   "outputs": [
    {
     "data": {
      "application/vnd.jupyter.widget-view+json": {
       "model_id": "166de0dba505492584a4813dea98d95e",
       "version_major": 2,
       "version_minor": 0
      },
      "text/plain": [
       "  0%|          | 0/414 [00:00<?, ?it/s]"
      ]
     },
     "metadata": {},
     "output_type": "display_data"
    }
   ],
   "source": [
    "for i in tqdm(Hourly.index):\n",
    "    y = Hourly.loc[i].dropna()\n",
    "    sd = info.loc[i,'StartingDate']\n",
    "    fcst_horizon = info.loc[i,'Horizon']\n",
    "    cd = pd.date_range(\n",
    "        start = sd,\n",
    "        freq = 'H',\n",
    "        periods = len(y),\n",
    "    )\n",
    "    f = Forecaster(\n",
    "        y = y,\n",
    "        current_dates = cd,\n",
    "        future_dates = fcst_horizon,\n",
    "    )\n",
    "    set_validation_params(f,fcst_horizon=fcst_horizon)\n",
    "    transformer, reverter = find_optimal_transformation(\n",
    "        f,\n",
    "        monitor = 'TestSetRMSE',\n",
    "        estimator = 'svr',\n",
    "    )\n",
    "    pipeline = Pipeline(\n",
    "        steps = [\n",
    "            ('Transform',transformer),\n",
    "            ('Forecast',forecaster),\n",
    "            ('Revert',reverter),\n",
    "        ]\n",
    "    )\n",
    "    try:\n",
    "        f = pipeline.fit_predict(\n",
    "            f,\n",
    "            models=models,\n",
    "        )\n",
    "    except:\n",
    "        f.diff()\n",
    "        f.tune_test_forecast(\n",
    "            models,\n",
    "            limit_grid_size = .2,\n",
    "        )\n",
    "    fcsts = f.export('lvl_fcsts',determine_best_by='LevelTestSetRMSE')\n",
    "    for m in f.history.keys():\n",
    "        if m in Hourly_results:\n",
    "            Hourly_results[m].loc[i] = fcsts[m].to_list()\n",
    "        else:\n",
    "            df = Hourly_results_template.copy()\n",
    "            df.loc[i] = fcsts[m].to_list()\n",
    "            Hourly_results[m] = df\n",
    "    if 'auto_select' in Hourly_results:\n",
    "        Hourly_results['auto_select'].loc[i] = fcsts.iloc[:,1].to_list()\n",
    "    else:\n",
    "        df = Hourly_results_template.copy()\n",
    "        df.loc[i] = fcsts.iloc[:,1].to_list()\n",
    "        Hourly_results['auto_select'] = df"
   ]
  },
  {
   "cell_type": "code",
   "execution_count": 8,
   "id": "a75de6df-4b2e-4379-8c16-0298431f17bd",
   "metadata": {},
   "outputs": [],
   "source": [
    "for m,df in Hourly_results.items():\n",
    "    df.to_csv(f'M4/model_results/Hourly/{m}.csv')"
   ]
  },
  {
   "cell_type": "code",
   "execution_count": 9,
   "id": "f6fab4b0-4c17-44ba-a7f2-444039cf7d4d",
   "metadata": {},
   "outputs": [],
   "source": [
    "del Hourly\n",
    "del Hourly_test\n",
    "del Hourly_results_template\n",
    "del Hourly_results"
   ]
  },
  {
   "cell_type": "markdown",
   "id": "d5c24cd2-7ac4-467b-8976-8de0dc7e6472",
   "metadata": {},
   "source": [
    "## Daily"
   ]
  },
  {
   "cell_type": "code",
   "execution_count": 5,
   "id": "75fe7738-4558-4ea9-8027-f614bcd88536",
   "metadata": {},
   "outputs": [],
   "source": [
    "Daily = pd.read_csv(\n",
    "    f'm4/train/Daily-train.csv',\n",
    "    index_col=0,\n",
    ")\n",
    "#Daily = Daily.sample(50)"
   ]
  },
  {
   "cell_type": "code",
   "execution_count": 6,
   "id": "f6044262-0768-4751-a45a-c2a04ca67d9b",
   "metadata": {},
   "outputs": [],
   "source": [
    "Daily_test = pd.read_csv(\n",
    "    f'm4/test/Daily-test.csv',\n",
    "    index_col=0,\n",
    ")\n",
    "#Daily_test = Daily_test.loc[Daily.index]\n",
    "\n",
    "Daily_results_template = pd.DataFrame(\n",
    "    columns=Daily_test.columns,\n",
    "    index=Daily_test.index,\n",
    ")\n",
    "\n",
    "Daily_results = {}"
   ]
  },
  {
   "cell_type": "code",
   "execution_count": null,
   "id": "32629487-6502-4866-879c-d726800a72d7",
   "metadata": {
    "tags": []
   },
   "outputs": [
    {
     "data": {
      "application/vnd.jupyter.widget-view+json": {
       "model_id": "5a8178ac48534506950032ebd88741f5",
       "version_major": 2,
       "version_minor": 0
      },
      "text/plain": [
       "  0%|          | 0/4227 [00:00<?, ?it/s]"
      ]
     },
     "metadata": {},
     "output_type": "display_data"
    }
   ],
   "source": [
    "for i in tqdm(Daily.index):\n",
    "    y = Daily.loc[i].dropna()\n",
    "    sd = info.loc[i,'StartingDate']\n",
    "    fcst_horizon = info.loc[i,'Horizon']\n",
    "    cd = pd.date_range(\n",
    "        start = sd,\n",
    "        freq = 'D',\n",
    "        periods = len(y),\n",
    "    )\n",
    "    f = Forecaster(\n",
    "        y = y,\n",
    "        current_dates = cd,\n",
    "        future_dates = fcst_horizon,\n",
    "    )\n",
    "    set_validation_params(f,fcst_horizon=fcst_horizon)\n",
    "    transformer, reverter = find_optimal_transformation(\n",
    "        f,\n",
    "        monitor = 'TestSetRMSE',\n",
    "        estimator = 'svr',\n",
    "    )\n",
    "    pipeline = Pipeline(\n",
    "        steps = [\n",
    "            ('Transform',transformer),\n",
    "            ('Forecast',forecaster),\n",
    "            ('Revert',reverter),\n",
    "        ]\n",
    "    )\n",
    "    try:\n",
    "        f = pipeline.fit_predict(\n",
    "            f,\n",
    "            models=models,\n",
    "        )\n",
    "    except:\n",
    "        f.diff()\n",
    "        forecaster(f,models)\n",
    "    fcsts = f.export('lvl_fcsts',determine_best_by='LevelTestSetMAE')\n",
    "    for m in f.history.keys():\n",
    "        if m in Daily_results:\n",
    "            Daily_results[m].loc[i] = fcsts[m].to_list()\n",
    "        else:\n",
    "            df = Daily_results_template.copy()\n",
    "            df.loc[i] = fcsts[m].to_list()\n",
    "            Daily_results[m] = df\n",
    "    if 'auto_select' in Daily_results:\n",
    "        Daily_results['auto_select'].loc[i] = fcsts.iloc[:,1].to_list()\n",
    "    else:\n",
    "        df = Daily_results_template.copy()\n",
    "        df.loc[i] = fcsts.iloc[:,1].to_list()\n",
    "        Daily_results['auto_select'] = df"
   ]
  },
  {
   "cell_type": "code",
   "execution_count": null,
   "id": "72a0fda2-02bf-4c7c-bdda-faf4c39eaf8f",
   "metadata": {},
   "outputs": [],
   "source": [
    "for m,df in Daily_results.items():\n",
    "    df.to_csv(f'M4/model_results/Daily/{m}.csv')"
   ]
  },
  {
   "cell_type": "code",
   "execution_count": null,
   "id": "a82452b3-eff2-4e23-89fa-b6c167f51cf0",
   "metadata": {},
   "outputs": [],
   "source": [
    "del Daily\n",
    "del Daily_test\n",
    "del Daily_results_template\n",
    "del Daily_results"
   ]
  },
  {
   "cell_type": "markdown",
   "id": "3a7493b2-f7b9-4de6-becc-0f97690aba27",
   "metadata": {},
   "source": [
    "## Weekly"
   ]
  },
  {
   "cell_type": "code",
   "execution_count": 37,
   "id": "642c7bc7-f606-43f4-b49e-9460db300a9f",
   "metadata": {},
   "outputs": [],
   "source": [
    "Weekly = pd.read_csv(\n",
    "    f'm4/train/Weekly-train.csv',\n",
    "    index_col=0,\n",
    ")"
   ]
  },
  {
   "cell_type": "code",
   "execution_count": 38,
   "id": "7bd96198-0b75-46eb-a115-304fb009e7af",
   "metadata": {},
   "outputs": [],
   "source": [
    "Weekly_test = pd.read_csv(\n",
    "    f'm4/test/Weekly-test.csv',\n",
    "    index_col=0,\n",
    ")\n",
    "\n",
    "Weekly_results_template = pd.DataFrame(\n",
    "    columns=Weekly_test.columns,\n",
    "    index=Weekly_test.index,\n",
    ")\n",
    "\n",
    "Weekly_results = {}"
   ]
  },
  {
   "cell_type": "code",
   "execution_count": 39,
   "id": "21bf1a7b-50fa-45d6-92c1-a4c97db1d28d",
   "metadata": {},
   "outputs": [
    {
     "data": {
      "application/vnd.jupyter.widget-view+json": {
       "model_id": "7c28c3207ca44b30b4bdf372fb17d918",
       "version_major": 2,
       "version_minor": 0
      },
      "text/plain": [
       "  0%|          | 0/359 [00:00<?, ?it/s]"
      ]
     },
     "metadata": {},
     "output_type": "display_data"
    }
   ],
   "source": [
    "for i in tqdm(Weekly.index):\n",
    "    y = Weekly.loc[i].dropna()\n",
    "    sd = info.loc[i,'StartingDate']\n",
    "    fcst_horizon = info.loc[i,'Horizon']\n",
    "    cd = pd.date_range(\n",
    "        start = sd,\n",
    "        freq = 'W',\n",
    "        periods = len(y),\n",
    "    )\n",
    "    f = Forecaster(\n",
    "        y = y,\n",
    "        current_dates = cd,\n",
    "        future_dates = fcst_horizon,\n",
    "    )\n",
    "    set_validation_params(f,fcst_horizon)\n",
    "    transformer, reverter = find_optimal_transformation(\n",
    "        f,\n",
    "        **opt_transform_kwargs,\n",
    "        lags = fcst_horizon,\n",
    "        m = 52,\n",
    "    )\n",
    "    pipeline = Pipeline(\n",
    "        steps = [\n",
    "            ('Transform',transformer),\n",
    "            ('Forecast',forecaster),\n",
    "            ('Revert',reverter),\n",
    "        ]\n",
    "    )\n",
    "    f = pipeline.fit_predict(f,models=models,max_ar=52)\n",
    "    fcsts = f.export('lvl_fcsts',determine_best_by='LevelTestSetMAE')\n",
    "    for m in f.history.keys():\n",
    "        if m in Weekly_results:\n",
    "            Weekly_results[m].loc[i] = fcsts[m].to_list()\n",
    "        else:\n",
    "            df = Weekly_results_template.copy()\n",
    "            df.loc[i] = fcsts[m].to_list()\n",
    "            Weekly_results[m] = df\n",
    "    if 'auto_select' in Weekly_results:\n",
    "        Weekly_results['auto_select'].loc[i] = fcsts.iloc[:,1].to_list()\n",
    "    else:\n",
    "        df = Weekly_results_template.copy()\n",
    "        df.loc[i] = fcsts.iloc[:,1].to_list()\n",
    "        Weekly_results['auto_select'] = df"
   ]
  },
  {
   "cell_type": "code",
   "execution_count": 40,
   "id": "16383873-bec2-4e65-848a-dd0364e44188",
   "metadata": {},
   "outputs": [],
   "source": [
    "for m,df in Weekly_results.items():\n",
    "    df.to_csv(f'M4/model_results/Weekly/{m}.csv')"
   ]
  },
  {
   "cell_type": "code",
   "execution_count": 41,
   "id": "8bb19ec5-2d37-4f9d-b5dd-eabcfbe62bf1",
   "metadata": {},
   "outputs": [],
   "source": [
    "del Weekly\n",
    "del Weekly_test\n",
    "del Weekly_results_template\n",
    "del Weekly_results"
   ]
  },
  {
   "cell_type": "markdown",
   "id": "6a90c11c-cfff-43da-a35a-6019a10c582a",
   "metadata": {},
   "source": [
    "## Monthly"
   ]
  },
  {
   "cell_type": "code",
   "execution_count": null,
   "id": "41bd453d-8543-4281-b18c-325f72bb843a",
   "metadata": {},
   "outputs": [],
   "source": [
    "Monthly = pd.read_csv(\n",
    "    f'm4/train/Monthly-train.csv',\n",
    "    index_col=0,\n",
    ")\n",
    "#Monthly = Monthly.sample(100)"
   ]
  },
  {
   "cell_type": "code",
   "execution_count": 51,
   "id": "81a0027a-85cf-4bf5-b6d7-79dd6b4e9b26",
   "metadata": {},
   "outputs": [],
   "source": [
    "Monthly_test = pd.read_csv(\n",
    "    f'm4/test/Monthly-test.csv',\n",
    "    index_col=0,\n",
    ")\n",
    "#Monthly_test = Monthly_test.loc[Monthly.index]\n",
    "\n",
    "Monthly_results_template = pd.DataFrame(\n",
    "    columns=Monthly_test.columns,\n",
    "    index=Monthly_test.index,\n",
    ")\n",
    "\n",
    "Monthly_results = {}"
   ]
  },
  {
   "cell_type": "code",
   "execution_count": 52,
   "id": "c80925ca-40ce-4034-ba42-b3d726a76be9",
   "metadata": {},
   "outputs": [
    {
     "data": {
      "application/vnd.jupyter.widget-view+json": {
       "model_id": "fed13ff3639642ffb3b20845924a9421",
       "version_major": 2,
       "version_minor": 0
      },
      "text/plain": [
       "  0%|          | 0/48000 [00:00<?, ?it/s]"
      ]
     },
     "metadata": {},
     "output_type": "display_data"
    }
   ],
   "source": [
    "for i in tqdm(Monthly.index):\n",
    "    y = Monthly.loc[i].dropna()\n",
    "    sd = info.loc[i,'StartingDate']\n",
    "    fcst_horizon = info.loc[i,'Horizon']\n",
    "    cd = pd.date_range(\n",
    "        start = sd,\n",
    "        freq = 'M',\n",
    "        periods = len(y),\n",
    "    )\n",
    "    f = Forecaster(\n",
    "        y = y,\n",
    "        current_dates = cd,\n",
    "        future_dates = fcst_horizon,\n",
    "    )\n",
    "    set_validation_params(f,fcst_horizon=fcst_horizon)\n",
    "    transformer = Transformer(\n",
    "        transformers = [\n",
    "            ('LogTransform',),\n",
    "            ('DiffTransform',1),\n",
    "        ]\n",
    "    )\n",
    "    reverter = Reverter(\n",
    "        reverters = [\n",
    "            ('DiffRevert',1),\n",
    "            ('LogRevert',),\n",
    "        ],\n",
    "        base_transformer = transformer,\n",
    "    )\n",
    "    pipeline = Pipeline(\n",
    "        steps = [\n",
    "            ('Transform',transformer),\n",
    "            ('Forecast',forecaster),\n",
    "            ('Revert',reverter),\n",
    "        ]\n",
    "    )\n",
    "    f = pipeline.fit_predict(f,models=models,max_ar=100)\n",
    "    fcsts = f.export('lvl_fcsts',determine_best_by='LevelTestSetRMSE')\n",
    "    for m in f.history.keys():\n",
    "        if m in Monthly_results:\n",
    "            Monthly_results[m].loc[i] = fcsts[m].to_list()\n",
    "        else:\n",
    "            df = Monthly_results_template.copy()\n",
    "            df.loc[i] = fcsts[m].to_list()\n",
    "            Monthly_results[m] = df\n",
    "    if 'auto_select' in Monthly_results:\n",
    "        Monthly_results['auto_select'].loc[i] = fcsts.iloc[:,1].to_list()\n",
    "    else:\n",
    "        df = Monthly_results_template.copy()\n",
    "        df.loc[i] = fcsts.iloc[:,1].to_list()\n",
    "        Monthly_results['auto_select'] = df"
   ]
  },
  {
   "cell_type": "code",
   "execution_count": 53,
   "id": "e51a9723-6411-4e15-a2b0-ac373c776f23",
   "metadata": {},
   "outputs": [],
   "source": [
    "for m,df in Monthly_results.items():\n",
    "    df.to_csv(f'M4/model_results/Monthly/{m}.csv')"
   ]
  },
  {
   "cell_type": "code",
   "execution_count": 54,
   "id": "f3e3c252-5776-44ef-b0af-24828590e27d",
   "metadata": {},
   "outputs": [],
   "source": [
    "del Monthly\n",
    "del Monthly_test\n",
    "del Monthly_results_template\n",
    "del Monthly_results"
   ]
  },
  {
   "cell_type": "markdown",
   "id": "bc378ab6-176c-48b6-ae34-610cbe67ab9f",
   "metadata": {},
   "source": [
    "## Quarterly"
   ]
  },
  {
   "cell_type": "code",
   "execution_count": 5,
   "id": "eb3c3621-5234-4e42-bcd0-84e92ccb80ff",
   "metadata": {},
   "outputs": [],
   "source": [
    "Quarterly = pd.read_csv(\n",
    "    f'm4/train/Quarterly-train.csv',\n",
    "    index_col=0,\n",
    ")"
   ]
  },
  {
   "cell_type": "code",
   "execution_count": 6,
   "id": "42000399-c1d1-42ea-9775-94b676de5bc5",
   "metadata": {},
   "outputs": [],
   "source": [
    "Quarterly_test = pd.read_csv(\n",
    "    f'm4/test/Quarterly-test.csv',\n",
    "    index_col=0,\n",
    ")\n",
    "\n",
    "Quarterly_results_template = pd.DataFrame(\n",
    "    columns=Quarterly_test.columns,\n",
    "    index=Quarterly_test.index,\n",
    ")\n",
    "\n",
    "Quarterly_results = {}"
   ]
  },
  {
   "cell_type": "code",
   "execution_count": 7,
   "id": "69676a53-73d6-482b-b107-f406bf9140b5",
   "metadata": {},
   "outputs": [
    {
     "data": {
      "application/vnd.jupyter.widget-view+json": {
       "model_id": "d4584748f3e74ad5a3db63879d8a4f81",
       "version_major": 2,
       "version_minor": 0
      },
      "text/plain": [
       "  0%|          | 0/24000 [00:00<?, ?it/s]"
      ]
     },
     "metadata": {},
     "output_type": "display_data"
    }
   ],
   "source": [
    "for i in tqdm(Quarterly.index):\n",
    "    y = Quarterly.loc[i].dropna()\n",
    "    sd = info.loc[i,'StartingDate']\n",
    "    fcst_horizon = info.loc[i,'Horizon']\n",
    "    cd = pd.date_range(\n",
    "        start = sd,\n",
    "        freq = 'Q',\n",
    "        periods = len(y),\n",
    "    )\n",
    "    f = Forecaster(\n",
    "        y = y,\n",
    "        current_dates = cd,\n",
    "        future_dates = fcst_horizon,\n",
    "    )\n",
    "    set_validation_params(f,fcst_horizon=fcst_horizon)\n",
    "    transformer = Transformer(\n",
    "        transformers = [\n",
    "            ('LogTransform',),\n",
    "            ('DiffTransform',1),\n",
    "        ]\n",
    "    )\n",
    "    reverter = Reverter(\n",
    "        reverters = [\n",
    "            ('DiffRevert',1),\n",
    "            ('LogRevert',),\n",
    "        ],\n",
    "        base_transformer = transformer,\n",
    "    )\n",
    "    pipeline = Pipeline(\n",
    "        steps = [\n",
    "            ('Transform',transformer),\n",
    "            ('Forecast',forecaster),\n",
    "            ('Revert',reverter),\n",
    "        ]\n",
    "    )\n",
    "    f = pipeline.fit_predict(f,models=models,max_ar=48)\n",
    "    fcsts = f.export('lvl_fcsts',determine_best_by='LevelTestSetRMSE')\n",
    "    for m in f.history.keys():\n",
    "        if m in Quarterly_results:\n",
    "            Quarterly_results[m].loc[i] = fcsts[m].to_list()\n",
    "        else:\n",
    "            df = Quarterly_results_template.copy()\n",
    "            df.loc[i] = fcsts[m].to_list()\n",
    "            Quarterly_results[m] = df\n",
    "    if 'auto_select' in Quarterly_results:\n",
    "        Quarterly_results['auto_select'].loc[i] = fcsts.iloc[:,1].to_list()\n",
    "    else:\n",
    "        df = Quarterly_results_template.copy()\n",
    "        df.loc[i] = fcsts.iloc[:,1].to_list()\n",
    "        Quarterly_results['auto_select'] = df"
   ]
  },
  {
   "cell_type": "code",
   "execution_count": 8,
   "id": "02aa35bd-6b17-4ccd-b03c-e7ce423f9c88",
   "metadata": {},
   "outputs": [],
   "source": [
    "for m,df in Quarterly_results.items():\n",
    "    df.to_csv(f'M4/model_results/Quarterly/{m}.csv')"
   ]
  },
  {
   "cell_type": "code",
   "execution_count": 9,
   "id": "4d31a5d9-32d9-4783-aaa8-7354670b5193",
   "metadata": {},
   "outputs": [],
   "source": [
    "del Quarterly\n",
    "del Quarterly_test\n",
    "del Quarterly_results_template\n",
    "del Quarterly_results"
   ]
  },
  {
   "cell_type": "markdown",
   "id": "f82ea0ce-74be-4441-a3f0-3423b658cbc1",
   "metadata": {},
   "source": [
    "## Yearly"
   ]
  },
  {
   "cell_type": "code",
   "execution_count": 10,
   "id": "fdf42fb1-148c-4a99-9c14-7cafbcdb3298",
   "metadata": {},
   "outputs": [],
   "source": [
    "Yearly = pd.read_csv(\n",
    "    f'm4/train/Yearly-train.csv',\n",
    "    index_col=0,\n",
    ")"
   ]
  },
  {
   "cell_type": "code",
   "execution_count": 11,
   "id": "bda22ab4-89e5-4d04-a5a0-e69b46d93b27",
   "metadata": {},
   "outputs": [],
   "source": [
    "Yearly_test = pd.read_csv(\n",
    "    f'm4/test/Yearly-test.csv',\n",
    "    index_col=0,\n",
    ")\n",
    "\n",
    "Yearly_results_template = pd.DataFrame(\n",
    "    columns=Yearly_test.columns,\n",
    "    index=Yearly_test.index,\n",
    ")\n",
    "\n",
    "Yearly_results = {}"
   ]
  },
  {
   "cell_type": "code",
   "execution_count": 13,
   "id": "887c3f90-16e0-459c-83e1-16f0174d8946",
   "metadata": {},
   "outputs": [
    {
     "data": {
      "application/vnd.jupyter.widget-view+json": {
       "model_id": "4b03a365ecba497ebc6e427682c1a687",
       "version_major": 2,
       "version_minor": 0
      },
      "text/plain": [
       "  0%|          | 0/23000 [00:00<?, ?it/s]"
      ]
     },
     "metadata": {},
     "output_type": "display_data"
    }
   ],
   "source": [
    "for i in tqdm(Yearly.index):\n",
    "    y = Yearly.loc[i].dropna()\n",
    "    sd = info.loc[i,'StartingDate']\n",
    "    fcst_horizon = info.loc[i,'Horizon']\n",
    "    cd = pd.date_range(\n",
    "        start = sd,\n",
    "        freq = 'D', # for yearly it doesn't matter and will break if Y\n",
    "        periods = len(y),\n",
    "    )\n",
    "    f = Forecaster(\n",
    "        y = y,\n",
    "        current_dates = cd,\n",
    "        future_dates = fcst_horizon,\n",
    "    )\n",
    "    set_validation_params(f,fcst_horizon=fcst_horizon)\n",
    "    transformer = Transformer(\n",
    "        transformers = [\n",
    "            ('LogTransform',),\n",
    "            ('DiffTransform',1),\n",
    "        ]\n",
    "    )\n",
    "    reverter = Reverter(\n",
    "        reverters = [\n",
    "            ('DiffRevert',1),\n",
    "            ('LogRevert',),\n",
    "        ],\n",
    "        base_transformer = transformer,\n",
    "    )\n",
    "    f = pipeline.fit_predict(f,models=models,max_ar=20)\n",
    "    fcsts = f.export('lvl_fcsts',determine_best_by='LevelTestSetRMSE')\n",
    "    for m in f.history.keys():\n",
    "        if m in Yearly_results:\n",
    "            Yearly_results[m].loc[i] = fcsts[m].to_list()\n",
    "        else:\n",
    "            df = Yearly_results_template.copy()\n",
    "            df.loc[i] = fcsts[m].to_list()\n",
    "            Yearly_results[m] = df\n",
    "    if 'auto_select' in Yearly_results:\n",
    "        Yearly_results['auto_select'].loc[i] = fcsts.iloc[:,1].to_list()\n",
    "    else:\n",
    "        df = Yearly_results_template.copy()\n",
    "        df.loc[i] = fcsts.iloc[:,1].to_list()\n",
    "        Yearly_results['auto_select'] = df"
   ]
  },
  {
   "cell_type": "code",
   "execution_count": 14,
   "id": "9151890d-d61c-4fe6-98c3-9be0fc3ad702",
   "metadata": {},
   "outputs": [],
   "source": [
    "for m,df in Yearly_results.items():\n",
    "    df.to_csv(f'M4/model_results/Yearly/{m}.csv')"
   ]
  },
  {
   "cell_type": "code",
   "execution_count": 15,
   "id": "38e27dcb-6e8b-47a1-b287-e3e1e1b33e82",
   "metadata": {},
   "outputs": [],
   "source": [
    "del Yearly\n",
    "del Yearly_test\n",
    "del Yearly_results_template\n",
    "del Yearly_results"
   ]
  },
  {
   "cell_type": "code",
   "execution_count": null,
   "id": "2287c1db-5d37-4233-bebc-f7b2e02e5497",
   "metadata": {},
   "outputs": [],
   "source": []
  }
 ],
 "metadata": {
  "kernelspec": {
   "display_name": "Python 3",
   "language": "python",
   "name": "python3"
  },
  "language_info": {
   "codemirror_mode": {
    "name": "ipython",
    "version": 3
   },
   "file_extension": ".py",
   "mimetype": "text/x-python",
   "name": "python",
   "nbconvert_exporter": "python",
   "pygments_lexer": "ipython3",
   "version": "3.8.8"
  },
  "widgets": {
   "application/vnd.jupyter.widget-state+json": {
    "state": {
     "02344f0ccc61433d8bb55fd63db4eff8": {
      "model_module": "@jupyter-widgets/controls",
      "model_module_version": "1.5.0",
      "model_name": "FloatProgressModel",
      "state": {
       "layout": "IPY_MODEL_c86f4cf6df114e5d8d3307e3c22c9fe0",
       "max": 4227,
       "style": "IPY_MODEL_9f530b69a8e84cb78c49766d947f07f9",
       "value": 3
      }
     },
     "1ad35e8cfdec4494bf40464b80bd9aea": {
      "model_module": "@jupyter-widgets/base",
      "model_module_version": "1.2.0",
      "model_name": "LayoutModel",
      "state": {}
     },
     "1c50a796d8044ec5ad0ee44c189cb2e7": {
      "model_module": "@jupyter-widgets/controls",
      "model_module_version": "1.5.0",
      "model_name": "DescriptionStyleModel",
      "state": {
       "description_width": ""
      }
     },
     "2c5fd5ed85ea480f8e81993e60757427": {
      "model_module": "@jupyter-widgets/base",
      "model_module_version": "1.2.0",
      "model_name": "LayoutModel",
      "state": {}
     },
     "5a8178ac48534506950032ebd88741f5": {
      "model_module": "@jupyter-widgets/controls",
      "model_module_version": "1.5.0",
      "model_name": "HBoxModel",
      "state": {
       "children": [
        "IPY_MODEL_8d80def4614043f9ad900c09aaee9728",
        "IPY_MODEL_02344f0ccc61433d8bb55fd63db4eff8",
        "IPY_MODEL_d026f661c1154091932b8c5474167d4a"
       ],
       "layout": "IPY_MODEL_2c5fd5ed85ea480f8e81993e60757427"
      }
     },
     "69c96aecf6c54176bb36aa0a7cf85da6": {
      "model_module": "@jupyter-widgets/base",
      "model_module_version": "1.2.0",
      "model_name": "LayoutModel",
      "state": {}
     },
     "8d80def4614043f9ad900c09aaee9728": {
      "model_module": "@jupyter-widgets/controls",
      "model_module_version": "1.5.0",
      "model_name": "HTMLModel",
      "state": {
       "layout": "IPY_MODEL_69c96aecf6c54176bb36aa0a7cf85da6",
       "style": "IPY_MODEL_1c50a796d8044ec5ad0ee44c189cb2e7",
       "value": "  0%"
      }
     },
     "9f530b69a8e84cb78c49766d947f07f9": {
      "model_module": "@jupyter-widgets/controls",
      "model_module_version": "1.5.0",
      "model_name": "ProgressStyleModel",
      "state": {
       "description_width": ""
      }
     },
     "afa4f8770b59422abdb340a41d284c7e": {
      "model_module": "@jupyter-widgets/controls",
      "model_module_version": "1.5.0",
      "model_name": "DescriptionStyleModel",
      "state": {
       "description_width": ""
      }
     },
     "c86f4cf6df114e5d8d3307e3c22c9fe0": {
      "model_module": "@jupyter-widgets/base",
      "model_module_version": "1.2.0",
      "model_name": "LayoutModel",
      "state": {}
     },
     "d026f661c1154091932b8c5474167d4a": {
      "model_module": "@jupyter-widgets/controls",
      "model_module_version": "1.5.0",
      "model_name": "HTMLModel",
      "state": {
       "layout": "IPY_MODEL_1ad35e8cfdec4494bf40464b80bd9aea",
       "style": "IPY_MODEL_afa4f8770b59422abdb340a41d284c7e",
       "value": " 3/4227 [01:19&lt;26:18:09, 22.42s/it]"
      }
     }
    },
    "version_major": 2,
    "version_minor": 0
   }
  }
 },
 "nbformat": 4,
 "nbformat_minor": 5
}
