{
 "cells": [
  {
   "cell_type": "code",
   "execution_count": 1,
   "id": "d6c8f66f-661d-4ab8-970d-a82067be459e",
   "metadata": {},
   "outputs": [],
   "source": [
    "import numpy as np\n",
    "import pandas as pd\n",
    "import seaborn as sns\n",
    "import matplotlib\n",
    "import matplotlib.ticker as ticker\n",
    "import matplotlib.pyplot as plt\n",
    "from scalecast.Forecaster import Forecaster\n",
    "from scalecast.MVForecaster import MVForecaster\n",
    "from scalecast.multiseries import export_model_summaries\n",
    "from scalecast import GridGenerator\n",
    "from sklearn.linear_model import LinearRegression\n",
    "\n",
    "sns.set(rc={'figure.figsize':(12,8)})"
   ]
  },
  {
   "cell_type": "code",
   "execution_count": 2,
   "id": "43a1bdd9-fe42-452a-849e-31c5e1f8c170",
   "metadata": {},
   "outputs": [],
   "source": [
    "data = pd.read_csv('avocado.csv',parse_dates=['Date']).sort_values(['Date'])\n",
    "data = data.sort_values(['region','type','Date'])\n",
    "\n",
    "data_cali = data.loc[data['region'] == 'California']\n",
    "data_cali_org = data_cali.loc[data_cali['type'] == 'organic']\n",
    "data_cali_con = data_cali.loc[data_cali['type'] == 'conventional']\n",
    "\n",
    "data_cali_org_vol = data_cali_org[['Date','Total Volume']]\n",
    "data_cali_org_px = data_cali_org[['Date','AveragePrice']]\n",
    "data_cali_org_bag = data_cali_org[['Date','Small Bags']]\n",
    "data_cali_org['Total Volume Shift'] = data_cali_org['Total Volume'].shift()\n",
    "\n",
    "f_vol = Forecaster(data_cali_org['Total Volume'],current_dates = data_cali_org['Date'])\n",
    "f_px = Forecaster(data_cali_org['AveragePrice'],current_dates = data_cali_org['Date'])\n",
    "\n",
    "data_cali_org.dropna(inplace=True)"
   ]
  },
  {
   "cell_type": "code",
   "execution_count": 13,
   "id": "f3ebea3e-ce12-45a7-94b4-488a9048b732",
   "metadata": {},
   "outputs": [],
   "source": [
    "data_cali_org_px = data_cali_org['AveragePrice'].values.reshape((-1,1))\n",
    "data_cali_org_vol = data_cali_org['Total Volume Shift'].values"
   ]
  },
  {
   "cell_type": "code",
   "execution_count": 14,
   "id": "e575a504-0417-405f-b945-2cf113e1715c",
   "metadata": {},
   "outputs": [
    {
     "data": {
      "text/plain": [
       "168"
      ]
     },
     "execution_count": 14,
     "metadata": {},
     "output_type": "execute_result"
    }
   ],
   "source": [
    "len(data_cali_org_px)"
   ]
  },
  {
   "cell_type": "code",
   "execution_count": 15,
   "id": "82020743-e98d-4cb4-b4f4-e96743d0ca18",
   "metadata": {},
   "outputs": [
    {
     "data": {
      "text/plain": [
       "168"
      ]
     },
     "execution_count": 15,
     "metadata": {},
     "output_type": "execute_result"
    }
   ],
   "source": [
    "len(data_cali_org_vol)"
   ]
  },
  {
   "cell_type": "code",
   "execution_count": 16,
   "id": "c14cc51a-fab4-42f5-955c-aae759d5fd25",
   "metadata": {},
   "outputs": [
    {
     "data": {
      "text/plain": [
       "0.14212385816259876"
      ]
     },
     "execution_count": 16,
     "metadata": {},
     "output_type": "execute_result"
    }
   ],
   "source": [
    "model = LinearRegression(fit_intercept=True).fit(data_cali_org_px, data_cali_org_vol)\n",
    "r_sq = model.score(data_cali_org_px, data_cali_org_vol)\n",
    "r_sq"
   ]
  },
  {
   "cell_type": "code",
   "execution_count": 17,
   "id": "ebf715be-9562-4011-a507-17b364b13f2e",
   "metadata": {},
   "outputs": [],
   "source": []
  },
  {
   "cell_type": "code",
   "execution_count": 18,
   "id": "37e281a1-e95f-4811-b413-c335d863f8ab",
   "metadata": {},
   "outputs": [
    {
     "ename": "NameError",
     "evalue": "name 'models' is not defined",
     "output_type": "error",
     "traceback": [
      "\u001b[1;31m---------------------------------------------------------------------------\u001b[0m",
      "\u001b[1;31mNameError\u001b[0m                                 Traceback (most recent call last)",
      "\u001b[1;32m<ipython-input-18-061252936ce7>\u001b[0m in \u001b[0;36m<module>\u001b[1;34m\u001b[0m\n\u001b[0;32m      3\u001b[0m \u001b[0mmvf\u001b[0m\u001b[1;33m.\u001b[0m\u001b[0mset_validation_length\u001b[0m\u001b[1;33m(\u001b[0m\u001b[1;36m4\u001b[0m\u001b[1;33m)\u001b[0m\u001b[1;33m\u001b[0m\u001b[1;33m\u001b[0m\u001b[0m\n\u001b[0;32m      4\u001b[0m \u001b[0mmvf\u001b[0m\u001b[1;33m.\u001b[0m\u001b[0mset_optimize_on\u001b[0m\u001b[1;33m(\u001b[0m\u001b[1;34m'Volume'\u001b[0m\u001b[1;33m)\u001b[0m\u001b[1;33m\u001b[0m\u001b[1;33m\u001b[0m\u001b[0m\n\u001b[1;32m----> 5\u001b[1;33m \u001b[0mmvf\u001b[0m\u001b[1;33m.\u001b[0m\u001b[0mtune_test_forecast\u001b[0m\u001b[1;33m(\u001b[0m\u001b[0mmodels\u001b[0m\u001b[1;33m)\u001b[0m\u001b[1;33m\u001b[0m\u001b[1;33m\u001b[0m\u001b[0m\n\u001b[0m\u001b[0;32m      6\u001b[0m \u001b[0mmvf\u001b[0m\u001b[1;33m.\u001b[0m\u001b[0mset_best_model\u001b[0m\u001b[1;33m(\u001b[0m\u001b[0mdetermine_best_by\u001b[0m\u001b[1;33m=\u001b[0m\u001b[1;34m'LevelTestSetMAPE'\u001b[0m\u001b[1;33m)\u001b[0m\u001b[1;33m\u001b[0m\u001b[1;33m\u001b[0m\u001b[0m\n",
      "\u001b[1;31mNameError\u001b[0m: name 'models' is not defined"
     ]
    }
   ],
   "source": [
    "mvf = MVForecaster(f_vol,f_px,names=['Volume','Price']) # init the mvf object\n",
    "mvf.set_test_length(.2)\n",
    "mvf.set_validation_length(4)\n",
    "mvf.set_optimize_on('Volume')\n",
    "mvf.set_estimator()\n",
    "mvf.manual_forecast()"
   ]
  },
  {
   "cell_type": "code",
   "execution_count": null,
   "id": "1aedfb56-44fb-4f77-89d5-bbcda2a0cefb",
   "metadata": {},
   "outputs": [],
   "source": []
  }
 ],
 "metadata": {
  "kernelspec": {
   "display_name": "Python 3",
   "language": "python",
   "name": "python3"
  },
  "language_info": {
   "codemirror_mode": {
    "name": "ipython",
    "version": 3
   },
   "file_extension": ".py",
   "mimetype": "text/x-python",
   "name": "python",
   "nbconvert_exporter": "python",
   "pygments_lexer": "ipython3",
   "version": "3.8.8"
  },
  "widgets": {
   "application/vnd.jupyter.widget-state+json": {
    "state": {},
    "version_major": 2,
    "version_minor": 0
   }
  }
 },
 "nbformat": 4,
 "nbformat_minor": 5
}
