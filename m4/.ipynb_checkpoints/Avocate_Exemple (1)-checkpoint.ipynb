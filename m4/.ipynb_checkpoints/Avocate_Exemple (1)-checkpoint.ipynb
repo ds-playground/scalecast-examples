{
 "cells": [
  {
   "cell_type": "code",
   "execution_count": 32,
   "id": "6c4e1e9b",
   "metadata": {},
   "outputs": [],
   "source": [
    "import numpy as np\n",
    "import pandas as pd\n",
    "import seaborn as sns\n",
    "import matplotlib\n",
    "import matplotlib.ticker as ticker\n",
    "import matplotlib.pyplot as plt\n",
    "from scalecast.Forecaster import Forecaster\n",
    "from scalecast.MVForecaster import MVForecaster\n",
    "from scalecast.multiseries import export_model_summaries\n",
    "from scalecast import GridGenerator\n",
    "from sklearn.linear_model import LinearRegression\n",
    "\n",
    "sns.set(rc={'figure.figsize':(12,8)})"
   ]
  },
  {
   "cell_type": "code",
   "execution_count": 6,
   "id": "b5a0a410",
   "metadata": {},
   "outputs": [],
   "source": [
    "data = pd.read_csv('avocado.csv',parse_dates=['Date']).sort_values(['Date'])\n",
    "data = data.sort_values(['region','type','Date'])\n",
    "\n",
    "data_cali = data.loc[data['region'] == 'California']\n",
    "data_cali_org = data_cali.loc[data_cali['type'] == 'organic']\n",
    "data_cali_con = data_cali.loc[data_cali['type'] == 'conventional']"
   ]
  },
  {
   "cell_type": "markdown",
   "id": "9dcb3af6",
   "metadata": {},
   "source": [
    "I want to predict Volume using AvaragePrice,for exemple"
   ]
  },
  {
   "cell_type": "code",
   "execution_count": 8,
   "id": "f2a65a05",
   "metadata": {},
   "outputs": [],
   "source": [
    "\n",
    "data_cali_org_vol = data_cali_org[['Date','Total Volume']]\n",
    "data_cali_org_px = data_cali_org[['Date','AveragePrice']]\n",
    "data_cali_org_bag = data_cali_org[['Date','Small Bags']]"
   ]
  },
  {
   "cell_type": "markdown",
   "id": "7c6a4d71",
   "metadata": {},
   "source": [
    "Using the MVForecaster:"
   ]
  },
  {
   "cell_type": "code",
   "execution_count": 7,
   "id": "ed569a59",
   "metadata": {},
   "outputs": [],
   "source": [
    "models = ('mlr','elasticnet','knn','rf','gbt','xgboost','mlp')\n",
    "GridGenerator.get_example_grids()\n",
    "GridGenerator.get_mv_grids()"
   ]
  },
  {
   "cell_type": "code",
   "execution_count": 9,
   "id": "ec912739",
   "metadata": {},
   "outputs": [],
   "source": [
    "f_vol = Forecaster(data_cali_org['Total Volume'],current_dates = data_cali_org['Date'])\n",
    "f_px = Forecaster(data_cali_org['AveragePrice'],current_dates = data_cali_org['Date'])\n",
    "#f_sb = Forecaster(data_cali_org['Small Bags'],current_dates = data_cali_org['Date'])"
   ]
  },
  {
   "cell_type": "code",
   "execution_count": 16,
   "id": "8b75d486",
   "metadata": {},
   "outputs": [],
   "source": [
    "mvf = MVForecaster(f_vol,f_px,names=['Volume','Price']) # init the mvf object\n",
    "mvf.set_test_length(.2)\n",
    "mvf.set_validation_length(4)\n",
    "mvf.set_optimize_on('Volume')\n",
    "mvf.tune_test_forecast(models)\n",
    "mvf.set_best_model(determine_best_by='LevelTestSetMAPE')"
   ]
  },
  {
   "cell_type": "code",
   "execution_count": 21,
   "id": "f7fe1a4a",
   "metadata": {},
   "outputs": [
    {
     "data": {
      "text/html": [
       "<div>\n",
       "<style scoped>\n",
       "    .dataframe tbody tr th:only-of-type {\n",
       "        vertical-align: middle;\n",
       "    }\n",
       "\n",
       "    .dataframe tbody tr th {\n",
       "        vertical-align: top;\n",
       "    }\n",
       "\n",
       "    .dataframe thead th {\n",
       "        text-align: right;\n",
       "    }\n",
       "</style>\n",
       "<table border=\"1\" class=\"dataframe\">\n",
       "  <thead>\n",
       "    <tr style=\"text-align: right;\">\n",
       "      <th></th>\n",
       "      <th>ModelNickname</th>\n",
       "      <th>Series</th>\n",
       "      <th>HyperParams</th>\n",
       "      <th>LevelTestSetMAPE</th>\n",
       "      <th>LevelTestSetR2</th>\n",
       "      <th>InSampleMAPE</th>\n",
       "      <th>InSampleR2</th>\n",
       "      <th>Lags</th>\n",
       "    </tr>\n",
       "  </thead>\n",
       "  <tbody>\n",
       "    <tr>\n",
       "      <th>0</th>\n",
       "      <td>mlr</td>\n",
       "      <td>Volume</td>\n",
       "      <td>{}</td>\n",
       "      <td>0.147779</td>\n",
       "      <td>-0.103135</td>\n",
       "      <td>0.113658</td>\n",
       "      <td>0.688821</td>\n",
       "      <td>1</td>\n",
       "    </tr>\n",
       "    <tr>\n",
       "      <th>1</th>\n",
       "      <td>elasticnet</td>\n",
       "      <td>Volume</td>\n",
       "      <td>{'alpha': 2, 'l1_ratio': 0}</td>\n",
       "      <td>0.151841</td>\n",
       "      <td>0.010941</td>\n",
       "      <td>0.113606</td>\n",
       "      <td>0.688510</td>\n",
       "      <td>1</td>\n",
       "    </tr>\n",
       "    <tr>\n",
       "      <th>2</th>\n",
       "      <td>knn</td>\n",
       "      <td>Volume</td>\n",
       "      <td>{'n_neighbors': 88}</td>\n",
       "      <td>0.215746</td>\n",
       "      <td>-0.159063</td>\n",
       "      <td>0.158867</td>\n",
       "      <td>0.587848</td>\n",
       "      <td>3</td>\n",
       "    </tr>\n",
       "    <tr>\n",
       "      <th>3</th>\n",
       "      <td>rf</td>\n",
       "      <td>Volume</td>\n",
       "      <td>{'max_depth': 5, 'n_estimators': 100, 'max_features': 'auto', 'max_samples': 1}</td>\n",
       "      <td>0.162041</td>\n",
       "      <td>-0.031288</td>\n",
       "      <td>0.292354</td>\n",
       "      <td>-0.028625</td>\n",
       "      <td>3</td>\n",
       "    </tr>\n",
       "    <tr>\n",
       "      <th>4</th>\n",
       "      <td>gbt</td>\n",
       "      <td>Volume</td>\n",
       "      <td>{'max_depth': 3, 'max_features': None}</td>\n",
       "      <td>0.191839</td>\n",
       "      <td>-1.004163</td>\n",
       "      <td>0.056094</td>\n",
       "      <td>0.937418</td>\n",
       "      <td>1</td>\n",
       "    </tr>\n",
       "    <tr>\n",
       "      <th>5</th>\n",
       "      <td>xgboost</td>\n",
       "      <td>Volume</td>\n",
       "      <td>{'n_estimators': 150, 'scale_pos_weight': 5, 'learning_rate': 0.1, 'gamma': 3, 'subsample': 0.9}</td>\n",
       "      <td>0.216964</td>\n",
       "      <td>-1.427472</td>\n",
       "      <td>0.001241</td>\n",
       "      <td>0.999969</td>\n",
       "      <td>6</td>\n",
       "    </tr>\n",
       "    <tr>\n",
       "      <th>6</th>\n",
       "      <td>mlp</td>\n",
       "      <td>Volume</td>\n",
       "      <td>{'activation': 'relu', 'hidden_layer_sizes': (25,), 'solver': 'lbfgs'}</td>\n",
       "      <td>0.166318</td>\n",
       "      <td>-0.390333</td>\n",
       "      <td>0.111516</td>\n",
       "      <td>0.690314</td>\n",
       "      <td>1</td>\n",
       "    </tr>\n",
       "    <tr>\n",
       "      <th>7</th>\n",
       "      <td>mlr</td>\n",
       "      <td>Price</td>\n",
       "      <td>{}</td>\n",
       "      <td>0.074531</td>\n",
       "      <td>0.400218</td>\n",
       "      <td>0.059451</td>\n",
       "      <td>0.782215</td>\n",
       "      <td>1</td>\n",
       "    </tr>\n",
       "    <tr>\n",
       "      <th>8</th>\n",
       "      <td>elasticnet</td>\n",
       "      <td>Price</td>\n",
       "      <td>{'alpha': 2, 'l1_ratio': 0}</td>\n",
       "      <td>0.143313</td>\n",
       "      <td>-1.371104</td>\n",
       "      <td>0.125900</td>\n",
       "      <td>0.181386</td>\n",
       "      <td>1</td>\n",
       "    </tr>\n",
       "    <tr>\n",
       "      <th>9</th>\n",
       "      <td>knn</td>\n",
       "      <td>Price</td>\n",
       "      <td>{'n_neighbors': 88}</td>\n",
       "      <td>0.178178</td>\n",
       "      <td>-2.406891</td>\n",
       "      <td>0.094196</td>\n",
       "      <td>0.475630</td>\n",
       "      <td>3</td>\n",
       "    </tr>\n",
       "    <tr>\n",
       "      <th>10</th>\n",
       "      <td>rf</td>\n",
       "      <td>Price</td>\n",
       "      <td>{'max_depth': 5, 'n_estimators': 100, 'max_features': 'auto', 'max_samples': 1}</td>\n",
       "      <td>0.147444</td>\n",
       "      <td>-1.588509</td>\n",
       "      <td>0.152219</td>\n",
       "      <td>-0.051911</td>\n",
       "      <td>3</td>\n",
       "    </tr>\n",
       "    <tr>\n",
       "      <th>11</th>\n",
       "      <td>gbt</td>\n",
       "      <td>Price</td>\n",
       "      <td>{'max_depth': 3, 'max_features': None}</td>\n",
       "      <td>0.087581</td>\n",
       "      <td>0.250672</td>\n",
       "      <td>0.029464</td>\n",
       "      <td>0.952807</td>\n",
       "      <td>1</td>\n",
       "    </tr>\n",
       "    <tr>\n",
       "      <th>12</th>\n",
       "      <td>xgboost</td>\n",
       "      <td>Price</td>\n",
       "      <td>{'n_estimators': 150, 'scale_pos_weight': 5, 'learning_rate': 0.1, 'gamma': 3, 'subsample': 0.9}</td>\n",
       "      <td>0.156537</td>\n",
       "      <td>-1.819676</td>\n",
       "      <td>0.094781</td>\n",
       "      <td>0.482913</td>\n",
       "      <td>6</td>\n",
       "    </tr>\n",
       "    <tr>\n",
       "      <th>13</th>\n",
       "      <td>mlp</td>\n",
       "      <td>Price</td>\n",
       "      <td>{'activation': 'relu', 'hidden_layer_sizes': (25,), 'solver': 'lbfgs'}</td>\n",
       "      <td>0.069214</td>\n",
       "      <td>0.489661</td>\n",
       "      <td>0.056242</td>\n",
       "      <td>0.800755</td>\n",
       "      <td>1</td>\n",
       "    </tr>\n",
       "  </tbody>\n",
       "</table>\n",
       "</div>"
      ],
      "text/plain": [
       "   ModelNickname  Series  \\\n",
       "0            mlr  Volume   \n",
       "1     elasticnet  Volume   \n",
       "2            knn  Volume   \n",
       "3             rf  Volume   \n",
       "4            gbt  Volume   \n",
       "5        xgboost  Volume   \n",
       "6            mlp  Volume   \n",
       "7            mlr   Price   \n",
       "8     elasticnet   Price   \n",
       "9            knn   Price   \n",
       "10            rf   Price   \n",
       "11           gbt   Price   \n",
       "12       xgboost   Price   \n",
       "13           mlp   Price   \n",
       "\n",
       "                                                                                         HyperParams  \\\n",
       "0                                                                                                 {}   \n",
       "1                                                                        {'alpha': 2, 'l1_ratio': 0}   \n",
       "2                                                                                {'n_neighbors': 88}   \n",
       "3                    {'max_depth': 5, 'n_estimators': 100, 'max_features': 'auto', 'max_samples': 1}   \n",
       "4                                                             {'max_depth': 3, 'max_features': None}   \n",
       "5   {'n_estimators': 150, 'scale_pos_weight': 5, 'learning_rate': 0.1, 'gamma': 3, 'subsample': 0.9}   \n",
       "6                             {'activation': 'relu', 'hidden_layer_sizes': (25,), 'solver': 'lbfgs'}   \n",
       "7                                                                                                 {}   \n",
       "8                                                                        {'alpha': 2, 'l1_ratio': 0}   \n",
       "9                                                                                {'n_neighbors': 88}   \n",
       "10                   {'max_depth': 5, 'n_estimators': 100, 'max_features': 'auto', 'max_samples': 1}   \n",
       "11                                                            {'max_depth': 3, 'max_features': None}   \n",
       "12  {'n_estimators': 150, 'scale_pos_weight': 5, 'learning_rate': 0.1, 'gamma': 3, 'subsample': 0.9}   \n",
       "13                            {'activation': 'relu', 'hidden_layer_sizes': (25,), 'solver': 'lbfgs'}   \n",
       "\n",
       "    LevelTestSetMAPE  LevelTestSetR2  InSampleMAPE  InSampleR2  Lags  \n",
       "0           0.147779       -0.103135      0.113658    0.688821     1  \n",
       "1           0.151841        0.010941      0.113606    0.688510     1  \n",
       "2           0.215746       -0.159063      0.158867    0.587848     3  \n",
       "3           0.162041       -0.031288      0.292354   -0.028625     3  \n",
       "4           0.191839       -1.004163      0.056094    0.937418     1  \n",
       "5           0.216964       -1.427472      0.001241    0.999969     6  \n",
       "6           0.166318       -0.390333      0.111516    0.690314     1  \n",
       "7           0.074531        0.400218      0.059451    0.782215     1  \n",
       "8           0.143313       -1.371104      0.125900    0.181386     1  \n",
       "9           0.178178       -2.406891      0.094196    0.475630     3  \n",
       "10          0.147444       -1.588509      0.152219   -0.051911     3  \n",
       "11          0.087581        0.250672      0.029464    0.952807     1  \n",
       "12          0.156537       -1.819676      0.094781    0.482913     6  \n",
       "13          0.069214        0.489661      0.056242    0.800755     1  "
      ]
     },
     "execution_count": 21,
     "metadata": {},
     "output_type": "execute_result"
    }
   ],
   "source": [
    "pd.options.display.max_colwidth = 100\n",
    "results = mvf.export_model_summaries()\n",
    "\n",
    "\n",
    "results [\n",
    "    [\n",
    "        'ModelNickname',\n",
    "        'Series',\n",
    "        'HyperParams',\n",
    "        'LevelTestSetMAPE',\n",
    "        'LevelTestSetR2',\n",
    "        'InSampleMAPE',\n",
    "        'InSampleR2',\n",
    "        'Lags'\n",
    "    ]\n",
    "]"
   ]
  },
  {
   "cell_type": "code",
   "execution_count": 46,
   "id": "270acbc2",
   "metadata": {},
   "outputs": [
    {
     "data": {
      "text/html": [
       "<div>\n",
       "<style scoped>\n",
       "    .dataframe tbody tr th:only-of-type {\n",
       "        vertical-align: middle;\n",
       "    }\n",
       "\n",
       "    .dataframe tbody tr th {\n",
       "        vertical-align: top;\n",
       "    }\n",
       "\n",
       "    .dataframe thead th {\n",
       "        text-align: right;\n",
       "    }\n",
       "</style>\n",
       "<table border=\"1\" class=\"dataframe\">\n",
       "  <thead>\n",
       "    <tr style=\"text-align: right;\">\n",
       "      <th></th>\n",
       "      <th>ModelNickname</th>\n",
       "      <th>Series</th>\n",
       "      <th>HyperParams</th>\n",
       "      <th>LevelTestSetMAPE</th>\n",
       "      <th>LevelTestSetR2</th>\n",
       "      <th>InSampleMAPE</th>\n",
       "      <th>InSampleR2</th>\n",
       "      <th>Lags</th>\n",
       "    </tr>\n",
       "  </thead>\n",
       "  <tbody>\n",
       "    <tr>\n",
       "      <th>0</th>\n",
       "      <td>mlr</td>\n",
       "      <td>Volume</td>\n",
       "      <td>{}</td>\n",
       "      <td>0.147779</td>\n",
       "      <td>-0.103135</td>\n",
       "      <td>0.113658</td>\n",
       "      <td>0.688821</td>\n",
       "      <td>1</td>\n",
       "    </tr>\n",
       "    <tr>\n",
       "      <th>7</th>\n",
       "      <td>mlr</td>\n",
       "      <td>Price</td>\n",
       "      <td>{}</td>\n",
       "      <td>0.074531</td>\n",
       "      <td>0.400218</td>\n",
       "      <td>0.059451</td>\n",
       "      <td>0.782215</td>\n",
       "      <td>1</td>\n",
       "    </tr>\n",
       "  </tbody>\n",
       "</table>\n",
       "</div>"
      ],
      "text/plain": [
       "  ModelNickname  Series HyperParams  LevelTestSetMAPE  LevelTestSetR2  \\\n",
       "0           mlr  Volume          {}          0.147779       -0.103135   \n",
       "7           mlr   Price          {}          0.074531        0.400218   \n",
       "\n",
       "   InSampleMAPE  InSampleR2  Lags  \n",
       "0      0.113658    0.688821     1  \n",
       "7      0.059451    0.782215     1  "
      ]
     },
     "execution_count": 46,
     "metadata": {},
     "output_type": "execute_result"
    }
   ],
   "source": [
    "results = results[results['ModelNickname']=='mlr'] \n",
    "results [\n",
    "    [\n",
    "        'ModelNickname',\n",
    "        'Series',\n",
    "        'HyperParams',\n",
    "        'LevelTestSetMAPE',\n",
    "        'LevelTestSetR2',\n",
    "        'InSampleMAPE',\n",
    "        'InSampleR2',\n",
    "        'Lags'\n",
    "    ]\n",
    "]"
   ]
  },
  {
   "cell_type": "code",
   "execution_count": null,
   "id": "a17b7db2",
   "metadata": {},
   "outputs": [],
   "source": []
  },
  {
   "cell_type": "markdown",
   "id": "2a78f0ba",
   "metadata": {},
   "source": [
    "Using Ingest_Xvars_df, I don1t could undestend this error."
   ]
  },
  {
   "cell_type": "code",
   "execution_count": 27,
   "id": "28ed3652",
   "metadata": {},
   "outputs": [],
   "source": [
    "f_vol2 = Forecaster(data_cali_org['Total Volume'],current_dates = data_cali_org['Date'])\n",
    "f_vol2.ingest_Xvars_df(data_cali_org_px, date_col='Date')\n",
    "f_vol2.generate_future_dates(24)"
   ]
  },
  {
   "cell_type": "code",
   "execution_count": 28,
   "id": "9973ed8a",
   "metadata": {},
   "outputs": [
    {
     "ename": "ValueError",
     "evalue": "Found array with 0 sample(s) (shape=(0, 1)) while a minimum of 1 is required by StandardScaler.",
     "output_type": "error",
     "traceback": [
      "\u001b[0;31m---------------------------------------------------------------------------\u001b[0m",
      "\u001b[0;31mValueError\u001b[0m                                Traceback (most recent call last)",
      "Input \u001b[0;32mIn [28]\u001b[0m, in \u001b[0;36m<cell line: 1>\u001b[0;34m()\u001b[0m\n\u001b[1;32m      2\u001b[0m f_vol2\u001b[38;5;241m.\u001b[39mset_estimator(m)\n\u001b[1;32m      3\u001b[0m f_vol2\u001b[38;5;241m.\u001b[39mtune() \u001b[38;5;66;03m# by default, will pull grids from Grids.py\u001b[39;00m\n\u001b[0;32m----> 4\u001b[0m \u001b[43mf_vol2\u001b[49m\u001b[38;5;241;43m.\u001b[39;49m\u001b[43mauto_forecast\u001b[49m\u001b[43m(\u001b[49m\u001b[43m)\u001b[49m\n",
      "File \u001b[0;32m~/anaconda3/lib/python3.9/site-packages/scalecast/Forecaster.py:3559\u001b[0m, in \u001b[0;36mForecaster.auto_forecast\u001b[0;34m(self, call_me, dynamic_testing, test_only, probabilistic, n_iter)\u001b[0m\n\u001b[1;32m   3557\u001b[0m     \u001b[38;5;28mself\u001b[39m\u001b[38;5;241m.\u001b[39mbest_params \u001b[38;5;241m=\u001b[39m {}\n\u001b[1;32m   3558\u001b[0m \u001b[38;5;28;01mif\u001b[39;00m \u001b[38;5;129;01mnot\u001b[39;00m probabilistic:\n\u001b[0;32m-> 3559\u001b[0m     \u001b[38;5;28;43mself\u001b[39;49m\u001b[38;5;241;43m.\u001b[39;49m\u001b[43mmanual_forecast\u001b[49m\u001b[43m(\u001b[49m\n\u001b[1;32m   3560\u001b[0m \u001b[43m        \u001b[49m\u001b[43mcall_me\u001b[49m\u001b[38;5;241;43m=\u001b[39;49m\u001b[43mcall_me\u001b[49m\u001b[43m,\u001b[49m\n\u001b[1;32m   3561\u001b[0m \u001b[43m        \u001b[49m\u001b[43mdynamic_testing\u001b[49m\u001b[38;5;241;43m=\u001b[39;49m\u001b[43mdynamic_testing\u001b[49m\u001b[43m,\u001b[49m\n\u001b[1;32m   3562\u001b[0m \u001b[43m        \u001b[49m\u001b[43mtest_only\u001b[49m\u001b[38;5;241;43m=\u001b[39;49m\u001b[43mtest_only\u001b[49m\u001b[43m,\u001b[49m\n\u001b[1;32m   3563\u001b[0m \u001b[43m        \u001b[49m\u001b[38;5;241;43m*\u001b[39;49m\u001b[38;5;241;43m*\u001b[39;49m\u001b[38;5;28;43mself\u001b[39;49m\u001b[38;5;241;43m.\u001b[39;49m\u001b[43mbest_params\u001b[49m\u001b[43m,\u001b[49m\n\u001b[1;32m   3564\u001b[0m \u001b[43m    \u001b[49m\u001b[43m)\u001b[49m\n\u001b[1;32m   3565\u001b[0m \u001b[38;5;28;01melse\u001b[39;00m:\n\u001b[1;32m   3566\u001b[0m     \u001b[38;5;28mself\u001b[39m\u001b[38;5;241m.\u001b[39mproba_forecast(\n\u001b[1;32m   3567\u001b[0m         call_me\u001b[38;5;241m=\u001b[39mcall_me,\n\u001b[1;32m   3568\u001b[0m         dynamic_testing\u001b[38;5;241m=\u001b[39mdynamic_testing,\n\u001b[0;32m   (...)\u001b[0m\n\u001b[1;32m   3571\u001b[0m         \u001b[38;5;241m*\u001b[39m\u001b[38;5;241m*\u001b[39m\u001b[38;5;28mself\u001b[39m\u001b[38;5;241m.\u001b[39mbest_params,\n\u001b[1;32m   3572\u001b[0m     )\n",
      "File \u001b[0;32m~/anaconda3/lib/python3.9/site-packages/scalecast/Forecaster.py:3493\u001b[0m, in \u001b[0;36mForecaster.manual_forecast\u001b[0;34m(self, call_me, dynamic_testing, test_only, **kwargs)\u001b[0m\n\u001b[1;32m   3490\u001b[0m \u001b[38;5;28mself\u001b[39m\u001b[38;5;241m.\u001b[39mdynamic_testing \u001b[38;5;241m=\u001b[39m dynamic_testing\n\u001b[1;32m   3491\u001b[0m \u001b[38;5;28mself\u001b[39m\u001b[38;5;241m.\u001b[39mcall_me \u001b[38;5;241m=\u001b[39m \u001b[38;5;28mself\u001b[39m\u001b[38;5;241m.\u001b[39mestimator \u001b[38;5;28;01mif\u001b[39;00m call_me \u001b[38;5;129;01mis\u001b[39;00m \u001b[38;5;28;01mNone\u001b[39;00m \u001b[38;5;28;01melse\u001b[39;00m call_me\n\u001b[1;32m   3492\u001b[0m result \u001b[38;5;241m=\u001b[39m (\n\u001b[0;32m-> 3493\u001b[0m     \u001b[38;5;28;43mself\u001b[39;49m\u001b[38;5;241;43m.\u001b[39;49m\u001b[43m_forecast_sklearn\u001b[49m\u001b[43m(\u001b[49m\n\u001b[1;32m   3494\u001b[0m \u001b[43m        \u001b[49m\u001b[43mfcster\u001b[49m\u001b[38;5;241;43m=\u001b[39;49m\u001b[38;5;28;43mself\u001b[39;49m\u001b[38;5;241;43m.\u001b[39;49m\u001b[43mestimator\u001b[49m\u001b[43m,\u001b[49m\n\u001b[1;32m   3495\u001b[0m \u001b[43m        \u001b[49m\u001b[43mdynamic_testing\u001b[49m\u001b[38;5;241;43m=\u001b[39;49m\u001b[43mdynamic_testing\u001b[49m\u001b[43m,\u001b[49m\n\u001b[1;32m   3496\u001b[0m \u001b[43m        \u001b[49m\u001b[43mtest_only\u001b[49m\u001b[38;5;241;43m=\u001b[39;49m\u001b[43mtest_only\u001b[49m\u001b[43m,\u001b[49m\n\u001b[1;32m   3497\u001b[0m \u001b[43m        \u001b[49m\u001b[38;5;241;43m*\u001b[39;49m\u001b[38;5;241;43m*\u001b[39;49m\u001b[43mkwargs\u001b[49m\u001b[43m,\u001b[49m\n\u001b[1;32m   3498\u001b[0m \u001b[43m    \u001b[49m\u001b[43m)\u001b[49m\n\u001b[1;32m   3499\u001b[0m     \u001b[38;5;28;01mif\u001b[39;00m \u001b[38;5;28mself\u001b[39m\u001b[38;5;241m.\u001b[39mestimator \u001b[38;5;129;01min\u001b[39;00m _sklearn_estimators_\n\u001b[1;32m   3500\u001b[0m     \u001b[38;5;28;01melse\u001b[39;00m \u001b[38;5;28mgetattr\u001b[39m(\u001b[38;5;28mself\u001b[39m, \u001b[38;5;124mf\u001b[39m\u001b[38;5;124m\"\u001b[39m\u001b[38;5;124m_forecast_\u001b[39m\u001b[38;5;132;01m{\u001b[39;00m\u001b[38;5;28mself\u001b[39m\u001b[38;5;241m.\u001b[39mestimator\u001b[38;5;132;01m}\u001b[39;00m\u001b[38;5;124m\"\u001b[39m)(\n\u001b[1;32m   3501\u001b[0m         dynamic_testing\u001b[38;5;241m=\u001b[39mdynamic_testing, test_only\u001b[38;5;241m=\u001b[39mtest_only, \u001b[38;5;241m*\u001b[39m\u001b[38;5;241m*\u001b[39mkwargs\n\u001b[1;32m   3502\u001b[0m     )\n\u001b[1;32m   3503\u001b[0m )  \u001b[38;5;66;03m# 0 - forecast, 1 - fitted vals, 2 - Xvars, 3 - regr\u001b[39;00m\n\u001b[1;32m   3504\u001b[0m \u001b[38;5;28mself\u001b[39m\u001b[38;5;241m.\u001b[39mforecast \u001b[38;5;241m=\u001b[39m [i \u001b[38;5;28;01mfor\u001b[39;00m i \u001b[38;5;129;01min\u001b[39;00m result[\u001b[38;5;241m0\u001b[39m]]\n\u001b[1;32m   3505\u001b[0m \u001b[38;5;28mself\u001b[39m\u001b[38;5;241m.\u001b[39mfitted_values \u001b[38;5;241m=\u001b[39m [i \u001b[38;5;28;01mfor\u001b[39;00m i \u001b[38;5;129;01min\u001b[39;00m result[\u001b[38;5;241m1\u001b[39m]]\n",
      "File \u001b[0;32m~/anaconda3/lib/python3.9/site-packages/scalecast/Forecaster.py:754\u001b[0m, in \u001b[0;36mForecaster._forecast_sklearn\u001b[0;34m(self, fcster, dynamic_testing, tune, Xvars, normalizer, test_only, **kwargs)\u001b[0m\n\u001b[1;32m    751\u001b[0m     \u001b[38;5;28;01mreturn\u001b[39;00m result\n\u001b[1;32m    753\u001b[0m \u001b[38;5;66;03m# run full model\u001b[39;00m\n\u001b[0;32m--> 754\u001b[0m \u001b[38;5;28;01mreturn\u001b[39;00m \u001b[43mevaluate_model\u001b[49m\u001b[43m(\u001b[49m\n\u001b[1;32m    755\u001b[0m \u001b[43m    \u001b[49m\u001b[43mscaler\u001b[49m\u001b[43m,\u001b[49m\n\u001b[1;32m    756\u001b[0m \u001b[43m    \u001b[49m\u001b[43mregr\u001b[49m\u001b[43m,\u001b[49m\n\u001b[1;32m    757\u001b[0m \u001b[43m    \u001b[49m\u001b[43mX\u001b[49m\u001b[43m,\u001b[49m\n\u001b[1;32m    758\u001b[0m \u001b[43m    \u001b[49m\u001b[43my\u001b[49m\u001b[43m,\u001b[49m\n\u001b[1;32m    759\u001b[0m \u001b[43m    \u001b[49m\u001b[43mXvars\u001b[49m\u001b[43m,\u001b[49m\n\u001b[1;32m    760\u001b[0m \u001b[43m    \u001b[49m\u001b[38;5;28;43mlen\u001b[39;49m\u001b[43m(\u001b[49m\u001b[38;5;28;43mself\u001b[39;49m\u001b[38;5;241;43m.\u001b[39;49m\u001b[43mfuture_dates\u001b[49m\u001b[43m)\u001b[49m\u001b[43m,\u001b[49m\n\u001b[1;32m    761\u001b[0m \u001b[43m    \u001b[49m\u001b[43m{\u001b[49m\u001b[43mx\u001b[49m\u001b[43m:\u001b[49m\u001b[43m \u001b[49m\u001b[38;5;28;43mself\u001b[39;49m\u001b[38;5;241;43m.\u001b[39;49m\u001b[43mfuture_xreg\u001b[49m\u001b[43m[\u001b[49m\u001b[43mx\u001b[49m\u001b[43m]\u001b[49m\u001b[43m[\u001b[49m\u001b[43m:\u001b[49m\u001b[43m]\u001b[49m\u001b[43m \u001b[49m\u001b[38;5;28;43;01mfor\u001b[39;49;00m\u001b[43m \u001b[49m\u001b[43mx\u001b[49m\u001b[43m \u001b[49m\u001b[38;5;129;43;01min\u001b[39;49;00m\u001b[43m \u001b[49m\u001b[43mXvars\u001b[49m\u001b[43m}\u001b[49m\u001b[43m,\u001b[49m\n\u001b[1;32m    762\u001b[0m \u001b[43m    \u001b[49m\u001b[38;5;28;43;01mTrue\u001b[39;49;00m\u001b[43m,\u001b[49m\n\u001b[1;32m    763\u001b[0m \u001b[43m    \u001b[49m\u001b[38;5;28;43;01mTrue\u001b[39;49;00m\u001b[43m,\u001b[49m\n\u001b[1;32m    764\u001b[0m \u001b[43m\u001b[49m\u001b[43m)\u001b[49m\n",
      "File \u001b[0;32m~/anaconda3/lib/python3.9/site-packages/scalecast/Forecaster.py:653\u001b[0m, in \u001b[0;36mForecaster._forecast_sklearn.<locals>.evaluate_model\u001b[0;34m(scaler, regr, X, y, Xvars, fcst_horizon, future_xreg, dynamic_testing, true_forecast)\u001b[0m\n\u001b[1;32m    649\u001b[0m \u001b[38;5;28;01mif\u001b[39;00m (\u001b[38;5;129;01mnot\u001b[39;00m [x \u001b[38;5;28;01mfor\u001b[39;00m x \u001b[38;5;129;01min\u001b[39;00m Xvars \u001b[38;5;28;01mif\u001b[39;00m x\u001b[38;5;241m.\u001b[39mstartswith(\u001b[38;5;124m\"\u001b[39m\u001b[38;5;124mAR\u001b[39m\u001b[38;5;124m\"\u001b[39m)]) \u001b[38;5;241m|\u001b[39m (\n\u001b[1;32m    650\u001b[0m     dynamic_testing \u001b[38;5;129;01mis\u001b[39;00m \u001b[38;5;28;01mFalse\u001b[39;00m\n\u001b[1;32m    651\u001b[0m ):\n\u001b[1;32m    652\u001b[0m     p \u001b[38;5;241m=\u001b[39m pd\u001b[38;5;241m.\u001b[39mDataFrame(future_xreg)\u001b[38;5;241m.\u001b[39mvalues[:fcst_horizon]\n\u001b[0;32m--> 653\u001b[0m     p \u001b[38;5;241m=\u001b[39m \u001b[43mscale\u001b[49m\u001b[43m(\u001b[49m\u001b[43mscaler\u001b[49m\u001b[43m,\u001b[49m\u001b[43m \u001b[49m\u001b[43mp\u001b[49m\u001b[43m)\u001b[49m\n\u001b[1;32m    654\u001b[0m     \u001b[38;5;28;01mreturn\u001b[39;00m (regr\u001b[38;5;241m.\u001b[39mpredict(p), regr\u001b[38;5;241m.\u001b[39mpredict(X), Xvars, regr)\n\u001b[1;32m    655\u001b[0m \u001b[38;5;66;03m# otherwise, use a dynamic process to propogate out-of-sample AR terms with predictions (slower but more indicative of a true forecast performance)\u001b[39;00m\n",
      "File \u001b[0;32m~/anaconda3/lib/python3.9/site-packages/scalecast/Forecaster.py:642\u001b[0m, in \u001b[0;36mForecaster._forecast_sklearn.<locals>.evaluate_model.<locals>.scale\u001b[0;34m(scaler, X)\u001b[0m\n\u001b[1;32m    641\u001b[0m \u001b[38;5;28;01mdef\u001b[39;00m \u001b[38;5;21mscale\u001b[39m(scaler, X):\n\u001b[0;32m--> 642\u001b[0m     \u001b[38;5;28;01mreturn\u001b[39;00m \u001b[43mscaler\u001b[49m\u001b[38;5;241;43m.\u001b[39;49m\u001b[43mtransform\u001b[49m\u001b[43m(\u001b[49m\u001b[43mX\u001b[49m\u001b[43m)\u001b[49m \u001b[38;5;28;01mif\u001b[39;00m scaler \u001b[38;5;129;01mis\u001b[39;00m \u001b[38;5;129;01mnot\u001b[39;00m \u001b[38;5;28;01mNone\u001b[39;00m \u001b[38;5;28;01melse\u001b[39;00m X\n",
      "File \u001b[0;32m~/anaconda3/lib/python3.9/site-packages/sklearn/preprocessing/_data.py:973\u001b[0m, in \u001b[0;36mStandardScaler.transform\u001b[0;34m(self, X, copy)\u001b[0m\n\u001b[1;32m    970\u001b[0m check_is_fitted(\u001b[38;5;28mself\u001b[39m)\n\u001b[1;32m    972\u001b[0m copy \u001b[38;5;241m=\u001b[39m copy \u001b[38;5;28;01mif\u001b[39;00m copy \u001b[38;5;129;01mis\u001b[39;00m \u001b[38;5;129;01mnot\u001b[39;00m \u001b[38;5;28;01mNone\u001b[39;00m \u001b[38;5;28;01melse\u001b[39;00m \u001b[38;5;28mself\u001b[39m\u001b[38;5;241m.\u001b[39mcopy\n\u001b[0;32m--> 973\u001b[0m X \u001b[38;5;241m=\u001b[39m \u001b[38;5;28;43mself\u001b[39;49m\u001b[38;5;241;43m.\u001b[39;49m\u001b[43m_validate_data\u001b[49m\u001b[43m(\u001b[49m\n\u001b[1;32m    974\u001b[0m \u001b[43m    \u001b[49m\u001b[43mX\u001b[49m\u001b[43m,\u001b[49m\n\u001b[1;32m    975\u001b[0m \u001b[43m    \u001b[49m\u001b[43mreset\u001b[49m\u001b[38;5;241;43m=\u001b[39;49m\u001b[38;5;28;43;01mFalse\u001b[39;49;00m\u001b[43m,\u001b[49m\n\u001b[1;32m    976\u001b[0m \u001b[43m    \u001b[49m\u001b[43maccept_sparse\u001b[49m\u001b[38;5;241;43m=\u001b[39;49m\u001b[38;5;124;43m\"\u001b[39;49m\u001b[38;5;124;43mcsr\u001b[39;49m\u001b[38;5;124;43m\"\u001b[39;49m\u001b[43m,\u001b[49m\n\u001b[1;32m    977\u001b[0m \u001b[43m    \u001b[49m\u001b[43mcopy\u001b[49m\u001b[38;5;241;43m=\u001b[39;49m\u001b[43mcopy\u001b[49m\u001b[43m,\u001b[49m\n\u001b[1;32m    978\u001b[0m \u001b[43m    \u001b[49m\u001b[43mestimator\u001b[49m\u001b[38;5;241;43m=\u001b[39;49m\u001b[38;5;28;43mself\u001b[39;49m\u001b[43m,\u001b[49m\n\u001b[1;32m    979\u001b[0m \u001b[43m    \u001b[49m\u001b[43mdtype\u001b[49m\u001b[38;5;241;43m=\u001b[39;49m\u001b[43mFLOAT_DTYPES\u001b[49m\u001b[43m,\u001b[49m\n\u001b[1;32m    980\u001b[0m \u001b[43m    \u001b[49m\u001b[43mforce_all_finite\u001b[49m\u001b[38;5;241;43m=\u001b[39;49m\u001b[38;5;124;43m\"\u001b[39;49m\u001b[38;5;124;43mallow-nan\u001b[39;49m\u001b[38;5;124;43m\"\u001b[39;49m\u001b[43m,\u001b[49m\n\u001b[1;32m    981\u001b[0m \u001b[43m\u001b[49m\u001b[43m)\u001b[49m\n\u001b[1;32m    983\u001b[0m \u001b[38;5;28;01mif\u001b[39;00m sparse\u001b[38;5;241m.\u001b[39missparse(X):\n\u001b[1;32m    984\u001b[0m     \u001b[38;5;28;01mif\u001b[39;00m \u001b[38;5;28mself\u001b[39m\u001b[38;5;241m.\u001b[39mwith_mean:\n",
      "File \u001b[0;32m~/anaconda3/lib/python3.9/site-packages/sklearn/base.py:566\u001b[0m, in \u001b[0;36mBaseEstimator._validate_data\u001b[0;34m(self, X, y, reset, validate_separately, **check_params)\u001b[0m\n\u001b[1;32m    564\u001b[0m     \u001b[38;5;28;01mraise\u001b[39;00m \u001b[38;5;167;01mValueError\u001b[39;00m(\u001b[38;5;124m\"\u001b[39m\u001b[38;5;124mValidation should be done on X, y or both.\u001b[39m\u001b[38;5;124m\"\u001b[39m)\n\u001b[1;32m    565\u001b[0m \u001b[38;5;28;01melif\u001b[39;00m \u001b[38;5;129;01mnot\u001b[39;00m no_val_X \u001b[38;5;129;01mand\u001b[39;00m no_val_y:\n\u001b[0;32m--> 566\u001b[0m     X \u001b[38;5;241m=\u001b[39m \u001b[43mcheck_array\u001b[49m\u001b[43m(\u001b[49m\u001b[43mX\u001b[49m\u001b[43m,\u001b[49m\u001b[43m \u001b[49m\u001b[38;5;241;43m*\u001b[39;49m\u001b[38;5;241;43m*\u001b[39;49m\u001b[43mcheck_params\u001b[49m\u001b[43m)\u001b[49m\n\u001b[1;32m    567\u001b[0m     out \u001b[38;5;241m=\u001b[39m X\n\u001b[1;32m    568\u001b[0m \u001b[38;5;28;01melif\u001b[39;00m no_val_X \u001b[38;5;129;01mand\u001b[39;00m \u001b[38;5;129;01mnot\u001b[39;00m no_val_y:\n",
      "File \u001b[0;32m~/anaconda3/lib/python3.9/site-packages/sklearn/utils/validation.py:805\u001b[0m, in \u001b[0;36mcheck_array\u001b[0;34m(array, accept_sparse, accept_large_sparse, dtype, order, copy, force_all_finite, ensure_2d, allow_nd, ensure_min_samples, ensure_min_features, estimator)\u001b[0m\n\u001b[1;32m    803\u001b[0m     n_samples \u001b[38;5;241m=\u001b[39m _num_samples(array)\n\u001b[1;32m    804\u001b[0m     \u001b[38;5;28;01mif\u001b[39;00m n_samples \u001b[38;5;241m<\u001b[39m ensure_min_samples:\n\u001b[0;32m--> 805\u001b[0m         \u001b[38;5;28;01mraise\u001b[39;00m \u001b[38;5;167;01mValueError\u001b[39;00m(\n\u001b[1;32m    806\u001b[0m             \u001b[38;5;124m\"\u001b[39m\u001b[38;5;124mFound array with \u001b[39m\u001b[38;5;132;01m%d\u001b[39;00m\u001b[38;5;124m sample(s) (shape=\u001b[39m\u001b[38;5;132;01m%s\u001b[39;00m\u001b[38;5;124m) while a\u001b[39m\u001b[38;5;124m\"\u001b[39m\n\u001b[1;32m    807\u001b[0m             \u001b[38;5;124m\"\u001b[39m\u001b[38;5;124m minimum of \u001b[39m\u001b[38;5;132;01m%d\u001b[39;00m\u001b[38;5;124m is required\u001b[39m\u001b[38;5;132;01m%s\u001b[39;00m\u001b[38;5;124m.\u001b[39m\u001b[38;5;124m\"\u001b[39m\n\u001b[1;32m    808\u001b[0m             \u001b[38;5;241m%\u001b[39m (n_samples, array\u001b[38;5;241m.\u001b[39mshape, ensure_min_samples, context)\n\u001b[1;32m    809\u001b[0m         )\n\u001b[1;32m    811\u001b[0m \u001b[38;5;28;01mif\u001b[39;00m ensure_min_features \u001b[38;5;241m>\u001b[39m \u001b[38;5;241m0\u001b[39m \u001b[38;5;129;01mand\u001b[39;00m array\u001b[38;5;241m.\u001b[39mndim \u001b[38;5;241m==\u001b[39m \u001b[38;5;241m2\u001b[39m:\n\u001b[1;32m    812\u001b[0m     n_features \u001b[38;5;241m=\u001b[39m array\u001b[38;5;241m.\u001b[39mshape[\u001b[38;5;241m1\u001b[39m]\n",
      "\u001b[0;31mValueError\u001b[0m: Found array with 0 sample(s) (shape=(0, 1)) while a minimum of 1 is required by StandardScaler."
     ]
    }
   ],
   "source": [
    "for m in models:\n",
    "    f_vol2.set_estimator(m)\n",
    "    f_vol2.tune() # by default, will pull grids from Grids.py\n",
    "    f_vol2.auto_forecast()"
   ]
  },
  {
   "cell_type": "markdown",
   "id": "af9eee9d",
   "metadata": {},
   "source": [
    "Using mlr in sklearn:\n"
   ]
  },
  {
   "cell_type": "code",
   "execution_count": 43,
   "id": "88c1db28",
   "metadata": {},
   "outputs": [
    {
     "name": "stdout",
     "output_type": "stream",
     "text": [
      "coefficient of determination: 0.2343247035682844\n"
     ]
    }
   ],
   "source": [
    "data_cali_org_vol = np.array(data_cali_org['AveragePrice'])\n",
    "data_cali_org_px = np.array(data_cali_org['Total Volume']).reshape((-1,1))\n",
    "\n",
    "model = LinearRegression().fit(data_cali_org_px, data_cali_org_vol)\n",
    "r_sq = model.score(data_cali_org_px, data_cali_org_vol)\n",
    "print(f\"coefficient of determination: {r_sq}\")"
   ]
  },
  {
   "cell_type": "markdown",
   "id": "5c429577",
   "metadata": {},
   "source": [
    "If a did the inverse:"
   ]
  },
  {
   "cell_type": "code",
   "execution_count": 45,
   "id": "18d3a5fb",
   "metadata": {},
   "outputs": [
    {
     "name": "stdout",
     "output_type": "stream",
     "text": [
      "coefficient of determination: 0.23432470356828417\n"
     ]
    }
   ],
   "source": [
    "data_cali_org_vol = np.array(data_cali_org['AveragePrice']).reshape((-1,1))\n",
    "data_cali_org_px = np.array(data_cali_org['Total Volume'])\n",
    "\n",
    "model = LinearRegression().fit(data_cali_org_vol, data_cali_org_px)\n",
    "r_sq = model.score(data_cali_org_vol, data_cali_org_px)\n",
    "print(f\"coefficient of determination: {r_sq}\")"
   ]
  },
  {
   "cell_type": "code",
   "execution_count": null,
   "id": "bcaef9bd",
   "metadata": {},
   "outputs": [],
   "source": []
  }
 ],
 "metadata": {
  "kernelspec": {
   "display_name": "Python 3",
   "language": "python",
   "name": "python3"
  },
  "language_info": {
   "codemirror_mode": {
    "name": "ipython",
    "version": 3
   },
   "file_extension": ".py",
   "mimetype": "text/x-python",
   "name": "python",
   "nbconvert_exporter": "python",
   "pygments_lexer": "ipython3",
   "version": "3.8.8"
  },
  "widgets": {
   "application/vnd.jupyter.widget-state+json": {
    "state": {},
    "version_major": 2,
    "version_minor": 0
   }
  }
 },
 "nbformat": 4,
 "nbformat_minor": 5
}
