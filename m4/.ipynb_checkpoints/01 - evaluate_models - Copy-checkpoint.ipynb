{
 "cells": [
  {
   "cell_type": "code",
   "execution_count": 1,
   "id": "2410860d-eeda-44c4-8880-e2c18b391c17",
   "metadata": {},
   "outputs": [],
   "source": [
    "import pandas as pd\n",
    "import numpy as np\n",
    "from tqdm.notebook import tqdm\n",
    "from scalecast import GridGenerator\n",
    "from Forecaster import Forecaster\n",
    "from fix_date import fix_date"
   ]
  },
  {
   "cell_type": "code",
   "execution_count": 2,
   "id": "c8ffbf97-41a9-4537-96d7-3e9e374ee5ba",
   "metadata": {},
   "outputs": [],
   "source": [
    "models = (\n",
    "    'mlr',\n",
    "    'elasticnet',\n",
    "    'sgd',\n",
    "    'svr',\n",
    "    'lightgbm',\n",
    "    'xgboost',\n",
    "    'knn',\n",
    "    'mlp',\n",
    ")"
   ]
  },
  {
   "cell_type": "code",
   "execution_count": 3,
   "id": "5c2417fb-b2f3-4f49-9f89-33452d39dc03",
   "metadata": {},
   "outputs": [],
   "source": [
    "info = pd.read_csv(\n",
    "    'm4/M4-info.csv',\n",
    "    index_col=0,\n",
    "    parse_dates=['StartingDate'],\n",
    "    dayfirst=True,\n",
    ")\n",
    "info['StartingDate'] = info['StartingDate'].apply(fix_date)"
   ]
  },
  {
   "cell_type": "markdown",
   "id": "d5c24cd2-7ac4-467b-8976-8de0dc7e6472",
   "metadata": {},
   "source": [
    "## Daily"
   ]
  },
  {
   "cell_type": "code",
   "execution_count": 4,
   "id": "75fe7738-4558-4ea9-8027-f614bcd88536",
   "metadata": {},
   "outputs": [],
   "source": [
    "Daily = pd.read_csv(\n",
    "    f'm4/train/Daily-train.csv',\n",
    "    index_col=0,\n",
    ")"
   ]
  },
  {
   "cell_type": "code",
   "execution_count": 5,
   "id": "f6044262-0768-4751-a45a-c2a04ca67d9b",
   "metadata": {},
   "outputs": [],
   "source": [
    "Daily_test = pd.read_csv(\n",
    "    f'm4/test/Daily-test.csv',\n",
    "    index_col=0,\n",
    ")\n",
    "\n",
    "Daily_results_template = pd.DataFrame(\n",
    "    columns=Daily_test.columns,\n",
    "    index=Daily_test.index,\n",
    ")\n",
    "\n",
    "Daily_results = {}"
   ]
  },
  {
   "cell_type": "code",
   "execution_count": null,
   "id": "32629487-6502-4866-879c-d726800a72d7",
   "metadata": {},
   "outputs": [
    {
     "data": {
      "application/vnd.jupyter.widget-view+json": {
       "model_id": "e626ccd06b184483b2be21d9599b2cae",
       "version_major": 2,
       "version_minor": 0
      },
      "text/plain": [
       "  0%|          | 0/4227 [00:00<?, ?it/s]"
      ]
     },
     "metadata": {},
     "output_type": "display_data"
    }
   ],
   "source": [
    "for i in tqdm(Daily.index):\n",
    "    y = Daily.loc[i].dropna()\n",
    "    sd = info.loc[i,'StartingDate']\n",
    "    fcst_horizon = info.loc[i,'Horizon']\n",
    "    cd = pd.date_range(\n",
    "        start = sd,\n",
    "        freq = 'D',\n",
    "        periods = len(y),\n",
    "    )\n",
    "    f = Forecaster(\n",
    "        y = y,\n",
    "        current_dates = cd,\n",
    "        future_dates = fcst_horizon,\n",
    "    )\n",
    "    \n",
    "    f.set_test_length(fcst_horizon if len(f.y) > 50 else 1)\n",
    "    f.integrate(critical_pval=.99,max_integration=1)\n",
    "    f.set_validation_length(fcst_horizon if len(f.y) > 100 else 1)\n",
    "    f.set_validation_metric('mae')\n",
    "    if len(f.y) > 366:\n",
    "        f.auto_Xvar_select(\n",
    "            irr_cycles=[90],\n",
    "            monitor='LevelTestSetMAE',\n",
    "            max_ar = 36,\n",
    "            exclude_seasonalities = ['month'],\n",
    "            seasonality_repr = {'quarter':['dummy','drop_first']},\n",
    "        )\n",
    "    else: # less than a year available\n",
    "        f.auto_Xvar_select(\n",
    "            irr_cycles=[90],\n",
    "            monitor='LevelTestSetMAE',\n",
    "            exclude_seasonalities = ['quarter','month','week','day'],\n",
    "            max_ar = 20,\n",
    "        )\n",
    "    if len(f.y) > 1000: # more than three years available\n",
    "        f.determine_best_series_length(\n",
    "            monitor='LevelTestSetMAE',\n",
    "            step=100,\n",
    "            min_obs = 1000,\n",
    "        )\n",
    "    f.tune_test_forecast(\n",
    "        models,\n",
    "        error='ignore',\n",
    "    )\n",
    "    flagged = [\n",
    "        m for m, r in f.history.items() if np.max(\n",
    "            np.abs(r['LevelForecast'])\n",
    "        ) > np.max(f.levely)*5\n",
    "    ]\n",
    "    for m in models: # replace applicable with naive forecasts\n",
    "        if m in flagged or m not in f.history:\n",
    "            f.set_estimator('hwes')\n",
    "            f.manual_forecast(call_me=m)\n",
    "        \n",
    "    f.set_estimator('combo')\n",
    "    for n in range(2,len(f.history) + 1,2):\n",
    "        f.manual_forecast(\n",
    "            models=f'top_{n}',\n",
    "            determine_best_by='LevelTestSetMAE',\n",
    "            call_me=f'avg_top_{n}'\n",
    "        )\n",
    "        f.manual_forecast(\n",
    "            how='weighted',\n",
    "            models=f'top_{n}',\n",
    "            determine_best_by='LevelTestSetMAE',\n",
    "            call_me=f'weighted_top_{n}'\n",
    "        )\n",
    "    fcsts = f.export('lvl_fcsts',determine_best_by='LevelTestSetMAE')\n",
    "    for m in f.history.keys():\n",
    "        if m in Daily_results:\n",
    "            Daily_results[m].loc[i] = fcsts[m].to_list()\n",
    "        else:\n",
    "            df = Daily_results_template.copy()\n",
    "            df.loc[i] = fcsts[m].to_list()\n",
    "            Daily_results[m] = df\n",
    "    if 'auto_select' in Daily_results:\n",
    "        Daily_results['auto_select'].loc[i] = fcsts.iloc[:,1].to_list()\n",
    "    else:\n",
    "        df = Daily_results_template.copy()\n",
    "        df.loc[i] = fcsts.iloc[:,1].to_list()\n",
    "        Daily_results['auto_select'] = df"
   ]
  },
  {
   "cell_type": "code",
   "execution_count": null,
   "id": "72a0fda2-02bf-4c7c-bdda-faf4c39eaf8f",
   "metadata": {},
   "outputs": [],
   "source": [
    "for m,df in Daily_results.items():\n",
    "    df.to_csv(f'M4/model_results/Daily/{m}.csv')"
   ]
  },
  {
   "cell_type": "code",
   "execution_count": null,
   "id": "a82452b3-eff2-4e23-89fa-b6c167f51cf0",
   "metadata": {},
   "outputs": [],
   "source": [
    "del Daily\n",
    "del Daily_test\n",
    "del Daily_results_template\n",
    "del Daily_results"
   ]
  },
  {
   "cell_type": "markdown",
   "id": "28f64893-51b4-4aec-a3c6-ee00fc573d9e",
   "metadata": {},
   "source": [
    "## Hourly"
   ]
  },
  {
   "cell_type": "code",
   "execution_count": 4,
   "id": "e656ae57-ce95-48b0-ad63-1a6402f7e7db",
   "metadata": {},
   "outputs": [],
   "source": [
    "Hourly = pd.read_csv(\n",
    "    f'm4/train/Hourly-train.csv',\n",
    "    index_col=0,\n",
    ")"
   ]
  },
  {
   "cell_type": "code",
   "execution_count": 5,
   "id": "c91f6cab-2c9f-4280-a440-a84372f7a8a6",
   "metadata": {},
   "outputs": [],
   "source": [
    "Hourly_test = pd.read_csv(\n",
    "    f'm4/test/Hourly-test.csv',\n",
    "    index_col=0,\n",
    ")\n",
    "\n",
    "Hourly_results_template = pd.DataFrame(\n",
    "    columns=Hourly_test.columns,\n",
    "    index=Hourly_test.index,\n",
    ")\n",
    "\n",
    "Hourly_results = {}"
   ]
  },
  {
   "cell_type": "code",
   "execution_count": 6,
   "id": "e354d05f-a3b2-496a-8efc-a034df9c450c",
   "metadata": {},
   "outputs": [
    {
     "data": {
      "application/vnd.jupyter.widget-view+json": {
       "model_id": "fd86d4f1e34948fcaa8875abe009a4fc",
       "version_major": 2,
       "version_minor": 0
      },
      "text/plain": [
       "  0%|          | 0/414 [00:00<?, ?it/s]"
      ]
     },
     "metadata": {},
     "output_type": "display_data"
    }
   ],
   "source": [
    "for i in tqdm(Hourly.index):\n",
    "    y = Hourly.loc[i].dropna()\n",
    "    sd = info.loc[i,'StartingDate']\n",
    "    fcst_horizon = info.loc[i,'Horizon']\n",
    "    cd = pd.date_range(\n",
    "        start = sd,\n",
    "        freq = 'H',\n",
    "        periods = len(y),\n",
    "    )\n",
    "    f = Forecaster(\n",
    "        y = y,\n",
    "        current_dates = cd,\n",
    "        future_dates = fcst_horizon,\n",
    "    )\n",
    "    \n",
    "    f.set_test_length(fcst_horizon if len(f.y) > 100 else 1)\n",
    "    f.integrate(critical_pval=.99,max_integration=1)\n",
    "    f.set_validation_length(fcst_horizon if len(f.y) > 100 else 1)\n",
    "    f.set_validation_metric('mae')\n",
    "    if len(f.y) > 8760:\n",
    "        f.add_cycle(8760) # yearly\n",
    "    if len(f.y) > 300:\n",
    "        f.auto_Xvar_select(\n",
    "            monitor='LevelTestSetMAE',\n",
    "            max_ar = 48,\n",
    "            exclude_seasonalities = ['quarter','month','week','day']\n",
    "        )\n",
    "        f.determine_best_series_length(\n",
    "            monitor='LevelTestSetMAE',\n",
    "            step=50,\n",
    "            min_obs = 300,\n",
    "        )\n",
    "    else:\n",
    "        f.auto_Xvar_select(\n",
    "            monitor='LevelTestSetMAE',\n",
    "            irr_cycles = [168], # weekly\n",
    "            exclude_seasonalities = ['quarter','month','week','day','dayofweek'],\n",
    "            max_ar = 24,\n",
    "        )\n",
    "    f.tune_test_forecast(\n",
    "        models,\n",
    "        error='ignore',\n",
    "    )\n",
    "    flagged = [\n",
    "        m for m, r in f.history.items() if np.max(\n",
    "            np.abs(r['LevelForecast'])\n",
    "        ) > np.max(f.levely)*5\n",
    "    ]\n",
    "    for m in models: # replace applicable with naive forecasts\n",
    "        if m in flagged or m not in f.history:\n",
    "            f.set_estimator('hwes')\n",
    "            f.manual_forecast(call_me=m,seasonal='add')\n",
    "        \n",
    "    f.set_estimator('combo')\n",
    "    for n in range(2,len(f.history) + 1,2):\n",
    "        f.manual_forecast(\n",
    "            models=f'top_{n}',\n",
    "            determine_best_by='LevelTestSetMAE',\n",
    "            call_me=f'avg_top_{n}'\n",
    "        )\n",
    "        f.manual_forecast(\n",
    "            how='weighted',\n",
    "            models=f'top_{n}',\n",
    "            determine_best_by='LevelTestSetMAE',\n",
    "            call_me=f'weighted_top_{n}'\n",
    "        )\n",
    "    fcsts = f.export('lvl_fcsts',determine_best_by='LevelTestSetMAE')\n",
    "    for m in f.history.keys():\n",
    "        if m in Hourly_results:\n",
    "            Hourly_results[m].loc[i] = fcsts[m].to_list()\n",
    "        else:\n",
    "            df = Hourly_results_template.copy()\n",
    "            df.loc[i] = fcsts[m].to_list()\n",
    "            Hourly_results[m] = df\n",
    "    if 'auto_select' in Hourly_results:\n",
    "        Hourly_results['auto_select'].loc[i] = fcsts.iloc[:,1].to_list()\n",
    "    else:\n",
    "        df = Hourly_results_template.copy()\n",
    "        df.loc[i] = fcsts.iloc[:,1].to_list()\n",
    "        Hourly_results['auto_select'] = df"
   ]
  },
  {
   "cell_type": "code",
   "execution_count": 7,
   "id": "b70bdca4-9651-4c79-b2a6-59190c45c344",
   "metadata": {},
   "outputs": [],
   "source": [
    "for m,df in Hourly_results.items():\n",
    "    df.to_csv(f'M4/model_results/Hourly/{m}.csv')"
   ]
  },
  {
   "cell_type": "code",
   "execution_count": 9,
   "id": "6ed19f24-3422-47c2-b702-967bb800bdc2",
   "metadata": {},
   "outputs": [],
   "source": [
    "del Hourly\n",
    "del Hourly_test\n",
    "del Hourly_results_template\n",
    "del Hourly_results"
   ]
  },
  {
   "cell_type": "markdown",
   "id": "5083d923-29e5-417f-86d0-e3d51ae4d590",
   "metadata": {},
   "source": [
    "## Weekly"
   ]
  },
  {
   "cell_type": "code",
   "execution_count": 10,
   "id": "642c7bc7-f606-43f4-b49e-9460db300a9f",
   "metadata": {},
   "outputs": [],
   "source": [
    "Weekly = pd.read_csv(\n",
    "    f'm4/train/Weekly-train.csv',\n",
    "    index_col=0,\n",
    ")"
   ]
  },
  {
   "cell_type": "code",
   "execution_count": 11,
   "id": "7bd96198-0b75-46eb-a115-304fb009e7af",
   "metadata": {},
   "outputs": [],
   "source": [
    "Weekly_test = pd.read_csv(\n",
    "    f'm4/test/Weekly-test.csv',\n",
    "    index_col=0,\n",
    ")\n",
    "\n",
    "Weekly_results_template = pd.DataFrame(\n",
    "    columns=Weekly_test.columns,\n",
    "    index=Weekly_test.index,\n",
    ")\n",
    "\n",
    "Weekly_results = {}"
   ]
  },
  {
   "cell_type": "code",
   "execution_count": 14,
   "id": "21bf1a7b-50fa-45d6-92c1-a4c97db1d28d",
   "metadata": {},
   "outputs": [
    {
     "data": {
      "application/vnd.jupyter.widget-view+json": {
       "model_id": "ce10c53041ca450a87c46d3ece389d6b",
       "version_major": 2,
       "version_minor": 0
      },
      "text/plain": [
       "  0%|          | 0/359 [00:00<?, ?it/s]"
      ]
     },
     "metadata": {},
     "output_type": "display_data"
    }
   ],
   "source": [
    "for i in tqdm(Weekly.index):\n",
    "    y = Weekly.loc[i].dropna()\n",
    "    sd = info.loc[i,'StartingDate']\n",
    "    fcst_horizon = info.loc[i,'Horizon']\n",
    "    cd = pd.date_range(\n",
    "        start = sd,\n",
    "        freq = 'W',\n",
    "        periods = len(y),\n",
    "    )\n",
    "    f = Forecaster(\n",
    "        y = y,\n",
    "        current_dates = cd,\n",
    "        future_dates = fcst_horizon,\n",
    "    )\n",
    "    \n",
    "    f.set_test_length(fcst_horizon if len(f.y) > 100 else 1)\n",
    "    f.integrate(critical_pval=.99,max_integration=1)\n",
    "    f.set_validation_length(fcst_horizon if len(f.y) > 100 else 1)\n",
    "    f.set_validation_metric('mae')\n",
    "    if len(f.y) > 150:\n",
    "        f.add_cycle(26)\n",
    "        f.auto_Xvar_select(\n",
    "            monitor='LevelTestSetMAE',\n",
    "            max_ar = 52,\n",
    "            irr_cycles = [13],\n",
    "        )\n",
    "        f.determine_best_series_length(\n",
    "            monitor='LevelTestSetMAE',\n",
    "            step=50,\n",
    "            min_obs = 150,\n",
    "        )\n",
    "    else:\n",
    "        f.auto_Xvar_select(\n",
    "            monitor='LevelTestSetMAE',\n",
    "            exclude_seasonalities = ['quarter','month'],\n",
    "            max_ar = fcst_horizon,\n",
    "            decomp_trend = False,\n",
    "        )\n",
    "    f.tune_test_forecast(\n",
    "        models,\n",
    "        error='ignore',\n",
    "    )\n",
    "    flagged = [\n",
    "        m for m, r in f.history.items() if np.max(\n",
    "            np.abs(r['LevelForecast'])\n",
    "        ) > np.max(f.levely)*5\n",
    "    ]\n",
    "    for m in models: # replace applicable with naive forecasts\n",
    "        if m in flagged or m not in f.history:\n",
    "            f.set_estimator('hwes')\n",
    "            f.manual_forecast(call_me=m)\n",
    "        \n",
    "    f.set_estimator('combo')\n",
    "    for n in range(2,len(f.history) + 1,2):\n",
    "        f.manual_forecast(\n",
    "            models=f'top_{n}',\n",
    "            determine_best_by='LevelTestSetMAE',\n",
    "            call_me=f'avg_top_{n}'\n",
    "        )\n",
    "        f.manual_forecast(\n",
    "            how='weighted',\n",
    "            models=f'top_{n}',\n",
    "            determine_best_by='LevelTestSetMAE',\n",
    "            call_me=f'weighted_top_{n}'\n",
    "        )\n",
    "    fcsts = f.export('lvl_fcsts',determine_best_by='LevelTestSetMAE')\n",
    "    for m in f.history.keys():\n",
    "        if m in Weekly_results:\n",
    "            Weekly_results[m].loc[i] = fcsts[m].to_list()\n",
    "        else:\n",
    "            df = Weekly_results_template.copy()\n",
    "            df.loc[i] = fcsts[m].to_list()\n",
    "            Weekly_results[m] = df\n",
    "    if 'auto_select' in Weekly_results:\n",
    "        Weekly_results['auto_select'].loc[i] = fcsts.iloc[:,1].to_list()\n",
    "    else:\n",
    "        df = Weekly_results_template.copy()\n",
    "        df.loc[i] = fcsts.iloc[:,1].to_list()\n",
    "        Weekly_results['auto_select'] = df"
   ]
  },
  {
   "cell_type": "code",
   "execution_count": 15,
   "id": "16383873-bec2-4e65-848a-dd0364e44188",
   "metadata": {},
   "outputs": [],
   "source": [
    "for m,df in Weekly_results.items():\n",
    "    df.to_csv(f'M4/model_results/Weekly/{m}.csv')"
   ]
  },
  {
   "cell_type": "code",
   "execution_count": 16,
   "id": "8bb19ec5-2d37-4f9d-b5dd-eabcfbe62bf1",
   "metadata": {},
   "outputs": [],
   "source": [
    "del Weekly\n",
    "del Weekly_test\n",
    "del Weekly_results_template\n",
    "del Weekly_results"
   ]
  },
  {
   "cell_type": "markdown",
   "id": "f82ea0ce-74be-4441-a3f0-3423b658cbc1",
   "metadata": {},
   "source": [
    "## Yearly"
   ]
  },
  {
   "cell_type": "code",
   "execution_count": 17,
   "id": "fdf42fb1-148c-4a99-9c14-7cafbcdb3298",
   "metadata": {},
   "outputs": [],
   "source": [
    "Yearly = pd.read_csv(\n",
    "    f'm4/train/Yearly-train.csv',\n",
    "    index_col=0,\n",
    ")"
   ]
  },
  {
   "cell_type": "code",
   "execution_count": 18,
   "id": "bda22ab4-89e5-4d04-a5a0-e69b46d93b27",
   "metadata": {},
   "outputs": [],
   "source": [
    "Yearly_test = pd.read_csv(\n",
    "    f'm4/test/Yearly-test.csv',\n",
    "    index_col=0,\n",
    ")\n",
    "\n",
    "Yearly_results_template = pd.DataFrame(\n",
    "    columns=Yearly_test.columns,\n",
    "    index=Yearly_test.index,\n",
    ")\n",
    "\n",
    "Yearly_results = {}"
   ]
  },
  {
   "cell_type": "code",
   "execution_count": 19,
   "id": "887c3f90-16e0-459c-83e1-16f0174d8946",
   "metadata": {},
   "outputs": [
    {
     "data": {
      "application/vnd.jupyter.widget-view+json": {
       "model_id": "e1aaa39701284310b2614f236793e535",
       "version_major": 2,
       "version_minor": 0
      },
      "text/plain": [
       "  0%|          | 0/23000 [00:00<?, ?it/s]"
      ]
     },
     "metadata": {},
     "output_type": "display_data"
    }
   ],
   "source": [
    "for i in tqdm(Yearly.index):\n",
    "    y = Yearly.loc[i].dropna()\n",
    "    sd = info.loc[i,'StartingDate']\n",
    "    fcst_horizon = info.loc[i,'Horizon']\n",
    "    cd = pd.date_range(\n",
    "        start = sd,\n",
    "        freq = 'D', # for yearly it doesn't matter and will break if Y\n",
    "        periods = len(y),\n",
    "    )\n",
    "    f = Forecaster(\n",
    "        y = y,\n",
    "        current_dates = cd,\n",
    "        future_dates = fcst_horizon,\n",
    "    )\n",
    "    \n",
    "    f.set_test_length(fcst_horizon if len(f.y) > 50 else 1)\n",
    "    f.integrate(critical_pval=.99,max_integration=1)\n",
    "    f.set_validation_length(fcst_horizon if len(f.y) > 100 else 1)\n",
    "    f.set_validation_metric('mae')        \n",
    "    f.auto_Xvar_select(\n",
    "        try_seasonalities=False,\n",
    "        irr_cycles=[fcst_horizon],\n",
    "        monitor='LevelTestSetMAE',\n",
    "        decomp_trend = len(f.y) > 100\n",
    "    )\n",
    "    if len(f.y) > 100:\n",
    "        f.determine_best_series_length(\n",
    "            monitor='LevelTestSetMAE',\n",
    "            step=50,\n",
    "        )\n",
    "    f.tune_test_forecast(\n",
    "        models,\n",
    "        error='ignore',\n",
    "    )\n",
    "    flagged = [\n",
    "        m for m, r in f.history.items() if np.max(\n",
    "            np.abs(r['LevelForecast'])\n",
    "        ) > np.max(f.levely)*5\n",
    "    ]\n",
    "    for m in models: # replace applicable with naive forecasts\n",
    "        if m in flagged or m not in f.history:\n",
    "            f.set_estimator('hwes')\n",
    "            f.manual_forecast(call_me=m)\n",
    "        \n",
    "    f.set_estimator('combo')\n",
    "    for n in range(2,len(f.history) + 1,2):\n",
    "        f.manual_forecast(\n",
    "            models=f'top_{n}',\n",
    "            determine_best_by='LevelTestSetMAE',\n",
    "            call_me=f'avg_top_{n}'\n",
    "        )\n",
    "        f.manual_forecast(\n",
    "            how='weighted',\n",
    "            models=f'top_{n}',\n",
    "            determine_best_by='LevelTestSetMAE',\n",
    "            call_me=f'weighted_top_{n}'\n",
    "        )\n",
    "    fcsts = f.export('lvl_fcsts',determine_best_by='LevelTestSetMAE')\n",
    "    for m in f.history.keys():\n",
    "        if m in Yearly_results:\n",
    "            Yearly_results[m].loc[i] = fcsts[m].to_list()\n",
    "        else:\n",
    "            df = Yearly_results_template.copy()\n",
    "            df.loc[i] = fcsts[m].to_list()\n",
    "            Yearly_results[m] = df\n",
    "    if 'auto_select' in Yearly_results:\n",
    "        Yearly_results['auto_select'].loc[i] = fcsts.iloc[:,1].to_list()\n",
    "    else:\n",
    "        df = Yearly_results_template.copy()\n",
    "        df.loc[i] = fcsts.iloc[:,1].to_list()\n",
    "        Yearly_results['auto_select'] = df"
   ]
  },
  {
   "cell_type": "code",
   "execution_count": 20,
   "id": "9151890d-d61c-4fe6-98c3-9be0fc3ad702",
   "metadata": {},
   "outputs": [],
   "source": [
    "for m,df in Yearly_results.items():\n",
    "    df.to_csv(f'M4/model_results/Yearly/{m}.csv')"
   ]
  },
  {
   "cell_type": "code",
   "execution_count": null,
   "id": "38e27dcb-6e8b-47a1-b287-e3e1e1b33e82",
   "metadata": {},
   "outputs": [],
   "source": [
    "del Yearly\n",
    "del Yearly_test\n",
    "del Yearly_results_template\n",
    "del Yearly_results"
   ]
  },
  {
   "cell_type": "code",
   "execution_count": null,
   "id": "2287c1db-5d37-4233-bebc-f7b2e02e5497",
   "metadata": {},
   "outputs": [],
   "source": []
  }
 ],
 "metadata": {
  "kernelspec": {
   "display_name": "Python 3",
   "language": "python",
   "name": "python3"
  },
  "language_info": {
   "codemirror_mode": {
    "name": "ipython",
    "version": 3
   },
   "file_extension": ".py",
   "mimetype": "text/x-python",
   "name": "python",
   "nbconvert_exporter": "python",
   "pygments_lexer": "ipython3",
   "version": "3.8.8"
  },
  "widgets": {
   "application/vnd.jupyter.widget-state+json": {
    "state": {
     "01dd836d18604073bbbf661aacab8db8": {
      "model_module": "@jupyter-widgets/base",
      "model_module_version": "1.2.0",
      "model_name": "LayoutModel",
      "state": {}
     },
     "02f8fe2cafc84f7fb6ece6320adf0b1c": {
      "model_module": "@jupyter-widgets/base",
      "model_module_version": "1.2.0",
      "model_name": "LayoutModel",
      "state": {}
     },
     "042e1e34990f4b67bf6d75ec2bef3b3f": {
      "model_module": "@jupyter-widgets/controls",
      "model_module_version": "1.5.0",
      "model_name": "FloatProgressModel",
      "state": {
       "bar_style": "success",
       "layout": "IPY_MODEL_01dd836d18604073bbbf661aacab8db8",
       "max": 414,
       "style": "IPY_MODEL_bdd5af9e01d540109f7dc3a385eecd45",
       "value": 414
      }
     },
     "0b645508539a4fbb85dae13fed3d4193": {
      "model_module": "@jupyter-widgets/controls",
      "model_module_version": "1.5.0",
      "model_name": "ProgressStyleModel",
      "state": {
       "description_width": ""
      }
     },
     "144ccd69646b4768b7e1301ee37fe6d0": {
      "model_module": "@jupyter-widgets/controls",
      "model_module_version": "1.5.0",
      "model_name": "HTMLModel",
      "state": {
       "layout": "IPY_MODEL_c6112fefe9a2441b88149e8b23c0d224",
       "style": "IPY_MODEL_41432764df324b6c9f4ae8f57669b203",
       "value": " 23000/23000 [28:01:21&lt;00:00,  2.68s/it]"
      }
     },
     "1ef1750e065a492e8e80b974833eb5f9": {
      "model_module": "@jupyter-widgets/controls",
      "model_module_version": "1.5.0",
      "model_name": "HTMLModel",
      "state": {
       "layout": "IPY_MODEL_2dd0b3a601e74ba8a824f358792e9b09",
       "style": "IPY_MODEL_b33be5b145b846b08912ec91f7cedbf9",
       "value": " 414/414 [4:45:08&lt;00:00, 44.62s/it]"
      }
     },
     "208a324f3d054d4f9f614671b963fbf3": {
      "model_module": "@jupyter-widgets/controls",
      "model_module_version": "1.5.0",
      "model_name": "HTMLModel",
      "state": {
       "layout": "IPY_MODEL_6e4758278e894875b593c3b45ae9bdc0",
       "style": "IPY_MODEL_f90e779c8dc14bbab0df757f24f05c87",
       "value": " 359/359 [04:44&lt;00:00,  3.89s/it]"
      }
     },
     "217b943bb60744d6b422d876b216f9d2": {
      "model_module": "@jupyter-widgets/base",
      "model_module_version": "1.2.0",
      "model_name": "LayoutModel",
      "state": {}
     },
     "23680049ccbd49e0ac1f0a7453355502": {
      "model_module": "@jupyter-widgets/controls",
      "model_module_version": "1.5.0",
      "model_name": "HBoxModel",
      "state": {
       "children": [
        "IPY_MODEL_9f131adba3f144c393086b09f5228c9f",
        "IPY_MODEL_9d20b79d86294febb185f9fbbdc52d0d",
        "IPY_MODEL_9d91ec49c4ba4c998598b1a6cd52ec9c"
       ],
       "layout": "IPY_MODEL_b53fa2669f894848a1624cf77d9cb48c"
      }
     },
     "25f8d42d1d824835a680919c558da5e4": {
      "model_module": "@jupyter-widgets/base",
      "model_module_version": "1.2.0",
      "model_name": "LayoutModel",
      "state": {}
     },
     "2b2d7cdb3f2745e88cc3e574e28179d7": {
      "model_module": "@jupyter-widgets/base",
      "model_module_version": "1.2.0",
      "model_name": "LayoutModel",
      "state": {}
     },
     "2c819b76e1774acdaeba112c9f4b8d10": {
      "model_module": "@jupyter-widgets/controls",
      "model_module_version": "1.5.0",
      "model_name": "HTMLModel",
      "state": {
       "layout": "IPY_MODEL_2b2d7cdb3f2745e88cc3e574e28179d7",
       "style": "IPY_MODEL_d0f6da41f1bf46d4a17ac14840ef1ac6",
       "value": "100%"
      }
     },
     "2dd0b3a601e74ba8a824f358792e9b09": {
      "model_module": "@jupyter-widgets/base",
      "model_module_version": "1.2.0",
      "model_name": "LayoutModel",
      "state": {}
     },
     "2ddc061dc7254456a6d4dab4295ca7a8": {
      "model_module": "@jupyter-widgets/controls",
      "model_module_version": "1.5.0",
      "model_name": "DescriptionStyleModel",
      "state": {
       "description_width": ""
      }
     },
     "3f6fa99587394dd9982edc5cad2325ad": {
      "model_module": "@jupyter-widgets/controls",
      "model_module_version": "1.5.0",
      "model_name": "FloatProgressModel",
      "state": {
       "bar_style": "success",
       "layout": "IPY_MODEL_bdd2d2d73b994548b20f2706320e4334",
       "max": 23000,
       "style": "IPY_MODEL_8ab7b38ffe6044ffb219430f86b71297",
       "value": 23000
      }
     },
     "41432764df324b6c9f4ae8f57669b203": {
      "model_module": "@jupyter-widgets/controls",
      "model_module_version": "1.5.0",
      "model_name": "DescriptionStyleModel",
      "state": {
       "description_width": ""
      }
     },
     "4ab195afe7cf4400865cf863c1b77687": {
      "model_module": "@jupyter-widgets/controls",
      "model_module_version": "1.5.0",
      "model_name": "HTMLModel",
      "state": {
       "layout": "IPY_MODEL_ba05e5401caa4e0fb863fee351103249",
       "style": "IPY_MODEL_2ddc061dc7254456a6d4dab4295ca7a8",
       "value": "100%"
      }
     },
     "539152c8357b47fe960287e03998ce3a": {
      "model_module": "@jupyter-widgets/base",
      "model_module_version": "1.2.0",
      "model_name": "LayoutModel",
      "state": {}
     },
     "6e4758278e894875b593c3b45ae9bdc0": {
      "model_module": "@jupyter-widgets/base",
      "model_module_version": "1.2.0",
      "model_name": "LayoutModel",
      "state": {}
     },
     "7bf8851c2d854d2db73c04946e5e90c3": {
      "model_module": "@jupyter-widgets/base",
      "model_module_version": "1.2.0",
      "model_name": "LayoutModel",
      "state": {}
     },
     "7de110035a634ec6b66eadddc60cbb95": {
      "model_module": "@jupyter-widgets/controls",
      "model_module_version": "1.5.0",
      "model_name": "HTMLModel",
      "state": {
       "layout": "IPY_MODEL_a8674ae432464c6d8bda963c0ffcc998",
       "style": "IPY_MODEL_bbe9efe1533b4c3999c02d7b2d353640",
       "value": "100%"
      }
     },
     "8ab7b38ffe6044ffb219430f86b71297": {
      "model_module": "@jupyter-widgets/controls",
      "model_module_version": "1.5.0",
      "model_name": "ProgressStyleModel",
      "state": {
       "description_width": ""
      }
     },
     "9a66c5e9bf56403b9f07a90854c77ce2": {
      "model_module": "@jupyter-widgets/controls",
      "model_module_version": "1.5.0",
      "model_name": "ProgressStyleModel",
      "state": {
       "description_width": ""
      }
     },
     "9d20b79d86294febb185f9fbbdc52d0d": {
      "model_module": "@jupyter-widgets/controls",
      "model_module_version": "1.5.0",
      "model_name": "FloatProgressModel",
      "state": {
       "bar_style": "danger",
       "layout": "IPY_MODEL_b919f5e95a2c42d6ba01fafda9be6d27",
       "max": 359,
       "style": "IPY_MODEL_9a66c5e9bf56403b9f07a90854c77ce2",
       "value": 294
      }
     },
     "9d91ec49c4ba4c998598b1a6cd52ec9c": {
      "model_module": "@jupyter-widgets/controls",
      "model_module_version": "1.5.0",
      "model_name": "HTMLModel",
      "state": {
       "layout": "IPY_MODEL_a229116cbd114a66baed55128173ae18",
       "style": "IPY_MODEL_a4f99f48570e4ad88420ae526387f860",
       "value": " 294/359 [2:32:12&lt;31:50, 29.40s/it]"
      }
     },
     "9f131adba3f144c393086b09f5228c9f": {
      "model_module": "@jupyter-widgets/controls",
      "model_module_version": "1.5.0",
      "model_name": "HTMLModel",
      "state": {
       "layout": "IPY_MODEL_217b943bb60744d6b422d876b216f9d2",
       "style": "IPY_MODEL_cc8d1e2f5ded4b4f906711a568c0e48b",
       "value": " 82%"
      }
     },
     "a229116cbd114a66baed55128173ae18": {
      "model_module": "@jupyter-widgets/base",
      "model_module_version": "1.2.0",
      "model_name": "LayoutModel",
      "state": {}
     },
     "a4f99f48570e4ad88420ae526387f860": {
      "model_module": "@jupyter-widgets/controls",
      "model_module_version": "1.5.0",
      "model_name": "DescriptionStyleModel",
      "state": {
       "description_width": ""
      }
     },
     "a8674ae432464c6d8bda963c0ffcc998": {
      "model_module": "@jupyter-widgets/base",
      "model_module_version": "1.2.0",
      "model_name": "LayoutModel",
      "state": {}
     },
     "b33be5b145b846b08912ec91f7cedbf9": {
      "model_module": "@jupyter-widgets/controls",
      "model_module_version": "1.5.0",
      "model_name": "DescriptionStyleModel",
      "state": {
       "description_width": ""
      }
     },
     "b53fa2669f894848a1624cf77d9cb48c": {
      "model_module": "@jupyter-widgets/base",
      "model_module_version": "1.2.0",
      "model_name": "LayoutModel",
      "state": {}
     },
     "b919f5e95a2c42d6ba01fafda9be6d27": {
      "model_module": "@jupyter-widgets/base",
      "model_module_version": "1.2.0",
      "model_name": "LayoutModel",
      "state": {}
     },
     "ba05e5401caa4e0fb863fee351103249": {
      "model_module": "@jupyter-widgets/base",
      "model_module_version": "1.2.0",
      "model_name": "LayoutModel",
      "state": {}
     },
     "bbe9efe1533b4c3999c02d7b2d353640": {
      "model_module": "@jupyter-widgets/controls",
      "model_module_version": "1.5.0",
      "model_name": "DescriptionStyleModel",
      "state": {
       "description_width": ""
      }
     },
     "bdd2d2d73b994548b20f2706320e4334": {
      "model_module": "@jupyter-widgets/base",
      "model_module_version": "1.2.0",
      "model_name": "LayoutModel",
      "state": {}
     },
     "bdd5af9e01d540109f7dc3a385eecd45": {
      "model_module": "@jupyter-widgets/controls",
      "model_module_version": "1.5.0",
      "model_name": "ProgressStyleModel",
      "state": {
       "description_width": ""
      }
     },
     "c6112fefe9a2441b88149e8b23c0d224": {
      "model_module": "@jupyter-widgets/base",
      "model_module_version": "1.2.0",
      "model_name": "LayoutModel",
      "state": {}
     },
     "cc8d1e2f5ded4b4f906711a568c0e48b": {
      "model_module": "@jupyter-widgets/controls",
      "model_module_version": "1.5.0",
      "model_name": "DescriptionStyleModel",
      "state": {
       "description_width": ""
      }
     },
     "ce10c53041ca450a87c46d3ece389d6b": {
      "model_module": "@jupyter-widgets/controls",
      "model_module_version": "1.5.0",
      "model_name": "HBoxModel",
      "state": {
       "children": [
        "IPY_MODEL_7de110035a634ec6b66eadddc60cbb95",
        "IPY_MODEL_ef0e4468bee94c2d93f372f345960b7b",
        "IPY_MODEL_208a324f3d054d4f9f614671b963fbf3"
       ],
       "layout": "IPY_MODEL_539152c8357b47fe960287e03998ce3a"
      }
     },
     "d0f6da41f1bf46d4a17ac14840ef1ac6": {
      "model_module": "@jupyter-widgets/controls",
      "model_module_version": "1.5.0",
      "model_name": "DescriptionStyleModel",
      "state": {
       "description_width": ""
      }
     },
     "e1aaa39701284310b2614f236793e535": {
      "model_module": "@jupyter-widgets/controls",
      "model_module_version": "1.5.0",
      "model_name": "HBoxModel",
      "state": {
       "children": [
        "IPY_MODEL_4ab195afe7cf4400865cf863c1b77687",
        "IPY_MODEL_3f6fa99587394dd9982edc5cad2325ad",
        "IPY_MODEL_144ccd69646b4768b7e1301ee37fe6d0"
       ],
       "layout": "IPY_MODEL_02f8fe2cafc84f7fb6ece6320adf0b1c"
      }
     },
     "ef0e4468bee94c2d93f372f345960b7b": {
      "model_module": "@jupyter-widgets/controls",
      "model_module_version": "1.5.0",
      "model_name": "FloatProgressModel",
      "state": {
       "bar_style": "success",
       "layout": "IPY_MODEL_25f8d42d1d824835a680919c558da5e4",
       "max": 359,
       "style": "IPY_MODEL_0b645508539a4fbb85dae13fed3d4193",
       "value": 359
      }
     },
     "f90e779c8dc14bbab0df757f24f05c87": {
      "model_module": "@jupyter-widgets/controls",
      "model_module_version": "1.5.0",
      "model_name": "DescriptionStyleModel",
      "state": {
       "description_width": ""
      }
     },
     "fd86d4f1e34948fcaa8875abe009a4fc": {
      "model_module": "@jupyter-widgets/controls",
      "model_module_version": "1.5.0",
      "model_name": "HBoxModel",
      "state": {
       "children": [
        "IPY_MODEL_2c819b76e1774acdaeba112c9f4b8d10",
        "IPY_MODEL_042e1e34990f4b67bf6d75ec2bef3b3f",
        "IPY_MODEL_1ef1750e065a492e8e80b974833eb5f9"
       ],
       "layout": "IPY_MODEL_7bf8851c2d854d2db73c04946e5e90c3"
      }
     }
    },
    "version_major": 2,
    "version_minor": 0
   }
  }
 },
 "nbformat": 4,
 "nbformat_minor": 5
}
