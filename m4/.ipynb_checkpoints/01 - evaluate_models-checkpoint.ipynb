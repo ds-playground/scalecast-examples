{
 "cells": [
  {
   "cell_type": "code",
   "execution_count": 1,
   "id": "2410860d-eeda-44c4-8880-e2c18b391c17",
   "metadata": {},
   "outputs": [],
   "source": [
    "import pandas as pd\n",
    "import numpy as np\n",
    "from tqdm.notebook import tqdm\n",
    "from scalecast import GridGenerator\n",
    "from Forecaster import Forecaster\n",
    "from fix_date import fix_date"
   ]
  },
  {
   "cell_type": "code",
   "execution_count": 2,
   "id": "c8ffbf97-41a9-4537-96d7-3e9e374ee5ba",
   "metadata": {},
   "outputs": [],
   "source": [
    "models = (\n",
    "    'mlr',\n",
    "    'elasticnet',\n",
    "    'sgd',\n",
    "    'svr',\n",
    "    'lightgbm',\n",
    "    'xgboost',\n",
    "    'knn',\n",
    "    'mlp',\n",
    ")"
   ]
  },
  {
   "cell_type": "code",
   "execution_count": 3,
   "id": "5c2417fb-b2f3-4f49-9f89-33452d39dc03",
   "metadata": {},
   "outputs": [],
   "source": [
    "info = pd.read_csv(\n",
    "    'm4/M4-info.csv',\n",
    "    index_col=0,\n",
    "    parse_dates=['StartingDate'],\n",
    "    dayfirst=True,\n",
    ")\n",
    "info['StartingDate'] = info['StartingDate'].apply(fix_date)"
   ]
  },
  {
   "cell_type": "markdown",
   "id": "10a9a378-7e91-4f3d-ab39-74b8bb8ba587",
   "metadata": {},
   "source": [
    "## Hourly"
   ]
  },
  {
   "cell_type": "code",
   "execution_count": 4,
   "id": "5cf0a64b-ca34-4215-a021-f6b7c1e9c24f",
   "metadata": {},
   "outputs": [],
   "source": [
    "Hourly = pd.read_csv(\n",
    "    f'm4/train/Hourly-train.csv',\n",
    "    index_col=0,\n",
    ")"
   ]
  },
  {
   "cell_type": "code",
   "execution_count": 5,
   "id": "48ff670c-b885-4762-8905-4c68a7b07640",
   "metadata": {},
   "outputs": [],
   "source": [
    "Hourly_test = pd.read_csv(\n",
    "    f'm4/test/Hourly-test.csv',\n",
    "    index_col=0,\n",
    ")\n",
    "\n",
    "Hourly_results_template = pd.DataFrame(\n",
    "    columns=Hourly_test.columns,\n",
    "    index=Hourly_test.index,\n",
    ")\n",
    "\n",
    "Hourly_results = {}"
   ]
  },
  {
   "cell_type": "code",
   "execution_count": null,
   "id": "9586cff8-15ee-4276-a63c-7e823e70d986",
   "metadata": {},
   "outputs": [
    {
     "data": {
      "application/vnd.jupyter.widget-view+json": {
       "model_id": "",
       "version_major": 2,
       "version_minor": 0
      },
      "text/plain": [
       "  0%|          | 0/4227 [00:00<?, ?it/s]"
      ]
     },
     "metadata": {},
     "output_type": "display_data"
    }
   ],
   "source": [
    "for i in tqdm(Hourly.index):\n",
    "    y = Hourly.loc[i].dropna()\n",
    "    sd = info.loc[i,'StartingDate']\n",
    "    fcst_horizon = info.loc[i,'Horizon']\n",
    "    cd = pd.date_range(\n",
    "        start = sd,\n",
    "        freq = 'H',\n",
    "        periods = len(y),\n",
    "    )\n",
    "    f = Forecaster(\n",
    "        y = y,\n",
    "        current_dates = cd,\n",
    "        future_dates = fcst_horizon,\n",
    "    )\n",
    "    \n",
    "    f.set_test_length(fcst_horizon if len(f.y) > 100 else 1)\n",
    "    f.integrate(critical_pval=.99,max_integration=1)\n",
    "    f.set_validation_length(fcst_horizon if len(f.y) > 100 else 1)\n",
    "    f.set_validation_metric('mae')\n",
    "    if len(f.y) > 8760:\n",
    "        f.add_cycle(8760) # yearly\n",
    "    if len(f.y) > 300:\n",
    "        f.auto_Xvar_select(\n",
    "            monitor='LevelTestSetMAE',\n",
    "            max_ar = 48,\n",
    "            exclude_seasonalities = ['quarter','month','week','day']\n",
    "        )\n",
    "        f.determine_best_series_length(\n",
    "            monitor='LevelTestSetMAE',\n",
    "            step=50,\n",
    "            min_obs = 300,\n",
    "        )\n",
    "    else:\n",
    "        f.auto_Xvar_select(\n",
    "            monitor='LevelTestSetMAE',\n",
    "            irr_cycles = [168], # weekly\n",
    "            exclude_seasonalities = ['quarter','month','week','day','dayofweek'],\n",
    "            max_ar = 24,\n",
    "        )\n",
    "    f.tune_test_forecast(\n",
    "        models,\n",
    "        error='ignore',\n",
    "    )\n",
    "    flagged = [\n",
    "        m for m, r in f.history.items() if np.max(\n",
    "            np.abs(r['LevelForecast'])\n",
    "        ) > np.max(f.levely)*5\n",
    "    ]\n",
    "    for m in models: # replace applicable with naive forecasts\n",
    "        if m in flagged or m not in f.history:\n",
    "            f.set_estimator('hwes')\n",
    "            f.manual_forecast(\n",
    "                call_me=m,\n",
    "                seasonal=(\n",
    "                    'add' \n",
    "                    if len(f.y) > 48 + fcst_horizon\n",
    "                    else None\n",
    "                )\n",
    "            )\n",
    "        \n",
    "    f.set_estimator('combo')\n",
    "    for n in range(2,len(f.history) + 1,2):\n",
    "        f.manual_forecast(\n",
    "            models=f'top_{n}',\n",
    "            determine_best_by='LevelTestSetMAE',\n",
    "            call_me=f'avg_top_{n}'\n",
    "        )\n",
    "        f.manual_forecast(\n",
    "            how='weighted',\n",
    "            models=f'top_{n}',\n",
    "            determine_best_by='LevelTestSetMAE',\n",
    "            call_me=f'weighted_top_{n}'\n",
    "        )\n",
    "    fcsts = f.export('lvl_fcsts',determine_best_by='LevelTestSetMAE')\n",
    "    for m in f.history.keys():\n",
    "        if m in Hourly_results:\n",
    "            Hourly_results[m].loc[i] = fcsts[m].to_list()\n",
    "        else:\n",
    "            df = Hourly_results_template.copy()\n",
    "            df.loc[i] = fcsts[m].to_list()\n",
    "            Hourly_results[m] = df\n",
    "    if 'auto_select' in Hourly_results:\n",
    "        Hourly_results['auto_select'].loc[i] = fcsts.iloc[:,1].to_list()\n",
    "    else:\n",
    "        df = Hourly_results_template.copy()\n",
    "        df.loc[i] = fcsts.iloc[:,1].to_list()\n",
    "        Hourly_results['auto_select'] = df"
   ]
  },
  {
   "cell_type": "code",
   "execution_count": null,
   "id": "a75de6df-4b2e-4379-8c16-0298431f17bd",
   "metadata": {},
   "outputs": [],
   "source": [
    "for m,df in Hourly_results.items():\n",
    "    df.to_csv(f'M4/model_results/Hourly/{m}.csv')"
   ]
  },
  {
   "cell_type": "code",
   "execution_count": null,
   "id": "f6fab4b0-4c17-44ba-a7f2-444039cf7d4d",
   "metadata": {},
   "outputs": [],
   "source": [
    "del Hourly\n",
    "del Hourly_test\n",
    "del Hourly_results_template\n",
    "del Hourly_results"
   ]
  },
  {
   "cell_type": "markdown",
   "id": "d5c24cd2-7ac4-467b-8976-8de0dc7e6472",
   "metadata": {},
   "source": [
    "## Daily"
   ]
  },
  {
   "cell_type": "code",
   "execution_count": 4,
   "id": "75fe7738-4558-4ea9-8027-f614bcd88536",
   "metadata": {},
   "outputs": [],
   "source": [
    "Daily = pd.read_csv(\n",
    "    f'm4/train/Daily-train.csv',\n",
    "    index_col=0,\n",
    ")"
   ]
  },
  {
   "cell_type": "code",
   "execution_count": 5,
   "id": "f6044262-0768-4751-a45a-c2a04ca67d9b",
   "metadata": {},
   "outputs": [],
   "source": [
    "Daily_test = pd.read_csv(\n",
    "    f'm4/test/Daily-test.csv',\n",
    "    index_col=0,\n",
    ")\n",
    "\n",
    "Daily_results_template = pd.DataFrame(\n",
    "    columns=Daily_test.columns,\n",
    "    index=Daily_test.index,\n",
    ")\n",
    "\n",
    "Daily_results = {}"
   ]
  },
  {
   "cell_type": "code",
   "execution_count": null,
   "id": "32629487-6502-4866-879c-d726800a72d7",
   "metadata": {},
   "outputs": [
    {
     "data": {
      "application/vnd.jupyter.widget-view+json": {
       "model_id": "e626ccd06b184483b2be21d9599b2cae",
       "version_major": 2,
       "version_minor": 0
      },
      "text/plain": [
       "  0%|          | 0/4227 [00:00<?, ?it/s]"
      ]
     },
     "metadata": {},
     "output_type": "display_data"
    }
   ],
   "source": [
    "for i in tqdm(Daily.index):\n",
    "    y = Daily.loc[i].dropna()\n",
    "    sd = info.loc[i,'StartingDate']\n",
    "    fcst_horizon = info.loc[i,'Horizon']\n",
    "    cd = pd.date_range(\n",
    "        start = sd,\n",
    "        freq = 'D',\n",
    "        periods = len(y),\n",
    "    )\n",
    "    f = Forecaster(\n",
    "        y = y,\n",
    "        current_dates = cd,\n",
    "        future_dates = fcst_horizon,\n",
    "    )\n",
    "    \n",
    "    f.set_test_length(fcst_horizon if len(f.y) > 50 else 1)\n",
    "    f.integrate(critical_pval=.99,max_integration=1)\n",
    "    f.set_validation_length(fcst_horizon if len(f.y) > 100 else 1)\n",
    "    f.set_validation_metric('mae')\n",
    "    if len(f.y) > 366:\n",
    "        f.auto_Xvar_select(\n",
    "            irr_cycles=[90],\n",
    "            monitor='LevelTestSetMAE',\n",
    "            max_ar = 36,\n",
    "            exclude_seasonalities = ['month'],\n",
    "            seasonality_repr = {'quarter':['dummy','drop_first']},\n",
    "        )\n",
    "    else: # less than a year available\n",
    "        f.auto_Xvar_select(\n",
    "            irr_cycles=[90],\n",
    "            monitor='LevelTestSetMAE',\n",
    "            exclude_seasonalities = ['quarter','month','week','day'],\n",
    "            max_ar = 20,\n",
    "        )\n",
    "    if len(f.y) > 1000: # more than three years available\n",
    "        f.determine_best_series_length(\n",
    "            monitor='LevelTestSetMAE',\n",
    "            step=100,\n",
    "            min_obs = 1000,\n",
    "        )\n",
    "    f.tune_test_forecast(\n",
    "        models,\n",
    "        error='ignore',\n",
    "    )\n",
    "    flagged = [\n",
    "        m for m, r in f.history.items() if np.max(\n",
    "            np.abs(r['LevelForecast'])\n",
    "        ) > np.max(f.levely)*5\n",
    "    ]\n",
    "    for m in models: # replace applicable with naive forecasts\n",
    "        if m in flagged or m not in f.history:\n",
    "            f.set_estimator('hwes')\n",
    "            f.manual_forecast(call_me=m)\n",
    "        \n",
    "    f.set_estimator('combo')\n",
    "    for n in range(2,len(f.history) + 1,2):\n",
    "        f.manual_forecast(\n",
    "            models=f'top_{n}',\n",
    "            determine_best_by='LevelTestSetMAE',\n",
    "            call_me=f'avg_top_{n}'\n",
    "        )\n",
    "        f.manual_forecast(\n",
    "            how='weighted',\n",
    "            models=f'top_{n}',\n",
    "            determine_best_by='LevelTestSetMAE',\n",
    "            call_me=f'weighted_top_{n}'\n",
    "        )\n",
    "    fcsts = f.export('lvl_fcsts',determine_best_by='LevelTestSetMAE')\n",
    "    for m in f.history.keys():\n",
    "        if m in Daily_results:\n",
    "            Daily_results[m].loc[i] = fcsts[m].to_list()\n",
    "        else:\n",
    "            df = Daily_results_template.copy()\n",
    "            df.loc[i] = fcsts[m].to_list()\n",
    "            Daily_results[m] = df\n",
    "    if 'auto_select' in Daily_results:\n",
    "        Daily_results['auto_select'].loc[i] = fcsts.iloc[:,1].to_list()\n",
    "    else:\n",
    "        df = Daily_results_template.copy()\n",
    "        df.loc[i] = fcsts.iloc[:,1].to_list()\n",
    "        Daily_results['auto_select'] = df"
   ]
  },
  {
   "cell_type": "code",
   "execution_count": null,
   "id": "72a0fda2-02bf-4c7c-bdda-faf4c39eaf8f",
   "metadata": {},
   "outputs": [],
   "source": [
    "for m,df in Daily_results.items():\n",
    "    df.to_csv(f'M4/model_results/Daily/{m}.csv')"
   ]
  },
  {
   "cell_type": "code",
   "execution_count": null,
   "id": "a82452b3-eff2-4e23-89fa-b6c167f51cf0",
   "metadata": {},
   "outputs": [],
   "source": [
    "del Daily\n",
    "del Daily_test\n",
    "del Daily_results_template\n",
    "del Daily_results"
   ]
  },
  {
   "cell_type": "markdown",
   "id": "5083d923-29e5-417f-86d0-e3d51ae4d590",
   "metadata": {},
   "source": [
    "## Weekly"
   ]
  },
  {
   "cell_type": "code",
   "execution_count": 4,
   "id": "642c7bc7-f606-43f4-b49e-9460db300a9f",
   "metadata": {},
   "outputs": [],
   "source": [
    "Weekly = pd.read_csv(\n",
    "    f'm4/train/Weekly-train.csv',\n",
    "    index_col=0,\n",
    ")"
   ]
  },
  {
   "cell_type": "code",
   "execution_count": 5,
   "id": "7bd96198-0b75-46eb-a115-304fb009e7af",
   "metadata": {},
   "outputs": [],
   "source": [
    "Weekly_test = pd.read_csv(\n",
    "    f'm4/test/Weekly-test.csv',\n",
    "    index_col=0,\n",
    ")\n",
    "\n",
    "Weekly_results_template = pd.DataFrame(\n",
    "    columns=Weekly_test.columns,\n",
    "    index=Weekly_test.index,\n",
    ")\n",
    "\n",
    "Weekly_results = {}"
   ]
  },
  {
   "cell_type": "code",
   "execution_count": null,
   "id": "21bf1a7b-50fa-45d6-92c1-a4c97db1d28d",
   "metadata": {},
   "outputs": [
    {
     "data": {
      "application/vnd.jupyter.widget-view+json": {
       "model_id": "a8222d64ceae40d58aa9dd24e7dceb32",
       "version_major": 2,
       "version_minor": 0
      },
      "text/plain": [
       "  0%|          | 0/4227 [00:00<?, ?it/s]"
      ]
     },
     "metadata": {},
     "output_type": "display_data"
    }
   ],
   "source": [
    "for i in tqdm(Weekly.index):\n",
    "    y = Weekly.loc[i].dropna()\n",
    "    sd = info.loc[i,'StartingDate']\n",
    "    fcst_horizon = info.loc[i,'Horizon']\n",
    "    cd = pd.date_range(\n",
    "        start = sd,\n",
    "        freq = 'W',\n",
    "        periods = len(y),\n",
    "    )\n",
    "    f = Forecaster(\n",
    "        y = y,\n",
    "        current_dates = cd,\n",
    "        future_dates = fcst_horizon,\n",
    "    )\n",
    "    \n",
    "    f.set_test_length(fcst_horizon if len(f.y) > 100 else 1)\n",
    "    f.integrate(critical_pval=.99,max_integration=1)\n",
    "    f.set_validation_length(fcst_horizon if len(f.y) > 100 else 1)\n",
    "    f.set_validation_metric('mae')\n",
    "    if len(f.y) > 150:\n",
    "        f.add_cycle(26)\n",
    "        f.auto_Xvar_select(\n",
    "            monitor='LevelTestSetMAE',\n",
    "            max_ar = 52,\n",
    "            irr_cycles = [13],\n",
    "        )\n",
    "        f.determine_best_series_length(\n",
    "            monitor='LevelTestSetMAE',\n",
    "            step=50,\n",
    "            min_obs = 150,\n",
    "        )\n",
    "    else:\n",
    "        f.auto_Xvar_select(\n",
    "            monitor='LevelTestSetMAE',\n",
    "            exclude_seasonalities = ['quarter','month'],\n",
    "            max_ar = fcst_horizon,\n",
    "            decomp_trend = False,\n",
    "        )\n",
    "    f.tune_test_forecast(\n",
    "        models,\n",
    "        error='ignore',\n",
    "    )\n",
    "    flagged = [\n",
    "        m for m, r in f.history.items() if np.max(\n",
    "            np.abs(r['LevelForecast'])\n",
    "        ) > np.max(f.levely)*5\n",
    "    ]\n",
    "    for m in models: # replace applicable with naive forecasts\n",
    "        if m in flagged or m not in f.history:\n",
    "            f.set_estimator('hwes')\n",
    "            f.manual_forecast(call_me=m)\n",
    "        \n",
    "    f.set_estimator('combo')\n",
    "    for n in range(2,len(f.history) + 1,2):\n",
    "        f.manual_forecast(\n",
    "            models=f'top_{n}',\n",
    "            determine_best_by='LevelTestSetMAE',\n",
    "            call_me=f'avg_top_{n}'\n",
    "        )\n",
    "        f.manual_forecast(\n",
    "            how='weighted',\n",
    "            models=f'top_{n}',\n",
    "            determine_best_by='LevelTestSetMAE',\n",
    "            call_me=f'weighted_top_{n}'\n",
    "        )\n",
    "    fcsts = f.export('lvl_fcsts',determine_best_by='LevelTestSetMAE')\n",
    "    for m in f.history.keys():\n",
    "        if m in Weekly_results:\n",
    "            Weekly_results[m].loc[i] = fcsts[m].to_list()\n",
    "        else:\n",
    "            df = Weekly_results_template.copy()\n",
    "            df.loc[i] = fcsts[m].to_list()\n",
    "            Weekly_results[m] = df\n",
    "    if 'auto_select' in Weekly_results:\n",
    "        Weekly_results['auto_select'].loc[i] = fcsts.iloc[:,1].to_list()\n",
    "    else:\n",
    "        df = Weekly_results_template.copy()\n",
    "        df.loc[i] = fcsts.iloc[:,1].to_list()\n",
    "        Weekly_results['auto_select'] = df"
   ]
  },
  {
   "cell_type": "code",
   "execution_count": null,
   "id": "16383873-bec2-4e65-848a-dd0364e44188",
   "metadata": {},
   "outputs": [],
   "source": [
    "for m,df in Weekly_results.items():\n",
    "    df.to_csv(f'M4/model_results/Weekly/{m}.csv')"
   ]
  },
  {
   "cell_type": "code",
   "execution_count": null,
   "id": "8bb19ec5-2d37-4f9d-b5dd-eabcfbe62bf1",
   "metadata": {},
   "outputs": [],
   "source": [
    "del Weekly\n",
    "del Weekly_test\n",
    "del Weekly_results_template\n",
    "del Weekly_results"
   ]
  },
  {
   "cell_type": "markdown",
   "id": "6a90c11c-cfff-43da-a35a-6019a10c582a",
   "metadata": {},
   "source": [
    "## Monthly"
   ]
  },
  {
   "cell_type": "code",
   "execution_count": 4,
   "id": "41bd453d-8543-4281-b18c-325f72bb843a",
   "metadata": {},
   "outputs": [],
   "source": [
    "Monthly = pd.read_csv(\n",
    "    f'm4/train/Monthly-train.csv',\n",
    "    index_col=0,\n",
    ")"
   ]
  },
  {
   "cell_type": "code",
   "execution_count": 5,
   "id": "81a0027a-85cf-4bf5-b6d7-79dd6b4e9b26",
   "metadata": {},
   "outputs": [],
   "source": [
    "Monthly_test = pd.read_csv(\n",
    "    f'm4/test/Monthly-test.csv',\n",
    "    index_col=0,\n",
    ")\n",
    "\n",
    "Monthly_results_template = pd.DataFrame(\n",
    "    columns=Monthly_test.columns,\n",
    "    index=Monthly_test.index,\n",
    ")\n",
    "\n",
    "Monthly_results = {}"
   ]
  },
  {
   "cell_type": "code",
   "execution_count": null,
   "id": "c80925ca-40ce-4034-ba42-b3d726a76be9",
   "metadata": {},
   "outputs": [
    {
     "data": {
      "application/vnd.jupyter.widget-view+json": {
       "model_id": "",
       "version_major": 2,
       "version_minor": 0
      },
      "text/plain": [
       "  0%|          | 0/4227 [00:00<?, ?it/s]"
      ]
     },
     "metadata": {},
     "output_type": "display_data"
    }
   ],
   "source": [
    "for i in tqdm(Monthly.index):\n",
    "    y = Monthly.loc[i].dropna()\n",
    "    sd = info.loc[i,'StartingDate']\n",
    "    fcst_horizon = info.loc[i,'Horizon']\n",
    "    cd = pd.date_range(\n",
    "        start = sd,\n",
    "        freq = 'M',\n",
    "        periods = len(y),\n",
    "    )\n",
    "    f = Forecaster(\n",
    "        y = y,\n",
    "        current_dates = cd,\n",
    "        future_dates = fcst_horizon,\n",
    "    )\n",
    "    \n",
    "    f.set_test_length(fcst_horizon if len(f.y) > 100 else 1)\n",
    "    f.integrate(critical_pval=.99,max_integration=1)\n",
    "    f.set_validation_length(fcst_horizon if len(f.y) > 100 else 1)\n",
    "    f.set_validation_metric('mae')\n",
    "    if len(f.y) > 120:\n",
    "        f.auto_Xvar_select(\n",
    "            monitor='LevelTestSetMAE',\n",
    "            max_ar = 48,\n",
    "            irr_cycles = [3],\n",
    "        )\n",
    "        f.determine_best_series_length(\n",
    "            monitor='LevelTestSetMAE',\n",
    "            step=50,\n",
    "            min_obs = 120,\n",
    "        )\n",
    "    else:\n",
    "        f.auto_Xvar_select(\n",
    "            monitor='LevelTestSetMAE',\n",
    "            exclude_seasonalities = ['quarter'],\n",
    "            max_ar = fcst_horizon,\n",
    "            decomp_trend = False,\n",
    "        )\n",
    "    f.tune_test_forecast(\n",
    "        models,\n",
    "        error='ignore',\n",
    "    )\n",
    "    flagged = [\n",
    "        m for m, r in f.history.items() if np.max(\n",
    "            np.abs(r['LevelForecast'])\n",
    "        ) > np.max(f.levely)*5\n",
    "    ]\n",
    "    for m in models: # replace applicable with naive forecasts\n",
    "        if m in flagged or m not in f.history:\n",
    "            f.set_estimator('hwes')\n",
    "            f.manual_forecast(\n",
    "                call_me=m,\n",
    "                seasonal=(\n",
    "                    'add' \n",
    "                    if len(f.y) > 24  + fcst_horizon\n",
    "                    else None\n",
    "                )\n",
    "            )\n",
    "        \n",
    "    f.set_estimator('combo')\n",
    "    for n in range(2,len(f.history) + 1,2):\n",
    "        f.manual_forecast(\n",
    "            models=f'top_{n}',\n",
    "            determine_best_by='LevelTestSetMAE',\n",
    "            call_me=f'avg_top_{n}'\n",
    "        )\n",
    "        f.manual_forecast(\n",
    "            how='weighted',\n",
    "            models=f'top_{n}',\n",
    "            determine_best_by='LevelTestSetMAE',\n",
    "            call_me=f'weighted_top_{n}'\n",
    "        )\n",
    "    fcsts = f.export('lvl_fcsts',determine_best_by='LevelTestSetMAE')\n",
    "    for m in f.history.keys():\n",
    "        if m in Monthly_results:\n",
    "            Monthly_results[m].loc[i] = fcsts[m].to_list()\n",
    "        else:\n",
    "            df = Monthly_results_template.copy()\n",
    "            df.loc[i] = fcsts[m].to_list()\n",
    "            Monthly_results[m] = df\n",
    "    if 'auto_select' in Monthly_results:\n",
    "        Monthly_results['auto_select'].loc[i] = fcsts.iloc[:,1].to_list()\n",
    "    else:\n",
    "        df = Monthly_results_template.copy()\n",
    "        df.loc[i] = fcsts.iloc[:,1].to_list()\n",
    "        Monthly_results['auto_select'] = df"
   ]
  },
  {
   "cell_type": "code",
   "execution_count": null,
   "id": "e51a9723-6411-4e15-a2b0-ac373c776f23",
   "metadata": {},
   "outputs": [],
   "source": [
    "for m,df in Monthly_results.items():\n",
    "    df.to_csv(f'M4/model_results/Monthly/{m}.csv')"
   ]
  },
  {
   "cell_type": "code",
   "execution_count": null,
   "id": "f3e3c252-5776-44ef-b0af-24828590e27d",
   "metadata": {},
   "outputs": [],
   "source": [
    "del Monthly\n",
    "del Monthly_test\n",
    "del Monthly_results_template\n",
    "del Monthly_results"
   ]
  },
  {
   "cell_type": "markdown",
   "id": "bc378ab6-176c-48b6-ae34-610cbe67ab9f",
   "metadata": {},
   "source": [
    "## Quarterly"
   ]
  },
  {
   "cell_type": "code",
   "execution_count": 4,
   "id": "eb3c3621-5234-4e42-bcd0-84e92ccb80ff",
   "metadata": {},
   "outputs": [],
   "source": [
    "Quarterly = pd.read_csv(\n",
    "    f'm4/train/Quarterly-train.csv',\n",
    "    index_col=0,\n",
    ")"
   ]
  },
  {
   "cell_type": "code",
   "execution_count": 5,
   "id": "42000399-c1d1-42ea-9775-94b676de5bc5",
   "metadata": {},
   "outputs": [],
   "source": [
    "Quarterly_test = pd.read_csv(\n",
    "    f'm4/test/Quarterly-test.csv',\n",
    "    index_col=0,\n",
    ")\n",
    "\n",
    "Quarterly_results_template = pd.DataFrame(\n",
    "    columns=Quarterly_test.columns,\n",
    "    index=Quarterly_test.index,\n",
    ")\n",
    "\n",
    "Quarterly_results = {}"
   ]
  },
  {
   "cell_type": "code",
   "execution_count": null,
   "id": "69676a53-73d6-482b-b107-f406bf9140b5",
   "metadata": {},
   "outputs": [
    {
     "data": {
      "application/vnd.jupyter.widget-view+json": {
       "model_id": "a8222d64ceae40d58aa9dd24e7dceb32",
       "version_major": 2,
       "version_minor": 0
      },
      "text/plain": [
       "  0%|          | 0/4227 [00:00<?, ?it/s]"
      ]
     },
     "metadata": {},
     "output_type": "display_data"
    }
   ],
   "source": [
    "for i in tqdm(Quarterly.index):\n",
    "    y = Quarterly.loc[i].dropna()\n",
    "    sd = info.loc[i,'StartingDate']\n",
    "    fcst_horizon = info.loc[i,'Horizon']\n",
    "    cd = pd.date_range(\n",
    "        start = sd,\n",
    "        freq = 'Q',\n",
    "        periods = len(y),\n",
    "    )\n",
    "    f = Forecaster(\n",
    "        y = y,\n",
    "        current_dates = cd,\n",
    "        future_dates = fcst_horizon,\n",
    "    )\n",
    "    \n",
    "    f.set_test_length(fcst_horizon if len(f.y) > 100 else 1)\n",
    "    f.integrate(critical_pval=.99,max_integration=1)\n",
    "    f.set_validation_length(fcst_horizon if len(f.y) > 100 else 1)\n",
    "    f.set_validation_metric('mae')\n",
    "    f.auto_Xvar_select(\n",
    "        monitor='LevelTestSetMAE',\n",
    "        max_ar = 16 if len(f.y) > 100 else fcst_horizon,\n",
    "        irr_cycles = [2],\n",
    "    )\n",
    "    if len(f.y) > 100:\n",
    "        f.determine_best_series_length(\n",
    "            monitor='LevelTestSetMAE',\n",
    "            step=48,\n",
    "            min_obs = 100,\n",
    "        )\n",
    "    f.tune_test_forecast(\n",
    "        models,\n",
    "        error='ignore',\n",
    "    )\n",
    "    flagged = [\n",
    "        m for m, r in f.history.items() if np.max(\n",
    "            np.abs(r['LevelForecast'])\n",
    "        ) > np.max(f.levely)*5\n",
    "    ]\n",
    "    for m in models: # replace applicable with naive forecasts\n",
    "        if m in flagged or m not in f.history:\n",
    "            f.set_estimator('hwes')\n",
    "            f.manual_forecast(\n",
    "                call_me=m,\n",
    "                seasonal=(\n",
    "                    'add' \n",
    "                    if len(f.y) > 8 + fcst_horizon\n",
    "                    else None\n",
    "                )\n",
    "            )\n",
    "        \n",
    "    f.set_estimator('combo')\n",
    "    for n in range(2,len(f.history) + 1,2):\n",
    "        f.manual_forecast(\n",
    "            models=f'top_{n}',\n",
    "            determine_best_by='LevelTestSetMAE',\n",
    "            call_me=f'avg_top_{n}'\n",
    "        )\n",
    "        f.manual_forecast(\n",
    "            how='weighted',\n",
    "            models=f'top_{n}',\n",
    "            determine_best_by='LevelTestSetMAE',\n",
    "            call_me=f'weighted_top_{n}'\n",
    "        )\n",
    "    fcsts = f.export('lvl_fcsts',determine_best_by='LevelTestSetMAE')\n",
    "    for m in f.history.keys():\n",
    "        if m in Quarterly_results:\n",
    "            Quarterly_results[m].loc[i] = fcsts[m].to_list()\n",
    "        else:\n",
    "            df = Quarterly_results_template.copy()\n",
    "            df.loc[i] = fcsts[m].to_list()\n",
    "            Quarterly_results[m] = df\n",
    "    if 'auto_select' in Quarterly_results:\n",
    "        Quarterly_results['auto_select'].loc[i] = fcsts.iloc[:,1].to_list()\n",
    "    else:\n",
    "        df = Quarterly_results_template.copy()\n",
    "        df.loc[i] = fcsts.iloc[:,1].to_list()\n",
    "        Quarterly_results['auto_select'] = df"
   ]
  },
  {
   "cell_type": "code",
   "execution_count": null,
   "id": "02aa35bd-6b17-4ccd-b03c-e7ce423f9c88",
   "metadata": {},
   "outputs": [],
   "source": [
    "for m,df in Quarterly_results.items():\n",
    "    df.to_csv(f'M4/model_results/Quarterly/{m}.csv')"
   ]
  },
  {
   "cell_type": "code",
   "execution_count": null,
   "id": "4d31a5d9-32d9-4783-aaa8-7354670b5193",
   "metadata": {},
   "outputs": [],
   "source": [
    "del Quarterly\n",
    "del Quarterly_test\n",
    "del Quarterly_results_template\n",
    "del Quarterly_results"
   ]
  },
  {
   "cell_type": "markdown",
   "id": "f82ea0ce-74be-4441-a3f0-3423b658cbc1",
   "metadata": {},
   "source": [
    "## Yearly"
   ]
  },
  {
   "cell_type": "code",
   "execution_count": null,
   "id": "fdf42fb1-148c-4a99-9c14-7cafbcdb3298",
   "metadata": {},
   "outputs": [],
   "source": [
    "Yearly = pd.read_csv(\n",
    "    f'm4/train/Yearly-train.csv',\n",
    "    index_col=0,\n",
    ")"
   ]
  },
  {
   "cell_type": "code",
   "execution_count": null,
   "id": "bda22ab4-89e5-4d04-a5a0-e69b46d93b27",
   "metadata": {},
   "outputs": [],
   "source": [
    "Yearly_test = pd.read_csv(\n",
    "    f'm4/test/Yearly-test.csv',\n",
    "    index_col=0,\n",
    ")\n",
    "\n",
    "Yearly_results_template = pd.DataFrame(\n",
    "    columns=Yearly_test.columns,\n",
    "    index=Yearly_test.index,\n",
    ")\n",
    "\n",
    "Yearly_results = {}"
   ]
  },
  {
   "cell_type": "code",
   "execution_count": null,
   "id": "887c3f90-16e0-459c-83e1-16f0174d8946",
   "metadata": {},
   "outputs": [],
   "source": [
    "for i in tqdm(Yearly.index):\n",
    "    y = Yearly.loc[i].dropna()\n",
    "    sd = info.loc[i,'StartingDate']\n",
    "    fcst_horizon = info.loc[i,'Horizon']\n",
    "    cd = pd.date_range(\n",
    "        start = sd,\n",
    "        freq = 'D', # for yearly it doesn't matter and will break if Y\n",
    "        periods = len(y),\n",
    "    )\n",
    "    f = Forecaster(\n",
    "        y = y,\n",
    "        current_dates = cd,\n",
    "        future_dates = fcst_horizon,\n",
    "    )\n",
    "    \n",
    "    f.set_test_length(fcst_horizon if len(f.y) > 50 else 1)\n",
    "    f.integrate(critical_pval=.99,max_integration=1)\n",
    "    f.set_validation_length(fcst_horizon if len(f.y) > 100 else 1)\n",
    "    f.set_validation_metric('mae')        \n",
    "    f.auto_Xvar_select(\n",
    "        try_seasonalities=False,\n",
    "        irr_cycles=[fcst_horizon],\n",
    "        monitor='LevelTestSetMAE',\n",
    "        decomp_trend = len(f.y) > 100\n",
    "    )\n",
    "    if len(f.y) > 100:\n",
    "        f.determine_best_series_length(\n",
    "            monitor='LevelTestSetMAE',\n",
    "            step=50,\n",
    "        )\n",
    "    f.tune_test_forecast(\n",
    "        models,\n",
    "        error='ignore',\n",
    "    )\n",
    "    flagged = [\n",
    "        m for m, r in f.history.items() if np.max(\n",
    "            np.abs(r['LevelForecast'])\n",
    "        ) > np.max(f.levely)*5\n",
    "    ]\n",
    "    for m in models: # replace applicable with naive forecasts\n",
    "        if m in flagged or m not in f.history:\n",
    "            f.set_estimator('hwes')\n",
    "            f.manual_forecast(call_me=m)\n",
    "        \n",
    "    f.set_estimator('combo')\n",
    "    for n in range(2,len(f.history) + 1,2):\n",
    "        f.manual_forecast(\n",
    "            models=f'top_{n}',\n",
    "            determine_best_by='LevelTestSetMAE',\n",
    "            call_me=f'avg_top_{n}'\n",
    "        )\n",
    "        f.manual_forecast(\n",
    "            how='weighted',\n",
    "            models=f'top_{n}',\n",
    "            determine_best_by='LevelTestSetMAE',\n",
    "            call_me=f'weighted_top_{n}'\n",
    "        )\n",
    "    fcsts = f.export('lvl_fcsts',determine_best_by='LevelTestSetMAE')\n",
    "    for m in f.history.keys():\n",
    "        if m in Yearly_results:\n",
    "            Yearly_results[m].loc[i] = fcsts[m].to_list()\n",
    "        else:\n",
    "            df = Yearly_results_template.copy()\n",
    "            df.loc[i] = fcsts[m].to_list()\n",
    "            Yearly_results[m] = df\n",
    "    if 'auto_select' in Yearly_results:\n",
    "        Yearly_results['auto_select'].loc[i] = fcsts.iloc[:,1].to_list()\n",
    "    else:\n",
    "        df = Yearly_results_template.copy()\n",
    "        df.loc[i] = fcsts.iloc[:,1].to_list()\n",
    "        Yearly_results['auto_select'] = df"
   ]
  },
  {
   "cell_type": "code",
   "execution_count": null,
   "id": "9151890d-d61c-4fe6-98c3-9be0fc3ad702",
   "metadata": {},
   "outputs": [],
   "source": [
    "for m,df in Yearly_results.items():\n",
    "    df.to_csv(f'M4/model_results/Yearly/{m}.csv')"
   ]
  },
  {
   "cell_type": "code",
   "execution_count": null,
   "id": "38e27dcb-6e8b-47a1-b287-e3e1e1b33e82",
   "metadata": {},
   "outputs": [],
   "source": [
    "del Yearly\n",
    "del Yearly_test\n",
    "del Yearly_results_template\n",
    "del Yearly_results"
   ]
  },
  {
   "cell_type": "code",
   "execution_count": null,
   "id": "2287c1db-5d37-4233-bebc-f7b2e02e5497",
   "metadata": {},
   "outputs": [],
   "source": []
  }
 ],
 "metadata": {
  "kernelspec": {
   "display_name": "Python 3",
   "language": "python",
   "name": "python3"
  },
  "language_info": {
   "codemirror_mode": {
    "name": "ipython",
    "version": 3
   },
   "file_extension": ".py",
   "mimetype": "text/x-python",
   "name": "python",
   "nbconvert_exporter": "python",
   "pygments_lexer": "ipython3",
   "version": "3.8.8"
  },
  "widgets": {
   "application/vnd.jupyter.widget-state+json": {
    "state": {
     "026c9502666442c584c8b9124129d04c": {
      "model_module": "@jupyter-widgets/base",
      "model_module_version": "1.2.0",
      "model_name": "LayoutModel",
      "state": {}
     },
     "05c057010ae044fa90b4bef39693bdea": {
      "model_module": "@jupyter-widgets/base",
      "model_module_version": "1.2.0",
      "model_name": "LayoutModel",
      "state": {}
     },
     "0c8e78d973894dddb552eadb9e6ee4f5": {
      "model_module": "@jupyter-widgets/base",
      "model_module_version": "1.2.0",
      "model_name": "LayoutModel",
      "state": {}
     },
     "1978d095c89f4e1da28ba9eb094f3576": {
      "model_module": "@jupyter-widgets/controls",
      "model_module_version": "1.5.0",
      "model_name": "DescriptionStyleModel",
      "state": {
       "description_width": ""
      }
     },
     "2d9352f11d404bc2824a20415a0ade5d": {
      "model_module": "@jupyter-widgets/controls",
      "model_module_version": "1.5.0",
      "model_name": "FloatProgressModel",
      "state": {
       "bar_style": "danger",
       "layout": "IPY_MODEL_e49c0ba7745d4140987b226b854ac110",
       "max": 4227,
       "style": "IPY_MODEL_92e4837215b44b2e8ce561c29c2864fb"
      }
     },
     "31c8a7ef85aa43d9898563b0ffcc8b73": {
      "model_module": "@jupyter-widgets/base",
      "model_module_version": "1.2.0",
      "model_name": "LayoutModel",
      "state": {}
     },
     "37f893e282024ff5975b748b8f1e8030": {
      "model_module": "@jupyter-widgets/controls",
      "model_module_version": "1.5.0",
      "model_name": "DescriptionStyleModel",
      "state": {
       "description_width": ""
      }
     },
     "3bc22e814d5a40bd890144b84d7cccc5": {
      "model_module": "@jupyter-widgets/base",
      "model_module_version": "1.2.0",
      "model_name": "LayoutModel",
      "state": {}
     },
     "46592f6d7ff842ce8030b31fbf2b4dbe": {
      "model_module": "@jupyter-widgets/controls",
      "model_module_version": "1.5.0",
      "model_name": "HTMLModel",
      "state": {
       "layout": "IPY_MODEL_026c9502666442c584c8b9124129d04c",
       "style": "IPY_MODEL_37f893e282024ff5975b748b8f1e8030",
       "value": " 0/4227 [00:00&lt;?, ?it/s]"
      }
     },
     "4862e56b4c704717902298dbf4bd3c59": {
      "model_module": "@jupyter-widgets/controls",
      "model_module_version": "1.5.0",
      "model_name": "DescriptionStyleModel",
      "state": {
       "description_width": ""
      }
     },
     "503de458c5b145baa1fa5c07103fd119": {
      "model_module": "@jupyter-widgets/controls",
      "model_module_version": "1.5.0",
      "model_name": "ProgressStyleModel",
      "state": {
       "description_width": ""
      }
     },
     "52238da3d3ed48e295b7e299e1c1e48c": {
      "model_module": "@jupyter-widgets/base",
      "model_module_version": "1.2.0",
      "model_name": "LayoutModel",
      "state": {}
     },
     "5cd51ed2fba84ed89700b16cb02a8b9f": {
      "model_module": "@jupyter-widgets/controls",
      "model_module_version": "1.5.0",
      "model_name": "HTMLModel",
      "state": {
       "layout": "IPY_MODEL_be5523bdfb1c49f9955446f08117f74a",
       "style": "IPY_MODEL_1978d095c89f4e1da28ba9eb094f3576",
       "value": "  0%"
      }
     },
     "65e00f9e03f4434c9587eaeded1c7709": {
      "model_module": "@jupyter-widgets/controls",
      "model_module_version": "1.5.0",
      "model_name": "HTMLModel",
      "state": {
       "layout": "IPY_MODEL_a6ac699bbc304afda5480a0273e0fa09",
       "style": "IPY_MODEL_76773d398e51497e864f751ec6c68d7b",
       "value": "  0%"
      }
     },
     "6cc908c6adbb411b9fab475822c20e19": {
      "model_module": "@jupyter-widgets/controls",
      "model_module_version": "1.5.0",
      "model_name": "HTMLModel",
      "state": {
       "layout": "IPY_MODEL_05c057010ae044fa90b4bef39693bdea",
       "style": "IPY_MODEL_86050b5f6df64774898fd060678b1cda",
       "value": " 32%"
      }
     },
     "6da13a2f6b21488abddca79223d8a9f0": {
      "model_module": "@jupyter-widgets/controls",
      "model_module_version": "1.5.0",
      "model_name": "HBoxModel",
      "state": {
       "children": [
        "IPY_MODEL_5cd51ed2fba84ed89700b16cb02a8b9f",
        "IPY_MODEL_2d9352f11d404bc2824a20415a0ade5d",
        "IPY_MODEL_46592f6d7ff842ce8030b31fbf2b4dbe"
       ],
       "layout": "IPY_MODEL_f6a60e199dab470ca9152bc33bdc7023"
      }
     },
     "76773d398e51497e864f751ec6c68d7b": {
      "model_module": "@jupyter-widgets/controls",
      "model_module_version": "1.5.0",
      "model_name": "DescriptionStyleModel",
      "state": {
       "description_width": ""
      }
     },
     "86050b5f6df64774898fd060678b1cda": {
      "model_module": "@jupyter-widgets/controls",
      "model_module_version": "1.5.0",
      "model_name": "DescriptionStyleModel",
      "state": {
       "description_width": ""
      }
     },
     "8c92d6334cac4d8f8ceebf2850f2cd1c": {
      "model_module": "@jupyter-widgets/controls",
      "model_module_version": "1.5.0",
      "model_name": "FloatProgressModel",
      "state": {
       "bar_style": "danger",
       "layout": "IPY_MODEL_d27f4a12f1de4b129b54b4b673ee56ed",
       "max": 4227,
       "style": "IPY_MODEL_bcd63a61946f4be2bb25d0705bf764e3",
       "value": 2
      }
     },
     "92e4837215b44b2e8ce561c29c2864fb": {
      "model_module": "@jupyter-widgets/controls",
      "model_module_version": "1.5.0",
      "model_name": "ProgressStyleModel",
      "state": {
       "description_width": ""
      }
     },
     "a6ac699bbc304afda5480a0273e0fa09": {
      "model_module": "@jupyter-widgets/base",
      "model_module_version": "1.2.0",
      "model_name": "LayoutModel",
      "state": {}
     },
     "a7233223829f4dd5880f7c3fcc889bbd": {
      "model_module": "@jupyter-widgets/base",
      "model_module_version": "1.2.0",
      "model_name": "LayoutModel",
      "state": {}
     },
     "b98592cb0c16482aa08240eaa0334026": {
      "model_module": "@jupyter-widgets/controls",
      "model_module_version": "1.5.0",
      "model_name": "HBoxModel",
      "state": {
       "children": [
        "IPY_MODEL_65e00f9e03f4434c9587eaeded1c7709",
        "IPY_MODEL_8c92d6334cac4d8f8ceebf2850f2cd1c",
        "IPY_MODEL_fa78f5548b5841549da619628de10066"
       ],
       "layout": "IPY_MODEL_a7233223829f4dd5880f7c3fcc889bbd"
      }
     },
     "bad5d33782ee4a7e905e62cd99a29129": {
      "model_module": "@jupyter-widgets/controls",
      "model_module_version": "1.5.0",
      "model_name": "FloatProgressModel",
      "state": {
       "layout": "IPY_MODEL_3bc22e814d5a40bd890144b84d7cccc5",
       "max": 4227,
       "style": "IPY_MODEL_503de458c5b145baa1fa5c07103fd119",
       "value": 1344
      }
     },
     "bcd63a61946f4be2bb25d0705bf764e3": {
      "model_module": "@jupyter-widgets/controls",
      "model_module_version": "1.5.0",
      "model_name": "ProgressStyleModel",
      "state": {
       "description_width": ""
      }
     },
     "be5523bdfb1c49f9955446f08117f74a": {
      "model_module": "@jupyter-widgets/base",
      "model_module_version": "1.2.0",
      "model_name": "LayoutModel",
      "state": {}
     },
     "c90c74cab2f54339aafa8b2404261333": {
      "model_module": "@jupyter-widgets/controls",
      "model_module_version": "1.5.0",
      "model_name": "DescriptionStyleModel",
      "state": {
       "description_width": ""
      }
     },
     "d27f4a12f1de4b129b54b4b673ee56ed": {
      "model_module": "@jupyter-widgets/base",
      "model_module_version": "1.2.0",
      "model_name": "LayoutModel",
      "state": {}
     },
     "e49c0ba7745d4140987b226b854ac110": {
      "model_module": "@jupyter-widgets/base",
      "model_module_version": "1.2.0",
      "model_name": "LayoutModel",
      "state": {}
     },
     "e626ccd06b184483b2be21d9599b2cae": {
      "model_module": "@jupyter-widgets/controls",
      "model_module_version": "1.5.0",
      "model_name": "HBoxModel",
      "state": {
       "children": [
        "IPY_MODEL_6cc908c6adbb411b9fab475822c20e19",
        "IPY_MODEL_bad5d33782ee4a7e905e62cd99a29129",
        "IPY_MODEL_fec46e4ae7fa4974a83deefafb665d23"
       ],
       "layout": "IPY_MODEL_31c8a7ef85aa43d9898563b0ffcc8b73"
      }
     },
     "f6a60e199dab470ca9152bc33bdc7023": {
      "model_module": "@jupyter-widgets/base",
      "model_module_version": "1.2.0",
      "model_name": "LayoutModel",
      "state": {}
     },
     "fa78f5548b5841549da619628de10066": {
      "model_module": "@jupyter-widgets/controls",
      "model_module_version": "1.5.0",
      "model_name": "HTMLModel",
      "state": {
       "layout": "IPY_MODEL_0c8e78d973894dddb552eadb9e6ee4f5",
       "style": "IPY_MODEL_c90c74cab2f54339aafa8b2404261333",
       "value": " 2/4227 [00:36&lt;20:20:41, 17.34s/it]"
      }
     },
     "fec46e4ae7fa4974a83deefafb665d23": {
      "model_module": "@jupyter-widgets/controls",
      "model_module_version": "1.5.0",
      "model_name": "HTMLModel",
      "state": {
       "layout": "IPY_MODEL_52238da3d3ed48e295b7e299e1c1e48c",
       "style": "IPY_MODEL_4862e56b4c704717902298dbf4bd3c59",
       "value": " 1344/4227 [24:32:21&lt;63:17:04, 79.02s/it]"
      }
     }
    },
    "version_major": 2,
    "version_minor": 0
   }
  }
 },
 "nbformat": 4,
 "nbformat_minor": 5
}
