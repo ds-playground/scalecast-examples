{
 "cells": [
  {
   "cell_type": "markdown",
   "id": "c3539af2-f232-476a-b944-3f3352750bc9",
   "metadata": {},
   "source": [
    "# 01 - M4 Example"
   ]
  },
  {
   "cell_type": "code",
   "execution_count": 1,
   "id": "2410860d-eeda-44c4-8880-e2c18b391c17",
   "metadata": {},
   "outputs": [],
   "source": [
    "import pandas as pd\n",
    "import numpy as np\n",
    "from scalecast import GridGenerator\n",
    "from scalecast.Forecaster import Forecaster\n",
    "from scalecast.Pipeline import Transformer, Reverter, Pipeline\n",
    "from scalecast.util import find_optimal_transformation\n",
    "from tqdm.notebook import tqdm\n",
    "from fix_date import fix_date"
   ]
  },
  {
   "cell_type": "code",
   "execution_count": 2,
   "id": "c8ffbf97-41a9-4537-96d7-3e9e374ee5ba",
   "metadata": {},
   "outputs": [],
   "source": [
    "# select which models will be evaluated\n",
    "GridGenerator.get_example_grids()\n",
    "\n",
    "models = (\n",
    "    'lasso',\n",
    "    'ridge',\n",
    "    'elasticnet',\n",
    "    'lightgbm',\n",
    "    'xgboost',\n",
    ")"
   ]
  },
  {
   "cell_type": "code",
   "execution_count": 3,
   "id": "d743028c-8507-4302-ac0f-ad4bf641af22",
   "metadata": {},
   "outputs": [],
   "source": [
    "def set_validation_params(f,fcst_horizon):\n",
    "    f.set_test_length(fcst_horizon if len(f.y) > 100 else 1)\n",
    "    f.set_validation_length(fcst_horizon if len(f.y) > 100 else 1)\n",
    "    f.set_validation_metric('rmse')\n",
    "    \n",
    "def forecaster(f,models):\n",
    "    f.auto_Xvar_select(\n",
    "        monitor='LevelTestSetRMSE',\n",
    "        max_ar = 100,\n",
    "        try_trend = False,\n",
    "        try_seasonalities = True,\n",
    "        estimator='svr',\n",
    "        \n",
    "    )\n",
    "    f.tune_test_forecast(\n",
    "        models,\n",
    "        limit_grid_size = .2,\n",
    "    )\n",
    "    \n",
    "    f.set_estimator('combo')\n",
    "    f.manual_forecast(call_me='avg_top2',models='top_2',determine_best_by='LevelTestSetRMSE')\n",
    "    f.manual_forecast(call_me='avg_top4',models='top_4',determine_best_by='LevelTestSetRMSE')\n",
    "    f.manual_forecast(call_me='avg_all')"
   ]
  },
  {
   "cell_type": "code",
   "execution_count": 4,
   "id": "5c2417fb-b2f3-4f49-9f89-33452d39dc03",
   "metadata": {},
   "outputs": [],
   "source": [
    "info = pd.read_csv(\n",
    "    'm4/M4-info.csv',\n",
    "    index_col=0,\n",
    "    parse_dates=['StartingDate'],\n",
    "    dayfirst=True,\n",
    ")\n",
    "info['StartingDate'] = info['StartingDate'].apply(fix_date)"
   ]
  },
  {
   "cell_type": "markdown",
   "id": "79bcfd28-65fb-4410-b0da-663d48bd1f34",
   "metadata": {},
   "source": [
    "[Hourly](#Hourly)  \n",
    "[Daily](#Daily)  \n",
    "[Weekly](#Weekly)  \n",
    "[Monthly](#Monthly)  \n",
    "[Quarterly](#Quarterly)  \n",
    "[Yearly](#Yearly)  "
   ]
  },
  {
   "cell_type": "markdown",
   "id": "10a9a378-7e91-4f3d-ab39-74b8bb8ba587",
   "metadata": {},
   "source": [
    "## Hourly"
   ]
  },
  {
   "cell_type": "code",
   "execution_count": 5,
   "id": "5cf0a64b-ca34-4215-a021-f6b7c1e9c24f",
   "metadata": {},
   "outputs": [],
   "source": [
    "Hourly = pd.read_csv(\n",
    "    f'm4/train/Hourly-train.csv',\n",
    "    index_col=0,\n",
    ")"
   ]
  },
  {
   "cell_type": "code",
   "execution_count": 6,
   "id": "48ff670c-b885-4762-8905-4c68a7b07640",
   "metadata": {},
   "outputs": [],
   "source": [
    "Hourly_test = pd.read_csv(\n",
    "    f'm4/test/Hourly-test.csv',\n",
    "    index_col=0,\n",
    ")\n",
    "\n",
    "Hourly_results_template = pd.DataFrame(\n",
    "    columns=Hourly_test.columns,\n",
    "    index=Hourly_test.index,\n",
    ")\n",
    "\n",
    "Hourly_results = {}"
   ]
  },
  {
   "cell_type": "code",
   "execution_count": 7,
   "id": "9586cff8-15ee-4276-a63c-7e823e70d986",
   "metadata": {},
   "outputs": [
    {
     "data": {
      "application/vnd.jupyter.widget-view+json": {
       "model_id": "166de0dba505492584a4813dea98d95e",
       "version_major": 2,
       "version_minor": 0
      },
      "text/plain": [
       "  0%|          | 0/414 [00:00<?, ?it/s]"
      ]
     },
     "metadata": {},
     "output_type": "display_data"
    }
   ],
   "source": [
    "for i in tqdm(Hourly.index):\n",
    "    y = Hourly.loc[i].dropna()\n",
    "    sd = info.loc[i,'StartingDate']\n",
    "    fcst_horizon = info.loc[i,'Horizon']\n",
    "    cd = pd.date_range(\n",
    "        start = sd,\n",
    "        freq = 'H',\n",
    "        periods = len(y),\n",
    "    )\n",
    "    f = Forecaster(\n",
    "        y = y,\n",
    "        current_dates = cd,\n",
    "        future_dates = fcst_horizon,\n",
    "    )\n",
    "    set_validation_params(f,fcst_horizon=fcst_horizon)\n",
    "    transformer, reverter = find_optimal_transformation(\n",
    "        f,\n",
    "        monitor = 'TestSetRMSE',\n",
    "        estimator = 'svr',\n",
    "    )\n",
    "    pipeline = Pipeline(\n",
    "        steps = [\n",
    "            ('Transform',transformer),\n",
    "            ('Forecast',forecaster),\n",
    "            ('Revert',reverter),\n",
    "        ]\n",
    "    )\n",
    "    try:\n",
    "        f = pipeline.fit_predict(\n",
    "            f,\n",
    "            models=models,\n",
    "        )\n",
    "    except:\n",
    "        f.diff()\n",
    "        f.tune_test_forecast(\n",
    "            models,\n",
    "            limit_grid_size = .2,\n",
    "        )\n",
    "    fcsts = f.export('lvl_fcsts',determine_best_by='LevelTestSetRMSE')\n",
    "    for m in f.history.keys():\n",
    "        if m in Hourly_results:\n",
    "            Hourly_results[m].loc[i] = fcsts[m].to_list()\n",
    "        else:\n",
    "            df = Hourly_results_template.copy()\n",
    "            df.loc[i] = fcsts[m].to_list()\n",
    "            Hourly_results[m] = df\n",
    "    if 'auto_select' in Hourly_results:\n",
    "        Hourly_results['auto_select'].loc[i] = fcsts.iloc[:,1].to_list()\n",
    "    else:\n",
    "        df = Hourly_results_template.copy()\n",
    "        df.loc[i] = fcsts.iloc[:,1].to_list()\n",
    "        Hourly_results['auto_select'] = df"
   ]
  },
  {
   "cell_type": "code",
   "execution_count": 8,
   "id": "a75de6df-4b2e-4379-8c16-0298431f17bd",
   "metadata": {},
   "outputs": [],
   "source": [
    "for m,df in Hourly_results.items():\n",
    "    df.to_csv(f'M4/model_results/Hourly/{m}.csv')"
   ]
  },
  {
   "cell_type": "code",
   "execution_count": 9,
   "id": "f6fab4b0-4c17-44ba-a7f2-444039cf7d4d",
   "metadata": {},
   "outputs": [],
   "source": [
    "del Hourly\n",
    "del Hourly_test\n",
    "del Hourly_results_template\n",
    "del Hourly_results"
   ]
  },
  {
   "cell_type": "markdown",
   "id": "d5c24cd2-7ac4-467b-8976-8de0dc7e6472",
   "metadata": {},
   "source": [
    "## Daily"
   ]
  },
  {
   "cell_type": "code",
   "execution_count": 10,
   "id": "75fe7738-4558-4ea9-8027-f614bcd88536",
   "metadata": {},
   "outputs": [],
   "source": [
    "Daily = pd.read_csv(\n",
    "    f'm4/train/Daily-train.csv',\n",
    "    index_col=0,\n",
    ")\n",
    "#Daily = Daily.sample(50)"
   ]
  },
  {
   "cell_type": "code",
   "execution_count": 11,
   "id": "f6044262-0768-4751-a45a-c2a04ca67d9b",
   "metadata": {},
   "outputs": [],
   "source": [
    "Daily_test = pd.read_csv(\n",
    "    f'm4/test/Daily-test.csv',\n",
    "    index_col=0,\n",
    ")\n",
    "#Daily_test = Daily_test.loc[Daily.index]\n",
    "\n",
    "Daily_results_template = pd.DataFrame(\n",
    "    columns=Daily_test.columns,\n",
    "    index=Daily_test.index,\n",
    ")\n",
    "\n",
    "Daily_results = {}"
   ]
  },
  {
   "cell_type": "code",
   "execution_count": 23,
   "id": "32629487-6502-4866-879c-d726800a72d7",
   "metadata": {
    "tags": []
   },
   "outputs": [
    {
     "data": {
      "application/vnd.jupyter.widget-view+json": {
       "model_id": "0532e972d1294fc5a78c9f73eb14ec68",
       "version_major": 2,
       "version_minor": 0
      },
      "text/plain": [
       "  0%|          | 0/4227 [00:00<?, ?it/s]"
      ]
     },
     "metadata": {},
     "output_type": "display_data"
    },
    {
     "ename": "ValueError",
     "evalue": "Expected n_neighbors <= n_samples,  but n_samples = 70, n_neighbors = 83",
     "output_type": "error",
     "traceback": [
      "\u001b[1;31m---------------------------------------------------------------------------\u001b[0m",
      "\u001b[1;31mValueError\u001b[0m                                Traceback (most recent call last)",
      "\u001b[1;32m<ipython-input-23-173daa72e2fb>\u001b[0m in \u001b[0;36m<module>\u001b[1;34m\u001b[0m\n\u001b[0;32m     28\u001b[0m     \u001b[1;32mtry\u001b[0m\u001b[1;33m:\u001b[0m\u001b[1;33m\u001b[0m\u001b[1;33m\u001b[0m\u001b[0m\n\u001b[1;32m---> 29\u001b[1;33m         f = pipeline.fit_predict(\n\u001b[0m\u001b[0;32m     30\u001b[0m             \u001b[0mf\u001b[0m\u001b[1;33m,\u001b[0m\u001b[1;33m\u001b[0m\u001b[1;33m\u001b[0m\u001b[0m\n",
      "\u001b[1;32m~\\Anaconda3\\lib\\site-packages\\scalecast\\Pipeline.py\u001b[0m in \u001b[0;36mfit_predict\u001b[1;34m(self, f, **kwargs)\u001b[0m\n\u001b[0;32m    281\u001b[0m             \u001b[1;32melse\u001b[0m\u001b[1;33m:\u001b[0m\u001b[1;33m\u001b[0m\u001b[1;33m\u001b[0m\u001b[0m\n\u001b[1;32m--> 282\u001b[1;33m                 \u001b[0mfunc\u001b[0m\u001b[1;33m(\u001b[0m\u001b[0mf\u001b[0m\u001b[1;33m,\u001b[0m\u001b[1;33m**\u001b[0m\u001b[0mkwargs\u001b[0m\u001b[1;33m)\u001b[0m\u001b[1;33m\u001b[0m\u001b[1;33m\u001b[0m\u001b[0m\n\u001b[0m\u001b[0;32m    283\u001b[0m         \u001b[1;32mreturn\u001b[0m \u001b[0mf\u001b[0m\u001b[1;33m\u001b[0m\u001b[1;33m\u001b[0m\u001b[0m\n",
      "\u001b[1;32m<ipython-input-3-1010c0087dd2>\u001b[0m in \u001b[0;36mforecaster\u001b[1;34m(f, models)\u001b[0m\n\u001b[0;32m     14\u001b[0m     )\n\u001b[1;32m---> 15\u001b[1;33m     f.tune_test_forecast(\n\u001b[0m\u001b[0;32m     16\u001b[0m         \u001b[0mmodels\u001b[0m\u001b[1;33m,\u001b[0m\u001b[1;33m\u001b[0m\u001b[1;33m\u001b[0m\u001b[0m\n",
      "\u001b[1;32m~\\Anaconda3\\lib\\site-packages\\scalecast\\Forecaster.py\u001b[0m in \u001b[0;36mtune_test_forecast\u001b[1;34m(self, models, cross_validate, dynamic_tuning, dynamic_testing, probabilistic, n_iter, summary_stats, feature_importance, fi_method, limit_grid_size, suffix, error, **cvkwargs)\u001b[0m\n\u001b[0;32m   4514\u001b[0m \u001b[1;33m\u001b[0m\u001b[0m\n\u001b[1;32m-> 4515\u001b[1;33m                 self.auto_forecast(\n\u001b[0m\u001b[0;32m   4516\u001b[0m                     \u001b[0mdynamic_testing\u001b[0m\u001b[1;33m=\u001b[0m\u001b[0mdynamic_testing\u001b[0m\u001b[1;33m,\u001b[0m\u001b[1;33m\u001b[0m\u001b[1;33m\u001b[0m\u001b[0m\n",
      "\u001b[1;32m~\\Anaconda3\\lib\\site-packages\\scalecast\\Forecaster.py\u001b[0m in \u001b[0;36mauto_forecast\u001b[1;34m(self, call_me, dynamic_testing, test_only, probabilistic, n_iter)\u001b[0m\n\u001b[0;32m   4159\u001b[0m         \u001b[1;32mif\u001b[0m \u001b[1;32mnot\u001b[0m \u001b[0mprobabilistic\u001b[0m\u001b[1;33m:\u001b[0m\u001b[1;33m\u001b[0m\u001b[1;33m\u001b[0m\u001b[0m\n\u001b[1;32m-> 4160\u001b[1;33m             self.manual_forecast(\n\u001b[0m\u001b[0;32m   4161\u001b[0m                 \u001b[0mcall_me\u001b[0m\u001b[1;33m=\u001b[0m\u001b[0mcall_me\u001b[0m\u001b[1;33m,\u001b[0m\u001b[1;33m\u001b[0m\u001b[1;33m\u001b[0m\u001b[0m\n",
      "\u001b[1;32m~\\Anaconda3\\lib\\site-packages\\scalecast\\Forecaster.py\u001b[0m in \u001b[0;36mmanual_forecast\u001b[1;34m(self, call_me, dynamic_testing, test_only, **kwargs)\u001b[0m\n\u001b[0;32m   4093\u001b[0m         result = (\n\u001b[1;32m-> 4094\u001b[1;33m             self._forecast_sklearn(\n\u001b[0m\u001b[0;32m   4095\u001b[0m                 \u001b[0mfcster\u001b[0m\u001b[1;33m=\u001b[0m\u001b[0mself\u001b[0m\u001b[1;33m.\u001b[0m\u001b[0mestimator\u001b[0m\u001b[1;33m,\u001b[0m\u001b[1;33m\u001b[0m\u001b[1;33m\u001b[0m\u001b[0m\n",
      "\u001b[1;32m~\\Anaconda3\\lib\\site-packages\\scalecast\\Forecaster.py\u001b[0m in \u001b[0;36m_forecast_sklearn\u001b[1;34m(self, fcster, dynamic_testing, tune, Xvars, normalizer, test_only, **kwargs)\u001b[0m\n\u001b[0;32m    712\u001b[0m         \u001b[1;31m# train/test the model\u001b[0m\u001b[1;33m\u001b[0m\u001b[1;33m\u001b[0m\u001b[1;33m\u001b[0m\u001b[0m\n\u001b[1;32m--> 713\u001b[1;33m         result = evaluate_model(\n\u001b[0m\u001b[0;32m    714\u001b[0m             \u001b[0mscaler\u001b[0m\u001b[1;33m,\u001b[0m\u001b[1;33m\u001b[0m\u001b[1;33m\u001b[0m\u001b[0m\n",
      "\u001b[1;32m~\\Anaconda3\\lib\\site-packages\\scalecast\\Forecaster.py\u001b[0m in \u001b[0;36mevaluate_model\u001b[1;34m(scaler, regr, X, y, Xvars, fcst_horizon, future_xreg, dynamic_testing, true_forecast)\u001b[0m\n\u001b[0;32m    645\u001b[0m                 \u001b[0mp\u001b[0m \u001b[1;33m=\u001b[0m \u001b[0mscale\u001b[0m\u001b[1;33m(\u001b[0m\u001b[0mscaler\u001b[0m\u001b[1;33m,\u001b[0m \u001b[0mp\u001b[0m\u001b[1;33m)\u001b[0m\u001b[1;33m\u001b[0m\u001b[1;33m\u001b[0m\u001b[0m\n\u001b[1;32m--> 646\u001b[1;33m                 \u001b[0mfcst\u001b[0m\u001b[1;33m.\u001b[0m\u001b[0mappend\u001b[0m\u001b[1;33m(\u001b[0m\u001b[0mregr\u001b[0m\u001b[1;33m.\u001b[0m\u001b[0mpredict\u001b[0m\u001b[1;33m(\u001b[0m\u001b[0mp\u001b[0m\u001b[1;33m)\u001b[0m\u001b[1;33m[\u001b[0m\u001b[1;36m0\u001b[0m\u001b[1;33m]\u001b[0m\u001b[1;33m)\u001b[0m\u001b[1;33m\u001b[0m\u001b[1;33m\u001b[0m\u001b[0m\n\u001b[0m\u001b[0;32m    647\u001b[0m                 \u001b[1;32mif\u001b[0m \u001b[1;32mnot\u001b[0m \u001b[0mi\u001b[0m \u001b[1;33m==\u001b[0m \u001b[1;33m(\u001b[0m\u001b[0mfcst_horizon\u001b[0m \u001b[1;33m-\u001b[0m \u001b[1;36m1\u001b[0m\u001b[1;33m)\u001b[0m\u001b[1;33m:\u001b[0m\u001b[1;33m\u001b[0m\u001b[1;33m\u001b[0m\u001b[0m\n",
      "\u001b[1;32m~\\Anaconda3\\lib\\site-packages\\sklearn\\neighbors\\_regression.py\u001b[0m in \u001b[0;36mpredict\u001b[1;34m(self, X)\u001b[0m\n\u001b[0;32m    228\u001b[0m         \"\"\"\n\u001b[1;32m--> 229\u001b[1;33m         \u001b[0mneigh_dist\u001b[0m\u001b[1;33m,\u001b[0m \u001b[0mneigh_ind\u001b[0m \u001b[1;33m=\u001b[0m \u001b[0mself\u001b[0m\u001b[1;33m.\u001b[0m\u001b[0mkneighbors\u001b[0m\u001b[1;33m(\u001b[0m\u001b[0mX\u001b[0m\u001b[1;33m)\u001b[0m\u001b[1;33m\u001b[0m\u001b[1;33m\u001b[0m\u001b[0m\n\u001b[0m\u001b[0;32m    230\u001b[0m \u001b[1;33m\u001b[0m\u001b[0m\n",
      "\u001b[1;32m~\\Anaconda3\\lib\\site-packages\\sklearn\\neighbors\\_base.py\u001b[0m in \u001b[0;36mkneighbors\u001b[1;34m(self, X, n_neighbors, return_distance)\u001b[0m\n\u001b[0;32m    726\u001b[0m         \u001b[1;32mif\u001b[0m \u001b[0mn_neighbors\u001b[0m \u001b[1;33m>\u001b[0m \u001b[0mn_samples_fit\u001b[0m\u001b[1;33m:\u001b[0m\u001b[1;33m\u001b[0m\u001b[1;33m\u001b[0m\u001b[0m\n\u001b[1;32m--> 727\u001b[1;33m             raise ValueError(\n\u001b[0m\u001b[0;32m    728\u001b[0m                 \u001b[1;34m\"Expected n_neighbors <= n_samples, \"\u001b[0m\u001b[1;33m\u001b[0m\u001b[1;33m\u001b[0m\u001b[0m\n",
      "\u001b[1;31mValueError\u001b[0m: Expected n_neighbors <= n_samples,  but n_samples = 63, n_neighbors = 100",
      "\nDuring handling of the above exception, another exception occurred:\n",
      "\u001b[1;31mValueError\u001b[0m                                Traceback (most recent call last)",
      "\u001b[1;32m<ipython-input-23-173daa72e2fb>\u001b[0m in \u001b[0;36m<module>\u001b[1;34m\u001b[0m\n\u001b[0;32m     33\u001b[0m     \u001b[1;32mexcept\u001b[0m\u001b[1;33m:\u001b[0m\u001b[1;33m\u001b[0m\u001b[1;33m\u001b[0m\u001b[0m\n\u001b[0;32m     34\u001b[0m         \u001b[0mf\u001b[0m\u001b[1;33m.\u001b[0m\u001b[0mdiff\u001b[0m\u001b[1;33m(\u001b[0m\u001b[1;33m)\u001b[0m\u001b[1;33m\u001b[0m\u001b[1;33m\u001b[0m\u001b[0m\n\u001b[1;32m---> 35\u001b[1;33m         \u001b[0mforecaster\u001b[0m\u001b[1;33m(\u001b[0m\u001b[0mf\u001b[0m\u001b[1;33m,\u001b[0m\u001b[0mmodels\u001b[0m\u001b[1;33m)\u001b[0m\u001b[1;33m\u001b[0m\u001b[1;33m\u001b[0m\u001b[0m\n\u001b[0m\u001b[0;32m     36\u001b[0m     \u001b[0mfcsts\u001b[0m \u001b[1;33m=\u001b[0m \u001b[0mf\u001b[0m\u001b[1;33m.\u001b[0m\u001b[0mexport\u001b[0m\u001b[1;33m(\u001b[0m\u001b[1;34m'lvl_fcsts'\u001b[0m\u001b[1;33m,\u001b[0m\u001b[0mdetermine_best_by\u001b[0m\u001b[1;33m=\u001b[0m\u001b[1;34m'LevelTestSetMAE'\u001b[0m\u001b[1;33m)\u001b[0m\u001b[1;33m\u001b[0m\u001b[1;33m\u001b[0m\u001b[0m\n\u001b[0;32m     37\u001b[0m     \u001b[1;32mfor\u001b[0m \u001b[0mm\u001b[0m \u001b[1;32min\u001b[0m \u001b[0mf\u001b[0m\u001b[1;33m.\u001b[0m\u001b[0mhistory\u001b[0m\u001b[1;33m.\u001b[0m\u001b[0mkeys\u001b[0m\u001b[1;33m(\u001b[0m\u001b[1;33m)\u001b[0m\u001b[1;33m:\u001b[0m\u001b[1;33m\u001b[0m\u001b[1;33m\u001b[0m\u001b[0m\n",
      "\u001b[1;32m<ipython-input-3-1010c0087dd2>\u001b[0m in \u001b[0;36mforecaster\u001b[1;34m(f, models)\u001b[0m\n\u001b[0;32m     13\u001b[0m \u001b[1;33m\u001b[0m\u001b[0m\n\u001b[0;32m     14\u001b[0m     )\n\u001b[1;32m---> 15\u001b[1;33m     f.tune_test_forecast(\n\u001b[0m\u001b[0;32m     16\u001b[0m         \u001b[0mmodels\u001b[0m\u001b[1;33m,\u001b[0m\u001b[1;33m\u001b[0m\u001b[1;33m\u001b[0m\u001b[0m\n\u001b[0;32m     17\u001b[0m         \u001b[0mlimit_grid_size\u001b[0m \u001b[1;33m=\u001b[0m \u001b[1;36m.2\u001b[0m\u001b[1;33m,\u001b[0m\u001b[1;33m\u001b[0m\u001b[1;33m\u001b[0m\u001b[0m\n",
      "\u001b[1;32m~\\Anaconda3\\lib\\site-packages\\scalecast\\Forecaster.py\u001b[0m in \u001b[0;36mtune_test_forecast\u001b[1;34m(self, models, cross_validate, dynamic_tuning, dynamic_testing, probabilistic, n_iter, summary_stats, feature_importance, fi_method, limit_grid_size, suffix, error, **cvkwargs)\u001b[0m\n\u001b[0;32m   4513\u001b[0m             \u001b[1;32mtry\u001b[0m\u001b[1;33m:\u001b[0m\u001b[1;33m\u001b[0m\u001b[1;33m\u001b[0m\u001b[0m\n\u001b[0;32m   4514\u001b[0m \u001b[1;33m\u001b[0m\u001b[0m\n\u001b[1;32m-> 4515\u001b[1;33m                 self.auto_forecast(\n\u001b[0m\u001b[0;32m   4516\u001b[0m                     \u001b[0mdynamic_testing\u001b[0m\u001b[1;33m=\u001b[0m\u001b[0mdynamic_testing\u001b[0m\u001b[1;33m,\u001b[0m\u001b[1;33m\u001b[0m\u001b[1;33m\u001b[0m\u001b[0m\n\u001b[0;32m   4517\u001b[0m                     \u001b[0mcall_me\u001b[0m\u001b[1;33m=\u001b[0m\u001b[0mcall_me\u001b[0m\u001b[1;33m,\u001b[0m\u001b[1;33m\u001b[0m\u001b[1;33m\u001b[0m\u001b[0m\n",
      "\u001b[1;32m~\\Anaconda3\\lib\\site-packages\\scalecast\\Forecaster.py\u001b[0m in \u001b[0;36mauto_forecast\u001b[1;34m(self, call_me, dynamic_testing, test_only, probabilistic, n_iter)\u001b[0m\n\u001b[0;32m   4158\u001b[0m             \u001b[0mself\u001b[0m\u001b[1;33m.\u001b[0m\u001b[0mbest_params\u001b[0m \u001b[1;33m=\u001b[0m \u001b[1;33m{\u001b[0m\u001b[1;33m}\u001b[0m\u001b[1;33m\u001b[0m\u001b[1;33m\u001b[0m\u001b[0m\n\u001b[0;32m   4159\u001b[0m         \u001b[1;32mif\u001b[0m \u001b[1;32mnot\u001b[0m \u001b[0mprobabilistic\u001b[0m\u001b[1;33m:\u001b[0m\u001b[1;33m\u001b[0m\u001b[1;33m\u001b[0m\u001b[0m\n\u001b[1;32m-> 4160\u001b[1;33m             self.manual_forecast(\n\u001b[0m\u001b[0;32m   4161\u001b[0m                 \u001b[0mcall_me\u001b[0m\u001b[1;33m=\u001b[0m\u001b[0mcall_me\u001b[0m\u001b[1;33m,\u001b[0m\u001b[1;33m\u001b[0m\u001b[1;33m\u001b[0m\u001b[0m\n\u001b[0;32m   4162\u001b[0m                 \u001b[0mdynamic_testing\u001b[0m\u001b[1;33m=\u001b[0m\u001b[0mdynamic_testing\u001b[0m\u001b[1;33m,\u001b[0m\u001b[1;33m\u001b[0m\u001b[1;33m\u001b[0m\u001b[0m\n",
      "\u001b[1;32m~\\Anaconda3\\lib\\site-packages\\scalecast\\Forecaster.py\u001b[0m in \u001b[0;36mmanual_forecast\u001b[1;34m(self, call_me, dynamic_testing, test_only, **kwargs)\u001b[0m\n\u001b[0;32m   4092\u001b[0m         \u001b[0mself\u001b[0m\u001b[1;33m.\u001b[0m\u001b[0mcall_me\u001b[0m \u001b[1;33m=\u001b[0m \u001b[0mself\u001b[0m\u001b[1;33m.\u001b[0m\u001b[0mestimator\u001b[0m \u001b[1;32mif\u001b[0m \u001b[0mcall_me\u001b[0m \u001b[1;32mis\u001b[0m \u001b[1;32mNone\u001b[0m \u001b[1;32melse\u001b[0m \u001b[0mcall_me\u001b[0m\u001b[1;33m\u001b[0m\u001b[1;33m\u001b[0m\u001b[0m\n\u001b[0;32m   4093\u001b[0m         result = (\n\u001b[1;32m-> 4094\u001b[1;33m             self._forecast_sklearn(\n\u001b[0m\u001b[0;32m   4095\u001b[0m                 \u001b[0mfcster\u001b[0m\u001b[1;33m=\u001b[0m\u001b[0mself\u001b[0m\u001b[1;33m.\u001b[0m\u001b[0mestimator\u001b[0m\u001b[1;33m,\u001b[0m\u001b[1;33m\u001b[0m\u001b[1;33m\u001b[0m\u001b[0m\n\u001b[0;32m   4096\u001b[0m                 \u001b[0mdynamic_testing\u001b[0m\u001b[1;33m=\u001b[0m\u001b[0mdynamic_testing\u001b[0m\u001b[1;33m,\u001b[0m\u001b[1;33m\u001b[0m\u001b[1;33m\u001b[0m\u001b[0m\n",
      "\u001b[1;32m~\\Anaconda3\\lib\\site-packages\\scalecast\\Forecaster.py\u001b[0m in \u001b[0;36m_forecast_sklearn\u001b[1;34m(self, fcster, dynamic_testing, tune, Xvars, normalizer, test_only, **kwargs)\u001b[0m\n\u001b[0;32m    711\u001b[0m         \u001b[0mregr\u001b[0m \u001b[1;33m=\u001b[0m \u001b[0m_sklearn_imports_\u001b[0m\u001b[1;33m[\u001b[0m\u001b[0mfcster\u001b[0m\u001b[1;33m]\u001b[0m\u001b[1;33m(\u001b[0m\u001b[1;33m**\u001b[0m\u001b[0mkwargs\u001b[0m\u001b[1;33m)\u001b[0m\u001b[1;33m\u001b[0m\u001b[1;33m\u001b[0m\u001b[0m\n\u001b[0;32m    712\u001b[0m         \u001b[1;31m# train/test the model\u001b[0m\u001b[1;33m\u001b[0m\u001b[1;33m\u001b[0m\u001b[1;33m\u001b[0m\u001b[0m\n\u001b[1;32m--> 713\u001b[1;33m         result = evaluate_model(\n\u001b[0m\u001b[0;32m    714\u001b[0m             \u001b[0mscaler\u001b[0m\u001b[1;33m,\u001b[0m\u001b[1;33m\u001b[0m\u001b[1;33m\u001b[0m\u001b[0m\n\u001b[0;32m    715\u001b[0m             \u001b[0mregr\u001b[0m\u001b[1;33m,\u001b[0m\u001b[1;33m\u001b[0m\u001b[1;33m\u001b[0m\u001b[0m\n",
      "\u001b[1;32m~\\Anaconda3\\lib\\site-packages\\scalecast\\Forecaster.py\u001b[0m in \u001b[0;36mevaluate_model\u001b[1;34m(scaler, regr, X, y, Xvars, fcst_horizon, future_xreg, dynamic_testing, true_forecast)\u001b[0m\n\u001b[0;32m    644\u001b[0m                 \u001b[0mp\u001b[0m \u001b[1;33m=\u001b[0m \u001b[0mpd\u001b[0m\u001b[1;33m.\u001b[0m\u001b[0mDataFrame\u001b[0m\u001b[1;33m(\u001b[0m\u001b[1;33m{\u001b[0m\u001b[0mx\u001b[0m\u001b[1;33m:\u001b[0m \u001b[1;33m[\u001b[0m\u001b[0mfuture_xreg\u001b[0m\u001b[1;33m[\u001b[0m\u001b[0mx\u001b[0m\u001b[1;33m]\u001b[0m\u001b[1;33m[\u001b[0m\u001b[0mi\u001b[0m\u001b[1;33m]\u001b[0m\u001b[1;33m]\u001b[0m \u001b[1;32mfor\u001b[0m \u001b[0mx\u001b[0m \u001b[1;32min\u001b[0m \u001b[0mXvars\u001b[0m\u001b[1;33m}\u001b[0m\u001b[1;33m)\u001b[0m\u001b[1;33m.\u001b[0m\u001b[0mvalues\u001b[0m\u001b[1;33m\u001b[0m\u001b[1;33m\u001b[0m\u001b[0m\n\u001b[0;32m    645\u001b[0m                 \u001b[0mp\u001b[0m \u001b[1;33m=\u001b[0m \u001b[0mscale\u001b[0m\u001b[1;33m(\u001b[0m\u001b[0mscaler\u001b[0m\u001b[1;33m,\u001b[0m \u001b[0mp\u001b[0m\u001b[1;33m)\u001b[0m\u001b[1;33m\u001b[0m\u001b[1;33m\u001b[0m\u001b[0m\n\u001b[1;32m--> 646\u001b[1;33m                 \u001b[0mfcst\u001b[0m\u001b[1;33m.\u001b[0m\u001b[0mappend\u001b[0m\u001b[1;33m(\u001b[0m\u001b[0mregr\u001b[0m\u001b[1;33m.\u001b[0m\u001b[0mpredict\u001b[0m\u001b[1;33m(\u001b[0m\u001b[0mp\u001b[0m\u001b[1;33m)\u001b[0m\u001b[1;33m[\u001b[0m\u001b[1;36m0\u001b[0m\u001b[1;33m]\u001b[0m\u001b[1;33m)\u001b[0m\u001b[1;33m\u001b[0m\u001b[1;33m\u001b[0m\u001b[0m\n\u001b[0m\u001b[0;32m    647\u001b[0m                 \u001b[1;32mif\u001b[0m \u001b[1;32mnot\u001b[0m \u001b[0mi\u001b[0m \u001b[1;33m==\u001b[0m \u001b[1;33m(\u001b[0m\u001b[0mfcst_horizon\u001b[0m \u001b[1;33m-\u001b[0m \u001b[1;36m1\u001b[0m\u001b[1;33m)\u001b[0m\u001b[1;33m:\u001b[0m\u001b[1;33m\u001b[0m\u001b[1;33m\u001b[0m\u001b[0m\n\u001b[0;32m    648\u001b[0m                     \u001b[1;32mfor\u001b[0m \u001b[0mk\u001b[0m\u001b[1;33m,\u001b[0m \u001b[0mv\u001b[0m \u001b[1;32min\u001b[0m \u001b[0mfuture_xreg\u001b[0m\u001b[1;33m.\u001b[0m\u001b[0mitems\u001b[0m\u001b[1;33m(\u001b[0m\u001b[1;33m)\u001b[0m\u001b[1;33m:\u001b[0m\u001b[1;33m\u001b[0m\u001b[1;33m\u001b[0m\u001b[0m\n",
      "\u001b[1;32m~\\Anaconda3\\lib\\site-packages\\sklearn\\neighbors\\_regression.py\u001b[0m in \u001b[0;36mpredict\u001b[1;34m(self, X)\u001b[0m\n\u001b[0;32m    227\u001b[0m             \u001b[0mTarget\u001b[0m \u001b[0mvalues\u001b[0m\u001b[1;33m.\u001b[0m\u001b[1;33m\u001b[0m\u001b[1;33m\u001b[0m\u001b[0m\n\u001b[0;32m    228\u001b[0m         \"\"\"\n\u001b[1;32m--> 229\u001b[1;33m         \u001b[0mneigh_dist\u001b[0m\u001b[1;33m,\u001b[0m \u001b[0mneigh_ind\u001b[0m \u001b[1;33m=\u001b[0m \u001b[0mself\u001b[0m\u001b[1;33m.\u001b[0m\u001b[0mkneighbors\u001b[0m\u001b[1;33m(\u001b[0m\u001b[0mX\u001b[0m\u001b[1;33m)\u001b[0m\u001b[1;33m\u001b[0m\u001b[1;33m\u001b[0m\u001b[0m\n\u001b[0m\u001b[0;32m    230\u001b[0m \u001b[1;33m\u001b[0m\u001b[0m\n\u001b[0;32m    231\u001b[0m         \u001b[0mweights\u001b[0m \u001b[1;33m=\u001b[0m \u001b[0m_get_weights\u001b[0m\u001b[1;33m(\u001b[0m\u001b[0mneigh_dist\u001b[0m\u001b[1;33m,\u001b[0m \u001b[0mself\u001b[0m\u001b[1;33m.\u001b[0m\u001b[0mweights\u001b[0m\u001b[1;33m)\u001b[0m\u001b[1;33m\u001b[0m\u001b[1;33m\u001b[0m\u001b[0m\n",
      "\u001b[1;32m~\\Anaconda3\\lib\\site-packages\\sklearn\\neighbors\\_base.py\u001b[0m in \u001b[0;36mkneighbors\u001b[1;34m(self, X, n_neighbors, return_distance)\u001b[0m\n\u001b[0;32m    725\u001b[0m         \u001b[0mn_samples_fit\u001b[0m \u001b[1;33m=\u001b[0m \u001b[0mself\u001b[0m\u001b[1;33m.\u001b[0m\u001b[0mn_samples_fit_\u001b[0m\u001b[1;33m\u001b[0m\u001b[1;33m\u001b[0m\u001b[0m\n\u001b[0;32m    726\u001b[0m         \u001b[1;32mif\u001b[0m \u001b[0mn_neighbors\u001b[0m \u001b[1;33m>\u001b[0m \u001b[0mn_samples_fit\u001b[0m\u001b[1;33m:\u001b[0m\u001b[1;33m\u001b[0m\u001b[1;33m\u001b[0m\u001b[0m\n\u001b[1;32m--> 727\u001b[1;33m             raise ValueError(\n\u001b[0m\u001b[0;32m    728\u001b[0m                 \u001b[1;34m\"Expected n_neighbors <= n_samples, \"\u001b[0m\u001b[1;33m\u001b[0m\u001b[1;33m\u001b[0m\u001b[0m\n\u001b[0;32m    729\u001b[0m                 \u001b[1;34m\" but n_samples = %d, n_neighbors = %d\"\u001b[0m \u001b[1;33m%\u001b[0m \u001b[1;33m(\u001b[0m\u001b[0mn_samples_fit\u001b[0m\u001b[1;33m,\u001b[0m \u001b[0mn_neighbors\u001b[0m\u001b[1;33m)\u001b[0m\u001b[1;33m\u001b[0m\u001b[1;33m\u001b[0m\u001b[0m\n",
      "\u001b[1;31mValueError\u001b[0m: Expected n_neighbors <= n_samples,  but n_samples = 70, n_neighbors = 83"
     ]
    }
   ],
   "source": [
    "for i in tqdm(Daily.index):\n",
    "    y = Daily.loc[i].dropna()\n",
    "    sd = info.loc[i,'StartingDate']\n",
    "    fcst_horizon = info.loc[i,'Horizon']\n",
    "    cd = pd.date_range(\n",
    "        start = sd,\n",
    "        freq = 'D',\n",
    "        periods = len(y),\n",
    "    )\n",
    "    f = Forecaster(\n",
    "        y = y,\n",
    "        current_dates = cd,\n",
    "        future_dates = fcst_horizon,\n",
    "    )\n",
    "    set_validation_params(f,fcst_horizon=fcst_horizon)\n",
    "    transformer, reverter = find_optimal_transformation(\n",
    "        f,\n",
    "        monitor = 'TestSetRMSE',\n",
    "        estimator = 'svr',\n",
    "    )\n",
    "    pipeline = Pipeline(\n",
    "        steps = [\n",
    "            ('Transform',transformer),\n",
    "            ('Forecast',forecaster),\n",
    "            ('Revert',reverter),\n",
    "        ]\n",
    "    )\n",
    "    try:\n",
    "        f = pipeline.fit_predict(\n",
    "            f,\n",
    "            models=models,\n",
    "        )\n",
    "    except:\n",
    "        f.diff()\n",
    "        forecaster(f,models)\n",
    "    fcsts = f.export('lvl_fcsts',determine_best_by='LevelTestSetMAE')\n",
    "    for m in f.history.keys():\n",
    "        if m in Daily_results:\n",
    "            Daily_results[m].loc[i] = fcsts[m].to_list()\n",
    "        else:\n",
    "            df = Daily_results_template.copy()\n",
    "            df.loc[i] = fcsts[m].to_list()\n",
    "            Daily_results[m] = df\n",
    "    if 'auto_select' in Daily_results:\n",
    "        Daily_results['auto_select'].loc[i] = fcsts.iloc[:,1].to_list()\n",
    "    else:\n",
    "        df = Daily_results_template.copy()\n",
    "        df.loc[i] = fcsts.iloc[:,1].to_list()\n",
    "        Daily_results['auto_select'] = df"
   ]
  },
  {
   "cell_type": "code",
   "execution_count": null,
   "id": "72a0fda2-02bf-4c7c-bdda-faf4c39eaf8f",
   "metadata": {},
   "outputs": [],
   "source": [
    "for m,df in Daily_results.items():\n",
    "    df.to_csv(f'M4/model_results/Daily/{m}.csv')"
   ]
  },
  {
   "cell_type": "code",
   "execution_count": null,
   "id": "a82452b3-eff2-4e23-89fa-b6c167f51cf0",
   "metadata": {},
   "outputs": [],
   "source": [
    "del Daily\n",
    "del Daily_test\n",
    "del Daily_results_template\n",
    "del Daily_results"
   ]
  },
  {
   "cell_type": "markdown",
   "id": "3a7493b2-f7b9-4de6-becc-0f97690aba27",
   "metadata": {},
   "source": [
    "## Weekly"
   ]
  },
  {
   "cell_type": "code",
   "execution_count": 37,
   "id": "642c7bc7-f606-43f4-b49e-9460db300a9f",
   "metadata": {},
   "outputs": [],
   "source": [
    "Weekly = pd.read_csv(\n",
    "    f'm4/train/Weekly-train.csv',\n",
    "    index_col=0,\n",
    ")"
   ]
  },
  {
   "cell_type": "code",
   "execution_count": 38,
   "id": "7bd96198-0b75-46eb-a115-304fb009e7af",
   "metadata": {},
   "outputs": [],
   "source": [
    "Weekly_test = pd.read_csv(\n",
    "    f'm4/test/Weekly-test.csv',\n",
    "    index_col=0,\n",
    ")\n",
    "\n",
    "Weekly_results_template = pd.DataFrame(\n",
    "    columns=Weekly_test.columns,\n",
    "    index=Weekly_test.index,\n",
    ")\n",
    "\n",
    "Weekly_results = {}"
   ]
  },
  {
   "cell_type": "code",
   "execution_count": 39,
   "id": "21bf1a7b-50fa-45d6-92c1-a4c97db1d28d",
   "metadata": {},
   "outputs": [
    {
     "data": {
      "application/vnd.jupyter.widget-view+json": {
       "model_id": "7c28c3207ca44b30b4bdf372fb17d918",
       "version_major": 2,
       "version_minor": 0
      },
      "text/plain": [
       "  0%|          | 0/359 [00:00<?, ?it/s]"
      ]
     },
     "metadata": {},
     "output_type": "display_data"
    }
   ],
   "source": [
    "for i in tqdm(Weekly.index):\n",
    "    y = Weekly.loc[i].dropna()\n",
    "    sd = info.loc[i,'StartingDate']\n",
    "    fcst_horizon = info.loc[i,'Horizon']\n",
    "    cd = pd.date_range(\n",
    "        start = sd,\n",
    "        freq = 'W',\n",
    "        periods = len(y),\n",
    "    )\n",
    "    f = Forecaster(\n",
    "        y = y,\n",
    "        current_dates = cd,\n",
    "        future_dates = fcst_horizon,\n",
    "    )\n",
    "    set_validation_params(f,fcst_horizon)\n",
    "    transformer, reverter = find_optimal_transformation(\n",
    "        f,\n",
    "        **opt_transform_kwargs,\n",
    "        lags = fcst_horizon,\n",
    "        m = 52,\n",
    "    )\n",
    "    pipeline = Pipeline(\n",
    "        steps = [\n",
    "            ('Transform',transformer),\n",
    "            ('Forecast',forecaster),\n",
    "            ('Revert',reverter),\n",
    "        ]\n",
    "    )\n",
    "    f = pipeline.fit_predict(f,models=models,max_ar=52)\n",
    "    fcsts = f.export('lvl_fcsts',determine_best_by='LevelTestSetMAE')\n",
    "    for m in f.history.keys():\n",
    "        if m in Weekly_results:\n",
    "            Weekly_results[m].loc[i] = fcsts[m].to_list()\n",
    "        else:\n",
    "            df = Weekly_results_template.copy()\n",
    "            df.loc[i] = fcsts[m].to_list()\n",
    "            Weekly_results[m] = df\n",
    "    if 'auto_select' in Weekly_results:\n",
    "        Weekly_results['auto_select'].loc[i] = fcsts.iloc[:,1].to_list()\n",
    "    else:\n",
    "        df = Weekly_results_template.copy()\n",
    "        df.loc[i] = fcsts.iloc[:,1].to_list()\n",
    "        Weekly_results['auto_select'] = df"
   ]
  },
  {
   "cell_type": "code",
   "execution_count": 40,
   "id": "16383873-bec2-4e65-848a-dd0364e44188",
   "metadata": {},
   "outputs": [],
   "source": [
    "for m,df in Weekly_results.items():\n",
    "    df.to_csv(f'M4/model_results/Weekly/{m}.csv')"
   ]
  },
  {
   "cell_type": "code",
   "execution_count": 41,
   "id": "8bb19ec5-2d37-4f9d-b5dd-eabcfbe62bf1",
   "metadata": {},
   "outputs": [],
   "source": [
    "del Weekly\n",
    "del Weekly_test\n",
    "del Weekly_results_template\n",
    "del Weekly_results"
   ]
  },
  {
   "cell_type": "markdown",
   "id": "6a90c11c-cfff-43da-a35a-6019a10c582a",
   "metadata": {},
   "source": [
    "## Monthly"
   ]
  },
  {
   "cell_type": "code",
   "execution_count": null,
   "id": "41bd453d-8543-4281-b18c-325f72bb843a",
   "metadata": {},
   "outputs": [],
   "source": [
    "Monthly = pd.read_csv(\n",
    "    f'm4/train/Monthly-train.csv',\n",
    "    index_col=0,\n",
    ")\n",
    "#Monthly = Monthly.sample(100)"
   ]
  },
  {
   "cell_type": "code",
   "execution_count": 51,
   "id": "81a0027a-85cf-4bf5-b6d7-79dd6b4e9b26",
   "metadata": {},
   "outputs": [],
   "source": [
    "Monthly_test = pd.read_csv(\n",
    "    f'm4/test/Monthly-test.csv',\n",
    "    index_col=0,\n",
    ")\n",
    "#Monthly_test = Monthly_test.loc[Monthly.index]\n",
    "\n",
    "Monthly_results_template = pd.DataFrame(\n",
    "    columns=Monthly_test.columns,\n",
    "    index=Monthly_test.index,\n",
    ")\n",
    "\n",
    "Monthly_results = {}"
   ]
  },
  {
   "cell_type": "code",
   "execution_count": 52,
   "id": "c80925ca-40ce-4034-ba42-b3d726a76be9",
   "metadata": {},
   "outputs": [
    {
     "data": {
      "application/vnd.jupyter.widget-view+json": {
       "model_id": "fed13ff3639642ffb3b20845924a9421",
       "version_major": 2,
       "version_minor": 0
      },
      "text/plain": [
       "  0%|          | 0/48000 [00:00<?, ?it/s]"
      ]
     },
     "metadata": {},
     "output_type": "display_data"
    }
   ],
   "source": [
    "for i in tqdm(Monthly.index):\n",
    "    y = Monthly.loc[i].dropna()\n",
    "    sd = info.loc[i,'StartingDate']\n",
    "    fcst_horizon = info.loc[i,'Horizon']\n",
    "    cd = pd.date_range(\n",
    "        start = sd,\n",
    "        freq = 'M',\n",
    "        periods = len(y),\n",
    "    )\n",
    "    f = Forecaster(\n",
    "        y = y,\n",
    "        current_dates = cd,\n",
    "        future_dates = fcst_horizon,\n",
    "    )\n",
    "    set_validation_params(f,fcst_horizon=fcst_horizon)\n",
    "    transformer = Transformer(\n",
    "        transformers = [\n",
    "            ('LogTransform',),\n",
    "            ('DiffTransform',1),\n",
    "        ]\n",
    "    )\n",
    "    reverter = Reverter(\n",
    "        reverters = [\n",
    "            ('DiffRevert',1),\n",
    "            ('LogRevert',),\n",
    "        ],\n",
    "        base_transformer = transformer,\n",
    "    )\n",
    "    pipeline = Pipeline(\n",
    "        steps = [\n",
    "            ('Transform',transformer),\n",
    "            ('Forecast',forecaster),\n",
    "            ('Revert',reverter),\n",
    "        ]\n",
    "    )\n",
    "    f = pipeline.fit_predict(f,models=models,max_ar=100)\n",
    "    fcsts = f.export('lvl_fcsts',determine_best_by='LevelTestSetRMSE')\n",
    "    for m in f.history.keys():\n",
    "        if m in Monthly_results:\n",
    "            Monthly_results[m].loc[i] = fcsts[m].to_list()\n",
    "        else:\n",
    "            df = Monthly_results_template.copy()\n",
    "            df.loc[i] = fcsts[m].to_list()\n",
    "            Monthly_results[m] = df\n",
    "    if 'auto_select' in Monthly_results:\n",
    "        Monthly_results['auto_select'].loc[i] = fcsts.iloc[:,1].to_list()\n",
    "    else:\n",
    "        df = Monthly_results_template.copy()\n",
    "        df.loc[i] = fcsts.iloc[:,1].to_list()\n",
    "        Monthly_results['auto_select'] = df"
   ]
  },
  {
   "cell_type": "code",
   "execution_count": 53,
   "id": "e51a9723-6411-4e15-a2b0-ac373c776f23",
   "metadata": {},
   "outputs": [],
   "source": [
    "for m,df in Monthly_results.items():\n",
    "    df.to_csv(f'M4/model_results/Monthly/{m}.csv')"
   ]
  },
  {
   "cell_type": "code",
   "execution_count": 54,
   "id": "f3e3c252-5776-44ef-b0af-24828590e27d",
   "metadata": {},
   "outputs": [],
   "source": [
    "del Monthly\n",
    "del Monthly_test\n",
    "del Monthly_results_template\n",
    "del Monthly_results"
   ]
  },
  {
   "cell_type": "markdown",
   "id": "bc378ab6-176c-48b6-ae34-610cbe67ab9f",
   "metadata": {},
   "source": [
    "## Quarterly"
   ]
  },
  {
   "cell_type": "code",
   "execution_count": 5,
   "id": "eb3c3621-5234-4e42-bcd0-84e92ccb80ff",
   "metadata": {},
   "outputs": [],
   "source": [
    "Quarterly = pd.read_csv(\n",
    "    f'm4/train/Quarterly-train.csv',\n",
    "    index_col=0,\n",
    ")"
   ]
  },
  {
   "cell_type": "code",
   "execution_count": 6,
   "id": "42000399-c1d1-42ea-9775-94b676de5bc5",
   "metadata": {},
   "outputs": [],
   "source": [
    "Quarterly_test = pd.read_csv(\n",
    "    f'm4/test/Quarterly-test.csv',\n",
    "    index_col=0,\n",
    ")\n",
    "\n",
    "Quarterly_results_template = pd.DataFrame(\n",
    "    columns=Quarterly_test.columns,\n",
    "    index=Quarterly_test.index,\n",
    ")\n",
    "\n",
    "Quarterly_results = {}"
   ]
  },
  {
   "cell_type": "code",
   "execution_count": 7,
   "id": "69676a53-73d6-482b-b107-f406bf9140b5",
   "metadata": {},
   "outputs": [
    {
     "data": {
      "application/vnd.jupyter.widget-view+json": {
       "model_id": "d4584748f3e74ad5a3db63879d8a4f81",
       "version_major": 2,
       "version_minor": 0
      },
      "text/plain": [
       "  0%|          | 0/24000 [00:00<?, ?it/s]"
      ]
     },
     "metadata": {},
     "output_type": "display_data"
    }
   ],
   "source": [
    "for i in tqdm(Quarterly.index):\n",
    "    y = Quarterly.loc[i].dropna()\n",
    "    sd = info.loc[i,'StartingDate']\n",
    "    fcst_horizon = info.loc[i,'Horizon']\n",
    "    cd = pd.date_range(\n",
    "        start = sd,\n",
    "        freq = 'Q',\n",
    "        periods = len(y),\n",
    "    )\n",
    "    f = Forecaster(\n",
    "        y = y,\n",
    "        current_dates = cd,\n",
    "        future_dates = fcst_horizon,\n",
    "    )\n",
    "    set_validation_params(f,fcst_horizon=fcst_horizon)\n",
    "    transformer = Transformer(\n",
    "        transformers = [\n",
    "            ('LogTransform',),\n",
    "            ('DiffTransform',1),\n",
    "        ]\n",
    "    )\n",
    "    reverter = Reverter(\n",
    "        reverters = [\n",
    "            ('DiffRevert',1),\n",
    "            ('LogRevert',),\n",
    "        ],\n",
    "        base_transformer = transformer,\n",
    "    )\n",
    "    pipeline = Pipeline(\n",
    "        steps = [\n",
    "            ('Transform',transformer),\n",
    "            ('Forecast',forecaster),\n",
    "            ('Revert',reverter),\n",
    "        ]\n",
    "    )\n",
    "    f = pipeline.fit_predict(f,models=models,max_ar=48)\n",
    "    fcsts = f.export('lvl_fcsts',determine_best_by='LevelTestSetRMSE')\n",
    "    for m in f.history.keys():\n",
    "        if m in Quarterly_results:\n",
    "            Quarterly_results[m].loc[i] = fcsts[m].to_list()\n",
    "        else:\n",
    "            df = Quarterly_results_template.copy()\n",
    "            df.loc[i] = fcsts[m].to_list()\n",
    "            Quarterly_results[m] = df\n",
    "    if 'auto_select' in Quarterly_results:\n",
    "        Quarterly_results['auto_select'].loc[i] = fcsts.iloc[:,1].to_list()\n",
    "    else:\n",
    "        df = Quarterly_results_template.copy()\n",
    "        df.loc[i] = fcsts.iloc[:,1].to_list()\n",
    "        Quarterly_results['auto_select'] = df"
   ]
  },
  {
   "cell_type": "code",
   "execution_count": 8,
   "id": "02aa35bd-6b17-4ccd-b03c-e7ce423f9c88",
   "metadata": {},
   "outputs": [],
   "source": [
    "for m,df in Quarterly_results.items():\n",
    "    df.to_csv(f'M4/model_results/Quarterly/{m}.csv')"
   ]
  },
  {
   "cell_type": "code",
   "execution_count": 9,
   "id": "4d31a5d9-32d9-4783-aaa8-7354670b5193",
   "metadata": {},
   "outputs": [],
   "source": [
    "del Quarterly\n",
    "del Quarterly_test\n",
    "del Quarterly_results_template\n",
    "del Quarterly_results"
   ]
  },
  {
   "cell_type": "markdown",
   "id": "f82ea0ce-74be-4441-a3f0-3423b658cbc1",
   "metadata": {},
   "source": [
    "## Yearly"
   ]
  },
  {
   "cell_type": "code",
   "execution_count": 10,
   "id": "fdf42fb1-148c-4a99-9c14-7cafbcdb3298",
   "metadata": {},
   "outputs": [],
   "source": [
    "Yearly = pd.read_csv(\n",
    "    f'm4/train/Yearly-train.csv',\n",
    "    index_col=0,\n",
    ")"
   ]
  },
  {
   "cell_type": "code",
   "execution_count": 11,
   "id": "bda22ab4-89e5-4d04-a5a0-e69b46d93b27",
   "metadata": {},
   "outputs": [],
   "source": [
    "Yearly_test = pd.read_csv(\n",
    "    f'm4/test/Yearly-test.csv',\n",
    "    index_col=0,\n",
    ")\n",
    "\n",
    "Yearly_results_template = pd.DataFrame(\n",
    "    columns=Yearly_test.columns,\n",
    "    index=Yearly_test.index,\n",
    ")\n",
    "\n",
    "Yearly_results = {}"
   ]
  },
  {
   "cell_type": "code",
   "execution_count": 13,
   "id": "887c3f90-16e0-459c-83e1-16f0174d8946",
   "metadata": {},
   "outputs": [
    {
     "data": {
      "application/vnd.jupyter.widget-view+json": {
       "model_id": "4b03a365ecba497ebc6e427682c1a687",
       "version_major": 2,
       "version_minor": 0
      },
      "text/plain": [
       "  0%|          | 0/23000 [00:00<?, ?it/s]"
      ]
     },
     "metadata": {},
     "output_type": "display_data"
    }
   ],
   "source": [
    "for i in tqdm(Yearly.index):\n",
    "    y = Yearly.loc[i].dropna()\n",
    "    sd = info.loc[i,'StartingDate']\n",
    "    fcst_horizon = info.loc[i,'Horizon']\n",
    "    cd = pd.date_range(\n",
    "        start = sd,\n",
    "        freq = 'D', # for yearly it doesn't matter and will break if Y\n",
    "        periods = len(y),\n",
    "    )\n",
    "    f = Forecaster(\n",
    "        y = y,\n",
    "        current_dates = cd,\n",
    "        future_dates = fcst_horizon,\n",
    "    )\n",
    "    set_validation_params(f,fcst_horizon=fcst_horizon)\n",
    "    transformer = Transformer(\n",
    "        transformers = [\n",
    "            ('LogTransform',),\n",
    "            ('DiffTransform',1),\n",
    "        ]\n",
    "    )\n",
    "    reverter = Reverter(\n",
    "        reverters = [\n",
    "            ('DiffRevert',1),\n",
    "            ('LogRevert',),\n",
    "        ],\n",
    "        base_transformer = transformer,\n",
    "    )\n",
    "    f = pipeline.fit_predict(f,models=models,max_ar=20)\n",
    "    fcsts = f.export('lvl_fcsts',determine_best_by='LevelTestSetRMSE')\n",
    "    for m in f.history.keys():\n",
    "        if m in Yearly_results:\n",
    "            Yearly_results[m].loc[i] = fcsts[m].to_list()\n",
    "        else:\n",
    "            df = Yearly_results_template.copy()\n",
    "            df.loc[i] = fcsts[m].to_list()\n",
    "            Yearly_results[m] = df\n",
    "    if 'auto_select' in Yearly_results:\n",
    "        Yearly_results['auto_select'].loc[i] = fcsts.iloc[:,1].to_list()\n",
    "    else:\n",
    "        df = Yearly_results_template.copy()\n",
    "        df.loc[i] = fcsts.iloc[:,1].to_list()\n",
    "        Yearly_results['auto_select'] = df"
   ]
  },
  {
   "cell_type": "code",
   "execution_count": 14,
   "id": "9151890d-d61c-4fe6-98c3-9be0fc3ad702",
   "metadata": {},
   "outputs": [],
   "source": [
    "for m,df in Yearly_results.items():\n",
    "    df.to_csv(f'M4/model_results/Yearly/{m}.csv')"
   ]
  },
  {
   "cell_type": "code",
   "execution_count": 15,
   "id": "38e27dcb-6e8b-47a1-b287-e3e1e1b33e82",
   "metadata": {},
   "outputs": [],
   "source": [
    "del Yearly\n",
    "del Yearly_test\n",
    "del Yearly_results_template\n",
    "del Yearly_results"
   ]
  },
  {
   "cell_type": "code",
   "execution_count": null,
   "id": "2287c1db-5d37-4233-bebc-f7b2e02e5497",
   "metadata": {},
   "outputs": [],
   "source": []
  }
 ],
 "metadata": {
  "kernelspec": {
   "display_name": "Python 3",
   "language": "python",
   "name": "python3"
  },
  "language_info": {
   "codemirror_mode": {
    "name": "ipython",
    "version": 3
   },
   "file_extension": ".py",
   "mimetype": "text/x-python",
   "name": "python",
   "nbconvert_exporter": "python",
   "pygments_lexer": "ipython3",
   "version": "3.8.8"
  },
  "widgets": {
   "application/vnd.jupyter.widget-state+json": {
    "state": {},
    "version_major": 2,
    "version_minor": 0
   }
  }
 },
 "nbformat": 4,
 "nbformat_minor": 5
}
