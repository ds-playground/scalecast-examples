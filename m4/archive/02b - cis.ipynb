{
 "cells": [
  {
   "cell_type": "code",
   "execution_count": 1,
   "id": "9e9af462-0d05-4bd2-a695-a462c53d03d4",
   "metadata": {},
   "outputs": [],
   "source": [
    "import numpy as np\n",
    "import pandas as pd\n",
    "import pickle"
   ]
  },
  {
   "cell_type": "code",
   "execution_count": 2,
   "id": "29f53571-5b8e-48aa-b4d0-3362be62c016",
   "metadata": {},
   "outputs": [],
   "source": [
    "def MSIS(a,f,uf,lf,obs,m,alpha=.05):\n",
    "    avger = 1 / len(a)\n",
    "    num1 = uf - lf\n",
    "    num2 = np.array([(\n",
    "        (2/alpha * (lfs - acs)) if lfs > acs else\n",
    "        (2/alpha * (acs - ufs)) if acs > ufs else\n",
    "        0\n",
    "    ) for acs, ufs, lfs in zip(a,uf,lf)])\n",
    "    davger = 1 / (len(obs) - m)\n",
    "    denom = np.sum(np.abs(pd.Series(obs).diff(m).values[m:]))\n",
    "    return avger * (np.sum(num1 + num2) / (davger * denom))\n",
    "\n",
    "def ACD(a,uf,lf,alpha=.05):\n",
    "    return np.mean(\n",
    "                [\n",
    "                    1 if (\n",
    "                        acs > ufs\n",
    "                    ) | (\n",
    "                        acs < lfs\n",
    "                    ) else 0 for acs, ufs, lfs in zip(\n",
    "                        a,uf,lf\n",
    "                    )\n",
    "                ]\n",
    "        )"
   ]
  },
  {
   "cell_type": "code",
   "execution_count": 3,
   "id": "ee2c71ab-3122-4d3e-b133-1c440e31f475",
   "metadata": {},
   "outputs": [
    {
     "data": {
      "text/plain": [
       "0.17073170731707318"
      ]
     },
     "execution_count": 3,
     "metadata": {},
     "output_type": "execute_result"
    }
   ],
   "source": [
    "##### test ######\n",
    "a = np.array([1,2,3,4])\n",
    "f = np.array([1,2.5,3.2,4.1])\n",
    "uf = np.array([4,5,6,7])\n",
    "lf = np.array([-3,-2,-1,0])\n",
    "obs = np.array([1,3,4,5,6,67,87,8,9])\n",
    "m = 2\n",
    "alpha = .95\n",
    "MSIS(a,f,uf,lf,obs,m,alpha)"
   ]
  },
  {
   "cell_type": "code",
   "execution_count": 4,
   "id": "63bcf4c9-f166-4a26-8e50-060da4f6ba33",
   "metadata": {},
   "outputs": [
    {
     "data": {
      "text/plain": [
       "0.0"
      ]
     },
     "execution_count": 4,
     "metadata": {},
     "output_type": "execute_result"
    }
   ],
   "source": [
    "ACD(a,uf,lf)"
   ]
  },
  {
   "cell_type": "code",
   "execution_count": 5,
   "id": "d2c92765-ad01-428b-99e1-ee5d51deb0b6",
   "metadata": {},
   "outputs": [],
   "source": [
    "mmap = {\n",
    "    'Yearly':1,\n",
    "    'Quarterly':4,\n",
    "    'Monthly':12,\n",
    "    'Weekly':1,\n",
    "    'Daily':1,\n",
    "    'Hourly':24,\n",
    "}\n",
    "\n",
    "info = pd.read_csv(\n",
    "    'm4/M4-info.csv',\n",
    "    index_col=0,\n",
    "    parse_dates = ['StartingDate'],\n",
    "    dayfirst=True,\n",
    ")\n",
    "train = {\n",
    "    freq:pd.read_csv(\n",
    "        f'm4/train/{freq}-train.csv',\n",
    "        index_col=0,\n",
    "    ) for freq in mmap\n",
    "}\n",
    "test = {\n",
    "    freq:pd.read_csv(\n",
    "        f'm4/test/{freq}-test.csv',\n",
    "        index_col=0,\n",
    "    ) for freq in mmap\n",
    "}"
   ]
  },
  {
   "cell_type": "code",
   "execution_count": 6,
   "id": "671e0d0a-6aef-4654-95d6-b171fb2c6932",
   "metadata": {},
   "outputs": [],
   "source": [
    "ready = ('Yearly','Quarterly','Monthly','Weekly','Daily','Hourly')\n",
    "results = {\n",
    "    freq:pickle.load(\n",
    "        open(f'{freq}_results.pckl','rb')\n",
    "    ) for freq in mmap if freq in ready\n",
    "}"
   ]
  },
  {
   "cell_type": "code",
   "execution_count": 7,
   "id": "03b71e64-d010-465d-af62-9dd3604aa88e",
   "metadata": {},
   "outputs": [],
   "source": [
    "ffa = {\n",
    "    freq:[\n",
    "        (\n",
    "            test[freq].loc[i].dropna().values, # actuals\n",
    "            *f.export(\n",
    "                'lvl_fcsts',\n",
    "                models='top_1',\n",
    "                determine_best_by='LevelTestSetMAPE',\n",
    "                cis = True,\n",
    "            ).iloc[:,1:].T.values, # predictions + cis\n",
    "            train[freq].loc[i].dropna().values, # obs\n",
    "        ) for i, f in d.items()\n",
    "    ] for freq, d in results.items()\n",
    "}"
   ]
  },
  {
   "cell_type": "code",
   "execution_count": 8,
   "id": "fbf636a5-34d7-4928-9d40-8c240092fcc1",
   "metadata": {},
   "outputs": [],
   "source": [
    "msis_st1 = (\n",
    "    [\n",
    "        [\n",
    "            MSIS(*af,m=mmap[freq]) for af in ffa[freq]\n",
    "        ] for freq in ffa\n",
    "    ] \n",
    ")\n",
    "\n",
    "msis = np.mean(\n",
    "    [i for sub in msis_st1 for i in sub]\n",
    ")"
   ]
  },
  {
   "cell_type": "code",
   "execution_count": 9,
   "id": "32ea5ee3-23a8-49ef-aa1c-3d2d9181a5b0",
   "metadata": {},
   "outputs": [
    {
     "data": {
      "text/plain": [
       "37.41370902689927"
      ]
     },
     "execution_count": 9,
     "metadata": {},
     "output_type": "execute_result"
    }
   ],
   "source": [
    "msis"
   ]
  },
  {
   "cell_type": "code",
   "execution_count": 10,
   "id": "a972838b-0d10-4da2-adb1-79f8b53ad84a",
   "metadata": {},
   "outputs": [],
   "source": [
    "acd_st1 = (\n",
    "    [\n",
    "        [\n",
    "            ACD(af[0],af[2],af[3]) for af in ffa[freq]\n",
    "        ] for freq in ffa\n",
    "    ] \n",
    ")\n",
    "\n",
    "acd = np.mean(\n",
    "    [i for sub in acd_st1 for i in sub]\n",
    ")"
   ]
  },
  {
   "cell_type": "code",
   "execution_count": 11,
   "id": "19e0f9cd-a3ab-4e13-99e1-997ed57b1b70",
   "metadata": {},
   "outputs": [
    {
     "data": {
      "text/plain": [
       "0.3219214935462449"
      ]
     },
     "execution_count": 11,
     "metadata": {},
     "output_type": "execute_result"
    }
   ],
   "source": [
    "acd"
   ]
  },
  {
   "cell_type": "markdown",
   "id": "6db0c78a-4a54-453f-8e9b-58780be71d04",
   "metadata": {},
   "source": [
    "## Reeval"
   ]
  },
  {
   "cell_type": "code",
   "execution_count": null,
   "id": "04edd28f-bc85-41bb-b19a-8ad96c73cd61",
   "metadata": {},
   "outputs": [],
   "source": []
  }
 ],
 "metadata": {
  "kernelspec": {
   "display_name": "Python 3 (ipykernel)",
   "language": "python",
   "name": "python3"
  },
  "language_info": {
   "codemirror_mode": {
    "name": "ipython",
    "version": 3
   },
   "file_extension": ".py",
   "mimetype": "text/x-python",
   "name": "python",
   "nbconvert_exporter": "python",
   "pygments_lexer": "ipython3",
   "version": "3.9.12"
  }
 },
 "nbformat": 4,
 "nbformat_minor": 5
}
