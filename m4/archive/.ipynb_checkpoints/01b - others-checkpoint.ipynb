{
 "cells": [
  {
   "cell_type": "code",
   "execution_count": 1,
   "id": "b608e077-57be-4a86-b719-83fc54b84df5",
   "metadata": {},
   "outputs": [],
   "source": [
    "import pandas as pd\n",
    "import numpy as np\n",
    "import pickle\n",
    "from tqdm.notebook import tqdm\n",
    "from scalecast.Forecaster import Forecaster, _sklearn_estimators_\n",
    "from scalecast.auxmodels import mlp_stack, auto_arima"
   ]
  },
  {
   "cell_type": "code",
   "execution_count": null,
   "id": "a3b07b23-0e9e-4313-ba8d-9720570af680",
   "metadata": {},
   "outputs": [],
   "source": [
    "mmap = {\n",
    "    'Yearly':1,\n",
    "    'Quarterly':4,\n",
    "    'Monthly':12,\n",
    "    'Weekly':1,\n",
    "    'Daily':1,\n",
    "    'Hourly':24,\n",
    "}\n",
    "\n",
    "high_thresh = 10\n",
    "freqs = ('Yearly','Quarterly','Monthly','Weekly','Daily','Hourly')"
   ]
  },
  {
   "cell_type": "code",
   "execution_count": null,
   "id": "e9fedf8c-ee52-4271-a4f6-a32c96e788bd",
   "metadata": {},
   "outputs": [],
   "source": [
    "print('deleting bad models')\n",
    "for freq in freqs:\n",
    "    results = pickle.load(open(f'{freq}_results.pckl','rb'))\n",
    "    # delete bad models\n",
    "    for i, f in tqdm(results.items()):\n",
    "        f.pop('avg','weighted')\n",
    "        mpop = [\n",
    "            m for m, r in f.history.items() if np.max(\n",
    "                r['LevelForecast']\n",
    "            ) > np.max(f.levely)*high_thresh\n",
    "        ]\n",
    "        if len(mpop) < len(f.history):\n",
    "            f.pop(*mpop)\n",
    "    with open(f'{freq}_results_final.pckl','wb') as pckl:\n",
    "        pickle.dump(f,pckl)"
   ]
  },
  {
   "cell_type": "code",
   "execution_count": null,
   "id": "02844f40-e92f-4e44-b022-e1fb22fd7f26",
   "metadata": {},
   "outputs": [],
   "source": [
    "print('mlp stack modeling')\n",
    "for freq in freqs:\n",
    "    results = pickle.load(open(f'{freq}_results_final.pckl','rb'))\n",
    "    for i, f in tqdm(results.items()):\n",
    "        mlp_stack(\n",
    "            f,\n",
    "            models = [m for m in f.history if m in _sklearn_estimators_],\n",
    "        )\n",
    "    with open(f'{freq}_results_final.pckl','wb') as pckl:\n",
    "        pickle.dump(f,pckl)"
   ]
  },
  {
   "cell_type": "code",
   "execution_count": null,
   "id": "66b8678d-30e1-45ee-8796-d072ad3b30c7",
   "metadata": {},
   "outputs": [],
   "source": [
    "print('auto arima forecasting')\n",
    "for freq in freqs:\n",
    "    results = pickle.load(open(f'{freq}_results_final.pckl','rb'))\n",
    "    for i, f in tqdm(results.items()):\n",
    "        f.undiff()\n",
    "        auto_arima(\n",
    "            f,\n",
    "            m=mmap[freq] if mmap[freq] > 1 else None, \n",
    "            seasonal = mmap[freq] > 1,\n",
    "            error_action='ignore',\n",
    "            trace = False,\n",
    "        )\n",
    "    with open(f'{freq}_results_final.pckl','wb') as pckl:\n",
    "        pickle.dump(f,pckl)"
   ]
  },
  {
   "cell_type": "code",
   "execution_count": null,
   "id": "f009f7dd-5325-4333-9191-a3d286bcc53f",
   "metadata": {},
   "outputs": [],
   "source": [
    "print('theta forecasting')\n",
    "for freq in freqs:\n",
    "    results = pickle.load(open(f'{freq}_results_final.pckl','rb'))\n",
    "    for i, f in tqdm(results.items()):\n",
    "        f.set_estimator('theta')\n",
    "        f.manual_forecast()\n",
    "    with open(f'{freq}_results_final.pckl','wb') as pckl:\n",
    "        pickle.dump(f,pckl)"
   ]
  },
  {
   "cell_type": "code",
   "execution_count": null,
   "id": "7f38eaff-e211-4f08-b443-8edfe2ee460e",
   "metadata": {},
   "outputs": [],
   "source": [
    "print('combo forecasting')\n",
    "for freq in freqs:\n",
    "    results = pickle.load(open(f'{freq}_results_final.pckl','rb'))\n",
    "    for i, f in tqdm(results.items()):\n",
    "        f.set_estimator('combo')\n",
    "        for k in range(2,len(f.history) + 1):\n",
    "            f.manual_forecast(\n",
    "                models=f'top_{k}',\n",
    "                determine_best_by='LevelTestSetMAPE',\n",
    "                call_me=f'avg_top_{k}'\n",
    "            )\n",
    "    with open(f'{freq}_results_final.pckl','wb') as pckl:\n",
    "        pickle.dump(f,pckl)"
   ]
  }
 ],
 "metadata": {
  "kernelspec": {
   "display_name": "Python 3",
   "language": "python",
   "name": "python3"
  },
  "language_info": {
   "codemirror_mode": {
    "name": "ipython",
    "version": 3
   },
   "file_extension": ".py",
   "mimetype": "text/x-python",
   "name": "python",
   "nbconvert_exporter": "python",
   "pygments_lexer": "ipython3",
   "version": "3.8.8"
  },
  "widgets": {
   "application/vnd.jupyter.widget-state+json": {
    "state": {},
    "version_major": 2,
    "version_minor": 0
   }
  }
 },
 "nbformat": 4,
 "nbformat_minor": 5
}
