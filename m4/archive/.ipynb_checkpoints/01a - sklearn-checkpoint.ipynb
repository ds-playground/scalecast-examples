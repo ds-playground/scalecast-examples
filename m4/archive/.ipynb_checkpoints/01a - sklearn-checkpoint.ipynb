{
 "cells": [
  {
   "cell_type": "code",
   "execution_count": 1,
   "id": "477e1023-9eeb-426f-87e7-58d7336d5bde",
   "metadata": {},
   "outputs": [],
   "source": [
    "import pandas as pd\n",
    "import numpy as np\n",
    "import pickle\n",
    "from tqdm.notebook import tqdm\n",
    "from scalecast import GridGenerator\n",
    "from Forecaster import Forecaster\n",
    "from fix_date import fix_date\n",
    "import FreqProcessing"
   ]
  },
  {
   "cell_type": "code",
   "execution_count": 2,
   "id": "4562b88b-620a-4a6c-9f7e-3051344b7ad2",
   "metadata": {},
   "outputs": [],
   "source": [
    "GridGenerator.get_example_grids()"
   ]
  },
  {
   "cell_type": "code",
   "execution_count": 3,
   "id": "aafb0d54-87d2-40d5-8211-6289254e1f44",
   "metadata": {},
   "outputs": [],
   "source": [
    "models = (\n",
    "    'elasticnet',\n",
    "    'ridge',\n",
    "    'lasso',\n",
    "    'mlr',\n",
    "    'sgd',\n",
    "    'svr',\n",
    "    'xgboost',\n",
    "    'lightgbm',\n",
    "    'gbt',\n",
    "    'knn',\n",
    "    'mlp',\n",
    ")"
   ]
  },
  {
   "cell_type": "code",
   "execution_count": 4,
   "id": "4ed2ae01-96c6-4d2e-92ab-0d16bf4788e5",
   "metadata": {},
   "outputs": [],
   "source": [
    "def call_pipeline(*funcs,**kwargs):\n",
    "    for func in funcs:\n",
    "        func(**kwargs)"
   ]
  },
  {
   "cell_type": "code",
   "execution_count": 5,
   "id": "302ea3cf-c628-46b3-9cf4-84c6a6d3543d",
   "metadata": {},
   "outputs": [],
   "source": [
    "info = pd.read_csv(\n",
    "    'm4/M4-info.csv',\n",
    "    index_col=0,\n",
    "    parse_dates=['StartingDate'],\n",
    "    dayfirst=True,\n",
    ")\n",
    "info['StartingDate'] = info['StartingDate'].apply(fix_date)\n",
    "freqs = info['SP'].unique()\n",
    "pd_freqs = {\n",
    "    freq:(\n",
    "        freq[0]\n",
    "        if freq != 'Yearly'\n",
    "        else 'D'\n",
    "    ) for freq in freqs\n",
    "}\n",
    "train = {\n",
    "    freq:pd.read_csv(\n",
    "        f'm4/train/{freq}-train.csv',\n",
    "        index_col=0,\n",
    "    ) for freq in freqs\n",
    "}\n",
    "pipelines = {\n",
    "    freq:[\n",
    "        FreqProcessing.process_all,\n",
    "        getattr(FreqProcessing,f'process_{freq}'),\n",
    "    ] for freq in freqs\n",
    "}\n",
    "results = {freq:{} for freq in freqs}"
   ]
  },
  {
   "cell_type": "code",
   "execution_count": 6,
   "id": "4b6f6569-0632-48c1-a990-b1d4901d3a7c",
   "metadata": {},
   "outputs": [
    {
     "data": {
      "application/vnd.jupyter.widget-view+json": {
       "model_id": "755d5d46beec4f7c9bff467871af9fa8",
       "version_major": 2,
       "version_minor": 0
      },
      "text/plain": [
       "  0%|          | 0/23000 [00:00<?, ?it/s]"
      ]
     },
     "metadata": {},
     "output_type": "display_data"
    },
    {
     "data": {
      "application/vnd.jupyter.widget-view+json": {
       "model_id": "47ab406c321241efb371a18cd39d36ef",
       "version_major": 2,
       "version_minor": 0
      },
      "text/plain": [
       "  0%|          | 0/24000 [00:00<?, ?it/s]"
      ]
     },
     "metadata": {},
     "output_type": "display_data"
    },
    {
     "data": {
      "application/vnd.jupyter.widget-view+json": {
       "model_id": "c76c66d24c6f48c78ad73c60a54f3e83",
       "version_major": 2,
       "version_minor": 0
      },
      "text/plain": [
       "  0%|          | 0/48000 [00:00<?, ?it/s]"
      ]
     },
     "metadata": {},
     "output_type": "display_data"
    },
    {
     "ename": "MemoryError",
     "evalue": "",
     "output_type": "error",
     "traceback": [
      "\u001b[1;31m---------------------------------------------------------------------------\u001b[0m",
      "\u001b[1;31mMemoryError\u001b[0m                               Traceback (most recent call last)",
      "\u001b[1;32m<ipython-input-6-c44fcbceb5f1>\u001b[0m in \u001b[0;36m<module>\u001b[1;34m\u001b[0m\n\u001b[0;32m     22\u001b[0m         \u001b[0mresults\u001b[0m\u001b[1;33m[\u001b[0m\u001b[0mfreq\u001b[0m\u001b[1;33m]\u001b[0m\u001b[1;33m[\u001b[0m\u001b[0mi\u001b[0m\u001b[1;33m]\u001b[0m \u001b[1;33m=\u001b[0m \u001b[0mf\u001b[0m\u001b[1;33m\u001b[0m\u001b[1;33m\u001b[0m\u001b[0m\n\u001b[0;32m     23\u001b[0m     \u001b[1;32mwith\u001b[0m \u001b[0mopen\u001b[0m\u001b[1;33m(\u001b[0m\u001b[1;34mf'{freq}_results.pckl'\u001b[0m\u001b[1;33m,\u001b[0m\u001b[1;34m'wb'\u001b[0m\u001b[1;33m)\u001b[0m \u001b[1;32mas\u001b[0m \u001b[0mpckl\u001b[0m\u001b[1;33m:\u001b[0m\u001b[1;33m\u001b[0m\u001b[1;33m\u001b[0m\u001b[0m\n\u001b[1;32m---> 24\u001b[1;33m         \u001b[0mpickle\u001b[0m\u001b[1;33m.\u001b[0m\u001b[0mdump\u001b[0m\u001b[1;33m(\u001b[0m\u001b[0mresults\u001b[0m\u001b[1;33m[\u001b[0m\u001b[0mfreq\u001b[0m\u001b[1;33m]\u001b[0m\u001b[1;33m,\u001b[0m\u001b[0mpckl\u001b[0m\u001b[1;33m)\u001b[0m\u001b[1;33m\u001b[0m\u001b[1;33m\u001b[0m\u001b[0m\n\u001b[0m",
      "\u001b[1;31mMemoryError\u001b[0m: "
     ]
    }
   ],
   "source": [
    "for freq in freqs:\n",
    "    if freq in ('Yearly','Quarterly','Monthly'):\n",
    "        continue\n",
    "    for i in tqdm(train[freq].index):\n",
    "        y = train[freq].loc[i].dropna()\n",
    "        sd = info.loc[i,'StartingDate']\n",
    "        fcst_horizon = info.loc[i,'Horizon']\n",
    "        cd = pd.date_range(\n",
    "            start = sd,\n",
    "            freq = pd_freqs[freq],\n",
    "            periods = len(y),\n",
    "        )\n",
    "        f = Forecaster(\n",
    "            y = y,\n",
    "            current_dates = cd,\n",
    "            future_dates = fcst_horizon,\n",
    "            models = models,\n",
    "        )\n",
    "        call_pipeline(\n",
    "            *pipelines[freq],\n",
    "            f = f,\n",
    "            fcst_horizon = fcst_horizon,\n",
    "        )\n",
    "        results[freq][i] = f\n",
    "    with open(f'{freq}_results.pckl','wb') as pckl:\n",
    "        pickle.dump(results[freq],pckl)"
   ]
  },
  {
   "cell_type": "code",
   "execution_count": 11,
   "id": "059da34e-b3f2-4e0e-8424-a25b79c6d2ed",
   "metadata": {},
   "outputs": [
    {
     "ename": "MemoryError",
     "evalue": "",
     "output_type": "error",
     "traceback": [
      "\u001b[1;31m---------------------------------------------------------------------------\u001b[0m",
      "\u001b[1;31mMemoryError\u001b[0m                               Traceback (most recent call last)",
      "\u001b[1;32m<ipython-input-11-2185c1fcf276>\u001b[0m in \u001b[0;36m<module>\u001b[1;34m\u001b[0m\n\u001b[0;32m      1\u001b[0m \u001b[1;32mwith\u001b[0m \u001b[0mopen\u001b[0m\u001b[1;33m(\u001b[0m\u001b[1;34mf'{freq}_results.pckl'\u001b[0m\u001b[1;33m,\u001b[0m\u001b[1;34m'wb'\u001b[0m\u001b[1;33m)\u001b[0m \u001b[1;32mas\u001b[0m \u001b[0mpckl\u001b[0m\u001b[1;33m:\u001b[0m\u001b[1;33m\u001b[0m\u001b[1;33m\u001b[0m\u001b[0m\n\u001b[1;32m----> 2\u001b[1;33m         \u001b[0mpickle\u001b[0m\u001b[1;33m.\u001b[0m\u001b[0mdump\u001b[0m\u001b[1;33m(\u001b[0m\u001b[0mresults\u001b[0m\u001b[1;33m[\u001b[0m\u001b[0mfreq\u001b[0m\u001b[1;33m]\u001b[0m\u001b[1;33m,\u001b[0m\u001b[0mpckl\u001b[0m\u001b[1;33m)\u001b[0m\u001b[1;33m\u001b[0m\u001b[1;33m\u001b[0m\u001b[0m\n\u001b[0m",
      "\u001b[1;31mMemoryError\u001b[0m: "
     ]
    }
   ],
   "source": [
    "with open(f'{freq}_results.pckl','wb') as pckl:\n",
    "        pickle.dump(results[freq],pckl)"
   ]
  },
  {
   "cell_type": "code",
   "execution_count": 10,
   "id": "72786a95-4b12-405e-8461-a43137d6c3d5",
   "metadata": {},
   "outputs": [
    {
     "ename": "NameError",
     "evalue": "name 'test' is not defined",
     "output_type": "error",
     "traceback": [
      "\u001b[1;31m---------------------------------------------------------------------------\u001b[0m",
      "\u001b[1;31mNameError\u001b[0m                                 Traceback (most recent call last)",
      "\u001b[1;32m<ipython-input-10-3dc015740b63>\u001b[0m in \u001b[0;36m<module>\u001b[1;34m\u001b[0m\n\u001b[0;32m      1\u001b[0m \u001b[1;32mdel\u001b[0m \u001b[0mtrain\u001b[0m\u001b[1;33m\u001b[0m\u001b[1;33m\u001b[0m\u001b[0m\n\u001b[1;32m----> 2\u001b[1;33m \u001b[1;32mdel\u001b[0m \u001b[0mtest\u001b[0m\u001b[1;33m\u001b[0m\u001b[1;33m\u001b[0m\u001b[0m\n\u001b[0m",
      "\u001b[1;31mNameError\u001b[0m: name 'test' is not defined"
     ]
    }
   ],
   "source": [
    "del train\n",
    "del test"
   ]
  },
  {
   "cell_type": "code",
   "execution_count": null,
   "id": "d2bea5c7-1a92-4bc5-999a-f7cd069beb84",
   "metadata": {},
   "outputs": [],
   "source": []
  }
 ],
 "metadata": {
  "kernelspec": {
   "display_name": "Python 3",
   "language": "python",
   "name": "python3"
  },
  "language_info": {
   "codemirror_mode": {
    "name": "ipython",
    "version": 3
   },
   "file_extension": ".py",
   "mimetype": "text/x-python",
   "name": "python",
   "nbconvert_exporter": "python",
   "pygments_lexer": "ipython3",
   "version": "3.8.8"
  },
  "widgets": {
   "application/vnd.jupyter.widget-state+json": {
    "state": {},
    "version_major": 2,
    "version_minor": 0
   }
  }
 },
 "nbformat": 4,
 "nbformat_minor": 5
}
