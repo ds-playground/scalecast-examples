{
 "cells": [
  {
   "cell_type": "markdown",
   "id": "f9831367-8dfb-4a4b-9f42-d090dde4a4e5",
   "metadata": {},
   "source": [
    "# LSTM\n",
    "\n",
    "## Problem 1 - Univariate Forecasting"
   ]
  },
  {
   "cell_type": "code",
   "execution_count": null,
   "id": "ffbcb816-c0ae-40c8-9c08-1e50663696b6",
   "metadata": {
    "tags": []
   },
   "outputs": [
    {
     "ename": "",
     "evalue": "",
     "output_type": "error",
     "traceback": [
      "\u001b[1;31mThe kernel failed to start as 'TypeAliasType' could not be imported from 'c:\\Users\\jwan\\.conda\\envs\\scalecast\\lib\\site-packages\\typing_extensions.py'.\n",
      "\u001b[1;31mClick <a href='https://aka.ms/kernelFailuresModuleImportErrFromFile'>here</a> for more info."
     ]
    }
   ],
   "source": [
    "import pandas as pd\n",
    "import numpy as np\n",
    "import seaborn as sns\n",
    "import matplotlib.pyplot as plt\n",
    "from scalecast.Forecaster import Forecaster\n",
    "from scalecast.Pipeline import Transformer, Reverter, Pipeline\n",
    "from scalecast.util import (\n",
    "    find_optimal_transformation, \n",
    "    gen_rnn_grid,\n",
    "    backtest_for_resid_matrix,\n",
    "    get_backtest_resid_matrix,\n",
    "    overwrite_forecast_intervals,\n",
    "    infer_apply_Xvar_selection,\n",
    ")\n",
    "from scalecast import GridGenerator\n",
    "from tensorflow.keras.callbacks import EarlyStopping\n",
    "import pandas_datareader as pdr"
   ]
  },
  {
   "cell_type": "code",
   "execution_count": null,
   "id": "6fde4db1-a854-421b-ba29-95a5cbbeedf3",
   "metadata": {
    "tags": []
   },
   "outputs": [
    {
     "ename": "",
     "evalue": "",
     "output_type": "error",
     "traceback": [
      "\u001b[1;31mThe kernel failed to start as 'TypeAliasType' could not be imported from 'c:\\Users\\jwan\\.conda\\envs\\scalecast\\lib\\site-packages\\typing_extensions.py'.\n",
      "\u001b[1;31mClick <a href='https://aka.ms/kernelFailuresModuleImportErrFromFile'>here</a> for more info."
     ]
    }
   ],
   "source": [
    "data = pd.read_csv('AirPassengers.csv',parse_dates=['Month'])\n",
    "\n",
    "f = Forecaster(\n",
    "    y=data['#Passengers'],\n",
    "    current_dates=data['Month'],\n",
    "    future_dates = 24,\n",
    ")\n",
    "\n",
    "f.plot()\n",
    "plt.show()"
   ]
  },
  {
   "cell_type": "code",
   "execution_count": null,
   "id": "07694d65-43a7-4189-a6f0-ff7a86d4fa0d",
   "metadata": {
    "collapsed": true,
    "jupyter": {
     "outputs_hidden": true
    },
    "tags": []
   },
   "outputs": [
    {
     "ename": "",
     "evalue": "",
     "output_type": "error",
     "traceback": [
      "\u001b[1;31mThe kernel failed to start as 'TypeAliasType' could not be imported from 'c:\\Users\\jwan\\.conda\\envs\\scalecast\\lib\\site-packages\\typing_extensions.py'.\n",
      "\u001b[1;31mClick <a href='https://aka.ms/kernelFailuresModuleImportErrFromFile'>here</a> for more info."
     ]
    }
   ],
   "source": [
    "def forecaster(f):\n",
    "    f.set_estimator('rnn')\n",
    "    f.manual_forecast(\n",
    "        lags = 18,\n",
    "        layers_struct = [\n",
    "            ('LSTM',{'units':36,'activation':'tanh'}),\n",
    "        ],\n",
    "        epochs=200,\n",
    "        call_me = 'lstm',\n",
    "    )\n",
    "\n",
    "transformer = Transformer(\n",
    "    transformers = [\n",
    "        ('DetrendTransform',{'poly_order':2}),\n",
    "        'DeseasonTransform',\n",
    "    ],\n",
    ")\n",
    "\n",
    "reverter = Reverter(\n",
    "    reverters = [\n",
    "        'DeseasonRevert',\n",
    "        'DetrendRevert',\n",
    "    ],\n",
    "    base_transformer = transformer,\n",
    ")\n",
    "\n",
    "pipeline = Pipeline(\n",
    "    steps = [\n",
    "        ('Transform',transformer),\n",
    "        ('Forecast',forecaster),\n",
    "        ('Revert',reverter),\n",
    "    ]\n",
    ")\n",
    "\n",
    "f = pipeline.fit_predict(f)"
   ]
  },
  {
   "cell_type": "code",
   "execution_count": null,
   "id": "cc9422b9-7b08-40fb-a70f-11300e60c333",
   "metadata": {
    "tags": []
   },
   "outputs": [
    {
     "ename": "",
     "evalue": "",
     "output_type": "error",
     "traceback": [
      "\u001b[1;31mThe kernel failed to start as 'TypeAliasType' could not be imported from 'c:\\Users\\jwan\\.conda\\envs\\scalecast\\lib\\site-packages\\typing_extensions.py'.\n",
      "\u001b[1;31mClick <a href='https://aka.ms/kernelFailuresModuleImportErrFromFile'>here</a> for more info."
     ]
    }
   ],
   "source": [
    "f.plot()\n",
    "plt.savefig('LSTM Univariate.png')\n",
    "plt.show()"
   ]
  },
  {
   "cell_type": "markdown",
   "id": "50ec826e-41bb-4b7d-bcb4-394598d483ed",
   "metadata": {},
   "source": [
    "## Problem 2 - Multivariate Forecasting"
   ]
  },
  {
   "cell_type": "code",
   "execution_count": null,
   "id": "8587b74a-11d0-42ab-aec7-73b578962aa3",
   "metadata": {
    "tags": []
   },
   "outputs": [
    {
     "ename": "",
     "evalue": "",
     "output_type": "error",
     "traceback": [
      "\u001b[1;31mThe kernel failed to start as 'TypeAliasType' could not be imported from 'c:\\Users\\jwan\\.conda\\envs\\scalecast\\lib\\site-packages\\typing_extensions.py'.\n",
      "\u001b[1;31mClick <a href='https://aka.ms/kernelFailuresModuleImportErrFromFile'>here</a> for more info."
     ]
    }
   ],
   "source": [
    "data = pd.read_csv('avocado.csv')"
   ]
  },
  {
   "cell_type": "code",
   "execution_count": null,
   "id": "850776a3-c4df-4cb8-9227-85827ba31b64",
   "metadata": {
    "tags": []
   },
   "outputs": [
    {
     "ename": "",
     "evalue": "",
     "output_type": "error",
     "traceback": [
      "\u001b[1;31mThe kernel failed to start as 'TypeAliasType' could not be imported from 'c:\\Users\\jwan\\.conda\\envs\\scalecast\\lib\\site-packages\\typing_extensions.py'.\n",
      "\u001b[1;31mClick <a href='https://aka.ms/kernelFailuresModuleImportErrFromFile'>here</a> for more info."
     ]
    }
   ],
   "source": [
    "# demand\n",
    "vol = data.groupby('Date')['Total Volume'].sum()\n",
    "# price\n",
    "price = data.groupby('Date')['AveragePrice'].sum()\n",
    "\n",
    "fvol = Forecaster(\n",
    "    y = vol,\n",
    "    current_dates = vol.index,\n",
    "    test_length = 13,\n",
    "    validation_length = 13,\n",
    "    future_dates = 13,\n",
    "    metrics = ['rmse','r2'],\n",
    ")\n",
    "fprice = Forecaster(\n",
    "    y = price,\n",
    "    current_dates = price.index,\n",
    "    future_dates = 13,\n",
    ")"
   ]
  },
  {
   "cell_type": "code",
   "execution_count": null,
   "id": "674552c5-9107-4a95-aaaa-57adfb0b6821",
   "metadata": {
    "tags": []
   },
   "outputs": [
    {
     "ename": "",
     "evalue": "",
     "output_type": "error",
     "traceback": [
      "\u001b[1;31mThe kernel failed to start as 'TypeAliasType' could not be imported from 'c:\\Users\\jwan\\.conda\\envs\\scalecast\\lib\\site-packages\\typing_extensions.py'.\n",
      "\u001b[1;31mClick <a href='https://aka.ms/kernelFailuresModuleImportErrFromFile'>here</a> for more info."
     ]
    }
   ],
   "source": [
    "fvol.plot()\n",
    "plt.show()"
   ]
  },
  {
   "cell_type": "code",
   "execution_count": null,
   "id": "41007109-c6b6-43d1-8d9f-3722dea34a78",
   "metadata": {
    "tags": []
   },
   "outputs": [
    {
     "ename": "",
     "evalue": "",
     "output_type": "error",
     "traceback": [
      "\u001b[1;31mThe kernel failed to start as 'TypeAliasType' could not be imported from 'c:\\Users\\jwan\\.conda\\envs\\scalecast\\lib\\site-packages\\typing_extensions.py'.\n",
      "\u001b[1;31mClick <a href='https://aka.ms/kernelFailuresModuleImportErrFromFile'>here</a> for more info."
     ]
    }
   ],
   "source": [
    "transformer, reverter = find_optimal_transformation(\n",
    "    fvol,\n",
    "    set_aside_test_set=True, # prevents leakage so we can benchmark the resulting models fairly\n",
    "    return_train_only = True, # prevents leakage so we can benchmark the resulting models fairly\n",
    "    verbose=True,\n",
    "    detrend_kwargs=[\n",
    "        {'loess':True},\n",
    "        {'poly_order':1},\n",
    "        {'ln_trend':True},\n",
    "    ],\n",
    "    m = 52, # what makes one seasonal cycle?\n",
    "    test_length = 4,\n",
    ")"
   ]
  },
  {
   "cell_type": "code",
   "execution_count": null,
   "id": "07e21489-1b61-4a2f-80ca-f9b1917a7d69",
   "metadata": {
    "tags": []
   },
   "outputs": [
    {
     "ename": "",
     "evalue": "",
     "output_type": "error",
     "traceback": [
      "\u001b[1;31mThe kernel failed to start as 'TypeAliasType' could not be imported from 'c:\\Users\\jwan\\.conda\\envs\\scalecast\\lib\\site-packages\\typing_extensions.py'.\n",
      "\u001b[1;31mClick <a href='https://aka.ms/kernelFailuresModuleImportErrFromFile'>here</a> for more info."
     ]
    }
   ],
   "source": [
    "fprice = transformer.fit_transform(fprice)\n",
    "fvol = transformer.fit_transform(fvol)"
   ]
  },
  {
   "cell_type": "code",
   "execution_count": null,
   "id": "9052b2b6-1bf3-41b5-a914-2dc24366cda1",
   "metadata": {
    "tags": []
   },
   "outputs": [
    {
     "ename": "",
     "evalue": "",
     "output_type": "error",
     "traceback": [
      "\u001b[1;31mThe kernel failed to start as 'TypeAliasType' could not be imported from 'c:\\Users\\jwan\\.conda\\envs\\scalecast\\lib\\site-packages\\typing_extensions.py'.\n",
      "\u001b[1;31mClick <a href='https://aka.ms/kernelFailuresModuleImportErrFromFile'>here</a> for more info."
     ]
    }
   ],
   "source": [
    "rnn_grid = gen_rnn_grid(\n",
    "    layer_tries = 10,\n",
    "    min_layer_size = 3,\n",
    "    max_layer_size = 5,\n",
    "    units_pool = [100],\n",
    "    epochs = [100],\n",
    "    dropout_pool = [0,0.05],\n",
    "    validation_split=.2,\n",
    "    callbacks=EarlyStopping(\n",
    "      monitor='val_loss',\n",
    "      patience=3,\n",
    "    ),\n",
    "    random_seed = 20,\n",
    ") # creates a grid of hyperparameter values to tune the LSTM model"
   ]
  },
  {
   "cell_type": "code",
   "execution_count": null,
   "id": "44ba4cbf-923d-4be1-87e3-fe3022cdb835",
   "metadata": {
    "tags": []
   },
   "outputs": [
    {
     "ename": "",
     "evalue": "",
     "output_type": "error",
     "traceback": [
      "\u001b[1;31mThe kernel failed to start as 'TypeAliasType' could not be imported from 'c:\\Users\\jwan\\.conda\\envs\\scalecast\\lib\\site-packages\\typing_extensions.py'.\n",
      "\u001b[1;31mClick <a href='https://aka.ms/kernelFailuresModuleImportErrFromFile'>here</a> for more info."
     ]
    }
   ],
   "source": [
    "def forecaster(fvol,fprice):\n",
    "    # naive forecast for benchmarking\n",
    "    fvol.set_estimator('naive')\n",
    "    fvol.manual_forecast()\n",
    "    # univariate lstm model\n",
    "    fvol.add_ar_terms(13) # the model will use 13 series lags\n",
    "    fvol.set_estimator('rnn')\n",
    "    fvol.ingest_grid(rnn_grid)\n",
    "    fvol.tune()\n",
    "    fvol.auto_forecast(call_me='lstm_univariate')\n",
    "    # multivariate lstm model\n",
    "    fvol.add_series(fprice.y,called='price')\n",
    "    fvol.add_lagged_terms('price',lags=13,drop=True)\n",
    "    fvol.ingest_grid(rnn_grid)\n",
    "    fvol.tune()\n",
    "    fvol.auto_forecast(call_me='lstm_multivariate')"
   ]
  },
  {
   "cell_type": "code",
   "execution_count": null,
   "id": "16028dfd-165c-4bfc-8dee-d2fadd180c69",
   "metadata": {
    "collapsed": true,
    "jupyter": {
     "outputs_hidden": true
    },
    "tags": []
   },
   "outputs": [
    {
     "ename": "",
     "evalue": "",
     "output_type": "error",
     "traceback": [
      "\u001b[1;31mThe kernel failed to start as 'TypeAliasType' could not be imported from 'c:\\Users\\jwan\\.conda\\envs\\scalecast\\lib\\site-packages\\typing_extensions.py'.\n",
      "\u001b[1;31mClick <a href='https://aka.ms/kernelFailuresModuleImportErrFromFile'>here</a> for more info."
     ]
    }
   ],
   "source": [
    "forecaster(fvol=fvol,fprice=fprice)"
   ]
  },
  {
   "cell_type": "code",
   "execution_count": null,
   "id": "f510163e-144f-4e3f-8249-cea29690e214",
   "metadata": {
    "tags": []
   },
   "outputs": [
    {
     "ename": "",
     "evalue": "",
     "output_type": "error",
     "traceback": [
      "\u001b[1;31mThe kernel failed to start as 'TypeAliasType' could not be imported from 'c:\\Users\\jwan\\.conda\\envs\\scalecast\\lib\\site-packages\\typing_extensions.py'.\n",
      "\u001b[1;31mClick <a href='https://aka.ms/kernelFailuresModuleImportErrFromFile'>here</a> for more info."
     ]
    }
   ],
   "source": [
    "fvol = reverter.fit_transform(fvol)"
   ]
  },
  {
   "cell_type": "code",
   "execution_count": null,
   "id": "049d399a-5162-425d-8a74-d5c71e935b8f",
   "metadata": {
    "tags": []
   },
   "outputs": [
    {
     "ename": "",
     "evalue": "",
     "output_type": "error",
     "traceback": [
      "\u001b[1;31mThe kernel failed to start as 'TypeAliasType' could not be imported from 'c:\\Users\\jwan\\.conda\\envs\\scalecast\\lib\\site-packages\\typing_extensions.py'.\n",
      "\u001b[1;31mClick <a href='https://aka.ms/kernelFailuresModuleImportErrFromFile'>here</a> for more info."
     ]
    }
   ],
   "source": [
    "fvol.plot_test_set(order_by='TestSetRMSE')\n",
    "plt.savefig('LSTM MV test results.png')\n",
    "plt.show()"
   ]
  },
  {
   "cell_type": "code",
   "execution_count": null,
   "id": "5fea8888-80e4-4886-a596-6dfb659a1a2c",
   "metadata": {
    "tags": []
   },
   "outputs": [
    {
     "ename": "",
     "evalue": "",
     "output_type": "error",
     "traceback": [
      "\u001b[1;31mThe kernel failed to start as 'TypeAliasType' could not be imported from 'c:\\Users\\jwan\\.conda\\envs\\scalecast\\lib\\site-packages\\typing_extensions.py'.\n",
      "\u001b[1;31mClick <a href='https://aka.ms/kernelFailuresModuleImportErrFromFile'>here</a> for more info."
     ]
    }
   ],
   "source": [
    "pd.options.display.float_format = '{:,.4f}'.format\n",
    "summ = fvol.export('model_summaries',determine_best_by='TestSetRMSE')\n",
    "summ[['ModelNickname','TestSetRMSE','TestSetR2']]"
   ]
  },
  {
   "cell_type": "code",
   "execution_count": null,
   "id": "b073e447-5ab6-4df0-8433-2dbd8f14d49b",
   "metadata": {
    "tags": []
   },
   "outputs": [
    {
     "ename": "",
     "evalue": "",
     "output_type": "error",
     "traceback": [
      "\u001b[1;31mThe kernel failed to start as 'TypeAliasType' could not be imported from 'c:\\Users\\jwan\\.conda\\envs\\scalecast\\lib\\site-packages\\typing_extensions.py'.\n",
      "\u001b[1;31mClick <a href='https://aka.ms/kernelFailuresModuleImportErrFromFile'>here</a> for more info."
     ]
    }
   ],
   "source": [
    "summ[['ModelNickname','HyperParams']].style.set_properties(height = 5)"
   ]
  },
  {
   "cell_type": "code",
   "execution_count": null,
   "id": "4a856af6-0f53-4fcf-8cfd-7e5008841904",
   "metadata": {
    "tags": []
   },
   "outputs": [
    {
     "ename": "",
     "evalue": "",
     "output_type": "error",
     "traceback": [
      "\u001b[1;31mThe kernel failed to start as 'TypeAliasType' could not be imported from 'c:\\Users\\jwan\\.conda\\envs\\scalecast\\lib\\site-packages\\typing_extensions.py'.\n",
      "\u001b[1;31mClick <a href='https://aka.ms/kernelFailuresModuleImportErrFromFile'>here</a> for more info."
     ]
    }
   ],
   "source": [
    "fvol.plot(order_by='TestSetRMSE')\n",
    "plt.show()"
   ]
  },
  {
   "cell_type": "markdown",
   "id": "56516c01-83a1-415b-a473-dfbd98b08541",
   "metadata": {},
   "source": [
    "## Problem 3 - Probabilistic Forecasting"
   ]
  },
  {
   "cell_type": "code",
   "execution_count": null,
   "id": "6685e43d-f1e1-4484-ad88-bc8c1958250c",
   "metadata": {},
   "outputs": [
    {
     "ename": "",
     "evalue": "",
     "output_type": "error",
     "traceback": [
      "\u001b[1;31mThe kernel failed to start as 'TypeAliasType' could not be imported from 'c:\\Users\\jwan\\.conda\\envs\\scalecast\\lib\\site-packages\\typing_extensions.py'.\n",
      "\u001b[1;31mClick <a href='https://aka.ms/kernelFailuresModuleImportErrFromFile'>here</a> for more info."
     ]
    }
   ],
   "source": [
    "df = pdr.get_data_fred(\n",
    "    'HOUSTNSA',\n",
    "    start = '1959-01-01',\n",
    "    end = '2022-12-31',\n",
    ")\n",
    "\n",
    "f = Forecaster(\n",
    "    y = df['HOUSTNSA'],\n",
    "    current_dates = df.index,\n",
    "    future_dates = 24, # 2-year forecast horizon\n",
    "    test_length = .1, # 10% test length\n",
    "    cis = True,\n",
    "    cilevel = .9, # 90% intervals\n",
    ")\n",
    "\n",
    "f.plot()\n",
    "plt.show()"
   ]
  },
  {
   "cell_type": "code",
   "execution_count": null,
   "id": "19196169-afc4-45a0-b002-4b81332fecd5",
   "metadata": {
    "tags": []
   },
   "outputs": [
    {
     "ename": "",
     "evalue": "",
     "output_type": "error",
     "traceback": [
      "\u001b[1;31mThe kernel failed to start as 'TypeAliasType' could not be imported from 'c:\\Users\\jwan\\.conda\\envs\\scalecast\\lib\\site-packages\\typing_extensions.py'.\n",
      "\u001b[1;31mClick <a href='https://aka.ms/kernelFailuresModuleImportErrFromFile'>here</a> for more info."
     ]
    }
   ],
   "source": [
    "transformer, reverter = find_optimal_transformation(\n",
    "    f,\n",
    "    estimator = 'lstm',\n",
    "    epochs = 10,\n",
    "    set_aside_test_set=True, # prevents leakage so we can benchmark the resulting models fairly\n",
    "    return_train_only = True, # prevents leakage so we can benchmark the resulting models fairly\n",
    "    verbose=True,\n",
    "    m = 52, # what makes one seasonal cycle?\n",
    "    test_length = 24,\n",
    "    num_test_sets = 3,\n",
    "    space_between_sets = 12,\n",
    "    detrend_kwargs=[\n",
    "        {'loess':True},\n",
    "        {'poly_order':1},\n",
    "        {'ln_trend':True},\n",
    "    ],\n",
    ")"
   ]
  },
  {
   "cell_type": "code",
   "execution_count": null,
   "id": "64267d0c-e560-4749-a083-12904746dc40",
   "metadata": {},
   "outputs": [
    {
     "ename": "",
     "evalue": "",
     "output_type": "error",
     "traceback": [
      "\u001b[1;31mThe kernel failed to start as 'TypeAliasType' could not be imported from 'c:\\Users\\jwan\\.conda\\envs\\scalecast\\lib\\site-packages\\typing_extensions.py'.\n",
      "\u001b[1;31mClick <a href='https://aka.ms/kernelFailuresModuleImportErrFromFile'>here</a> for more info."
     ]
    }
   ],
   "source": [
    "rnn_grid = gen_rnn_grid(\n",
    "    layer_tries = 100,\n",
    "    min_layer_size = 1,\n",
    "    max_layer_size = 5,\n",
    "    units_pool = [100],\n",
    "    epochs = [100],\n",
    "    dropout_pool = [0,0.05],\n",
    "    validation_split=.2,\n",
    "    callbacks=EarlyStopping(\n",
    "      monitor='val_loss',\n",
    "      patience=3,\n",
    "    ),\n",
    "    random_seed = 20,\n",
    ") # make a really big grid and limit it manually"
   ]
  },
  {
   "cell_type": "code",
   "execution_count": null,
   "id": "e30dbe02-6510-4a72-8fea-006992745549",
   "metadata": {
    "tags": []
   },
   "outputs": [
    {
     "ename": "",
     "evalue": "",
     "output_type": "error",
     "traceback": [
      "\u001b[1;31mThe kernel failed to start as 'TypeAliasType' could not be imported from 'c:\\Users\\jwan\\.conda\\envs\\scalecast\\lib\\site-packages\\typing_extensions.py'.\n",
      "\u001b[1;31mClick <a href='https://aka.ms/kernelFailuresModuleImportErrFromFile'>here</a> for more info."
     ]
    }
   ],
   "source": [
    "def forecaster(f,grid):\n",
    "    f.auto_Xvar_select(\n",
    "        try_trend=False,\n",
    "        try_seasonalities=False,\n",
    "        max_ar=100\n",
    "    )\n",
    "    f.set_estimator('rnn')\n",
    "    f.ingest_grid(grid)\n",
    "    f.limit_grid_size(10) # randomly reduce the big grid to 10\n",
    "    f.cross_validate(k=3,test_length=24) # three-fold cross-validation\n",
    "    f.auto_forecast()"
   ]
  },
  {
   "cell_type": "code",
   "execution_count": null,
   "id": "4833d7b8-90d0-4a5d-afd0-c8ba1064bf5b",
   "metadata": {
    "tags": []
   },
   "outputs": [
    {
     "ename": "",
     "evalue": "",
     "output_type": "error",
     "traceback": [
      "\u001b[1;31mThe kernel failed to start as 'TypeAliasType' could not be imported from 'c:\\Users\\jwan\\.conda\\envs\\scalecast\\lib\\site-packages\\typing_extensions.py'.\n",
      "\u001b[1;31mClick <a href='https://aka.ms/kernelFailuresModuleImportErrFromFile'>here</a> for more info."
     ]
    }
   ],
   "source": [
    "pipeline = Pipeline(\n",
    "    steps = [\n",
    "        ('Transform',transformer),\n",
    "        ('Forecast',forecaster),\n",
    "        ('Revert',reverter),\n",
    "    ]\n",
    ")\n",
    "\n",
    "f = pipeline.fit_predict(f,grid=rnn_grid)"
   ]
  },
  {
   "cell_type": "code",
   "execution_count": null,
   "id": "63c8ae39-79e5-4ec3-bcc9-567d43f394da",
   "metadata": {
    "tags": []
   },
   "outputs": [
    {
     "ename": "",
     "evalue": "",
     "output_type": "error",
     "traceback": [
      "\u001b[1;31mThe kernel failed to start as 'TypeAliasType' could not be imported from 'c:\\Users\\jwan\\.conda\\envs\\scalecast\\lib\\site-packages\\typing_extensions.py'.\n",
      "\u001b[1;31mClick <a href='https://aka.ms/kernelFailuresModuleImportErrFromFile'>here</a> for more info."
     ]
    }
   ],
   "source": [
    "f.plot(ci=True)\n",
    "plt.savefig('Probabilistic LSTM.png')\n",
    "plt.show()"
   ]
  },
  {
   "cell_type": "markdown",
   "id": "dbc200ac-584d-4c02-b696-5ada89ceac23",
   "metadata": {},
   "source": [
    "## Problem 4 - Dynamic Probabilistic Forecasting"
   ]
  },
  {
   "cell_type": "code",
   "execution_count": null,
   "id": "347fee58-33cc-4f86-99c7-51ffeefb4a7c",
   "metadata": {
    "tags": []
   },
   "outputs": [
    {
     "ename": "",
     "evalue": "",
     "output_type": "error",
     "traceback": [
      "\u001b[1;31mThe kernel failed to start as 'TypeAliasType' could not be imported from 'c:\\Users\\jwan\\.conda\\envs\\scalecast\\lib\\site-packages\\typing_extensions.py'.\n",
      "\u001b[1;31mClick <a href='https://aka.ms/kernelFailuresModuleImportErrFromFile'>here</a> for more info."
     ]
    }
   ],
   "source": [
    "params = f.best_params\n",
    "num_chosen_lags = len(f.get_regressor_names())"
   ]
  },
  {
   "cell_type": "code",
   "execution_count": null,
   "id": "4f9fdeb3-35ed-4a42-9bec-3efa067293da",
   "metadata": {
    "tags": []
   },
   "outputs": [
    {
     "ename": "",
     "evalue": "",
     "output_type": "error",
     "traceback": [
      "\u001b[1;31mThe kernel failed to start as 'TypeAliasType' could not be imported from 'c:\\Users\\jwan\\.conda\\envs\\scalecast\\lib\\site-packages\\typing_extensions.py'.\n",
      "\u001b[1;31mClick <a href='https://aka.ms/kernelFailuresModuleImportErrFromFile'>here</a> for more info."
     ]
    }
   ],
   "source": [
    "def forecaster(f,params):\n",
    "    f.set_estimator('rnn')\n",
    "    f.manual_forecast(**params,test_again=False,lags=num_chosen_lags)"
   ]
  },
  {
   "cell_type": "code",
   "execution_count": null,
   "id": "49ef5e22-b195-495f-8bee-1b86525e7c25",
   "metadata": {
    "tags": []
   },
   "outputs": [
    {
     "ename": "",
     "evalue": "",
     "output_type": "error",
     "traceback": [
      "\u001b[1;31mThe kernel failed to start as 'TypeAliasType' could not be imported from 'c:\\Users\\jwan\\.conda\\envs\\scalecast\\lib\\site-packages\\typing_extensions.py'.\n",
      "\u001b[1;31mClick <a href='https://aka.ms/kernelFailuresModuleImportErrFromFile'>here</a> for more info."
     ]
    }
   ],
   "source": [
    "pipeline = Pipeline(\n",
    "    steps = [\n",
    "        ('Transform',transformer),\n",
    "        ('Forecast',forecaster),\n",
    "        ('Revert',reverter),\n",
    "    ]\n",
    ")"
   ]
  },
  {
   "cell_type": "code",
   "execution_count": null,
   "id": "4ad875e1-cc9e-4dcf-858a-c1257858b440",
   "metadata": {
    "tags": []
   },
   "outputs": [
    {
     "ename": "",
     "evalue": "",
     "output_type": "error",
     "traceback": [
      "\u001b[1;31mThe kernel failed to start as 'TypeAliasType' could not be imported from 'c:\\Users\\jwan\\.conda\\envs\\scalecast\\lib\\site-packages\\typing_extensions.py'.\n",
      "\u001b[1;31mClick <a href='https://aka.ms/kernelFailuresModuleImportErrFromFile'>here</a> for more info."
     ]
    }
   ],
   "source": [
    "f = pipeline.fit_predict(f,params = params)"
   ]
  },
  {
   "cell_type": "code",
   "execution_count": null,
   "id": "3993407e-c416-45e4-a2b8-7b7fe3c844d8",
   "metadata": {},
   "outputs": [
    {
     "ename": "",
     "evalue": "",
     "output_type": "error",
     "traceback": [
      "\u001b[1;31mThe kernel failed to start as 'TypeAliasType' could not be imported from 'c:\\Users\\jwan\\.conda\\envs\\scalecast\\lib\\site-packages\\typing_extensions.py'.\n",
      "\u001b[1;31mClick <a href='https://aka.ms/kernelFailuresModuleImportErrFromFile'>here</a> for more info."
     ]
    }
   ],
   "source": [
    "backtest_results = backtest_for_resid_matrix(\n",
    "    f,\n",
    "    pipeline=pipeline,\n",
    "    alpha = .1,\n",
    "    jump_back = 12,\n",
    "    params = f.best_params,\n",
    ")"
   ]
  },
  {
   "cell_type": "code",
   "execution_count": null,
   "id": "a3a949c1-9117-4ed0-a00b-59e5e1ba76b8",
   "metadata": {
    "tags": []
   },
   "outputs": [
    {
     "ename": "",
     "evalue": "",
     "output_type": "error",
     "traceback": [
      "\u001b[1;31mThe kernel failed to start as 'TypeAliasType' could not be imported from 'c:\\Users\\jwan\\.conda\\envs\\scalecast\\lib\\site-packages\\typing_extensions.py'.\n",
      "\u001b[1;31mClick <a href='https://aka.ms/kernelFailuresModuleImportErrFromFile'>here</a> for more info."
     ]
    }
   ],
   "source": [
    "backtest_resid_matrix = get_backtest_resid_matrix(backtest_results)"
   ]
  },
  {
   "cell_type": "code",
   "execution_count": null,
   "id": "820274a1-a0dd-4546-afa8-dfa108c2e6c5",
   "metadata": {
    "tags": []
   },
   "outputs": [
    {
     "ename": "",
     "evalue": "",
     "output_type": "error",
     "traceback": [
      "\u001b[1;31mThe kernel failed to start as 'TypeAliasType' could not be imported from 'c:\\Users\\jwan\\.conda\\envs\\scalecast\\lib\\site-packages\\typing_extensions.py'.\n",
      "\u001b[1;31mClick <a href='https://aka.ms/kernelFailuresModuleImportErrFromFile'>here</a> for more info."
     ]
    }
   ],
   "source": [
    "pd.options.display.max_columns = None\n",
    "fig, ax = plt.subplots(figsize=(16,8))\n",
    "mat = pd.DataFrame(np.abs(backtest_resid_matrix[0]['rnn']))\n",
    "sns.heatmap(\n",
    "    mat.round(1),\n",
    "    annot = True,\n",
    "    ax = ax,\n",
    "    cmap = sns.color_palette(\"icefire\", as_cmap=True),\n",
    ")\n",
    "plt.ylabel('Backtest Iteration',size=16)\n",
    "plt.xlabel('Forecast Step',size = 16)\n",
    "plt.title('Absolute Residuals from LSTM Backtest',size=25)\n",
    "plt.savefig('LSTM Resid Matrix.png')\n",
    "plt.show()"
   ]
  },
  {
   "cell_type": "code",
   "execution_count": null,
   "id": "a8a4f8ae-c82c-4f60-93c9-3e1b5298e3cc",
   "metadata": {
    "tags": []
   },
   "outputs": [
    {
     "ename": "",
     "evalue": "",
     "output_type": "error",
     "traceback": [
      "\u001b[1;31mThe kernel failed to start as 'TypeAliasType' could not be imported from 'c:\\Users\\jwan\\.conda\\envs\\scalecast\\lib\\site-packages\\typing_extensions.py'.\n",
      "\u001b[1;31mClick <a href='https://aka.ms/kernelFailuresModuleImportErrFromFile'>here</a> for more info."
     ]
    }
   ],
   "source": [
    "fig, ax = plt.subplots(1,2,figsize=(16,8))\n",
    "sns.heatmap(\n",
    "    pd.DataFrame({'Mean Residuals':mat.mean().round(1)}),\n",
    "    annot = True,\n",
    "    cmap = 'cubehelix_r',\n",
    "    ax = ax[0],\n",
    "    annot_kws={\"fontsize\": 16},\n",
    ")\n",
    "cbar = ax[0].collections[0].colorbar\n",
    "cbar.ax.invert_yaxis()\n",
    "ax[0].set_title('Mean Absolute Residuals',size=20)\n",
    "ax[0].set_ylabel('Forecast Step',size=15)\n",
    "ax[0].set_xlabel('')\n",
    "sns.heatmap(\n",
    "    pd.DataFrame({'Residuals 95 Percentile':np.percentile(mat, q=95, axis = 0)}),\n",
    "    annot = True,\n",
    "    cmap = 'cubehelix_r',\n",
    "    ax = ax[1],\n",
    "    annot_kws={\"fontsize\": 16},\n",
    ")\n",
    "cbar = ax[1].collections[0].colorbar\n",
    "cbar.ax.invert_yaxis()\n",
    "ax[1].set_title('Absolute Residual 95 Percentiles',size=20)\n",
    "ax[1].set_ylabel('Forecast Step',size=15)\n",
    "ax[1].set_xlabel('')\n",
    "plt.show()"
   ]
  },
  {
   "cell_type": "code",
   "execution_count": null,
   "id": "385554dc-e112-4758-a56f-cf574fca059f",
   "metadata": {
    "tags": []
   },
   "outputs": [
    {
     "ename": "",
     "evalue": "",
     "output_type": "error",
     "traceback": [
      "\u001b[1;31mThe kernel failed to start as 'TypeAliasType' could not be imported from 'c:\\Users\\jwan\\.conda\\envs\\scalecast\\lib\\site-packages\\typing_extensions.py'.\n",
      "\u001b[1;31mClick <a href='https://aka.ms/kernelFailuresModuleImportErrFromFile'>here</a> for more info."
     ]
    }
   ],
   "source": [
    "overwrite_forecast_intervals(f,backtest_resid_matrix=backtest_resid_matrix,alpha=.1)"
   ]
  },
  {
   "cell_type": "code",
   "execution_count": null,
   "id": "c690156b-d3e9-4410-b9df-d0e1c6eaf45d",
   "metadata": {
    "tags": []
   },
   "outputs": [
    {
     "ename": "",
     "evalue": "",
     "output_type": "error",
     "traceback": [
      "\u001b[1;31mThe kernel failed to start as 'TypeAliasType' could not be imported from 'c:\\Users\\jwan\\.conda\\envs\\scalecast\\lib\\site-packages\\typing_extensions.py'.\n",
      "\u001b[1;31mClick <a href='https://aka.ms/kernelFailuresModuleImportErrFromFile'>here</a> for more info."
     ]
    }
   ],
   "source": [
    "f.plot(ci=True)\n",
    "plt.savefig('LSTM dynamic intervals.png')\n",
    "plt.show()"
   ]
  },
  {
   "cell_type": "markdown",
   "id": "fc25b793-4c29-48a2-ae0f-dc81360a4d68",
   "metadata": {},
   "source": [
    "## Problem 5 - Transfer Learning\n",
    "\n",
    "### Scenario 1: New data from the same series"
   ]
  },
  {
   "cell_type": "code",
   "execution_count": null,
   "id": "a45cde33-bfdb-44a3-b1b2-bc5e40a351b6",
   "metadata": {},
   "outputs": [
    {
     "ename": "",
     "evalue": "",
     "output_type": "error",
     "traceback": [
      "\u001b[1;31mThe kernel failed to start as 'TypeAliasType' could not be imported from 'c:\\Users\\jwan\\.conda\\envs\\scalecast\\lib\\site-packages\\typing_extensions.py'.\n",
      "\u001b[1;31mClick <a href='https://aka.ms/kernelFailuresModuleImportErrFromFile'>here</a> for more info."
     ]
    }
   ],
   "source": [
    "df = pdr.get_data_fred(\n",
    "    'HOUSTNSA',\n",
    "    start = '1959-01-01',\n",
    "    end = '2023-06-30',\n",
    ")\n",
    "\n",
    "f_new = Forecaster(\n",
    "    y = df.iloc[:,0],\n",
    "    current_dates = df.index,\n",
    "    future_dates = 24, # 2-year forecast horizon\n",
    ")\n",
    "\n",
    "f_new.plot()\n",
    "plt.show()"
   ]
  },
  {
   "cell_type": "code",
   "execution_count": null,
   "id": "279896ad-bf8b-4aa9-b9b8-61cf623ebbad",
   "metadata": {
    "tags": []
   },
   "outputs": [
    {
     "ename": "",
     "evalue": "",
     "output_type": "error",
     "traceback": [
      "\u001b[1;31mThe kernel failed to start as 'TypeAliasType' could not be imported from 'c:\\Users\\jwan\\.conda\\envs\\scalecast\\lib\\site-packages\\typing_extensions.py'.\n",
      "\u001b[1;31mClick <a href='https://aka.ms/kernelFailuresModuleImportErrFromFile'>here</a> for more info."
     ]
    }
   ],
   "source": [
    "def transfer_forecast(f_new,transfer_from):\n",
    "    f_new = infer_apply_Xvar_selection(\n",
    "        infer_from=transfer_from,\n",
    "        apply_to=f_new\n",
    "    )\n",
    "    f_new.transfer_predict(\n",
    "        transfer_from=transfer_from,\n",
    "        model='rnn',\n",
    "        model_type='tf'\n",
    "    )"
   ]
  },
  {
   "cell_type": "code",
   "execution_count": null,
   "id": "acc098b7-cf80-4970-88d1-2901e61b553a",
   "metadata": {
    "tags": []
   },
   "outputs": [
    {
     "ename": "",
     "evalue": "",
     "output_type": "error",
     "traceback": [
      "\u001b[1;31mThe kernel failed to start as 'TypeAliasType' could not be imported from 'c:\\Users\\jwan\\.conda\\envs\\scalecast\\lib\\site-packages\\typing_extensions.py'.\n",
      "\u001b[1;31mClick <a href='https://aka.ms/kernelFailuresModuleImportErrFromFile'>here</a> for more info."
     ]
    }
   ],
   "source": [
    "pipeline_can = Pipeline(\n",
    "    steps = [\n",
    "        ('Transform',transformer),\n",
    "        ('Transfer Forecast',transfer_forecast),\n",
    "        ('Revert',reverter),\n",
    "    ]\n",
    ")\n",
    "\n",
    "f_new = pipeline_can.fit_predict(f_new,transfer_from=f)"
   ]
  },
  {
   "cell_type": "code",
   "execution_count": null,
   "id": "61a6c526-ec48-496b-945c-d8e0afbefdd4",
   "metadata": {
    "tags": []
   },
   "outputs": [
    {
     "ename": "",
     "evalue": "",
     "output_type": "error",
     "traceback": [
      "\u001b[1;31mThe kernel failed to start as 'TypeAliasType' could not be imported from 'c:\\Users\\jwan\\.conda\\envs\\scalecast\\lib\\site-packages\\typing_extensions.py'.\n",
      "\u001b[1;31mClick <a href='https://aka.ms/kernelFailuresModuleImportErrFromFile'>here</a> for more info."
     ]
    }
   ],
   "source": [
    "f_new.plot()\n",
    "plt.title('Housing Starts Forecast with Actuals Through June, 2023')\n",
    "plt.savefig('RNN transferred same series.png')\n",
    "plt.show()"
   ]
  },
  {
   "cell_type": "markdown",
   "id": "ef4ed9d9-3c32-43c2-9ebb-620c66ed5495",
   "metadata": {},
   "source": [
    "### Scenario 2: A new time series with similar characteristics"
   ]
  },
  {
   "cell_type": "code",
   "execution_count": null,
   "id": "ebd0b6ab-9ff9-40b1-b58c-cf175c8f724e",
   "metadata": {},
   "outputs": [
    {
     "ename": "",
     "evalue": "",
     "output_type": "error",
     "traceback": [
      "\u001b[1;31mThe kernel failed to start as 'TypeAliasType' could not be imported from 'c:\\Users\\jwan\\.conda\\envs\\scalecast\\lib\\site-packages\\typing_extensions.py'.\n",
      "\u001b[1;31mClick <a href='https://aka.ms/kernelFailuresModuleImportErrFromFile'>here</a> for more info."
     ]
    }
   ],
   "source": [
    "df = pdr.get_data_fred(\n",
    "    'CANWSCNDW01STSAM',\n",
    "    start = '2010-01-01',\n",
    "    end = '2023-06-30',\n",
    ")\n",
    "\n",
    "f_new = Forecaster(\n",
    "    y = df.iloc[:,0],\n",
    "    current_dates = df.index,\n",
    "    future_dates = 24, # 2-year forecast horizon\n",
    ")\n",
    "\n",
    "f_new.plot()\n",
    "plt.show()"
   ]
  },
  {
   "cell_type": "code",
   "execution_count": null,
   "id": "94ee625a-994a-4a83-9901-d0af19f4612e",
   "metadata": {
    "tags": []
   },
   "outputs": [
    {
     "ename": "",
     "evalue": "",
     "output_type": "error",
     "traceback": [
      "\u001b[1;31mThe kernel failed to start as 'TypeAliasType' could not be imported from 'c:\\Users\\jwan\\.conda\\envs\\scalecast\\lib\\site-packages\\typing_extensions.py'.\n",
      "\u001b[1;31mClick <a href='https://aka.ms/kernelFailuresModuleImportErrFromFile'>here</a> for more info."
     ]
    }
   ],
   "source": [
    "def transfer_forecast(f_new,transfer_from):\n",
    "    f_new = infer_apply_Xvar_selection(\n",
    "        infer_from=transfer_from,\n",
    "        apply_to=f_new\n",
    "    )\n",
    "    f_new.transfer_predict(\n",
    "        transfer_from=transfer_from,\n",
    "        model='rnn',\n",
    "        model_type='tf'\n",
    "    )"
   ]
  },
  {
   "cell_type": "code",
   "execution_count": null,
   "id": "b1cf093b-102a-45ac-8444-11b39daae40c",
   "metadata": {
    "tags": []
   },
   "outputs": [
    {
     "ename": "",
     "evalue": "",
     "output_type": "error",
     "traceback": [
      "\u001b[1;31mThe kernel failed to start as 'TypeAliasType' could not be imported from 'c:\\Users\\jwan\\.conda\\envs\\scalecast\\lib\\site-packages\\typing_extensions.py'.\n",
      "\u001b[1;31mClick <a href='https://aka.ms/kernelFailuresModuleImportErrFromFile'>here</a> for more info."
     ]
    }
   ],
   "source": [
    "pipeline_can = Pipeline(\n",
    "    steps = [\n",
    "        ('Transform',transformer),\n",
    "        ('Transfer Forecast',transfer_forecast),\n",
    "        ('Revert',reverter),\n",
    "    ]\n",
    ")\n",
    "\n",
    "f_new = pipeline_can.fit_predict(f_new,transfer_from=f)"
   ]
  },
  {
   "cell_type": "code",
   "execution_count": null,
   "id": "55237648-bf6f-46ea-be24-1e988075f462",
   "metadata": {
    "tags": []
   },
   "outputs": [
    {
     "ename": "",
     "evalue": "",
     "output_type": "error",
     "traceback": [
      "\u001b[1;31mThe kernel failed to start as 'TypeAliasType' could not be imported from 'c:\\Users\\jwan\\.conda\\envs\\scalecast\\lib\\site-packages\\typing_extensions.py'.\n",
      "\u001b[1;31mClick <a href='https://aka.ms/kernelFailuresModuleImportErrFromFile'>here</a> for more info."
     ]
    }
   ],
   "source": [
    "f_new.plot()\n",
    "plt.title('Candian Housing Starts Forecast')\n",
    "plt.savefig('Transferred RNN Canada')\n",
    "plt.show()"
   ]
  },
  {
   "cell_type": "code",
   "execution_count": null,
   "id": "1fd1e643-8d0b-436d-894b-74b3344ea6e4",
   "metadata": {},
   "outputs": [
    {
     "ename": "",
     "evalue": "",
     "output_type": "error",
     "traceback": [
      "\u001b[1;31mThe kernel failed to start as 'TypeAliasType' could not be imported from 'c:\\Users\\jwan\\.conda\\envs\\scalecast\\lib\\site-packages\\typing_extensions.py'.\n",
      "\u001b[1;31mClick <a href='https://aka.ms/kernelFailuresModuleImportErrFromFile'>here</a> for more info."
     ]
    }
   ],
   "source": []
  }
 ],
 "metadata": {
  "kernelspec": {
   "display_name": "Python 3 (ipykernel)",
   "language": "python",
   "name": "python3"
  },
  "language_info": {
   "codemirror_mode": {
    "name": "ipython",
    "version": 3
   },
   "file_extension": ".py",
   "mimetype": "text/x-python",
   "name": "python",
   "nbconvert_exporter": "python",
   "pygments_lexer": "ipython3",
   "version": "3.8.5"
  }
 },
 "nbformat": 4,
 "nbformat_minor": 5
}
